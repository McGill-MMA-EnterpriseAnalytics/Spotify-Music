{
 "cells": [
  {
   "cell_type": "code",
   "execution_count": 1,
   "metadata": {},
   "outputs": [
    {
     "name": "stderr",
     "output_type": "stream",
     "text": [
      "c:\\Users\\omsan\\anaconda3\\envs\\eds_ml_2\\lib\\site-packages\\tqdm\\auto.py:21: TqdmWarning: IProgress not found. Please update jupyter and ipywidgets. See https://ipywidgets.readthedocs.io/en/stable/user_install.html\n",
      "  from .autonotebook import tqdm as notebook_tqdm\n"
     ]
    }
   ],
   "source": [
    "import os\n",
    "\n",
    "import h2o\n",
    "import joblib  # Import joblib for saving the model\n",
    "import mlflow\n",
    "import mlflow.xgboost\n",
    "import numpy as np\n",
    "import optuna\n",
    "import pandas as pd\n",
    "import pytorch_lightning as pl\n",
    "import shap\n",
    "import torch\n",
    "import torch.nn as nn\n",
    "import torch.nn.functional as F\n",
    "import xgboost as xgb\n",
    "from h2o.automl import H2OAutoML\n",
    "from pytorch_lightning.callbacks import EarlyStopping\n",
    "from sklearn.metrics import accuracy_score\n",
    "from torch.utils.data import DataLoader, TensorDataset\n"
   ]
  },
  {
   "cell_type": "code",
   "execution_count": 2,
   "metadata": {},
   "outputs": [],
   "source": [
    "os.chdir(r\"C:\\Users\\omsan\\Desktop\\Om\\Mcgill\\MMA 2023\\Winter 2 2024\\Enterpise ML Part 2\\Group Project\\Spotify-Music\")\n"
   ]
  },
  {
   "cell_type": "code",
   "execution_count": 2,
   "metadata": {},
   "outputs": [],
   "source": [
    "X_train_transformed, X_test_transformed, y_train, y_test = joblib.load(\n",
    "    \"../../data/processed/train_test_transformed_data.joblib\"\n",
    ")"
   ]
  },
  {
   "cell_type": "markdown",
   "metadata": {},
   "source": [
    "## Training baseline Models using H20 AutoMl"
   ]
  },
  {
   "cell_type": "code",
   "execution_count": 9,
   "metadata": {},
   "outputs": [
    {
     "name": "stdout",
     "output_type": "stream",
     "text": [
      "Checking whether there is an H2O instance running at http://localhost:54321. connected.\n"
     ]
    },
    {
     "data": {
      "text/html": [
       "\n",
       "<style>\n",
       "\n",
       "#h2o-table-4.h2o-container {\n",
       "  overflow-x: auto;\n",
       "}\n",
       "#h2o-table-4 .h2o-table {\n",
       "  /* width: 100%; */\n",
       "  margin-top: 1em;\n",
       "  margin-bottom: 1em;\n",
       "}\n",
       "#h2o-table-4 .h2o-table caption {\n",
       "  white-space: nowrap;\n",
       "  caption-side: top;\n",
       "  text-align: left;\n",
       "  /* margin-left: 1em; */\n",
       "  margin: 0;\n",
       "  font-size: larger;\n",
       "}\n",
       "#h2o-table-4 .h2o-table thead {\n",
       "  white-space: nowrap; \n",
       "  position: sticky;\n",
       "  top: 0;\n",
       "  box-shadow: 0 -1px inset;\n",
       "}\n",
       "#h2o-table-4 .h2o-table tbody {\n",
       "  overflow: auto;\n",
       "}\n",
       "#h2o-table-4 .h2o-table th,\n",
       "#h2o-table-4 .h2o-table td {\n",
       "  text-align: right;\n",
       "  /* border: 1px solid; */\n",
       "}\n",
       "#h2o-table-4 .h2o-table tr:nth-child(even) {\n",
       "  /* background: #F5F5F5 */\n",
       "}\n",
       "\n",
       "</style>      \n",
       "<div id=\"h2o-table-4\" class=\"h2o-container\">\n",
       "  <table class=\"h2o-table\">\n",
       "    <caption></caption>\n",
       "    <thead></thead>\n",
       "    <tbody><tr><td>H2O_cluster_uptime:</td>\n",
       "<td>3 mins 51 secs</td></tr>\n",
       "<tr><td>H2O_cluster_timezone:</td>\n",
       "<td>America/New_York</td></tr>\n",
       "<tr><td>H2O_data_parsing_timezone:</td>\n",
       "<td>UTC</td></tr>\n",
       "<tr><td>H2O_cluster_version:</td>\n",
       "<td>3.46.0.1</td></tr>\n",
       "<tr><td>H2O_cluster_version_age:</td>\n",
       "<td>1 month and 10 days</td></tr>\n",
       "<tr><td>H2O_cluster_name:</td>\n",
       "<td>H2O_from_python_omsan_2rmq5i</td></tr>\n",
       "<tr><td>H2O_cluster_total_nodes:</td>\n",
       "<td>1</td></tr>\n",
       "<tr><td>H2O_cluster_free_memory:</td>\n",
       "<td>3.043 Gb</td></tr>\n",
       "<tr><td>H2O_cluster_total_cores:</td>\n",
       "<td>12</td></tr>\n",
       "<tr><td>H2O_cluster_allowed_cores:</td>\n",
       "<td>12</td></tr>\n",
       "<tr><td>H2O_cluster_status:</td>\n",
       "<td>locked, healthy</td></tr>\n",
       "<tr><td>H2O_connection_url:</td>\n",
       "<td>http://localhost:54321</td></tr>\n",
       "<tr><td>H2O_connection_proxy:</td>\n",
       "<td>{\"http\": null, \"https\": null}</td></tr>\n",
       "<tr><td>H2O_internal_security:</td>\n",
       "<td>False</td></tr>\n",
       "<tr><td>Python_version:</td>\n",
       "<td>3.9.19 final</td></tr></tbody>\n",
       "  </table>\n",
       "</div>\n"
      ],
      "text/plain": [
       "--------------------------  -----------------------------\n",
       "H2O_cluster_uptime:         3 mins 51 secs\n",
       "H2O_cluster_timezone:       America/New_York\n",
       "H2O_data_parsing_timezone:  UTC\n",
       "H2O_cluster_version:        3.46.0.1\n",
       "H2O_cluster_version_age:    1 month and 10 days\n",
       "H2O_cluster_name:           H2O_from_python_omsan_2rmq5i\n",
       "H2O_cluster_total_nodes:    1\n",
       "H2O_cluster_free_memory:    3.043 Gb\n",
       "H2O_cluster_total_cores:    12\n",
       "H2O_cluster_allowed_cores:  12\n",
       "H2O_cluster_status:         locked, healthy\n",
       "H2O_connection_url:         http://localhost:54321\n",
       "H2O_connection_proxy:       {\"http\": null, \"https\": null}\n",
       "H2O_internal_security:      False\n",
       "Python_version:             3.9.19 final\n",
       "--------------------------  -----------------------------"
      ]
     },
     "metadata": {},
     "output_type": "display_data"
    },
    {
     "name": "stdout",
     "output_type": "stream",
     "text": [
      "Parse progress: |████████████████████████████████████████████████████████████████| (done) 100%\n",
      "Parse progress: |████████████████████████████████████████████████████████████████| (done) 100%\n",
      "AutoML progress: |█\n",
      "10:27:12.358: AutoML: XGBoost is not available; skipping it.\n",
      "\n",
      "██████████████████████████████████████████████████████████████| (done) 100%\n",
      "ModelMetricsMultinomialGLM: stackedensemble\n",
      "** Reported on test data. **\n",
      "\n",
      "MSE: 0.3463799646263551\n",
      "RMSE: 0.588540537793579\n",
      "LogLoss: 0.9352500844094357\n",
      "Null degrees of freedom: 5908\n",
      "Residual degrees of freedom: 5805\n",
      "Null deviance: 14242.961586886666\n",
      "Residual deviance: 11052.78549755071\n",
      "AUC table was not computed: it is either disabled (model parameter 'auc_type' was set to AUTO or NONE) or the domain size exceeds the limit (maximum is 50 domains).\n",
      "AUCPR table was not computed: it is either disabled (model parameter 'auc_type' was set to AUTO or NONE) or the domain size exceeds the limit (maximum is 50 domains).\n",
      "\n",
      "Confusion Matrix: Row labels: Actual class; Column labels: Predicted class\n",
      "0    1     2     3    Error     Rate\n",
      "---  ----  ----  ---  --------  -------------\n",
      "379  479   451   13   0.713313  943 / 1,322\n",
      "201  1150  675   4    0.433498  880 / 2,030\n",
      "122  524   1644  12   0.285838  658 / 2,302\n",
      "3    8     49    195  0.235294  60 / 255\n",
      "705  2161  2819  224  0.430022  2,541 / 5,909\n",
      "\n",
      "Top-4 Hit Ratios: \n",
      "k    hit_ratio\n",
      "---  -----------\n",
      "1    0.569978\n",
      "2    0.846505\n",
      "3    0.989677\n",
      "4    1\n"
     ]
    }
   ],
   "source": [
    "# Start H2O cluster\n",
    "h2o.init()\n",
    "\n",
    "# Convert data to H2O format, ensuring target columns are properly converted\n",
    "# Add target column name to the datasets before conversion\n",
    "target_column = 'target'\n",
    "X_train_transformed[target_column] = y_train.reset_index(drop=True)\n",
    "X_test_transformed[target_column] = y_test.reset_index(drop=True)\n",
    "\n",
    "train = h2o.H2OFrame(X_train_transformed)\n",
    "test = h2o.H2OFrame(X_test_transformed)\n",
    "\n",
    "# Ensure the target is treated as a categorical variable\n",
    "train[target_column] = train[target_column].asfactor()\n",
    "test[target_column] = test[target_column].asfactor()\n",
    "\n",
    "# Run AutoML\n",
    "aml = H2OAutoML(max_models=10, seed=42)\n",
    "aml.train(x=train.columns[:-1], y=target_column, training_frame=train, leaderboard_frame=test)\n",
    "\n",
    "# Get the leader model\n",
    "leader = aml.leader\n",
    "\n",
    "# Evaluate the leader model\n",
    "performance = leader.model_performance(test)\n",
    "print(performance)"
   ]
  },
  {
   "cell_type": "code",
   "execution_count": 18,
   "metadata": {},
   "outputs": [
    {
     "name": "stderr",
     "output_type": "stream",
     "text": [
      "c:\\Users\\omsan\\anaconda3\\envs\\eds_ml_2\\lib\\site-packages\\h2o\\frame.py:1983: H2ODependencyWarning: Converting H2O frame to pandas dataframe using single-thread.  For faster conversion using multi-thread, install datatable (for Python 3.9 or lower), or polars and pyarrow (for Python 3.10 or above) and activate it using:\n",
      "\n",
      "with h2o.utils.threading.local_context(polars_enabled=True, datatable_enabled=True):\n",
      "    pandas_df = h2o_df.as_data_frame()\n",
      "\n",
      "  warnings.warn(\"Converting H2O frame to pandas dataframe using single-thread.  For faster conversion using\"\n"
     ]
    },
    {
     "data": {
      "image/png": "[encoded data removed]",
      "text/plain": [
       "<Figure size 1000x800 with 1 Axes>"
      ]
     },
     "metadata": {},
     "output_type": "display_data"
    }
   ],
   "source": [
    "# Create a horizontal bar chart using the logloss\n",
    "import matplotlib.pyplot as plt\n",
    "\n",
    "# Assuming 'lb' is the leaderboard from H2OAutoML, but it needs to be defined or passed to this code block\n",
    "# Convert leaderboard to a Pandas DataFrame\n",
    "lb_df = aml.leaderboard.as_data_frame()  # Assuming 'aml' is the H2OAutoML object\n",
    "\n",
    "# Sort the DataFrame by logloss in ascending order to get the best models at the top\n",
    "lb_df_sorted = lb_df.sort_values(by='logloss', ascending=True)\n",
    "\n",
    "# Plotting\n",
    "plt.figure(figsize=(10, 8))  # Adjusted figure size to prevent chopping\n",
    "plt.barh(lb_df_sorted['model_id'], lb_df_sorted['logloss'], color='skyblue')\n",
    "plt.xlabel('Log Loss')\n",
    "plt.ylabel('Model ID')\n",
    "plt.title('Model Performance by Log Loss')\n",
    "plt.gca().invert_yaxis()  # Invert y-axis to have the best model on top\n",
    "plt.tight_layout()  # Adjust layout to make room for the elements\n",
    "\n",
    "# Save the figure\n",
    "plt.savefig(r'reports\\figures\\h2o_base_model_results.png', bbox_inches='tight')  # Added bbox_inches='tight' to prevent chopping\n",
    "plt.show()"
   ]
  },
  {
   "cell_type": "markdown",
   "metadata": {},
   "source": [
    "## Running XGBoost with Optuna"
   ]
  },
  {
   "cell_type": "code",
   "execution_count": 21,
   "metadata": {},
   "outputs": [],
   "source": [
    "\n",
    "\n",
    "def objective(trial):\n",
    "    with mlflow.start_run(nested=True):\n",
    "        param = {\n",
    "            \"verbosity\": 0,\n",
    "            \"objective\": \"multi:softmax\",\n",
    "            \"num_class\": len(np.unique(y_train)),\n",
    "            \"eval_metric\": \"mlogloss\",\n",
    "            \"booster\": trial.suggest_categorical(\n",
    "                \"booster\", [\"gbtree\", \"gblinear\", \"dart\"]\n",
    "            ),\n",
    "            \"lambda\": trial.suggest_float(\"lambda\", 1e-8, 1.0, log=True),\n",
    "            \"alpha\": trial.suggest_float(\"alpha\", 1e-8, 1.0, log=True),\n",
    "        }\n",
    "\n",
    "        if param[\"booster\"] == \"gbtree\" or param[\"booster\"] == \"dart\":\n",
    "            param[\"max_depth\"] = trial.suggest_int(\"max_depth\", 1, 9)\n",
    "            param[\"eta\"] = trial.suggest_float(\"eta\", 1e-8, 1.0, log=True)\n",
    "            param[\"gamma\"] = trial.suggest_float(\"gamma\", 1e-8, 1.0, log=True)\n",
    "            param[\"grow_policy\"] = trial.suggest_categorical(\n",
    "                \"grow_policy\", [\"depthwise\", \"lossguide\"]\n",
    "            )\n",
    "\n",
    "        if param[\"booster\"] == \"dart\":\n",
    "            param[\"sample_type\"] = trial.suggest_categorical(\n",
    "                \"sample_type\", [\"uniform\", \"weighted\"]\n",
    "            )\n",
    "            param[\"normalize_type\"] = trial.suggest_categorical(\n",
    "                \"normalize_type\", [\"tree\", \"forest\"]\n",
    "            )\n",
    "            param[\"rate_drop\"] = trial.suggest_float(\"rate_drop\", 1e-8, 1.0, log=True)\n",
    "            param[\"skip_drop\"] = trial.suggest_float(\"skip_drop\", 1e-8, 1.0, log=True)\n",
    "\n",
    "        mlflow.log_params(param)\n",
    "\n",
    "        dtrain = xgb.DMatrix(X_train_transformed, label=y_train)\n",
    "        dvalid = xgb.DMatrix(X_test_transformed, label=y_test)\n",
    "\n",
    "        bst = xgb.train(\n",
    "            param, dtrain, evals=[(dvalid, \"validation\")], early_stopping_rounds=10\n",
    "        )\n",
    "        mlflow.xgboost.log_model(bst, \"model\")\n",
    "\n",
    "        preds = bst.predict(dvalid, output_margin=True)\n",
    "        pred_labels = np.argmax(preds, axis=1)\n",
    "        accuracy = accuracy_score(y_test, pred_labels)\n",
    "        mlflow.log_metric(\"accuracy\", accuracy)\n",
    "        return accuracy\n"
   ]
  },
  {
   "cell_type": "code",
   "execution_count": 22,
   "metadata": {},
   "outputs": [
    {
     "name": "stderr",
     "output_type": "stream",
     "text": [
      "[I 2024-04-24 10:45:10,549] A new study created in memory with name: no-name-b099c9ad-87dc-4827-a362-bff7c5eb85b0\n"
     ]
    },
    {
     "name": "stdout",
     "output_type": "stream",
     "text": [
      "[0]\tvalidation-mlogloss:1.21332\n",
      "[1]\tvalidation-mlogloss:1.16525\n",
      "[2]\tvalidation-mlogloss:1.14458\n",
      "[3]\tvalidation-mlogloss:1.13392\n",
      "[4]\tvalidation-mlogloss:1.12772\n",
      "[5]\tvalidation-mlogloss:1.12391\n",
      "[6]\tvalidation-mlogloss:1.12160\n",
      "[7]\tvalidation-mlogloss:1.11983\n",
      "[8]\tvalidation-mlogloss:1.11859\n",
      "[9]\tvalidation-mlogloss:1.11757\n"
     ]
    },
    {
     "name": "stderr",
     "output_type": "stream",
     "text": [
      "c:\\Users\\omsan\\anaconda3\\envs\\eds_ml_2\\lib\\site-packages\\_distutils_hack\\__init__.py:33: UserWarning: Setuptools is replacing distutils.\n",
      "  warnings.warn(\"Setuptools is replacing distutils.\")\n",
      "[I 2024-04-24 10:45:17,539] Trial 0 finished with value: 0.47419191064477917 and parameters: {'booster': 'gblinear', 'lambda': 3.616365673132892e-05, 'alpha': 0.0031463052039721793}. Best is trial 0 with value: 0.47419191064477917.\n"
     ]
    },
    {
     "name": "stdout",
     "output_type": "stream",
     "text": [
      "[0]\tvalidation-mlogloss:1.38629\n",
      "[1]\tvalidation-mlogloss:1.38628\n",
      "[2]\tvalidation-mlogloss:1.38627\n",
      "[3]\tvalidation-mlogloss:1.38627\n",
      "[4]\tvalidation-mlogloss:1.38626\n",
      "[5]\tvalidation-mlogloss:1.38625\n",
      "[6]\tvalidation-mlogloss:1.38624\n",
      "[7]\tvalidation-mlogloss:1.38624\n",
      "[8]\tvalidation-mlogloss:1.38623\n",
      "[9]\tvalidation-mlogloss:1.38622\n"
     ]
    },
    {
     "name": "stderr",
     "output_type": "stream",
     "text": [
      "[I 2024-04-24 10:45:22,441] Trial 1 finished with value: 0.48586901336943644 and parameters: {'booster': 'dart', 'lambda': 1.0168146604135878e-05, 'alpha': 0.003700568205874134, 'max_depth': 8, 'eta': 1.966862312045866e-05, 'gamma': 5.87883991800702e-07, 'grow_policy': 'lossguide', 'sample_type': 'weighted', 'normalize_type': 'forest', 'rate_drop': 2.714568493992264e-06, 'skip_drop': 0.0003887984768062162}. Best is trial 1 with value: 0.48586901336943644.\n"
     ]
    },
    {
     "name": "stdout",
     "output_type": "stream",
     "text": [
      "[0]\tvalidation-mlogloss:1.38629\n",
      "[1]\tvalidation-mlogloss:1.38628\n",
      "[2]\tvalidation-mlogloss:1.38627\n",
      "[3]\tvalidation-mlogloss:1.38626\n",
      "[4]\tvalidation-mlogloss:1.38625\n",
      "[5]\tvalidation-mlogloss:1.38625\n",
      "[6]\tvalidation-mlogloss:1.38624\n",
      "[7]\tvalidation-mlogloss:1.38623\n",
      "[8]\tvalidation-mlogloss:1.38622\n",
      "[9]\tvalidation-mlogloss:1.38622\n"
     ]
    },
    {
     "name": "stderr",
     "output_type": "stream",
     "text": [
      "[I 2024-04-24 10:45:26,179] Trial 2 finished with value: 0.4763919444914537 and parameters: {'booster': 'dart', 'lambda': 3.607253895108945e-05, 'alpha': 9.72071367962966e-07, 'max_depth': 6, 'eta': 2.4459540045971356e-05, 'gamma': 0.7081419157323988, 'grow_policy': 'depthwise', 'sample_type': 'weighted', 'normalize_type': 'forest', 'rate_drop': 0.0010977723634004687, 'skip_drop': 0.05574972646683935}. Best is trial 1 with value: 0.48586901336943644.\n"
     ]
    },
    {
     "name": "stdout",
     "output_type": "stream",
     "text": [
      "[0]\tvalidation-mlogloss:1.38629\n",
      "[1]\tvalidation-mlogloss:1.38629\n",
      "[2]\tvalidation-mlogloss:1.38629\n",
      "[3]\tvalidation-mlogloss:1.38629\n",
      "[4]\tvalidation-mlogloss:1.38629\n",
      "[5]\tvalidation-mlogloss:1.38629\n",
      "[6]\tvalidation-mlogloss:1.38629\n",
      "[7]\tvalidation-mlogloss:1.38629\n",
      "[8]\tvalidation-mlogloss:1.38629\n",
      "[9]\tvalidation-mlogloss:1.38629\n"
     ]
    },
    {
     "name": "stderr",
     "output_type": "stream",
     "text": [
      "[I 2024-04-24 10:45:30,397] Trial 3 finished with value: 0.37146725334235914 and parameters: {'booster': 'gbtree', 'lambda': 1.0866105233762134e-07, 'alpha': 0.0013614288653525871, 'max_depth': 8, 'eta': 4.636615333545053e-08, 'gamma': 0.29267639587611216, 'grow_policy': 'lossguide'}. Best is trial 1 with value: 0.48586901336943644.\n"
     ]
    },
    {
     "name": "stdout",
     "output_type": "stream",
     "text": [
      "[0]\tvalidation-mlogloss:1.38629\n",
      "[1]\tvalidation-mlogloss:1.38629\n",
      "[2]\tvalidation-mlogloss:1.38629\n",
      "[3]\tvalidation-mlogloss:1.38629\n",
      "[4]\tvalidation-mlogloss:1.38629\n",
      "[5]\tvalidation-mlogloss:1.38629\n",
      "[6]\tvalidation-mlogloss:1.38629\n",
      "[7]\tvalidation-mlogloss:1.38629\n",
      "[8]\tvalidation-mlogloss:1.38629\n",
      "[9]\tvalidation-mlogloss:1.38629\n"
     ]
    },
    {
     "name": "stderr",
     "output_type": "stream",
     "text": [
      "[I 2024-04-24 10:45:35,228] Trial 4 finished with value: 0.32678964291758333 and parameters: {'booster': 'gbtree', 'lambda': 3.310114060213713e-07, 'alpha': 6.245219734307639e-05, 'max_depth': 8, 'eta': 4.204369476734798e-08, 'gamma': 7.663256359199688e-08, 'grow_policy': 'lossguide'}. Best is trial 1 with value: 0.48586901336943644.\n"
     ]
    },
    {
     "name": "stdout",
     "output_type": "stream",
     "text": [
      "[0]\tvalidation-mlogloss:1.22372\n",
      "[1]\tvalidation-mlogloss:1.17879\n",
      "[2]\tvalidation-mlogloss:1.16061\n",
      "[3]\tvalidation-mlogloss:1.15273\n",
      "[4]\tvalidation-mlogloss:1.14830\n",
      "[5]\tvalidation-mlogloss:1.14561\n",
      "[6]\tvalidation-mlogloss:1.14401\n",
      "[7]\tvalidation-mlogloss:1.14292\n",
      "[8]\tvalidation-mlogloss:1.14209\n",
      "[9]\tvalidation-mlogloss:1.14145\n"
     ]
    },
    {
     "name": "stderr",
     "output_type": "stream",
     "text": [
      "[I 2024-04-24 10:45:38,821] Trial 5 finished with value: 0.46573024200372315 and parameters: {'booster': 'gblinear', 'lambda': 0.05477839278387422, 'alpha': 5.287984073948263e-07}. Best is trial 1 with value: 0.48586901336943644.\n"
     ]
    },
    {
     "name": "stdout",
     "output_type": "stream",
     "text": [
      "[0]\tvalidation-mlogloss:1.38629\n",
      "[1]\tvalidation-mlogloss:1.38629\n",
      "[2]\tvalidation-mlogloss:1.38629\n",
      "[3]\tvalidation-mlogloss:1.38629\n",
      "[4]\tvalidation-mlogloss:1.38629\n",
      "[5]\tvalidation-mlogloss:1.38629\n",
      "[6]\tvalidation-mlogloss:1.38629\n",
      "[7]\tvalidation-mlogloss:1.38629\n",
      "[8]\tvalidation-mlogloss:1.38629\n",
      "[9]\tvalidation-mlogloss:1.38629\n"
     ]
    },
    {
     "name": "stderr",
     "output_type": "stream",
     "text": [
      "[I 2024-04-24 10:45:42,519] Trial 6 finished with value: 0.2836351328481977 and parameters: {'booster': 'dart', 'lambda': 8.452849516173491e-05, 'alpha': 8.606333773941023e-07, 'max_depth': 4, 'eta': 4.2746430031862986e-08, 'gamma': 3.7901751550701275e-06, 'grow_policy': 'depthwise', 'sample_type': 'weighted', 'normalize_type': 'tree', 'rate_drop': 5.0284048207376526e-08, 'skip_drop': 1.8135984762211094e-08}. Best is trial 1 with value: 0.48586901336943644.\n"
     ]
    },
    {
     "name": "stdout",
     "output_type": "stream",
     "text": [
      "[0]\tvalidation-mlogloss:1.38629\n",
      "[1]\tvalidation-mlogloss:1.38629\n",
      "[2]\tvalidation-mlogloss:1.38629\n",
      "[3]\tvalidation-mlogloss:1.38629\n",
      "[4]\tvalidation-mlogloss:1.38629\n",
      "[5]\tvalidation-mlogloss:1.38629\n",
      "[6]\tvalidation-mlogloss:1.38629\n",
      "[7]\tvalidation-mlogloss:1.38629\n",
      "[8]\tvalidation-mlogloss:1.38629\n",
      "[9]\tvalidation-mlogloss:1.38629\n"
     ]
    },
    {
     "name": "stderr",
     "output_type": "stream",
     "text": [
      "[I 2024-04-24 10:45:45,980] Trial 7 finished with value: 0.47436114401760027 and parameters: {'booster': 'gbtree', 'lambda': 0.008412689470917277, 'alpha': 0.018328429503136404, 'max_depth': 5, 'eta': 5.086395479170405e-07, 'gamma': 0.001080003978731823, 'grow_policy': 'lossguide'}. Best is trial 1 with value: 0.48586901336943644.\n"
     ]
    },
    {
     "name": "stdout",
     "output_type": "stream",
     "text": [
      "[0]\tvalidation-mlogloss:1.38620\n",
      "[1]\tvalidation-mlogloss:1.38610\n",
      "[2]\tvalidation-mlogloss:1.38601\n",
      "[3]\tvalidation-mlogloss:1.38591\n",
      "[4]\tvalidation-mlogloss:1.38582\n",
      "[5]\tvalidation-mlogloss:1.38572\n",
      "[6]\tvalidation-mlogloss:1.38562\n",
      "[7]\tvalidation-mlogloss:1.38553\n",
      "[8]\tvalidation-mlogloss:1.38543\n",
      "[9]\tvalidation-mlogloss:1.38534\n"
     ]
    },
    {
     "name": "stderr",
     "output_type": "stream",
     "text": [
      "[I 2024-04-24 10:45:49,524] Trial 8 finished with value: 0.4350990015231004 and parameters: {'booster': 'dart', 'lambda': 5.9404305019970974e-05, 'alpha': 8.24566272918049e-06, 'max_depth': 1, 'eta': 0.0004257217940192205, 'gamma': 2.5349093211707918e-05, 'grow_policy': 'depthwise', 'sample_type': 'uniform', 'normalize_type': 'tree', 'rate_drop': 1.8221401894588869e-07, 'skip_drop': 8.434479142849959e-05}. Best is trial 1 with value: 0.48586901336943644.\n"
     ]
    },
    {
     "name": "stdout",
     "output_type": "stream",
     "text": [
      "[0]\tvalidation-mlogloss:1.38625\n",
      "[1]\tvalidation-mlogloss:1.38620\n",
      "[2]\tvalidation-mlogloss:1.38616\n",
      "[3]\tvalidation-mlogloss:1.38611\n",
      "[4]\tvalidation-mlogloss:1.38607\n",
      "[5]\tvalidation-mlogloss:1.38602\n",
      "[6]\tvalidation-mlogloss:1.38597\n",
      "[7]\tvalidation-mlogloss:1.38593\n",
      "[8]\tvalidation-mlogloss:1.38588\n",
      "[9]\tvalidation-mlogloss:1.38584\n"
     ]
    },
    {
     "name": "stderr",
     "output_type": "stream",
     "text": [
      "[I 2024-04-24 10:45:54,192] Trial 9 finished with value: 0.4863767134878998 and parameters: {'booster': 'dart', 'lambda': 0.0009791657053554346, 'alpha': 8.755358130201e-06, 'max_depth': 8, 'eta': 0.0001276223334042062, 'gamma': 5.521533725220581e-06, 'grow_policy': 'lossguide', 'sample_type': 'weighted', 'normalize_type': 'forest', 'rate_drop': 0.15348291548837964, 'skip_drop': 2.8474316770740983e-07}. Best is trial 9 with value: 0.4863767134878998.\n"
     ]
    },
    {
     "name": "stdout",
     "output_type": "stream",
     "text": [
      "[0]\tvalidation-mlogloss:1.27829\n",
      "[1]\tvalidation-mlogloss:1.21536\n",
      "[2]\tvalidation-mlogloss:1.17117\n",
      "[3]\tvalidation-mlogloss:1.14066\n",
      "[4]\tvalidation-mlogloss:1.11475\n",
      "[5]\tvalidation-mlogloss:1.09916\n",
      "[6]\tvalidation-mlogloss:1.08647\n",
      "[7]\tvalidation-mlogloss:1.07597\n",
      "[8]\tvalidation-mlogloss:1.06620\n",
      "[9]\tvalidation-mlogloss:1.05846\n"
     ]
    },
    {
     "name": "stderr",
     "output_type": "stream",
     "text": [
      "[I 2024-04-24 10:45:59,738] Trial 10 finished with value: 0.5122694195295312 and parameters: {'booster': 'dart', 'lambda': 0.51068613251777, 'alpha': 0.8946052859306077, 'max_depth': 9, 'eta': 0.34481990103039006, 'gamma': 0.0014491745041074421, 'grow_policy': 'lossguide', 'sample_type': 'uniform', 'normalize_type': 'forest', 'rate_drop': 0.48191092438427924, 'skip_drop': 1.5010164761340387e-08}. Best is trial 10 with value: 0.5122694195295312.\n"
     ]
    },
    {
     "name": "stdout",
     "output_type": "stream",
     "text": [
      "[0]\tvalidation-mlogloss:1.23643\n",
      "[1]\tvalidation-mlogloss:1.16251\n",
      "[2]\tvalidation-mlogloss:1.12120\n",
      "[3]\tvalidation-mlogloss:1.09312\n",
      "[4]\tvalidation-mlogloss:1.07274\n",
      "[5]\tvalidation-mlogloss:1.05953\n",
      "[6]\tvalidation-mlogloss:1.05205\n",
      "[7]\tvalidation-mlogloss:1.04484\n",
      "[8]\tvalidation-mlogloss:1.03706\n",
      "[9]\tvalidation-mlogloss:1.03412\n"
     ]
    },
    {
     "name": "stderr",
     "output_type": "stream",
     "text": [
      "[I 2024-04-24 10:46:05,174] Trial 11 finished with value: 0.520392621424945 and parameters: {'booster': 'dart', 'lambda': 0.78177332735126, 'alpha': 0.7778721931976074, 'max_depth': 9, 'eta': 0.518497977841214, 'gamma': 0.0017368704677711503, 'grow_policy': 'lossguide', 'sample_type': 'uniform', 'normalize_type': 'forest', 'rate_drop': 0.3168427688036721, 'skip_drop': 1.0318764861997163e-08}. Best is trial 11 with value: 0.520392621424945.\n"
     ]
    },
    {
     "name": "stdout",
     "output_type": "stream",
     "text": [
      "[0]\tvalidation-mlogloss:1.20321\n",
      "[1]\tvalidation-mlogloss:1.15176\n",
      "[2]\tvalidation-mlogloss:1.11466\n",
      "[3]\tvalidation-mlogloss:1.09187\n",
      "[4]\tvalidation-mlogloss:1.09153\n",
      "[5]\tvalidation-mlogloss:1.10131\n",
      "[6]\tvalidation-mlogloss:1.09669\n",
      "[7]\tvalidation-mlogloss:1.08571\n",
      "[8]\tvalidation-mlogloss:1.07834\n",
      "[9]\tvalidation-mlogloss:1.07625\n"
     ]
    },
    {
     "name": "stderr",
     "output_type": "stream",
     "text": [
      "[I 2024-04-24 10:46:10,531] Trial 12 finished with value: 0.5198849213064817 and parameters: {'booster': 'dart', 'lambda': 0.36897055098983855, 'alpha': 0.9518708999265887, 'max_depth': 9, 'eta': 0.6886955087682342, 'gamma': 0.0016194875453626073, 'grow_policy': 'lossguide', 'sample_type': 'uniform', 'normalize_type': 'forest', 'rate_drop': 0.6942100585357787, 'skip_drop': 1.684682351691166e-08}. Best is trial 11 with value: 0.520392621424945.\n"
     ]
    },
    {
     "name": "stdout",
     "output_type": "stream",
     "text": [
      "[0]\tvalidation-mlogloss:1.26642\n",
      "[1]\tvalidation-mlogloss:1.19776\n",
      "[2]\tvalidation-mlogloss:1.15144\n",
      "[3]\tvalidation-mlogloss:1.11616\n",
      "[4]\tvalidation-mlogloss:1.09220\n",
      "[5]\tvalidation-mlogloss:1.07377\n",
      "[6]\tvalidation-mlogloss:1.05966\n",
      "[7]\tvalidation-mlogloss:1.04978\n",
      "[8]\tvalidation-mlogloss:1.03880\n",
      "[9]\tvalidation-mlogloss:1.03157\n"
     ]
    },
    {
     "name": "stderr",
     "output_type": "stream",
     "text": [
      "[I 2024-04-24 10:46:15,752] Trial 13 finished with value: 0.5229311220172618 and parameters: {'booster': 'dart', 'lambda': 0.9557450210175233, 'alpha': 0.9993590189993768, 'max_depth': 9, 'eta': 0.3938511315621429, 'gamma': 0.004868936895098199, 'grow_policy': 'lossguide', 'sample_type': 'uniform', 'normalize_type': 'forest', 'rate_drop': 0.005830965492586627, 'skip_drop': 5.241860319930758e-06}. Best is trial 13 with value: 0.5229311220172618.\n"
     ]
    },
    {
     "name": "stdout",
     "output_type": "stream",
     "text": [
      "[0]\tvalidation-mlogloss:1.38020\n",
      "[1]\tvalidation-mlogloss:1.37429\n",
      "[2]\tvalidation-mlogloss:1.36851\n",
      "[3]\tvalidation-mlogloss:1.36292\n",
      "[4]\tvalidation-mlogloss:1.35747\n",
      "[5]\tvalidation-mlogloss:1.35210\n",
      "[6]\tvalidation-mlogloss:1.34686\n",
      "[7]\tvalidation-mlogloss:1.34181\n",
      "[8]\tvalidation-mlogloss:1.33687\n",
      "[9]\tvalidation-mlogloss:1.33202\n"
     ]
    },
    {
     "name": "stderr",
     "output_type": "stream",
     "text": [
      "[I 2024-04-24 10:46:19,814] Trial 14 finished with value: 0.4870536469791843 and parameters: {'booster': 'dart', 'lambda': 0.008941150057098968, 'alpha': 0.09145373573142256, 'max_depth': 6, 'eta': 0.018901875205725737, 'gamma': 0.036567752028770946, 'grow_policy': 'lossguide', 'sample_type': 'uniform', 'normalize_type': 'forest', 'rate_drop': 0.002494246398752984, 'skip_drop': 5.515540864183565e-06}. Best is trial 13 with value: 0.5229311220172618.\n"
     ]
    },
    {
     "name": "stdout",
     "output_type": "stream",
     "text": [
      "[0]\tvalidation-mlogloss:1.27161\n",
      "[1]\tvalidation-mlogloss:1.23151\n",
      "[2]\tvalidation-mlogloss:1.21302\n",
      "[3]\tvalidation-mlogloss:1.20356\n",
      "[4]\tvalidation-mlogloss:1.19835\n",
      "[5]\tvalidation-mlogloss:1.19530\n",
      "[6]\tvalidation-mlogloss:1.19343\n",
      "[7]\tvalidation-mlogloss:1.19222\n",
      "[8]\tvalidation-mlogloss:1.19137\n",
      "[9]\tvalidation-mlogloss:1.19077\n"
     ]
    },
    {
     "name": "stderr",
     "output_type": "stream",
     "text": [
      "[I 2024-04-24 10:46:23,427] Trial 15 finished with value: 0.4115755627009646 and parameters: {'booster': 'gblinear', 'lambda': 0.8682899488529765, 'alpha': 2.354980346213424e-08}. Best is trial 13 with value: 0.5229311220172618.\n"
     ]
    },
    {
     "name": "stdout",
     "output_type": "stream",
     "text": [
      "[0]\tvalidation-mlogloss:1.38234\n",
      "[1]\tvalidation-mlogloss:1.37843\n",
      "[2]\tvalidation-mlogloss:1.37461\n",
      "[3]\tvalidation-mlogloss:1.37088\n",
      "[4]\tvalidation-mlogloss:1.36725\n",
      "[5]\tvalidation-mlogloss:1.36364\n",
      "[6]\tvalidation-mlogloss:1.36016\n",
      "[7]\tvalidation-mlogloss:1.35670\n",
      "[8]\tvalidation-mlogloss:1.35333\n",
      "[9]\tvalidation-mlogloss:1.35000\n"
     ]
    },
    {
     "name": "stderr",
     "output_type": "stream",
     "text": [
      "[I 2024-04-24 10:46:27,284] Trial 16 finished with value: 0.434591301404637 and parameters: {'booster': 'dart', 'lambda': 0.06203189450136557, 'alpha': 0.09374367035193563, 'max_depth': 2, 'eta': 0.015508755488071386, 'gamma': 0.015462448301527596, 'grow_policy': 'lossguide', 'sample_type': 'uniform', 'normalize_type': 'forest', 'rate_drop': 0.007748525947743177, 'skip_drop': 3.968800627008135e-06}. Best is trial 13 with value: 0.5229311220172618.\n"
     ]
    },
    {
     "name": "stdout",
     "output_type": "stream",
     "text": [
      "[0]\tvalidation-mlogloss:1.37909\n",
      "[1]\tvalidation-mlogloss:1.37211\n",
      "[2]\tvalidation-mlogloss:1.36529\n",
      "[3]\tvalidation-mlogloss:1.35877\n",
      "[4]\tvalidation-mlogloss:1.35236\n",
      "[5]\tvalidation-mlogloss:1.34622\n",
      "[6]\tvalidation-mlogloss:1.34011\n",
      "[7]\tvalidation-mlogloss:1.33432\n",
      "[8]\tvalidation-mlogloss:1.32868\n",
      "[9]\tvalidation-mlogloss:1.32316\n"
     ]
    },
    {
     "name": "stderr",
     "output_type": "stream",
     "text": [
      "[I 2024-04-24 10:46:31,133] Trial 17 finished with value: 0.4911152479268912 and parameters: {'booster': 'dart', 'lambda': 0.0009615745613700154, 'alpha': 0.09737165554494406, 'max_depth': 7, 'eta': 0.02119331073580343, 'gamma': 0.00011943833917117411, 'grow_policy': 'depthwise', 'sample_type': 'uniform', 'normalize_type': 'tree', 'rate_drop': 2.7437713226774585e-05, 'skip_drop': 0.01748111765265703}. Best is trial 13 with value: 0.5229311220172618.\n"
     ]
    },
    {
     "name": "stdout",
     "output_type": "stream",
     "text": [
      "[0]\tvalidation-mlogloss:1.18833\n",
      "[1]\tvalidation-mlogloss:1.13483\n",
      "[2]\tvalidation-mlogloss:1.11167\n",
      "[3]\tvalidation-mlogloss:1.09952\n",
      "[4]\tvalidation-mlogloss:1.09279\n",
      "[5]\tvalidation-mlogloss:1.08862\n",
      "[6]\tvalidation-mlogloss:1.08598\n",
      "[7]\tvalidation-mlogloss:1.08433\n",
      "[8]\tvalidation-mlogloss:1.08317\n",
      "[9]\tvalidation-mlogloss:1.08246\n"
     ]
    },
    {
     "name": "stderr",
     "output_type": "stream",
     "text": [
      "[I 2024-04-24 10:46:34,437] Trial 18 finished with value: 0.4885767473345744 and parameters: {'booster': 'gblinear', 'lambda': 1.8304660248437254e-06, 'alpha': 0.00033866061935009423}. Best is trial 13 with value: 0.5229311220172618.\n"
     ]
    },
    {
     "name": "stdout",
     "output_type": "stream",
     "text": [
      "[0]\tvalidation-mlogloss:1.35502\n",
      "[1]\tvalidation-mlogloss:1.32783\n",
      "[2]\tvalidation-mlogloss:1.30471\n",
      "[3]\tvalidation-mlogloss:1.28450\n",
      "[4]\tvalidation-mlogloss:1.26642\n",
      "[5]\tvalidation-mlogloss:1.25057\n",
      "[6]\tvalidation-mlogloss:1.23626\n",
      "[7]\tvalidation-mlogloss:1.22369\n",
      "[8]\tvalidation-mlogloss:1.21227\n",
      "[9]\tvalidation-mlogloss:1.20230\n"
     ]
    },
    {
     "name": "stderr",
     "output_type": "stream",
     "text": [
      "[I 2024-04-24 10:46:37,836] Trial 19 finished with value: 0.4621763411744796 and parameters: {'booster': 'gbtree', 'lambda': 0.05447625233814107, 'alpha': 0.03133970877517122, 'max_depth': 3, 'eta': 0.1200079294182985, 'gamma': 0.021167774308414846, 'grow_policy': 'lossguide'}. Best is trial 13 with value: 0.5229311220172618.\n"
     ]
    },
    {
     "name": "stdout",
     "output_type": "stream",
     "text": [
      "[0]\tvalidation-mlogloss:1.38571\n",
      "[1]\tvalidation-mlogloss:1.38513\n",
      "[2]\tvalidation-mlogloss:1.38455\n",
      "[3]\tvalidation-mlogloss:1.38397\n",
      "[4]\tvalidation-mlogloss:1.38340\n",
      "[5]\tvalidation-mlogloss:1.38282\n",
      "[6]\tvalidation-mlogloss:1.38224\n",
      "[7]\tvalidation-mlogloss:1.38167\n",
      "[8]\tvalidation-mlogloss:1.38109\n",
      "[9]\tvalidation-mlogloss:1.38052\n"
     ]
    },
    {
     "name": "stderr",
     "output_type": "stream",
     "text": [
      "[I 2024-04-24 10:46:43,188] Trial 20 finished with value: 0.4885767473345744 and parameters: {'booster': 'dart', 'lambda': 0.001919723338198519, 'alpha': 0.4807552472224563, 'max_depth': 9, 'eta': 0.0015924778603854624, 'gamma': 0.00011005192610562492, 'grow_policy': 'lossguide', 'sample_type': 'uniform', 'normalize_type': 'forest', 'rate_drop': 0.024759268167155093, 'skip_drop': 7.910970657116241e-07}. Best is trial 13 with value: 0.5229311220172618.\n"
     ]
    },
    {
     "name": "stdout",
     "output_type": "stream",
     "text": [
      "[0]\tvalidation-mlogloss:1.18940\n",
      "[1]\tvalidation-mlogloss:1.14654\n",
      "[2]\tvalidation-mlogloss:1.11321\n",
      "[3]\tvalidation-mlogloss:1.09132\n",
      "[4]\tvalidation-mlogloss:1.10518\n",
      "[5]\tvalidation-mlogloss:1.11511\n",
      "[6]\tvalidation-mlogloss:1.11848\n",
      "[7]\tvalidation-mlogloss:1.11403\n",
      "[8]\tvalidation-mlogloss:1.10456\n",
      "[9]\tvalidation-mlogloss:1.11195\n"
     ]
    },
    {
     "name": "stderr",
     "output_type": "stream",
     "text": [
      "[I 2024-04-24 10:46:48,321] Trial 21 finished with value: 0.5163310204772381 and parameters: {'booster': 'dart', 'lambda': 0.24120097389843864, 'alpha': 0.8184086622187531, 'max_depth': 9, 'eta': 0.7636941766521699, 'gamma': 0.0017529360324395405, 'grow_policy': 'lossguide', 'sample_type': 'uniform', 'normalize_type': 'forest', 'rate_drop': 0.7747864286485853, 'skip_drop': 1.0100782835959221e-08}. Best is trial 13 with value: 0.5229311220172618.\n"
     ]
    },
    {
     "name": "stdout",
     "output_type": "stream",
     "text": [
      "[0]\tvalidation-mlogloss:1.35502\n",
      "[1]\tvalidation-mlogloss:1.32790\n",
      "[2]\tvalidation-mlogloss:1.30407\n",
      "[3]\tvalidation-mlogloss:1.28295\n",
      "[4]\tvalidation-mlogloss:1.26413\n",
      "[5]\tvalidation-mlogloss:1.24712\n",
      "[6]\tvalidation-mlogloss:1.23195\n",
      "[7]\tvalidation-mlogloss:1.21720\n",
      "[8]\tvalidation-mlogloss:1.20394\n",
      "[9]\tvalidation-mlogloss:1.19207\n"
     ]
    },
    {
     "name": "stderr",
     "output_type": "stream",
     "text": [
      "[I 2024-04-24 10:46:52,460] Trial 22 finished with value: 0.4953460822474192 and parameters: {'booster': 'dart', 'lambda': 0.16354803769453422, 'alpha': 0.21573102263154872, 'max_depth': 7, 'eta': 0.09438504421496623, 'gamma': 0.000665667266683378, 'grow_policy': 'lossguide', 'sample_type': 'uniform', 'normalize_type': 'forest', 'rate_drop': 0.0504312768869312, 'skip_drop': 2.29616596162029e-07}. Best is trial 13 with value: 0.5229311220172618.\n"
     ]
    },
    {
     "name": "stdout",
     "output_type": "stream",
     "text": [
      "[0]\tvalidation-mlogloss:1.17910\n",
      "[1]\tvalidation-mlogloss:1.10583\n",
      "[2]\tvalidation-mlogloss:1.07346\n",
      "[3]\tvalidation-mlogloss:1.05516\n",
      "[4]\tvalidation-mlogloss:1.04014\n",
      "[5]\tvalidation-mlogloss:1.03593\n",
      "[6]\tvalidation-mlogloss:1.03482\n",
      "[7]\tvalidation-mlogloss:1.03676\n",
      "[8]\tvalidation-mlogloss:1.03073\n",
      "[9]\tvalidation-mlogloss:1.03399\n"
     ]
    },
    {
     "name": "stderr",
     "output_type": "stream",
     "text": [
      "[I 2024-04-24 10:46:57,455] Trial 23 finished with value: 0.5231003553900829 and parameters: {'booster': 'dart', 'lambda': 0.7874314396771137, 'alpha': 0.014568158667797454, 'max_depth': 9, 'eta': 0.8309978813664699, 'gamma': 0.006570960809186622, 'grow_policy': 'lossguide', 'sample_type': 'uniform', 'normalize_type': 'forest', 'rate_drop': 0.00042832107265106177, 'skip_drop': 0.00012096478559484572}. Best is trial 23 with value: 0.5231003553900829.\n"
     ]
    },
    {
     "name": "stdout",
     "output_type": "stream",
     "text": [
      "[0]\tvalidation-mlogloss:1.38446\n",
      "[1]\tvalidation-mlogloss:1.38263\n",
      "[2]\tvalidation-mlogloss:1.38082\n",
      "[3]\tvalidation-mlogloss:1.37903\n",
      "[4]\tvalidation-mlogloss:1.37725\n",
      "[5]\tvalidation-mlogloss:1.37549\n",
      "[6]\tvalidation-mlogloss:1.37374\n",
      "[7]\tvalidation-mlogloss:1.37202\n",
      "[8]\tvalidation-mlogloss:1.37029\n",
      "[9]\tvalidation-mlogloss:1.36859\n"
     ]
    },
    {
     "name": "stderr",
     "output_type": "stream",
     "text": [
      "[I 2024-04-24 10:47:01,665] Trial 24 finished with value: 0.48756134709764765 and parameters: {'booster': 'dart', 'lambda': 1.2795777534958105e-08, 'alpha': 0.017981665468364546, 'max_depth': 7, 'eta': 0.005370549624523104, 'gamma': 0.06930595097205054, 'grow_policy': 'lossguide', 'sample_type': 'uniform', 'normalize_type': 'forest', 'rate_drop': 0.0002275093241089181, 'skip_drop': 0.0003175086153021377}. Best is trial 23 with value: 0.5231003553900829.\n"
     ]
    },
    {
     "name": "stdout",
     "output_type": "stream",
     "text": [
      "[0]\tvalidation-mlogloss:1.35734\n",
      "[1]\tvalidation-mlogloss:1.33141\n",
      "[2]\tvalidation-mlogloss:1.30851\n",
      "[3]\tvalidation-mlogloss:1.28808\n",
      "[4]\tvalidation-mlogloss:1.26957\n",
      "[5]\tvalidation-mlogloss:1.25271\n",
      "[6]\tvalidation-mlogloss:1.23741\n",
      "[7]\tvalidation-mlogloss:1.22261\n",
      "[8]\tvalidation-mlogloss:1.20923\n",
      "[9]\tvalidation-mlogloss:1.19650\n"
     ]
    },
    {
     "name": "stderr",
     "output_type": "stream",
     "text": [
      "[I 2024-04-24 10:47:07,111] Trial 25 finished with value: 0.5065154848536131 and parameters: {'booster': 'dart', 'lambda': 0.013034396068598785, 'alpha': 0.010345535731057587, 'max_depth': 9, 'eta': 0.08032791868649455, 'gamma': 0.008909017975465427, 'grow_policy': 'lossguide', 'sample_type': 'uniform', 'normalize_type': 'forest', 'rate_drop': 0.00011946642986297806, 'skip_drop': 0.0030725178444505883}. Best is trial 23 with value: 0.5231003553900829.\n"
     ]
    },
    {
     "name": "stdout",
     "output_type": "stream",
     "text": [
      "[0]\tvalidation-mlogloss:1.33108\n",
      "[1]\tvalidation-mlogloss:1.28807\n",
      "[2]\tvalidation-mlogloss:1.25321\n",
      "[3]\tvalidation-mlogloss:1.22395\n",
      "[4]\tvalidation-mlogloss:1.20007\n",
      "[5]\tvalidation-mlogloss:1.17974\n",
      "[6]\tvalidation-mlogloss:1.16227\n",
      "[7]\tvalidation-mlogloss:1.14750\n",
      "[8]\tvalidation-mlogloss:1.13537\n",
      "[9]\tvalidation-mlogloss:1.12395\n"
     ]
    },
    {
     "name": "stderr",
     "output_type": "stream",
     "text": [
      "[I 2024-04-24 10:47:10,910] Trial 26 finished with value: 0.5024538839059063 and parameters: {'booster': 'dart', 'lambda': 0.9012229427655013, 'alpha': 0.1582593062473609, 'max_depth': 6, 'eta': 0.18341998562183018, 'gamma': 0.006203032924781947, 'grow_policy': 'depthwise', 'sample_type': 'uniform', 'normalize_type': 'tree', 'rate_drop': 0.000938885709736579, 'skip_drop': 0.9897158471004247}. Best is trial 23 with value: 0.5231003553900829.\n"
     ]
    },
    {
     "name": "stdout",
     "output_type": "stream",
     "text": [
      "[0]\tvalidation-mlogloss:1.18245\n",
      "[1]\tvalidation-mlogloss:1.10783\n",
      "[2]\tvalidation-mlogloss:1.07618\n",
      "[3]\tvalidation-mlogloss:1.05534\n",
      "[4]\tvalidation-mlogloss:1.04786\n",
      "[5]\tvalidation-mlogloss:1.04061\n",
      "[6]\tvalidation-mlogloss:1.03627\n",
      "[7]\tvalidation-mlogloss:1.03625\n",
      "[8]\tvalidation-mlogloss:1.03414\n",
      "[9]\tvalidation-mlogloss:1.03621\n"
     ]
    },
    {
     "name": "stderr",
     "output_type": "stream",
     "text": [
      "[I 2024-04-24 10:47:15,420] Trial 27 finished with value: 0.5143002200033847 and parameters: {'booster': 'dart', 'lambda': 0.12790031619487327, 'alpha': 0.000708654719232567, 'max_depth': 8, 'eta': 0.8306761532800141, 'gamma': 0.00032440154783954336, 'grow_policy': 'lossguide', 'sample_type': 'uniform', 'normalize_type': 'forest', 'rate_drop': 1.5116666561075853e-05, 'skip_drop': 3.058000287508857e-05}. Best is trial 23 with value: 0.5231003553900829.\n"
     ]
    },
    {
     "name": "stdout",
     "output_type": "stream",
     "text": [
      "[0]\tvalidation-mlogloss:1.38556\n",
      "[1]\tvalidation-mlogloss:1.38482\n",
      "[2]\tvalidation-mlogloss:1.38408\n",
      "[3]\tvalidation-mlogloss:1.38335\n",
      "[4]\tvalidation-mlogloss:1.38262\n",
      "[5]\tvalidation-mlogloss:1.38189\n",
      "[6]\tvalidation-mlogloss:1.38117\n",
      "[7]\tvalidation-mlogloss:1.38044\n",
      "[8]\tvalidation-mlogloss:1.37972\n",
      "[9]\tvalidation-mlogloss:1.37900\n"
     ]
    },
    {
     "name": "stderr",
     "output_type": "stream",
     "text": [
      "[I 2024-04-24 10:47:19,241] Trial 28 finished with value: 0.48739211372482655 and parameters: {'booster': 'gbtree', 'lambda': 0.01958109057713308, 'alpha': 0.06192510278311268, 'max_depth': 7, 'eta': 0.002159091797469882, 'gamma': 0.0732666343972616, 'grow_policy': 'lossguide'}. Best is trial 23 with value: 0.5231003553900829.\n"
     ]
    },
    {
     "name": "stdout",
     "output_type": "stream",
     "text": [
      "[0]\tvalidation-mlogloss:1.21648\n",
      "[1]\tvalidation-mlogloss:1.16989\n",
      "[2]\tvalidation-mlogloss:1.15106\n",
      "[3]\tvalidation-mlogloss:1.14196\n",
      "[4]\tvalidation-mlogloss:1.13618\n",
      "[5]\tvalidation-mlogloss:1.13268\n",
      "[6]\tvalidation-mlogloss:1.13028\n",
      "[7]\tvalidation-mlogloss:1.12866\n",
      "[8]\tvalidation-mlogloss:1.12759\n",
      "[9]\tvalidation-mlogloss:1.12688\n"
     ]
    },
    {
     "name": "stderr",
     "output_type": "stream",
     "text": [
      "[I 2024-04-24 10:47:22,596] Trial 29 finished with value: 0.46911490946014556 and parameters: {'booster': 'gblinear', 'lambda': 0.002109525885992932, 'alpha': 0.0035703943248775317}. Best is trial 23 with value: 0.5231003553900829.\n"
     ]
    },
    {
     "name": "stdout",
     "output_type": "stream",
     "text": [
      "[0]\tvalidation-mlogloss:1.18884\n",
      "[1]\tvalidation-mlogloss:1.13484\n",
      "[2]\tvalidation-mlogloss:1.11140\n",
      "[3]\tvalidation-mlogloss:1.09961\n",
      "[4]\tvalidation-mlogloss:1.09273\n",
      "[5]\tvalidation-mlogloss:1.08861\n",
      "[6]\tvalidation-mlogloss:1.08601\n",
      "[7]\tvalidation-mlogloss:1.08429\n",
      "[8]\tvalidation-mlogloss:1.08323\n",
      "[9]\tvalidation-mlogloss:1.08236\n"
     ]
    },
    {
     "name": "stderr",
     "output_type": "stream",
     "text": [
      "[I 2024-04-24 10:47:26,014] Trial 30 finished with value: 0.4885767473345744 and parameters: {'booster': 'gblinear', 'lambda': 0.000217152769270714, 'alpha': 0.00017128717189783549}. Best is trial 23 with value: 0.5231003553900829.\n"
     ]
    },
    {
     "name": "stdout",
     "output_type": "stream",
     "text": [
      "[0]\tvalidation-mlogloss:1.21608\n",
      "[1]\tvalidation-mlogloss:1.13968\n",
      "[2]\tvalidation-mlogloss:1.09986\n",
      "[3]\tvalidation-mlogloss:1.07489\n",
      "[4]\tvalidation-mlogloss:1.05727\n",
      "[5]\tvalidation-mlogloss:1.04049\n",
      "[6]\tvalidation-mlogloss:1.03764\n",
      "[7]\tvalidation-mlogloss:1.03036\n",
      "[8]\tvalidation-mlogloss:1.02481\n",
      "[9]\tvalidation-mlogloss:1.02113\n"
     ]
    },
    {
     "name": "stderr",
     "output_type": "stream",
     "text": [
      "[I 2024-04-24 10:47:31,433] Trial 31 finished with value: 0.5302081570485699 and parameters: {'booster': 'dart', 'lambda': 0.2466646631920292, 'alpha': 0.3492750183753086, 'max_depth': 9, 'eta': 0.6124390069652733, 'gamma': 0.003140387481611292, 'grow_policy': 'lossguide', 'sample_type': 'uniform', 'normalize_type': 'forest', 'rate_drop': 0.06331714117666479, 'skip_drop': 5.1444476436155456e-08}. Best is trial 31 with value: 0.5302081570485699.\n"
     ]
    },
    {
     "name": "stdout",
     "output_type": "stream",
     "text": [
      "[0]\tvalidation-mlogloss:1.37034\n",
      "[1]\tvalidation-mlogloss:1.35546\n",
      "[2]\tvalidation-mlogloss:1.34154\n",
      "[3]\tvalidation-mlogloss:1.32854\n",
      "[4]\tvalidation-mlogloss:1.31617\n",
      "[5]\tvalidation-mlogloss:1.30451\n",
      "[6]\tvalidation-mlogloss:1.29350\n",
      "[7]\tvalidation-mlogloss:1.28289\n",
      "[8]\tvalidation-mlogloss:1.27299\n",
      "[9]\tvalidation-mlogloss:1.26352\n"
     ]
    },
    {
     "name": "stderr",
     "output_type": "stream",
     "text": [
      "[I 2024-04-24 10:47:36,754] Trial 32 finished with value: 0.4990692164494838 and parameters: {'booster': 'dart', 'lambda': 0.18334225620121453, 'alpha': 0.2695881515490529, 'max_depth': 9, 'eta': 0.043831235501753406, 'gamma': 0.006411589163505913, 'grow_policy': 'lossguide', 'sample_type': 'uniform', 'normalize_type': 'forest', 'rate_drop': 0.022022910793131626, 'skip_drop': 1.3101461098971308e-07}. Best is trial 31 with value: 0.5302081570485699.\n"
     ]
    },
    {
     "name": "stdout",
     "output_type": "stream",
     "text": [
      "[0]\tvalidation-mlogloss:1.32488\n",
      "[1]\tvalidation-mlogloss:1.27818\n",
      "[2]\tvalidation-mlogloss:1.24159\n",
      "[3]\tvalidation-mlogloss:1.20944\n",
      "[4]\tvalidation-mlogloss:1.18396\n",
      "[5]\tvalidation-mlogloss:1.16132\n",
      "[6]\tvalidation-mlogloss:1.14321\n",
      "[7]\tvalidation-mlogloss:1.12768\n",
      "[8]\tvalidation-mlogloss:1.11301\n",
      "[9]\tvalidation-mlogloss:1.10163\n"
     ]
    },
    {
     "name": "stderr",
     "output_type": "stream",
     "text": [
      "[I 2024-04-24 10:47:41,253] Trial 33 finished with value: 0.5126078862751735 and parameters: {'booster': 'dart', 'lambda': 0.7851413768165209, 'alpha': 0.007345061744936048, 'max_depth': 8, 'eta': 0.18648715946867098, 'gamma': 0.0036954003532666565, 'grow_policy': 'lossguide', 'sample_type': 'uniform', 'normalize_type': 'forest', 'rate_drop': 0.08735079076346572, 'skip_drop': 1.0807730683511257e-05}. Best is trial 31 with value: 0.5302081570485699.\n"
     ]
    },
    {
     "name": "stdout",
     "output_type": "stream",
     "text": [
      "[0]\tvalidation-mlogloss:1.19659\n",
      "[1]\tvalidation-mlogloss:1.11887\n",
      "[2]\tvalidation-mlogloss:1.08198\n",
      "[3]\tvalidation-mlogloss:1.05713\n",
      "[4]\tvalidation-mlogloss:1.04907\n",
      "[5]\tvalidation-mlogloss:1.04129\n",
      "[6]\tvalidation-mlogloss:1.03722\n",
      "[7]\tvalidation-mlogloss:1.03170\n",
      "[8]\tvalidation-mlogloss:1.03150\n",
      "[9]\tvalidation-mlogloss:1.02700\n"
     ]
    },
    {
     "name": "stderr",
     "output_type": "stream",
     "text": [
      "[I 2024-04-24 10:47:46,568] Trial 34 finished with value: 0.5168387205957015 and parameters: {'booster': 'dart', 'lambda': 0.02839740872038223, 'alpha': 0.3799953130233016, 'max_depth': 9, 'eta': 0.7198791391248845, 'gamma': 0.0002586190674073316, 'grow_policy': 'lossguide', 'sample_type': 'uniform', 'normalize_type': 'forest', 'rate_drop': 0.007010308834386422, 'skip_drop': 1.6019511831770573e-06}. Best is trial 31 with value: 0.5302081570485699.\n"
     ]
    },
    {
     "name": "stdout",
     "output_type": "stream",
     "text": [
      "[0]\tvalidation-mlogloss:1.37125\n",
      "[1]\tvalidation-mlogloss:1.35716\n",
      "[2]\tvalidation-mlogloss:1.34405\n",
      "[3]\tvalidation-mlogloss:1.33176\n",
      "[4]\tvalidation-mlogloss:1.31991\n",
      "[5]\tvalidation-mlogloss:1.30896\n",
      "[6]\tvalidation-mlogloss:1.29833\n",
      "[7]\tvalidation-mlogloss:1.28843\n",
      "[8]\tvalidation-mlogloss:1.27897\n",
      "[9]\tvalidation-mlogloss:1.26998\n"
     ]
    },
    {
     "name": "stderr",
     "output_type": "stream",
     "text": [
      "[I 2024-04-24 10:47:51,062] Trial 35 finished with value: 0.4929768150279235 and parameters: {'booster': 'dart', 'lambda': 0.09101767591207455, 'alpha': 0.038370640211223994, 'max_depth': 8, 'eta': 0.042459022507107626, 'gamma': 0.16010840641293028, 'grow_policy': 'lossguide', 'sample_type': 'uniform', 'normalize_type': 'forest', 'rate_drop': 0.006699915446287352, 'skip_drop': 5.8410809284224355e-08}. Best is trial 31 with value: 0.5302081570485699.\n"
     ]
    },
    {
     "name": "stdout",
     "output_type": "stream",
     "text": [
      "[0]\tvalidation-mlogloss:1.38404\n",
      "[1]\tvalidation-mlogloss:1.38184\n",
      "[2]\tvalidation-mlogloss:1.37966\n",
      "[3]\tvalidation-mlogloss:1.37748\n",
      "[4]\tvalidation-mlogloss:1.37532\n",
      "[5]\tvalidation-mlogloss:1.37320\n",
      "[6]\tvalidation-mlogloss:1.37108\n",
      "[7]\tvalidation-mlogloss:1.36897\n",
      "[8]\tvalidation-mlogloss:1.36686\n",
      "[9]\tvalidation-mlogloss:1.36479\n"
     ]
    },
    {
     "name": "stderr",
     "output_type": "stream",
     "text": [
      "[I 2024-04-24 10:47:56,451] Trial 36 finished with value: 0.4862074801150787 and parameters: {'booster': 'dart', 'lambda': 0.3143022792571134, 'alpha': 0.002844573917888709, 'max_depth': 9, 'eta': 0.0060851666406752086, 'gamma': 0.00048656756097318254, 'grow_policy': 'lossguide', 'sample_type': 'uniform', 'normalize_type': 'forest', 'rate_drop': 0.1572790720095217, 'skip_drop': 0.0007591893663215939}. Best is trial 31 with value: 0.5302081570485699.\n"
     ]
    },
    {
     "name": "stdout",
     "output_type": "stream",
     "text": [
      "[0]\tvalidation-mlogloss:1.38629\n",
      "[1]\tvalidation-mlogloss:1.38629\n",
      "[2]\tvalidation-mlogloss:1.38629\n",
      "[3]\tvalidation-mlogloss:1.38629\n",
      "[4]\tvalidation-mlogloss:1.38629\n",
      "[5]\tvalidation-mlogloss:1.38629\n",
      "[6]\tvalidation-mlogloss:1.38628\n",
      "[7]\tvalidation-mlogloss:1.38628\n",
      "[8]\tvalidation-mlogloss:1.38628\n",
      "[9]\tvalidation-mlogloss:1.38628\n"
     ]
    },
    {
     "name": "stderr",
     "output_type": "stream",
     "text": [
      "[I 2024-04-24 10:48:00,388] Trial 37 finished with value: 0.48586901336943644 and parameters: {'booster': 'gbtree', 'lambda': 9.383902929959984e-06, 'alpha': 0.26088772507421454, 'max_depth': 7, 'eta': 4.148651939397896e-06, 'gamma': 2.7870769891258512e-05, 'grow_policy': 'lossguide'}. Best is trial 31 with value: 0.5302081570485699.\n"
     ]
    },
    {
     "name": "stdout",
     "output_type": "stream",
     "text": [
      "[0]\tvalidation-mlogloss:1.30418\n",
      "[1]\tvalidation-mlogloss:1.24772\n",
      "[2]\tvalidation-mlogloss:1.20635\n",
      "[3]\tvalidation-mlogloss:1.17245\n",
      "[4]\tvalidation-mlogloss:1.14459\n",
      "[5]\tvalidation-mlogloss:1.12053\n",
      "[6]\tvalidation-mlogloss:1.10376\n",
      "[7]\tvalidation-mlogloss:1.08876\n",
      "[8]\tvalidation-mlogloss:1.07719\n",
      "[9]\tvalidation-mlogloss:1.06713\n"
     ]
    },
    {
     "name": "stderr",
     "output_type": "stream",
     "text": [
      "[I 2024-04-24 10:48:04,495] Trial 38 finished with value: 0.5236080555085463 and parameters: {'booster': 'dart', 'lambda': 0.005181761537736771, 'alpha': 0.03641314080708019, 'max_depth': 8, 'eta': 0.2518313239256498, 'gamma': 0.002988102170931734, 'grow_policy': 'depthwise', 'sample_type': 'uniform', 'normalize_type': 'forest', 'rate_drop': 0.00047650574082998395, 'skip_drop': 6.35654891808052e-05}. Best is trial 31 with value: 0.5302081570485699.\n"
     ]
    },
    {
     "name": "stdout",
     "output_type": "stream",
     "text": [
      "[0]\tvalidation-mlogloss:1.32452\n",
      "[1]\tvalidation-mlogloss:1.27747\n",
      "[2]\tvalidation-mlogloss:1.23999\n",
      "[3]\tvalidation-mlogloss:1.20850\n",
      "[4]\tvalidation-mlogloss:1.18223\n",
      "[5]\tvalidation-mlogloss:1.16130\n",
      "[6]\tvalidation-mlogloss:1.14242\n",
      "[7]\tvalidation-mlogloss:1.12530\n",
      "[8]\tvalidation-mlogloss:1.11111\n",
      "[9]\tvalidation-mlogloss:1.09927\n"
     ]
    },
    {
     "name": "stderr",
     "output_type": "stream",
     "text": [
      "[I 2024-04-24 10:48:08,577] Trial 39 finished with value: 0.5109155525469623 and parameters: {'booster': 'dart', 'lambda': 0.00273227132118162, 'alpha': 0.0011056145385963754, 'max_depth': 8, 'eta': 0.18508169805477126, 'gamma': 0.1775541038071449, 'grow_policy': 'depthwise', 'sample_type': 'weighted', 'normalize_type': 'tree', 'rate_drop': 0.0004411070723095094, 'skip_drop': 6.962134095252908e-05}. Best is trial 31 with value: 0.5302081570485699.\n"
     ]
    },
    {
     "name": "stdout",
     "output_type": "stream",
     "text": [
      "[0]\tvalidation-mlogloss:1.38629\n",
      "[1]\tvalidation-mlogloss:1.38629\n",
      "[2]\tvalidation-mlogloss:1.38629\n",
      "[3]\tvalidation-mlogloss:1.38628\n",
      "[4]\tvalidation-mlogloss:1.38628\n",
      "[5]\tvalidation-mlogloss:1.38628\n",
      "[6]\tvalidation-mlogloss:1.38627\n",
      "[7]\tvalidation-mlogloss:1.38627\n",
      "[8]\tvalidation-mlogloss:1.38627\n",
      "[9]\tvalidation-mlogloss:1.38626\n"
     ]
    },
    {
     "name": "stderr",
     "output_type": "stream",
     "text": [
      "[I 2024-04-24 10:48:12,042] Trial 40 finished with value: 0.47605347774581147 and parameters: {'booster': 'gbtree', 'lambda': 0.00027432140224438055, 'alpha': 3.487600302841377e-05, 'max_depth': 5, 'eta': 9.736221091973649e-06, 'gamma': 0.9420489413462446, 'grow_policy': 'depthwise'}. Best is trial 31 with value: 0.5302081570485699.\n"
     ]
    },
    {
     "name": "stdout",
     "output_type": "stream",
     "text": [
      "[0]\tvalidation-mlogloss:1.27922\n",
      "[1]\tvalidation-mlogloss:1.21199\n",
      "[2]\tvalidation-mlogloss:1.16387\n",
      "[3]\tvalidation-mlogloss:1.12808\n",
      "[4]\tvalidation-mlogloss:1.10157\n",
      "[5]\tvalidation-mlogloss:1.08327\n",
      "[6]\tvalidation-mlogloss:1.06829\n",
      "[7]\tvalidation-mlogloss:1.05646\n",
      "[8]\tvalidation-mlogloss:1.04447\n",
      "[9]\tvalidation-mlogloss:1.03635\n"
     ]
    },
    {
     "name": "stderr",
     "output_type": "stream",
     "text": [
      "[I 2024-04-24 10:48:16,210] Trial 41 finished with value: 0.5303773904213911 and parameters: {'booster': 'dart', 'lambda': 0.03943562312835868, 'alpha': 0.03236588506740903, 'max_depth': 9, 'eta': 0.33079802673706493, 'gamma': 0.003351172905927786, 'grow_policy': 'depthwise', 'sample_type': 'uniform', 'normalize_type': 'forest', 'rate_drop': 5.0484268409017925e-05, 'skip_drop': 2.0502182700753785e-05}. Best is trial 41 with value: 0.5303773904213911.\n"
     ]
    },
    {
     "name": "stdout",
     "output_type": "stream",
     "text": [
      "[0]\tvalidation-mlogloss:1.29276\n",
      "[1]\tvalidation-mlogloss:1.23146\n",
      "[2]\tvalidation-mlogloss:1.18472\n",
      "[3]\tvalidation-mlogloss:1.15016\n",
      "[4]\tvalidation-mlogloss:1.12280\n",
      "[5]\tvalidation-mlogloss:1.10130\n",
      "[6]\tvalidation-mlogloss:1.08605\n",
      "[7]\tvalidation-mlogloss:1.07221\n",
      "[8]\tvalidation-mlogloss:1.06168\n",
      "[9]\tvalidation-mlogloss:1.05074\n"
     ]
    },
    {
     "name": "stderr",
     "output_type": "stream",
     "text": [
      "[I 2024-04-24 10:48:20,214] Trial 42 finished with value: 0.5215772550346929 and parameters: {'booster': 'dart', 'lambda': 0.033239471421500695, 'alpha': 0.007835114459850015, 'max_depth': 8, 'eta': 0.2918156718465808, 'gamma': 0.003401000465108407, 'grow_policy': 'depthwise', 'sample_type': 'uniform', 'normalize_type': 'forest', 'rate_drop': 3.94058188075174e-05, 'skip_drop': 3.692819782183353e-05}. Best is trial 41 with value: 0.5303773904213911.\n"
     ]
    },
    {
     "name": "stdout",
     "output_type": "stream",
     "text": [
      "[0]\tvalidation-mlogloss:1.36864\n",
      "[1]\tvalidation-mlogloss:1.35231\n",
      "[2]\tvalidation-mlogloss:1.33724\n",
      "[3]\tvalidation-mlogloss:1.32323\n",
      "[4]\tvalidation-mlogloss:1.31004\n",
      "[5]\tvalidation-mlogloss:1.29762\n",
      "[6]\tvalidation-mlogloss:1.28595\n",
      "[7]\tvalidation-mlogloss:1.27504\n",
      "[8]\tvalidation-mlogloss:1.26471\n",
      "[9]\tvalidation-mlogloss:1.25477\n"
     ]
    },
    {
     "name": "stderr",
     "output_type": "stream",
     "text": [
      "[I 2024-04-24 10:48:24,174] Trial 43 finished with value: 0.4906075478084278 and parameters: {'booster': 'dart', 'lambda': 0.09875163799218534, 'alpha': 0.026095179392139782, 'max_depth': 8, 'eta': 0.04994311975920382, 'gamma': 0.024770553116846474, 'grow_policy': 'depthwise', 'sample_type': 'uniform', 'normalize_type': 'forest', 'rate_drop': 1.3668149192041443e-06, 'skip_drop': 1.5192827956204703e-05}. Best is trial 41 with value: 0.5303773904213911.\n"
     ]
    },
    {
     "name": "stdout",
     "output_type": "stream",
     "text": [
      "[0]\tvalidation-mlogloss:1.17292\n",
      "[1]\tvalidation-mlogloss:1.10247\n",
      "[2]\tvalidation-mlogloss:1.07653\n",
      "[3]\tvalidation-mlogloss:1.06360\n",
      "[4]\tvalidation-mlogloss:1.06239\n",
      "[5]\tvalidation-mlogloss:1.05614\n",
      "[6]\tvalidation-mlogloss:1.05454\n",
      "[7]\tvalidation-mlogloss:1.05687\n",
      "[8]\tvalidation-mlogloss:1.05880\n",
      "[9]\tvalidation-mlogloss:1.05777\n"
     ]
    },
    {
     "name": "stderr",
     "output_type": "stream",
     "text": [
      "[I 2024-04-24 10:48:28,199] Trial 44 finished with value: 0.517515654086986 and parameters: {'booster': 'dart', 'lambda': 0.006253263372011985, 'alpha': 0.05542967959983071, 'max_depth': 9, 'eta': 0.9229647077799749, 'gamma': 0.011412989426440676, 'grow_policy': 'depthwise', 'sample_type': 'uniform', 'normalize_type': 'forest', 'rate_drop': 2.688925357709326e-06, 'skip_drop': 0.00027019049657398274}. Best is trial 41 with value: 0.5303773904213911.\n"
     ]
    },
    {
     "name": "stdout",
     "output_type": "stream",
     "text": [
      "[0]\tvalidation-mlogloss:1.30219\n",
      "[1]\tvalidation-mlogloss:1.24448\n",
      "[2]\tvalidation-mlogloss:1.20310\n",
      "[3]\tvalidation-mlogloss:1.16850\n",
      "[4]\tvalidation-mlogloss:1.14118\n",
      "[5]\tvalidation-mlogloss:1.11891\n",
      "[6]\tvalidation-mlogloss:1.10149\n",
      "[7]\tvalidation-mlogloss:1.08702\n",
      "[8]\tvalidation-mlogloss:1.07573\n",
      "[9]\tvalidation-mlogloss:1.06577\n"
     ]
    },
    {
     "name": "stderr",
     "output_type": "stream",
     "text": [
      "[I 2024-04-24 10:48:32,066] Trial 45 finished with value: 0.5171771873413437 and parameters: {'booster': 'dart', 'lambda': 0.3939051641859283, 'alpha': 0.012144762674423134, 'max_depth': 8, 'eta': 0.26221606010327475, 'gamma': 1.496031502088723e-08, 'grow_policy': 'depthwise', 'sample_type': 'uniform', 'normalize_type': 'forest', 'rate_drop': 0.0023208315503775545, 'skip_drop': 0.0015405921748462752}. Best is trial 41 with value: 0.5303773904213911.\n"
     ]
    },
    {
     "name": "stdout",
     "output_type": "stream",
     "text": [
      "[0]\tvalidation-mlogloss:1.38629\n",
      "[1]\tvalidation-mlogloss:1.38629\n",
      "[2]\tvalidation-mlogloss:1.38629\n",
      "[3]\tvalidation-mlogloss:1.38629\n",
      "[4]\tvalidation-mlogloss:1.38629\n",
      "[5]\tvalidation-mlogloss:1.38629\n",
      "[6]\tvalidation-mlogloss:1.38629\n",
      "[7]\tvalidation-mlogloss:1.38629\n",
      "[8]\tvalidation-mlogloss:1.38629\n",
      "[9]\tvalidation-mlogloss:1.38629\n"
     ]
    },
    {
     "name": "stderr",
     "output_type": "stream",
     "text": [
      "[I 2024-04-24 10:48:36,046] Trial 46 finished with value: 0.47199187679810456 and parameters: {'booster': 'dart', 'lambda': 0.03392128264085705, 'alpha': 0.13240207153301217, 'max_depth': 9, 'eta': 1.4171264707061063e-07, 'gamma': 3.864672254100785e-05, 'grow_policy': 'depthwise', 'sample_type': 'weighted', 'normalize_type': 'forest', 'rate_drop': 8.203831135268177e-05, 'skip_drop': 1.6321915649065786e-06}. Best is trial 41 with value: 0.5303773904213911.\n"
     ]
    },
    {
     "name": "stdout",
     "output_type": "stream",
     "text": [
      "[0]\tvalidation-mlogloss:1.26090\n",
      "[1]\tvalidation-mlogloss:1.22043\n",
      "[2]\tvalidation-mlogloss:1.20249\n",
      "[3]\tvalidation-mlogloss:1.19364\n",
      "[4]\tvalidation-mlogloss:1.18897\n",
      "[5]\tvalidation-mlogloss:1.18615\n",
      "[6]\tvalidation-mlogloss:1.18441\n",
      "[7]\tvalidation-mlogloss:1.18327\n",
      "[8]\tvalidation-mlogloss:1.18246\n",
      "[9]\tvalidation-mlogloss:1.18187\n"
     ]
    },
    {
     "name": "stderr",
     "output_type": "stream",
     "text": [
      "[I 2024-04-24 10:48:39,418] Trial 47 finished with value: 0.42443729903536975 and parameters: {'booster': 'gblinear', 'lambda': 0.33377802770512854, 'alpha': 0.0023026289913501284}. Best is trial 41 with value: 0.5303773904213911.\n"
     ]
    },
    {
     "name": "stdout",
     "output_type": "stream",
     "text": [
      "[0]\tvalidation-mlogloss:1.38303\n",
      "[1]\tvalidation-mlogloss:1.37980\n",
      "[2]\tvalidation-mlogloss:1.37661\n",
      "[3]\tvalidation-mlogloss:1.37346\n",
      "[4]\tvalidation-mlogloss:1.37040\n",
      "[5]\tvalidation-mlogloss:1.36736\n",
      "[6]\tvalidation-mlogloss:1.36434\n",
      "[7]\tvalidation-mlogloss:1.36134\n",
      "[8]\tvalidation-mlogloss:1.35841\n",
      "[9]\tvalidation-mlogloss:1.35552\n"
     ]
    },
    {
     "name": "stderr",
     "output_type": "stream",
     "text": [
      "[I 2024-04-24 10:48:45,835] Trial 48 finished with value: 0.4931460484007446 and parameters: {'booster': 'dart', 'lambda': 0.007262250870329723, 'alpha': 0.4311506865404914, 'max_depth': 9, 'eta': 0.008870324571837876, 'gamma': 0.003781111508837886, 'grow_policy': 'depthwise', 'sample_type': 'weighted', 'normalize_type': 'forest', 'rate_drop': 0.0008466446843186788, 'skip_drop': 1.8804839579088816e-05}. Best is trial 41 with value: 0.5303773904213911.\n"
     ]
    },
    {
     "name": "stdout",
     "output_type": "stream",
     "text": [
      "[0]\tvalidation-mlogloss:1.38623\n",
      "[1]\tvalidation-mlogloss:1.38617\n",
      "[2]\tvalidation-mlogloss:1.38611\n",
      "[3]\tvalidation-mlogloss:1.38605\n",
      "[4]\tvalidation-mlogloss:1.38599\n",
      "[5]\tvalidation-mlogloss:1.38593\n",
      "[6]\tvalidation-mlogloss:1.38587\n",
      "[7]\tvalidation-mlogloss:1.38581\n",
      "[8]\tvalidation-mlogloss:1.38575\n",
      "[9]\tvalidation-mlogloss:1.38569\n"
     ]
    },
    {
     "name": "stderr",
     "output_type": "stream",
     "text": [
      "[I 2024-04-24 10:48:49,659] Trial 49 finished with value: 0.46488407513961755 and parameters: {'booster': 'dart', 'lambda': 0.05616560034864364, 'alpha': 5.838529834062072e-08, 'max_depth': 4, 'eta': 0.0002054826154798543, 'gamma': 0.06618712798704618, 'grow_policy': 'depthwise', 'sample_type': 'uniform', 'normalize_type': 'tree', 'rate_drop': 8.702030500703814e-06, 'skip_drop': 0.00014870934433294284}. Best is trial 41 with value: 0.5303773904213911.\n"
     ]
    },
    {
     "name": "stdout",
     "output_type": "stream",
     "text": [
      "[0]\tvalidation-mlogloss:1.38628\n",
      "[1]\tvalidation-mlogloss:1.38626\n",
      "[2]\tvalidation-mlogloss:1.38625\n",
      "[3]\tvalidation-mlogloss:1.38623\n",
      "[4]\tvalidation-mlogloss:1.38622\n",
      "[5]\tvalidation-mlogloss:1.38620\n",
      "[6]\tvalidation-mlogloss:1.38619\n",
      "[7]\tvalidation-mlogloss:1.38617\n",
      "[8]\tvalidation-mlogloss:1.38616\n",
      "[9]\tvalidation-mlogloss:1.38614\n"
     ]
    },
    {
     "name": "stderr",
     "output_type": "stream",
     "text": [
      "[I 2024-04-24 10:48:53,677] Trial 50 finished with value: 0.4863767134878998 and parameters: {'booster': 'dart', 'lambda': 0.004331471492148142, 'alpha': 2.8093008459838855e-06, 'max_depth': 8, 'eta': 4.216495886452202e-05, 'gamma': 8.701558326155256e-07, 'grow_policy': 'depthwise', 'sample_type': 'uniform', 'normalize_type': 'forest', 'rate_drop': 0.00032453482700366213, 'skip_drop': 0.004018357829065622}. Best is trial 41 with value: 0.5303773904213911.\n"
     ]
    },
    {
     "name": "stdout",
     "output_type": "stream",
     "text": [
      "[0]\tvalidation-mlogloss:1.29449\n",
      "[1]\tvalidation-mlogloss:1.23365\n",
      "[2]\tvalidation-mlogloss:1.18769\n",
      "[3]\tvalidation-mlogloss:1.15385\n",
      "[4]\tvalidation-mlogloss:1.12710\n",
      "[5]\tvalidation-mlogloss:1.10495\n",
      "[6]\tvalidation-mlogloss:1.08894\n",
      "[7]\tvalidation-mlogloss:1.07407\n",
      "[8]\tvalidation-mlogloss:1.06372\n",
      "[9]\tvalidation-mlogloss:1.05424\n"
     ]
    },
    {
     "name": "stderr",
     "output_type": "stream",
     "text": [
      "[I 2024-04-24 10:48:57,803] Trial 51 finished with value: 0.524623455745473 and parameters: {'booster': 'dart', 'lambda': 0.022494048545874692, 'alpha': 0.0067277813654348, 'max_depth': 8, 'eta': 0.2855935691846329, 'gamma': 0.0029257046757450926, 'grow_policy': 'depthwise', 'sample_type': 'uniform', 'normalize_type': 'forest', 'rate_drop': 3.161128070993568e-05, 'skip_drop': 4.539657158319756e-05}. Best is trial 41 with value: 0.5303773904213911.\n"
     ]
    },
    {
     "name": "stdout",
     "output_type": "stream",
     "text": [
      "[0]\tvalidation-mlogloss:1.27883\n",
      "[1]\tvalidation-mlogloss:1.21390\n",
      "[2]\tvalidation-mlogloss:1.16616\n",
      "[3]\tvalidation-mlogloss:1.13188\n",
      "[4]\tvalidation-mlogloss:1.10445\n",
      "[5]\tvalidation-mlogloss:1.08562\n",
      "[6]\tvalidation-mlogloss:1.07000\n",
      "[7]\tvalidation-mlogloss:1.05789\n",
      "[8]\tvalidation-mlogloss:1.04925\n",
      "[9]\tvalidation-mlogloss:1.04109\n"
     ]
    },
    {
     "name": "stderr",
     "output_type": "stream",
     "text": [
      "[I 2024-04-24 10:49:01,913] Trial 52 finished with value: 0.5185310543239127 and parameters: {'booster': 'dart', 'lambda': 0.018234600240277895, 'alpha': 0.0054695961841718654, 'max_depth': 8, 'eta': 0.34355095432449073, 'gamma': 0.0015285573249830293, 'grow_policy': 'depthwise', 'sample_type': 'uniform', 'normalize_type': 'forest', 'rate_drop': 9.355514975617264e-05, 'skip_drop': 9.636983903507117e-05}. Best is trial 41 with value: 0.5303773904213911.\n"
     ]
    },
    {
     "name": "stdout",
     "output_type": "stream",
     "text": [
      "[0]\tvalidation-mlogloss:1.35564\n",
      "[1]\tvalidation-mlogloss:1.32873\n",
      "[2]\tvalidation-mlogloss:1.30466\n",
      "[3]\tvalidation-mlogloss:1.28369\n",
      "[4]\tvalidation-mlogloss:1.26473\n",
      "[5]\tvalidation-mlogloss:1.24736\n",
      "[6]\tvalidation-mlogloss:1.23167\n",
      "[7]\tvalidation-mlogloss:1.21694\n",
      "[8]\tvalidation-mlogloss:1.20346\n",
      "[9]\tvalidation-mlogloss:1.19023\n"
     ]
    },
    {
     "name": "stderr",
     "output_type": "stream",
     "text": [
      "[I 2024-04-24 10:49:05,949] Trial 53 finished with value: 0.5083770519546454 and parameters: {'booster': 'dart', 'lambda': 0.15166568446678966, 'alpha': 0.04255572667072882, 'max_depth': 9, 'eta': 0.08477842483140698, 'gamma': 0.0005295639756597344, 'grow_policy': 'depthwise', 'sample_type': 'uniform', 'normalize_type': 'forest', 'rate_drop': 8.015677179988363e-06, 'skip_drop': 7.3205999204065415e-06}. Best is trial 41 with value: 0.5303773904213911.\n"
     ]
    },
    {
     "name": "stdout",
     "output_type": "stream",
     "text": [
      "[0]\tvalidation-mlogloss:1.28500\n",
      "[1]\tvalidation-mlogloss:1.22116\n",
      "[2]\tvalidation-mlogloss:1.17624\n",
      "[3]\tvalidation-mlogloss:1.14189\n",
      "[4]\tvalidation-mlogloss:1.11597\n",
      "[5]\tvalidation-mlogloss:1.09615\n",
      "[6]\tvalidation-mlogloss:1.08252\n",
      "[7]\tvalidation-mlogloss:1.07027\n",
      "[8]\tvalidation-mlogloss:1.06034\n",
      "[9]\tvalidation-mlogloss:1.05287\n"
     ]
    },
    {
     "name": "stderr",
     "output_type": "stream",
     "text": [
      "[I 2024-04-24 10:49:09,832] Trial 54 finished with value: 0.5158233203587748 and parameters: {'booster': 'dart', 'lambda': 0.0006335970067793317, 'alpha': 0.019667303241892507, 'max_depth': 7, 'eta': 0.33748135541016405, 'gamma': 0.003129866508043268, 'grow_policy': 'depthwise', 'sample_type': 'weighted', 'normalize_type': 'forest', 'rate_drop': 5.714899049935864e-07, 'skip_drop': 6.41280731082631e-05}. Best is trial 41 with value: 0.5303773904213911.\n"
     ]
    },
    {
     "name": "stdout",
     "output_type": "stream",
     "text": [
      "[0]\tvalidation-mlogloss:1.37762\n",
      "[1]\tvalidation-mlogloss:1.36931\n",
      "[2]\tvalidation-mlogloss:1.36123\n",
      "[3]\tvalidation-mlogloss:1.35340\n",
      "[4]\tvalidation-mlogloss:1.34594\n",
      "[5]\tvalidation-mlogloss:1.33873\n",
      "[6]\tvalidation-mlogloss:1.33176\n",
      "[7]\tvalidation-mlogloss:1.32497\n",
      "[8]\tvalidation-mlogloss:1.31832\n",
      "[9]\tvalidation-mlogloss:1.31185\n"
     ]
    },
    {
     "name": "stderr",
     "output_type": "stream",
     "text": [
      "[I 2024-04-24 10:49:13,984] Trial 55 finished with value: 0.5022846505330851 and parameters: {'booster': 'dart', 'lambda': 0.6179064131538528, 'alpha': 0.1414177947081392, 'max_depth': 9, 'eta': 0.02371215307655564, 'gamma': 0.0002066646665190013, 'grow_policy': 'depthwise', 'sample_type': 'uniform', 'normalize_type': 'forest', 'rate_drop': 4.961584326540961e-05, 'skip_drop': 0.0006344655033972826}. Best is trial 41 with value: 0.5303773904213911.\n"
     ]
    },
    {
     "name": "stdout",
     "output_type": "stream",
     "text": [
      "[0]\tvalidation-mlogloss:1.34419\n",
      "[1]\tvalidation-mlogloss:1.30909\n",
      "[2]\tvalidation-mlogloss:1.27919\n",
      "[3]\tvalidation-mlogloss:1.25394\n",
      "[4]\tvalidation-mlogloss:1.23163\n",
      "[5]\tvalidation-mlogloss:1.21156\n",
      "[6]\tvalidation-mlogloss:1.19291\n",
      "[7]\tvalidation-mlogloss:1.17728\n",
      "[8]\tvalidation-mlogloss:1.16244\n",
      "[9]\tvalidation-mlogloss:1.14973\n"
     ]
    },
    {
     "name": "stderr",
     "output_type": "stream",
     "text": [
      "[I 2024-04-24 10:49:17,892] Trial 56 finished with value: 0.5093924521915721 and parameters: {'booster': 'dart', 'lambda': 1.536504297937026e-05, 'alpha': 0.07737805435338148, 'max_depth': 8, 'eta': 0.1223510781433696, 'gamma': 0.0009889113375054618, 'grow_policy': 'depthwise', 'sample_type': 'uniform', 'normalize_type': 'forest', 'rate_drop': 0.00198670914342254, 'skip_drop': 7.251501178126446e-07}. Best is trial 41 with value: 0.5303773904213911.\n"
     ]
    },
    {
     "name": "stdout",
     "output_type": "stream",
     "text": [
      "[0]\tvalidation-mlogloss:1.29736\n",
      "[1]\tvalidation-mlogloss:1.24603\n",
      "[2]\tvalidation-mlogloss:1.21280\n",
      "[3]\tvalidation-mlogloss:1.19264\n",
      "[4]\tvalidation-mlogloss:1.17823\n",
      "[5]\tvalidation-mlogloss:1.16830\n",
      "[6]\tvalidation-mlogloss:1.16061\n",
      "[7]\tvalidation-mlogloss:1.15406\n",
      "[8]\tvalidation-mlogloss:1.14926\n",
      "[9]\tvalidation-mlogloss:1.14536\n"
     ]
    },
    {
     "name": "stderr",
     "output_type": "stream",
     "text": [
      "[I 2024-04-24 10:49:21,220] Trial 57 finished with value: 0.45016077170418006 and parameters: {'booster': 'gbtree', 'lambda': 0.06451842753794988, 'alpha': 0.000469274294102455, 'max_depth': 1, 'eta': 0.46700968275181914, 'gamma': 0.014522879179962502, 'grow_policy': 'lossguide'}. Best is trial 41 with value: 0.5303773904213911.\n"
     ]
    },
    {
     "name": "stdout",
     "output_type": "stream",
     "text": [
      "[0]\tvalidation-mlogloss:1.37377\n",
      "[1]\tvalidation-mlogloss:1.36187\n",
      "[2]\tvalidation-mlogloss:1.35086\n",
      "[3]\tvalidation-mlogloss:1.34017\n",
      "[4]\tvalidation-mlogloss:1.33003\n",
      "[5]\tvalidation-mlogloss:1.32018\n",
      "[6]\tvalidation-mlogloss:1.31091\n",
      "[7]\tvalidation-mlogloss:1.30199\n",
      "[8]\tvalidation-mlogloss:1.29338\n",
      "[9]\tvalidation-mlogloss:1.28533\n"
     ]
    },
    {
     "name": "stderr",
     "output_type": "stream",
     "text": [
      "[I 2024-04-24 10:49:25,513] Trial 58 finished with value: 0.5007615501776951 and parameters: {'booster': 'dart', 'lambda': 0.30823782717215253, 'alpha': 0.5813986891948951, 'max_depth': 9, 'eta': 0.034418220928613, 'gamma': 0.03483557827605397, 'grow_policy': 'depthwise', 'sample_type': 'uniform', 'normalize_type': 'forest', 'rate_drop': 0.00030808428111443737, 'skip_drop': 3.081556808755145e-06}. Best is trial 41 with value: 0.5303773904213911.\n"
     ]
    },
    {
     "name": "stdout",
     "output_type": "stream",
     "text": [
      "[0]\tvalidation-mlogloss:1.21040\n",
      "[1]\tvalidation-mlogloss:1.16192\n",
      "[2]\tvalidation-mlogloss:1.14238\n",
      "[3]\tvalidation-mlogloss:1.13326\n",
      "[4]\tvalidation-mlogloss:1.12830\n",
      "[5]\tvalidation-mlogloss:1.12539\n",
      "[6]\tvalidation-mlogloss:1.12352\n",
      "[7]\tvalidation-mlogloss:1.12226\n",
      "[8]\tvalidation-mlogloss:1.12136\n",
      "[9]\tvalidation-mlogloss:1.12066\n"
     ]
    },
    {
     "name": "stderr",
     "output_type": "stream",
     "text": [
      "[I 2024-04-24 10:49:28,787] Trial 59 finished with value: 0.47114570993399896 and parameters: {'booster': 'gblinear', 'lambda': 0.01195980602116813, 'alpha': 0.001392277679241172}. Best is trial 41 with value: 0.5303773904213911.\n"
     ]
    },
    {
     "name": "stdout",
     "output_type": "stream",
     "text": [
      "[0]\tvalidation-mlogloss:1.36289\n",
      "[1]\tvalidation-mlogloss:1.34162\n",
      "[2]\tvalidation-mlogloss:1.32252\n",
      "[3]\tvalidation-mlogloss:1.30508\n",
      "[4]\tvalidation-mlogloss:1.28917\n",
      "[5]\tvalidation-mlogloss:1.27417\n",
      "[6]\tvalidation-mlogloss:1.26054\n",
      "[7]\tvalidation-mlogloss:1.24764\n",
      "[8]\tvalidation-mlogloss:1.23574\n",
      "[9]\tvalidation-mlogloss:1.22463\n"
     ]
    },
    {
     "name": "stderr",
     "output_type": "stream",
     "text": [
      "[I 2024-04-24 10:49:32,884] Trial 60 finished with value: 0.49094601455407005 and parameters: {'booster': 'dart', 'lambda': 0.9991241149739986, 'alpha': 0.9399387033805388, 'max_depth': 6, 'eta': 0.0752794262697163, 'gamma': 0.0022823093671547954, 'grow_policy': 'lossguide', 'sample_type': 'uniform', 'normalize_type': 'tree', 'rate_drop': 1.6525036625712727e-08, 'skip_drop': 3.2991676776306894e-05}. Best is trial 41 with value: 0.5303773904213911.\n"
     ]
    },
    {
     "name": "stdout",
     "output_type": "stream",
     "text": [
      "[0]\tvalidation-mlogloss:1.28756\n",
      "[1]\tvalidation-mlogloss:1.22483\n",
      "[2]\tvalidation-mlogloss:1.17798\n",
      "[3]\tvalidation-mlogloss:1.14307\n",
      "[4]\tvalidation-mlogloss:1.11713\n",
      "[5]\tvalidation-mlogloss:1.09534\n",
      "[6]\tvalidation-mlogloss:1.07936\n",
      "[7]\tvalidation-mlogloss:1.06557\n",
      "[8]\tvalidation-mlogloss:1.05389\n",
      "[9]\tvalidation-mlogloss:1.04486\n"
     ]
    },
    {
     "name": "stderr",
     "output_type": "stream",
     "text": [
      "[I 2024-04-24 10:49:36,972] Trial 61 finished with value: 0.5220849551531562 and parameters: {'booster': 'dart', 'lambda': 0.03200932861306736, 'alpha': 0.005546422519622271, 'max_depth': 8, 'eta': 0.31057116189933287, 'gamma': 0.006059886269543644, 'grow_policy': 'depthwise', 'sample_type': 'uniform', 'normalize_type': 'forest', 'rate_drop': 3.0385619385954704e-05, 'skip_drop': 4.437058611893289e-05}. Best is trial 41 with value: 0.5303773904213911.\n"
     ]
    },
    {
     "name": "stdout",
     "output_type": "stream",
     "text": [
      "[0]\tvalidation-mlogloss:1.26638\n",
      "[1]\tvalidation-mlogloss:1.19680\n",
      "[2]\tvalidation-mlogloss:1.15011\n",
      "[3]\tvalidation-mlogloss:1.11484\n",
      "[4]\tvalidation-mlogloss:1.09262\n",
      "[5]\tvalidation-mlogloss:1.07401\n",
      "[6]\tvalidation-mlogloss:1.06062\n",
      "[7]\tvalidation-mlogloss:1.04916\n",
      "[8]\tvalidation-mlogloss:1.04034\n",
      "[9]\tvalidation-mlogloss:1.03527\n"
     ]
    },
    {
     "name": "stderr",
     "output_type": "stream",
     "text": [
      "[I 2024-04-24 10:49:43,423] Trial 62 finished with value: 0.5234388221357251 and parameters: {'booster': 'dart', 'lambda': 0.18443024305740952, 'alpha': 0.01569046351102426, 'max_depth': 8, 'eta': 0.392000042052988, 'gamma': 0.006815977993143383, 'grow_policy': 'depthwise', 'sample_type': 'uniform', 'normalize_type': 'forest', 'rate_drop': 0.00016086117355024104, 'skip_drop': 0.00017125946612955604}. Best is trial 41 with value: 0.5303773904213911.\n"
     ]
    },
    {
     "name": "stdout",
     "output_type": "stream",
     "text": [
      "[0]\tvalidation-mlogloss:1.38629\n",
      "[1]\tvalidation-mlogloss:1.38629\n",
      "[2]\tvalidation-mlogloss:1.38629\n",
      "[3]\tvalidation-mlogloss:1.38629\n",
      "[4]\tvalidation-mlogloss:1.38629\n",
      "[5]\tvalidation-mlogloss:1.38629\n",
      "[6]\tvalidation-mlogloss:1.38629\n",
      "[7]\tvalidation-mlogloss:1.38629\n",
      "[8]\tvalidation-mlogloss:1.38629\n",
      "[9]\tvalidation-mlogloss:1.38629\n"
     ]
    },
    {
     "name": "stderr",
     "output_type": "stream",
     "text": [
      "[I 2024-04-24 10:49:48,641] Trial 63 finished with value: 0.24521915721780335 and parameters: {'booster': 'dart', 'lambda': 0.10194023229927561, 'alpha': 0.01948718166717031, 'max_depth': 9, 'eta': 1.6127093051921544e-08, 'gamma': 0.0008712696153038798, 'grow_policy': 'depthwise', 'sample_type': 'uniform', 'normalize_type': 'forest', 'rate_drop': 0.0001598758019277233, 'skip_drop': 0.0001466343170955848}. Best is trial 41 with value: 0.5303773904213911.\n"
     ]
    },
    {
     "name": "stdout",
     "output_type": "stream",
     "text": [
      "[0]\tvalidation-mlogloss:1.17576\n",
      "[1]\tvalidation-mlogloss:1.10869\n",
      "[2]\tvalidation-mlogloss:1.07935\n",
      "[3]\tvalidation-mlogloss:1.06681\n",
      "[4]\tvalidation-mlogloss:1.05724\n",
      "[5]\tvalidation-mlogloss:1.05324\n",
      "[6]\tvalidation-mlogloss:1.05072\n",
      "[7]\tvalidation-mlogloss:1.04766\n",
      "[8]\tvalidation-mlogloss:1.04496\n",
      "[9]\tvalidation-mlogloss:1.04529\n"
     ]
    },
    {
     "name": "stderr",
     "output_type": "stream",
     "text": [
      "[I 2024-04-24 10:49:53,444] Trial 64 finished with value: 0.5107463191741412 and parameters: {'booster': 'dart', 'lambda': 0.2678432207674209, 'alpha': 0.07178859418071604, 'max_depth': 7, 'eta': 0.9236132226373959, 'gamma': 0.01104292739695915, 'grow_policy': 'depthwise', 'sample_type': 'uniform', 'normalize_type': 'forest', 'rate_drop': 0.0006044700277905648, 'skip_drop': 0.00021843643002661322}. Best is trial 41 with value: 0.5303773904213911.\n"
     ]
    },
    {
     "name": "stdout",
     "output_type": "stream",
     "text": [
      "[0]\tvalidation-mlogloss:1.32540\n",
      "[1]\tvalidation-mlogloss:1.27801\n",
      "[2]\tvalidation-mlogloss:1.24062\n",
      "[3]\tvalidation-mlogloss:1.21015\n",
      "[4]\tvalidation-mlogloss:1.18445\n",
      "[5]\tvalidation-mlogloss:1.16207\n",
      "[6]\tvalidation-mlogloss:1.14306\n",
      "[7]\tvalidation-mlogloss:1.12593\n",
      "[8]\tvalidation-mlogloss:1.11001\n",
      "[9]\tvalidation-mlogloss:1.09792\n"
     ]
    },
    {
     "name": "stderr",
     "output_type": "stream",
     "text": [
      "[I 2024-04-24 10:50:00,326] Trial 65 finished with value: 0.5176848874598071 and parameters: {'booster': 'dart', 'lambda': 0.494642199316684, 'alpha': 0.014092858049233261, 'max_depth': 9, 'eta': 0.17805270067903517, 'gamma': 0.4476068430932547, 'grow_policy': 'lossguide', 'sample_type': 'uniform', 'normalize_type': 'forest', 'rate_drop': 0.012455798246193975, 'skip_drop': 3.766632002264657e-08}. Best is trial 41 with value: 0.5303773904213911.\n"
     ]
    },
    {
     "name": "stdout",
     "output_type": "stream",
     "text": [
      "[0]\tvalidation-mlogloss:1.23935\n",
      "[1]\tvalidation-mlogloss:1.16566\n",
      "[2]\tvalidation-mlogloss:1.12015\n",
      "[3]\tvalidation-mlogloss:1.09035\n",
      "[4]\tvalidation-mlogloss:1.07226\n",
      "[5]\tvalidation-mlogloss:1.05590\n",
      "[6]\tvalidation-mlogloss:1.04691\n",
      "[7]\tvalidation-mlogloss:1.03935\n",
      "[8]\tvalidation-mlogloss:1.03446\n",
      "[9]\tvalidation-mlogloss:1.03124\n"
     ]
    },
    {
     "name": "stderr",
     "output_type": "stream",
     "text": [
      "[I 2024-04-24 10:50:04,863] Trial 66 finished with value: 0.5202233880521239 and parameters: {'booster': 'dart', 'lambda': 0.15551720034499925, 'alpha': 0.25187940580454443, 'max_depth': 8, 'eta': 0.511915119694174, 'gamma': 0.04222059416699167, 'grow_policy': 'depthwise', 'sample_type': 'uniform', 'normalize_type': 'forest', 'rate_drop': 1.668214967289279e-05, 'skip_drop': 0.0007122118934315532}. Best is trial 41 with value: 0.5303773904213911.\n"
     ]
    },
    {
     "name": "stdout",
     "output_type": "stream",
     "text": [
      "[0]\tvalidation-mlogloss:1.34647\n",
      "[1]\tvalidation-mlogloss:1.31250\n",
      "[2]\tvalidation-mlogloss:1.28381\n",
      "[3]\tvalidation-mlogloss:1.25956\n",
      "[4]\tvalidation-mlogloss:1.23801\n",
      "[5]\tvalidation-mlogloss:1.21745\n",
      "[6]\tvalidation-mlogloss:1.20032\n",
      "[7]\tvalidation-mlogloss:1.18465\n",
      "[8]\tvalidation-mlogloss:1.17119\n",
      "[9]\tvalidation-mlogloss:1.15806\n"
     ]
    },
    {
     "name": "stderr",
     "output_type": "stream",
     "text": [
      "[I 2024-04-24 10:50:09,569] Trial 67 finished with value: 0.5056693179895075 and parameters: {'booster': 'dart', 'lambda': 0.05602369140078617, 'alpha': 0.03885288028628282, 'max_depth': 7, 'eta': 0.12166391589418142, 'gamma': 5.703645255274853e-05, 'grow_policy': 'lossguide', 'sample_type': 'uniform', 'normalize_type': 'forest', 'rate_drop': 0.0018795002418431613, 'skip_drop': 2.089341918854973e-05}. Best is trial 41 with value: 0.5303773904213911.\n"
     ]
    },
    {
     "name": "stdout",
     "output_type": "stream",
     "text": [
      "[0]\tvalidation-mlogloss:1.38056\n",
      "[1]\tvalidation-mlogloss:1.37505\n",
      "[2]\tvalidation-mlogloss:1.36963\n",
      "[3]\tvalidation-mlogloss:1.36426\n",
      "[4]\tvalidation-mlogloss:1.35909\n",
      "[5]\tvalidation-mlogloss:1.35393\n",
      "[6]\tvalidation-mlogloss:1.34899\n",
      "[7]\tvalidation-mlogloss:1.34413\n",
      "[8]\tvalidation-mlogloss:1.33939\n",
      "[9]\tvalidation-mlogloss:1.33477\n"
     ]
    },
    {
     "name": "stderr",
     "output_type": "stream",
     "text": [
      "[I 2024-04-24 10:50:14,169] Trial 68 finished with value: 0.49331528177356576 and parameters: {'booster': 'dart', 'lambda': 4.0542077651181515e-07, 'alpha': 0.13371315209105103, 'max_depth': 9, 'eta': 0.015392929685448963, 'gamma': 0.006166651897033857, 'grow_policy': 'depthwise', 'sample_type': 'uniform', 'normalize_type': 'forest', 'rate_drop': 0.0036365639226955565, 'skip_drop': 5.76563474828906e-06}. Best is trial 41 with value: 0.5303773904213911.\n"
     ]
    },
    {
     "name": "stdout",
     "output_type": "stream",
     "text": [
      "[0]\tvalidation-mlogloss:1.26513\n",
      "[1]\tvalidation-mlogloss:1.22460\n",
      "[2]\tvalidation-mlogloss:1.20664\n",
      "[3]\tvalidation-mlogloss:1.19737\n",
      "[4]\tvalidation-mlogloss:1.19235\n",
      "[5]\tvalidation-mlogloss:1.18944\n",
      "[6]\tvalidation-mlogloss:1.18764\n",
      "[7]\tvalidation-mlogloss:1.18646\n",
      "[8]\tvalidation-mlogloss:1.18565\n",
      "[9]\tvalidation-mlogloss:1.18506\n"
     ]
    },
    {
     "name": "stderr",
     "output_type": "stream",
     "text": [
      "[I 2024-04-24 10:50:17,956] Trial 69 finished with value: 0.41732949737688274 and parameters: {'booster': 'gblinear', 'lambda': 0.5487271943840515, 'alpha': 8.92798171275498e-05}. Best is trial 41 with value: 0.5303773904213911.\n"
     ]
    },
    {
     "name": "stdout",
     "output_type": "stream",
     "text": [
      "[0]\tvalidation-mlogloss:1.28159\n",
      "[1]\tvalidation-mlogloss:1.22497\n",
      "[2]\tvalidation-mlogloss:1.19113\n",
      "[3]\tvalidation-mlogloss:1.16748\n",
      "[4]\tvalidation-mlogloss:1.15140\n",
      "[5]\tvalidation-mlogloss:1.14011\n",
      "[6]\tvalidation-mlogloss:1.13080\n",
      "[7]\tvalidation-mlogloss:1.12385\n",
      "[8]\tvalidation-mlogloss:1.11838\n",
      "[9]\tvalidation-mlogloss:1.11420\n"
     ]
    },
    {
     "name": "stderr",
     "output_type": "stream",
     "text": [
      "[I 2024-04-24 10:50:21,628] Trial 70 finished with value: 0.4818074124217296 and parameters: {'booster': 'gbtree', 'lambda': 0.20247455220546703, 'alpha': 0.002127901306439868, 'max_depth': 2, 'eta': 0.4841254310249428, 'gamma': 1.2156885640016329e-05, 'grow_policy': 'lossguide'}. Best is trial 41 with value: 0.5303773904213911.\n"
     ]
    },
    {
     "name": "stdout",
     "output_type": "stream",
     "text": [
      "[0]\tvalidation-mlogloss:1.30578\n",
      "[1]\tvalidation-mlogloss:1.24982\n",
      "[2]\tvalidation-mlogloss:1.20856\n",
      "[3]\tvalidation-mlogloss:1.17405\n",
      "[4]\tvalidation-mlogloss:1.14747\n",
      "[5]\tvalidation-mlogloss:1.12420\n",
      "[6]\tvalidation-mlogloss:1.10718\n",
      "[7]\tvalidation-mlogloss:1.09165\n",
      "[8]\tvalidation-mlogloss:1.07906\n",
      "[9]\tvalidation-mlogloss:1.06853\n"
     ]
    },
    {
     "name": "stderr",
     "output_type": "stream",
     "text": [
      "[I 2024-04-24 10:50:26,282] Trial 71 finished with value: 0.5195464545608394 and parameters: {'booster': 'dart', 'lambda': 0.021741303129043276, 'alpha': 0.005189696125625368, 'max_depth': 8, 'eta': 0.2466781390546159, 'gamma': 0.005802280473350273, 'grow_policy': 'depthwise', 'sample_type': 'uniform', 'normalize_type': 'forest', 'rate_drop': 5.536996036631198e-05, 'skip_drop': 5.5790264289119526e-05}. Best is trial 41 with value: 0.5303773904213911.\n"
     ]
    },
    {
     "name": "stdout",
     "output_type": "stream",
     "text": [
      "[0]\tvalidation-mlogloss:1.24985\n",
      "[1]\tvalidation-mlogloss:1.17839\n",
      "[2]\tvalidation-mlogloss:1.13075\n",
      "[3]\tvalidation-mlogloss:1.10094\n",
      "[4]\tvalidation-mlogloss:1.08025\n",
      "[5]\tvalidation-mlogloss:1.06489\n",
      "[6]\tvalidation-mlogloss:1.05299\n",
      "[7]\tvalidation-mlogloss:1.04380\n",
      "[8]\tvalidation-mlogloss:1.03843\n",
      "[9]\tvalidation-mlogloss:1.03314\n"
     ]
    },
    {
     "name": "stderr",
     "output_type": "stream",
     "text": [
      "[I 2024-04-24 10:50:30,574] Trial 72 finished with value: 0.5241157556270096 and parameters: {'booster': 'dart', 'lambda': 0.04443212427269246, 'alpha': 0.00913919329232321, 'max_depth': 8, 'eta': 0.4596465115712275, 'gamma': 0.0195452295155891, 'grow_policy': 'depthwise', 'sample_type': 'uniform', 'normalize_type': 'forest', 'rate_drop': 2.4562696211730935e-05, 'skip_drop': 0.00011240817777557406}. Best is trial 41 with value: 0.5303773904213911.\n"
     ]
    },
    {
     "name": "stdout",
     "output_type": "stream",
     "text": [
      "[0]\tvalidation-mlogloss:1.23055\n",
      "[1]\tvalidation-mlogloss:1.15105\n",
      "[2]\tvalidation-mlogloss:1.10706\n",
      "[3]\tvalidation-mlogloss:1.07912\n",
      "[4]\tvalidation-mlogloss:1.05958\n",
      "[5]\tvalidation-mlogloss:1.04434\n",
      "[6]\tvalidation-mlogloss:1.03567\n",
      "[7]\tvalidation-mlogloss:1.02884\n",
      "[8]\tvalidation-mlogloss:1.02355\n",
      "[9]\tvalidation-mlogloss:1.02190\n"
     ]
    },
    {
     "name": "stderr",
     "output_type": "stream",
     "text": [
      "[I 2024-04-24 10:50:35,134] Trial 73 finished with value: 0.5278388898290743 and parameters: {'booster': 'dart', 'lambda': 0.013628988029667626, 'alpha': 0.010254351917532177, 'max_depth': 9, 'eta': 0.5391031829473951, 'gamma': 0.016057132890016, 'grow_policy': 'depthwise', 'sample_type': 'uniform', 'normalize_type': 'forest', 'rate_drop': 8.932754240834678e-06, 'skip_drop': 0.0001216280639411461}. Best is trial 41 with value: 0.5303773904213911.\n"
     ]
    },
    {
     "name": "stdout",
     "output_type": "stream",
     "text": [
      "[0]\tvalidation-mlogloss:1.22784\n",
      "[1]\tvalidation-mlogloss:1.15116\n",
      "[2]\tvalidation-mlogloss:1.11036\n",
      "[3]\tvalidation-mlogloss:1.08589\n",
      "[4]\tvalidation-mlogloss:1.06702\n",
      "[5]\tvalidation-mlogloss:1.05505\n",
      "[6]\tvalidation-mlogloss:1.04568\n",
      "[7]\tvalidation-mlogloss:1.04108\n",
      "[8]\tvalidation-mlogloss:1.03872\n",
      "[9]\tvalidation-mlogloss:1.03652\n"
     ]
    },
    {
     "name": "stderr",
     "output_type": "stream",
     "text": [
      "[I 2024-04-24 10:50:39,648] Trial 74 finished with value: 0.5168387205957015 and parameters: {'booster': 'dart', 'lambda': 0.003115238816625333, 'alpha': 0.011166029258028454, 'max_depth': 8, 'eta': 0.5629529916188823, 'gamma': 0.02005570040070551, 'grow_policy': 'depthwise', 'sample_type': 'uniform', 'normalize_type': 'forest', 'rate_drop': 5.5246529993174655e-06, 'skip_drop': 0.00040328269044697}. Best is trial 41 with value: 0.5303773904213911.\n"
     ]
    },
    {
     "name": "stdout",
     "output_type": "stream",
     "text": [
      "[0]\tvalidation-mlogloss:1.33854\n",
      "[1]\tvalidation-mlogloss:1.29913\n",
      "[2]\tvalidation-mlogloss:1.26685\n",
      "[3]\tvalidation-mlogloss:1.23934\n",
      "[4]\tvalidation-mlogloss:1.21540\n",
      "[5]\tvalidation-mlogloss:1.19461\n",
      "[6]\tvalidation-mlogloss:1.17512\n",
      "[7]\tvalidation-mlogloss:1.15804\n",
      "[8]\tvalidation-mlogloss:1.14368\n",
      "[9]\tvalidation-mlogloss:1.12993\n"
     ]
    },
    {
     "name": "stderr",
     "output_type": "stream",
     "text": [
      "[I 2024-04-24 10:50:44,407] Trial 75 finished with value: 0.5154848536131325 and parameters: {'booster': 'dart', 'lambda': 0.0014959846684172472, 'alpha': 0.0011579939117880933, 'max_depth': 9, 'eta': 0.13565337528271382, 'gamma': 0.1407582338717099, 'grow_policy': 'depthwise', 'sample_type': 'uniform', 'normalize_type': 'forest', 'rate_drop': 1.998284096125403e-05, 'skip_drop': 0.00012440756893061526}. Best is trial 41 with value: 0.5303773904213911.\n"
     ]
    },
    {
     "name": "stdout",
     "output_type": "stream",
     "text": [
      "[0]\tvalidation-mlogloss:1.17182\n",
      "[1]\tvalidation-mlogloss:1.10203\n",
      "[2]\tvalidation-mlogloss:1.07889\n",
      "[3]\tvalidation-mlogloss:1.06553\n",
      "[4]\tvalidation-mlogloss:1.05640\n",
      "[5]\tvalidation-mlogloss:1.05535\n",
      "[6]\tvalidation-mlogloss:1.05569\n",
      "[7]\tvalidation-mlogloss:1.05675\n",
      "[8]\tvalidation-mlogloss:1.06267\n",
      "[9]\tvalidation-mlogloss:1.05745\n"
     ]
    },
    {
     "name": "stderr",
     "output_type": "stream",
     "text": [
      "[I 2024-04-24 10:50:48,847] Trial 76 finished with value: 0.5088847520731088 and parameters: {'booster': 'dart', 'lambda': 0.010820934171562626, 'alpha': 0.02823257850465471, 'max_depth': 8, 'eta': 0.9268773928345815, 'gamma': 0.002111871018895027, 'grow_policy': 'depthwise', 'sample_type': 'uniform', 'normalize_type': 'forest', 'rate_drop': 2.6227905142347927e-06, 'skip_drop': 0.0020046740656100032}. Best is trial 41 with value: 0.5303773904213911.\n"
     ]
    },
    {
     "name": "stdout",
     "output_type": "stream",
     "text": [
      "[0]\tvalidation-mlogloss:1.36431\n",
      "[1]\tvalidation-mlogloss:1.34431\n",
      "[2]\tvalidation-mlogloss:1.32586\n",
      "[3]\tvalidation-mlogloss:1.30884\n",
      "[4]\tvalidation-mlogloss:1.29303\n",
      "[5]\tvalidation-mlogloss:1.27879\n",
      "[6]\tvalidation-mlogloss:1.26541\n",
      "[7]\tvalidation-mlogloss:1.25291\n",
      "[8]\tvalidation-mlogloss:1.24123\n",
      "[9]\tvalidation-mlogloss:1.23052\n"
     ]
    },
    {
     "name": "stderr",
     "output_type": "stream",
     "text": [
      "[I 2024-04-24 10:50:53,355] Trial 77 finished with value: 0.5033000507700118 and parameters: {'booster': 'dart', 'lambda': 0.004238164842267858, 'alpha': 0.003477614005172817, 'max_depth': 9, 'eta': 0.060325401926508024, 'gamma': 0.011324516902968148, 'grow_policy': 'depthwise', 'sample_type': 'uniform', 'normalize_type': 'forest', 'rate_drop': 0.00011946380803599516, 'skip_drop': 0.0004877083347077182}. Best is trial 41 with value: 0.5303773904213911.\n"
     ]
    },
    {
     "name": "stdout",
     "output_type": "stream",
     "text": [
      "[0]\tvalidation-mlogloss:1.38605\n",
      "[1]\tvalidation-mlogloss:1.38581\n",
      "[2]\tvalidation-mlogloss:1.38557\n",
      "[3]\tvalidation-mlogloss:1.38533\n",
      "[4]\tvalidation-mlogloss:1.38509\n",
      "[5]\tvalidation-mlogloss:1.38485\n",
      "[6]\tvalidation-mlogloss:1.38461\n",
      "[7]\tvalidation-mlogloss:1.38437\n",
      "[8]\tvalidation-mlogloss:1.38412\n",
      "[9]\tvalidation-mlogloss:1.38388\n"
     ]
    },
    {
     "name": "stderr",
     "output_type": "stream",
     "text": [
      "[I 2024-04-24 10:50:57,736] Trial 78 finished with value: 0.48586901336943644 and parameters: {'booster': 'dart', 'lambda': 0.04039626561981433, 'alpha': 0.007593488555952024, 'max_depth': 7, 'eta': 0.000706560109431044, 'gamma': 0.029071765086741207, 'grow_policy': 'depthwise', 'sample_type': 'weighted', 'normalize_type': 'tree', 'rate_drop': 1.0383485268918118e-05, 'skip_drop': 0.043728854576191516}. Best is trial 41 with value: 0.5303773904213911.\n"
     ]
    },
    {
     "name": "stdout",
     "output_type": "stream",
     "text": [
      "[0]\tvalidation-mlogloss:1.32587\n",
      "[1]\tvalidation-mlogloss:1.27943\n",
      "[2]\tvalidation-mlogloss:1.24267\n",
      "[3]\tvalidation-mlogloss:1.21167\n",
      "[4]\tvalidation-mlogloss:1.18612\n",
      "[5]\tvalidation-mlogloss:1.16460\n",
      "[6]\tvalidation-mlogloss:1.14608\n",
      "[7]\tvalidation-mlogloss:1.12963\n",
      "[8]\tvalidation-mlogloss:1.11512\n",
      "[9]\tvalidation-mlogloss:1.10322\n"
     ]
    },
    {
     "name": "stderr",
     "output_type": "stream",
     "text": [
      "[I 2024-04-24 10:51:02,236] Trial 79 finished with value: 0.5124386529023524 and parameters: {'booster': 'dart', 'lambda': 0.0986514385630631, 'alpha': 0.022718697440299203, 'max_depth': 8, 'eta': 0.18000046355564533, 'gamma': 0.05452166136351508, 'grow_policy': 'depthwise', 'sample_type': 'uniform', 'normalize_type': 'forest', 'rate_drop': 6.264416613396752e-07, 'skip_drop': 0.00022291624004078795}. Best is trial 41 with value: 0.5303773904213911.\n"
     ]
    },
    {
     "name": "stdout",
     "output_type": "stream",
     "text": [
      "[0]\tvalidation-mlogloss:1.38629\n",
      "[1]\tvalidation-mlogloss:1.38629\n",
      "[2]\tvalidation-mlogloss:1.38629\n",
      "[3]\tvalidation-mlogloss:1.38629\n",
      "[4]\tvalidation-mlogloss:1.38629\n",
      "[5]\tvalidation-mlogloss:1.38629\n",
      "[6]\tvalidation-mlogloss:1.38629\n",
      "[7]\tvalidation-mlogloss:1.38629\n",
      "[8]\tvalidation-mlogloss:1.38629\n",
      "[9]\tvalidation-mlogloss:1.38629\n"
     ]
    },
    {
     "name": "stderr",
     "output_type": "stream",
     "text": [
      "[I 2024-04-24 10:51:06,838] Trial 80 finished with value: 0.4860382467422576 and parameters: {'booster': 'dart', 'lambda': 0.019367767949687312, 'alpha': 0.012528568968813868, 'max_depth': 9, 'eta': 1.4121083834931665e-06, 'gamma': 0.10050696409971094, 'grow_policy': 'depthwise', 'sample_type': 'uniform', 'normalize_type': 'forest', 'rate_drop': 0.0002124375453382496, 'skip_drop': 0.009403967179845547}. Best is trial 41 with value: 0.5303773904213911.\n"
     ]
    },
    {
     "name": "stdout",
     "output_type": "stream",
     "text": [
      "[0]\tvalidation-mlogloss:1.22925\n",
      "[1]\tvalidation-mlogloss:1.15119\n",
      "[2]\tvalidation-mlogloss:1.10972\n",
      "[3]\tvalidation-mlogloss:1.08131\n",
      "[4]\tvalidation-mlogloss:1.06022\n",
      "[5]\tvalidation-mlogloss:1.04574\n",
      "[6]\tvalidation-mlogloss:1.03568\n",
      "[7]\tvalidation-mlogloss:1.02821\n",
      "[8]\tvalidation-mlogloss:1.02459\n",
      "[9]\tvalidation-mlogloss:1.02112\n"
     ]
    },
    {
     "name": "stderr",
     "output_type": "stream",
     "text": [
      "[I 2024-04-24 10:51:12,618] Trial 81 finished with value: 0.5298696903029277 and parameters: {'booster': 'dart', 'lambda': 0.1933539535880471, 'alpha': 0.05313273638918631, 'max_depth': 9, 'eta': 0.5438307963352309, 'gamma': 0.0043555624596559135, 'grow_policy': 'lossguide', 'sample_type': 'uniform', 'normalize_type': 'forest', 'rate_drop': 6.176929384502386e-05, 'skip_drop': 1.3171901371179905e-05}. Best is trial 41 with value: 0.5303773904213911.\n"
     ]
    },
    {
     "name": "stdout",
     "output_type": "stream",
     "text": [
      "[0]\tvalidation-mlogloss:1.16384\n",
      "[1]\tvalidation-mlogloss:1.10065\n",
      "[2]\tvalidation-mlogloss:1.07775\n",
      "[3]\tvalidation-mlogloss:1.06729\n",
      "[4]\tvalidation-mlogloss:1.06640\n",
      "[5]\tvalidation-mlogloss:1.06682\n",
      "[6]\tvalidation-mlogloss:1.06897\n",
      "[7]\tvalidation-mlogloss:1.07411\n",
      "[8]\tvalidation-mlogloss:1.07569\n",
      "[9]\tvalidation-mlogloss:1.08104\n"
     ]
    },
    {
     "name": "stderr",
     "output_type": "stream",
     "text": [
      "[I 2024-04-24 10:51:17,753] Trial 82 finished with value: 0.5122694195295312 and parameters: {'booster': 'dart', 'lambda': 0.061777346869717954, 'alpha': 0.06571532166399449, 'max_depth': 9, 'eta': 0.9989296645994381, 'gamma': 0.0013142004042442674, 'grow_policy': 'lossguide', 'sample_type': 'uniform', 'normalize_type': 'forest', 'rate_drop': 6.174446105983247e-05, 'skip_drop': 1.40268707476644e-05}. Best is trial 41 with value: 0.5303773904213911.\n"
     ]
    },
    {
     "name": "stdout",
     "output_type": "stream",
     "text": [
      "[0]\tvalidation-mlogloss:1.26434\n",
      "[1]\tvalidation-mlogloss:1.19506\n",
      "[2]\tvalidation-mlogloss:1.14798\n",
      "[3]\tvalidation-mlogloss:1.11399\n",
      "[4]\tvalidation-mlogloss:1.08891\n",
      "[5]\tvalidation-mlogloss:1.07229\n",
      "[6]\tvalidation-mlogloss:1.05763\n",
      "[7]\tvalidation-mlogloss:1.04551\n",
      "[8]\tvalidation-mlogloss:1.03665\n",
      "[9]\tvalidation-mlogloss:1.02869\n"
     ]
    },
    {
     "name": "stderr",
     "output_type": "stream",
     "text": [
      "[I 2024-04-24 10:51:23,507] Trial 83 finished with value: 0.5273311897106109 and parameters: {'booster': 'dart', 'lambda': 0.21066852030522745, 'alpha': 0.045685694113151216, 'max_depth': 9, 'eta': 0.3907907418957064, 'gamma': 0.016282891801430967, 'grow_policy': 'lossguide', 'sample_type': 'uniform', 'normalize_type': 'forest', 'rate_drop': 2.8422360108054734e-05, 'skip_drop': 8.885616757184926e-05}. Best is trial 41 with value: 0.5303773904213911.\n"
     ]
    },
    {
     "name": "stdout",
     "output_type": "stream",
     "text": [
      "[0]\tvalidation-mlogloss:1.26785\n",
      "[1]\tvalidation-mlogloss:1.19892\n",
      "[2]\tvalidation-mlogloss:1.15078\n",
      "[3]\tvalidation-mlogloss:1.11729\n",
      "[4]\tvalidation-mlogloss:1.09270\n",
      "[5]\tvalidation-mlogloss:1.07418\n",
      "[6]\tvalidation-mlogloss:1.06151\n",
      "[7]\tvalidation-mlogloss:1.04827\n",
      "[8]\tvalidation-mlogloss:1.03770\n",
      "[9]\tvalidation-mlogloss:1.02968\n"
     ]
    },
    {
     "name": "stderr",
     "output_type": "stream",
     "text": [
      "[I 2024-04-24 10:51:29,267] Trial 84 finished with value: 0.5236080555085463 and parameters: {'booster': 'dart', 'lambda': 0.015901579326603178, 'alpha': 0.04528082378793405, 'max_depth': 9, 'eta': 0.3747454622405919, 'gamma': 0.015474899652114113, 'grow_policy': 'lossguide', 'sample_type': 'uniform', 'normalize_type': 'forest', 'rate_drop': 4.269727289887298e-06, 'skip_drop': 2.779691449263678e-05}. Best is trial 41 with value: 0.5303773904213911.\n"
     ]
    },
    {
     "name": "stdout",
     "output_type": "stream",
     "text": [
      "[0]\tvalidation-mlogloss:1.35170\n",
      "[1]\tvalidation-mlogloss:1.32149\n",
      "[2]\tvalidation-mlogloss:1.29536\n",
      "[3]\tvalidation-mlogloss:1.27295\n",
      "[4]\tvalidation-mlogloss:1.25283\n",
      "[5]\tvalidation-mlogloss:1.23434\n",
      "[6]\tvalidation-mlogloss:1.21725\n",
      "[7]\tvalidation-mlogloss:1.20205\n",
      "[8]\tvalidation-mlogloss:1.18742\n",
      "[9]\tvalidation-mlogloss:1.17390\n"
     ]
    },
    {
     "name": "stderr",
     "output_type": "stream",
     "text": [
      "[I 2024-04-24 10:51:35,164] Trial 85 finished with value: 0.5078693518361821 and parameters: {'booster': 'dart', 'lambda': 0.006728658670085646, 'alpha': 0.10940054081493733, 'max_depth': 9, 'eta': 0.09585102276798009, 'gamma': 0.002912709168812629, 'grow_policy': 'lossguide', 'sample_type': 'uniform', 'normalize_type': 'forest', 'rate_drop': 5.196896354991368e-06, 'skip_drop': 2.6372097354991135e-05}. Best is trial 41 with value: 0.5303773904213911.\n"
     ]
    },
    {
     "name": "stdout",
     "output_type": "stream",
     "text": [
      "[0]\tvalidation-mlogloss:1.31348\n",
      "[1]\tvalidation-mlogloss:1.25983\n",
      "[2]\tvalidation-mlogloss:1.21998\n",
      "[3]\tvalidation-mlogloss:1.18515\n",
      "[4]\tvalidation-mlogloss:1.15788\n",
      "[5]\tvalidation-mlogloss:1.13510\n",
      "[6]\tvalidation-mlogloss:1.11493\n",
      "[7]\tvalidation-mlogloss:1.09917\n",
      "[8]\tvalidation-mlogloss:1.08537\n",
      "[9]\tvalidation-mlogloss:1.07400\n"
     ]
    },
    {
     "name": "stderr",
     "output_type": "stream",
     "text": [
      "[I 2024-04-24 10:51:43,615] Trial 86 finished with value: 0.5268234895921475 and parameters: {'booster': 'dart', 'lambda': 0.014064944332834641, 'alpha': 0.04353900620402544, 'max_depth': 9, 'eta': 0.21342077068822296, 'gamma': 0.01844119892810749, 'grow_policy': 'lossguide', 'sample_type': 'uniform', 'normalize_type': 'forest', 'rate_drop': 2.1886411310977892e-05, 'skip_drop': 7.364346188430764e-05}. Best is trial 41 with value: 0.5303773904213911.\n"
     ]
    },
    {
     "name": "stdout",
     "output_type": "stream",
     "text": [
      "[0]\tvalidation-mlogloss:1.33354\n",
      "[1]\tvalidation-mlogloss:1.29253\n",
      "[2]\tvalidation-mlogloss:1.25931\n",
      "[3]\tvalidation-mlogloss:1.23096\n",
      "[4]\tvalidation-mlogloss:1.20870\n",
      "[5]\tvalidation-mlogloss:1.18872\n",
      "[6]\tvalidation-mlogloss:1.17215\n",
      "[7]\tvalidation-mlogloss:1.15808\n",
      "[8]\tvalidation-mlogloss:1.14626\n",
      "[9]\tvalidation-mlogloss:1.13560\n"
     ]
    },
    {
     "name": "stderr",
     "output_type": "stream",
     "text": [
      "[I 2024-04-24 10:51:48,033] Trial 87 finished with value: 0.4944999153833136 and parameters: {'booster': 'dart', 'lambda': 0.042866192742613815, 'alpha': 0.1672315709746112, 'max_depth': 5, 'eta': 0.18221761387958316, 'gamma': 0.28116344998359283, 'grow_policy': 'lossguide', 'sample_type': 'uniform', 'normalize_type': 'forest', 'rate_drop': 2.520129529124402e-05, 'skip_drop': 9.275863287546753e-06}. Best is trial 41 with value: 0.5303773904213911.\n"
     ]
    },
    {
     "name": "stdout",
     "output_type": "stream",
     "text": [
      "[0]\tvalidation-mlogloss:1.37654\n",
      "[1]\tvalidation-mlogloss:1.36723\n",
      "[2]\tvalidation-mlogloss:1.35830\n",
      "[3]\tvalidation-mlogloss:1.34978\n",
      "[4]\tvalidation-mlogloss:1.34160\n",
      "[5]\tvalidation-mlogloss:1.33372\n",
      "[6]\tvalidation-mlogloss:1.32619\n",
      "[7]\tvalidation-mlogloss:1.31887\n",
      "[8]\tvalidation-mlogloss:1.31200\n",
      "[9]\tvalidation-mlogloss:1.30541\n"
     ]
    },
    {
     "name": "stderr",
     "output_type": "stream",
     "text": [
      "[I 2024-04-24 10:51:52,033] Trial 88 finished with value: 0.4680995092232188 and parameters: {'booster': 'gbtree', 'lambda': 0.026998676542504894, 'alpha': 0.030255500797354094, 'max_depth': 4, 'eta': 0.03362239663397062, 'gamma': 0.03512151994012681, 'grow_policy': 'lossguide'}. Best is trial 41 with value: 0.5303773904213911.\n"
     ]
    },
    {
     "name": "stdout",
     "output_type": "stream",
     "text": [
      "[0]\tvalidation-mlogloss:1.22384\n",
      "[1]\tvalidation-mlogloss:1.14677\n",
      "[2]\tvalidation-mlogloss:1.10723\n",
      "[3]\tvalidation-mlogloss:1.08064\n",
      "[4]\tvalidation-mlogloss:1.06272\n",
      "[5]\tvalidation-mlogloss:1.04995\n",
      "[6]\tvalidation-mlogloss:1.03937\n",
      "[7]\tvalidation-mlogloss:1.03333\n",
      "[8]\tvalidation-mlogloss:1.03008\n",
      "[9]\tvalidation-mlogloss:1.02603\n"
     ]
    },
    {
     "name": "stderr",
     "output_type": "stream",
     "text": [
      "[I 2024-04-24 10:51:57,722] Trial 89 finished with value: 0.5227618886444407 and parameters: {'booster': 'dart', 'lambda': 0.08282887682251902, 'alpha': 0.34359372185327475, 'max_depth': 9, 'eta': 0.571848408669632, 'gamma': 0.02331665034079382, 'grow_policy': 'lossguide', 'sample_type': 'uniform', 'normalize_type': 'forest', 'rate_drop': 1.3171857890796357e-05, 'skip_drop': 2.6520740789991137e-06}. Best is trial 41 with value: 0.5303773904213911.\n"
     ]
    },
    {
     "name": "stdout",
     "output_type": "stream",
     "text": [
      "[0]\tvalidation-mlogloss:1.28849\n",
      "[1]\tvalidation-mlogloss:1.24838\n",
      "[2]\tvalidation-mlogloss:1.22892\n",
      "[3]\tvalidation-mlogloss:1.21873\n",
      "[4]\tvalidation-mlogloss:1.21311\n",
      "[5]\tvalidation-mlogloss:1.20984\n",
      "[6]\tvalidation-mlogloss:1.20782\n",
      "[7]\tvalidation-mlogloss:1.20650\n",
      "[8]\tvalidation-mlogloss:1.20558\n",
      "[9]\tvalidation-mlogloss:1.20492\n"
     ]
    },
    {
     "name": "stderr",
     "output_type": "stream",
     "text": [
      "[I 2024-04-24 10:52:00,885] Trial 90 finished with value: 0.389575224234219 and parameters: {'booster': 'gblinear', 'lambda': 0.010207496803215149, 'alpha': 0.05060976393497783}. Best is trial 41 with value: 0.5303773904213911.\n"
     ]
    },
    {
     "name": "stdout",
     "output_type": "stream",
     "text": [
      "[0]\tvalidation-mlogloss:1.28794\n",
      "[1]\tvalidation-mlogloss:1.22387\n",
      "[2]\tvalidation-mlogloss:1.17907\n",
      "[3]\tvalidation-mlogloss:1.14404\n",
      "[4]\tvalidation-mlogloss:1.11552\n",
      "[5]\tvalidation-mlogloss:1.09372\n",
      "[6]\tvalidation-mlogloss:1.07769\n",
      "[7]\tvalidation-mlogloss:1.06517\n",
      "[8]\tvalidation-mlogloss:1.05372\n",
      "[9]\tvalidation-mlogloss:1.04316\n"
     ]
    },
    {
     "name": "stderr",
     "output_type": "stream",
     "text": [
      "[I 2024-04-24 10:52:06,090] Trial 91 finished with value: 0.5268234895921475 and parameters: {'booster': 'dart', 'lambda': 0.016840575266104243, 'alpha': 0.04565975906026912, 'max_depth': 9, 'eta': 0.3001625775242162, 'gamma': 0.013625745019404552, 'grow_policy': 'lossguide', 'sample_type': 'uniform', 'normalize_type': 'forest', 'rate_drop': 1.6344630971039342e-06, 'skip_drop': 7.742292219525666e-05}. Best is trial 41 with value: 0.5303773904213911.\n"
     ]
    },
    {
     "name": "stdout",
     "output_type": "stream",
     "text": [
      "[0]\tvalidation-mlogloss:1.30674\n",
      "[1]\tvalidation-mlogloss:1.24958\n",
      "[2]\tvalidation-mlogloss:1.20862\n",
      "[3]\tvalidation-mlogloss:1.17215\n",
      "[4]\tvalidation-mlogloss:1.14506\n",
      "[5]\tvalidation-mlogloss:1.12294\n",
      "[6]\tvalidation-mlogloss:1.10446\n",
      "[7]\tvalidation-mlogloss:1.08907\n",
      "[8]\tvalidation-mlogloss:1.07620\n",
      "[9]\tvalidation-mlogloss:1.06501\n"
     ]
    },
    {
     "name": "stderr",
     "output_type": "stream",
     "text": [
      "[I 2024-04-24 10:52:11,786] Trial 92 finished with value: 0.5254696226095786 and parameters: {'booster': 'dart', 'lambda': 0.005184443487543766, 'alpha': 0.09318481789034493, 'max_depth': 9, 'eta': 0.2337479842767133, 'gamma': 0.008338293114041884, 'grow_policy': 'lossguide', 'sample_type': 'uniform', 'normalize_type': 'forest', 'rate_drop': 3.625383236779063e-05, 'skip_drop': 8.164065984278204e-05}. Best is trial 41 with value: 0.5303773904213911.\n"
     ]
    },
    {
     "name": "stdout",
     "output_type": "stream",
     "text": [
      "[0]\tvalidation-mlogloss:1.30745\n",
      "[1]\tvalidation-mlogloss:1.25061\n",
      "[2]\tvalidation-mlogloss:1.20978\n",
      "[3]\tvalidation-mlogloss:1.17299\n",
      "[4]\tvalidation-mlogloss:1.14567\n",
      "[5]\tvalidation-mlogloss:1.12467\n",
      "[6]\tvalidation-mlogloss:1.10534\n",
      "[7]\tvalidation-mlogloss:1.08969\n",
      "[8]\tvalidation-mlogloss:1.07703\n",
      "[9]\tvalidation-mlogloss:1.06511\n"
     ]
    },
    {
     "name": "stderr",
     "output_type": "stream",
     "text": [
      "[I 2024-04-24 10:52:17,056] Trial 93 finished with value: 0.5269927229649687 and parameters: {'booster': 'dart', 'lambda': 0.0005632314049545035, 'alpha': 0.09137244368124645, 'max_depth': 9, 'eta': 0.23170317089452608, 'gamma': 0.010384230535077987, 'grow_policy': 'lossguide', 'sample_type': 'uniform', 'normalize_type': 'forest', 'rate_drop': 3.483714276389654e-05, 'skip_drop': 6.27786855029033e-05}. Best is trial 41 with value: 0.5303773904213911.\n"
     ]
    },
    {
     "name": "stdout",
     "output_type": "stream",
     "text": [
      "[0]\tvalidation-mlogloss:1.30967\n",
      "[1]\tvalidation-mlogloss:1.25402\n",
      "[2]\tvalidation-mlogloss:1.21331\n",
      "[3]\tvalidation-mlogloss:1.17824\n",
      "[4]\tvalidation-mlogloss:1.15134\n",
      "[5]\tvalidation-mlogloss:1.12927\n",
      "[6]\tvalidation-mlogloss:1.11033\n",
      "[7]\tvalidation-mlogloss:1.09236\n",
      "[8]\tvalidation-mlogloss:1.08020\n",
      "[9]\tvalidation-mlogloss:1.06875\n"
     ]
    },
    {
     "name": "stderr",
     "output_type": "stream",
     "text": [
      "[I 2024-04-24 10:52:22,461] Trial 94 finished with value: 0.5249619224911153 and parameters: {'booster': 'dart', 'lambda': 0.0013537259171697666, 'alpha': 0.0848529107141644, 'max_depth': 9, 'eta': 0.2245811839783248, 'gamma': 0.007787340259266266, 'grow_policy': 'lossguide', 'sample_type': 'uniform', 'normalize_type': 'forest', 'rate_drop': 3.743067673193127e-05, 'skip_drop': 7.435082283552228e-05}. Best is trial 41 with value: 0.5303773904213911.\n"
     ]
    },
    {
     "name": "stdout",
     "output_type": "stream",
     "text": [
      "[0]\tvalidation-mlogloss:1.34174\n",
      "[1]\tvalidation-mlogloss:1.30469\n",
      "[2]\tvalidation-mlogloss:1.27392\n",
      "[3]\tvalidation-mlogloss:1.24750\n",
      "[4]\tvalidation-mlogloss:1.22478\n",
      "[5]\tvalidation-mlogloss:1.20374\n",
      "[6]\tvalidation-mlogloss:1.18610\n",
      "[7]\tvalidation-mlogloss:1.16888\n",
      "[8]\tvalidation-mlogloss:1.15383\n",
      "[9]\tvalidation-mlogloss:1.14029\n"
     ]
    },
    {
     "name": "stderr",
     "output_type": "stream",
     "text": [
      "[I 2024-04-24 10:52:27,812] Trial 95 finished with value: 0.5129463530208157 and parameters: {'booster': 'dart', 'lambda': 0.0004984553938862483, 'alpha': 0.10569964077823724, 'max_depth': 9, 'eta': 0.12468705655236619, 'gamma': 0.011016236067844564, 'grow_policy': 'lossguide', 'sample_type': 'uniform', 'normalize_type': 'forest', 'rate_drop': 4.0012386145865414e-05, 'skip_drop': 7.905683104537477e-05}. Best is trial 41 with value: 0.5303773904213911.\n"
     ]
    },
    {
     "name": "stdout",
     "output_type": "stream",
     "text": [
      "[0]\tvalidation-mlogloss:1.35793\n",
      "[1]\tvalidation-mlogloss:1.33243\n",
      "[2]\tvalidation-mlogloss:1.31027\n",
      "[3]\tvalidation-mlogloss:1.28999\n",
      "[4]\tvalidation-mlogloss:1.27163\n",
      "[5]\tvalidation-mlogloss:1.25487\n",
      "[6]\tvalidation-mlogloss:1.23979\n",
      "[7]\tvalidation-mlogloss:1.22567\n",
      "[8]\tvalidation-mlogloss:1.21249\n",
      "[9]\tvalidation-mlogloss:1.20052\n"
     ]
    },
    {
     "name": "stderr",
     "output_type": "stream",
     "text": [
      "[I 2024-04-24 10:52:33,228] Trial 96 finished with value: 0.5041462176341175 and parameters: {'booster': 'dart', 'lambda': 0.0012704990691215564, 'alpha': 0.20339186189866332, 'max_depth': 9, 'eta': 0.07869335466798281, 'gamma': 0.04972919990378132, 'grow_policy': 'lossguide', 'sample_type': 'uniform', 'normalize_type': 'forest', 'rate_drop': 7.848780171321992e-05, 'skip_drop': 1.4371110793147851e-05}. Best is trial 41 with value: 0.5303773904213911.\n"
     ]
    },
    {
     "name": "stdout",
     "output_type": "stream",
     "text": [
      "[0]\tvalidation-mlogloss:1.36622\n",
      "[1]\tvalidation-mlogloss:1.34769\n",
      "[2]\tvalidation-mlogloss:1.33086\n",
      "[3]\tvalidation-mlogloss:1.31482\n",
      "[4]\tvalidation-mlogloss:1.30020\n",
      "[5]\tvalidation-mlogloss:1.28647\n",
      "[6]\tvalidation-mlogloss:1.27361\n",
      "[7]\tvalidation-mlogloss:1.26170\n",
      "[8]\tvalidation-mlogloss:1.25026\n",
      "[9]\tvalidation-mlogloss:1.23990\n"
     ]
    },
    {
     "name": "stderr",
     "output_type": "stream",
     "text": [
      "[I 2024-04-24 10:52:38,523] Trial 97 finished with value: 0.5005923168048739 and parameters: {'booster': 'dart', 'lambda': 0.00010810257299516912, 'alpha': 0.6018014442741938, 'max_depth': 9, 'eta': 0.05594784005715283, 'gamma': 0.004684035278722053, 'grow_policy': 'lossguide', 'sample_type': 'weighted', 'normalize_type': 'tree', 'rate_drop': 2.152001591226388e-07, 'skip_drop': 0.0012139298812555107}. Best is trial 41 with value: 0.5303773904213911.\n"
     ]
    },
    {
     "name": "stdout",
     "output_type": "stream",
     "text": [
      "[0]\tvalidation-mlogloss:1.32234\n",
      "[1]\tvalidation-mlogloss:1.27332\n",
      "[2]\tvalidation-mlogloss:1.23571\n",
      "[3]\tvalidation-mlogloss:1.20484\n",
      "[4]\tvalidation-mlogloss:1.17729\n",
      "[5]\tvalidation-mlogloss:1.15341\n",
      "[6]\tvalidation-mlogloss:1.13465\n",
      "[7]\tvalidation-mlogloss:1.11807\n",
      "[8]\tvalidation-mlogloss:1.10339\n",
      "[9]\tvalidation-mlogloss:1.09071\n"
     ]
    },
    {
     "name": "stderr",
     "output_type": "stream",
     "text": [
      "[I 2024-04-24 10:52:43,935] Trial 98 finished with value: 0.5153156202403114 and parameters: {'booster': 'dart', 'lambda': 0.0008656241412472253, 'alpha': 0.33410083005052105, 'max_depth': 9, 'eta': 0.18660356123325278, 'gamma': 0.008333874575128427, 'grow_policy': 'lossguide', 'sample_type': 'uniform', 'normalize_type': 'forest', 'rate_drop': 2.0191825944571863e-06, 'skip_drop': 0.00036122470880767683}. Best is trial 41 with value: 0.5303773904213911.\n"
     ]
    },
    {
     "name": "stdout",
     "output_type": "stream",
     "text": [
      "[0]\tvalidation-mlogloss:1.30942\n",
      "[1]\tvalidation-mlogloss:1.25364\n",
      "[2]\tvalidation-mlogloss:1.21298\n",
      "[3]\tvalidation-mlogloss:1.17796\n",
      "[4]\tvalidation-mlogloss:1.15046\n",
      "[5]\tvalidation-mlogloss:1.12867\n",
      "[6]\tvalidation-mlogloss:1.10879\n",
      "[7]\tvalidation-mlogloss:1.09237\n",
      "[8]\tvalidation-mlogloss:1.07741\n",
      "[9]\tvalidation-mlogloss:1.06507\n"
     ]
    },
    {
     "name": "stderr",
     "output_type": "stream",
     "text": [
      "[I 2024-04-24 10:52:49,123] Trial 99 finished with value: 0.5242849889998308 and parameters: {'booster': 'dart', 'lambda': 0.00039083131748541725, 'alpha': 0.08425410064821144, 'max_depth': 9, 'eta': 0.22537584820248244, 'gamma': 0.0163833679285645, 'grow_policy': 'lossguide', 'sample_type': 'uniform', 'normalize_type': 'forest', 'rate_drop': 1.2037461444325678e-06, 'skip_drop': 8.422520943338212e-05}. Best is trial 41 with value: 0.5303773904213911.\n"
     ]
    },
    {
     "name": "stdout",
     "output_type": "stream",
     "text": [
      "Best trial: {'booster': 'dart', 'lambda': 0.03943562312835868, 'alpha': 0.03236588506740903, 'max_depth': 9, 'eta': 0.33079802673706493, 'gamma': 0.003351172905927786, 'grow_policy': 'depthwise', 'sample_type': 'uniform', 'normalize_type': 'forest', 'rate_drop': 5.0484268409017925e-05, 'skip_drop': 2.0502182700753785e-05}\n"
     ]
    },
    {
     "data": {
      "text/plain": [
       "['./models/xgb_optuna_model.joblib']"
      ]
     },
     "execution_count": 22,
     "metadata": {},
     "output_type": "execute_result"
    }
   ],
   "source": [
    "study = optuna.create_study(direction=\"maximize\")\n",
    "study.optimize(objective, n_trials=100)\n",
    "\n",
    "best_params = study.best_trial.params\n",
    "print(\"Best trial:\", study.best_trial.params)\n",
    "\n",
    "\n",
    "# Train final model with adjusted labels\n",
    "final_model = xgb.XGBClassifier(**best_params)\n",
    "final_model.fit(X_train_transformed, y_train)\n",
    "\n",
    "# Save the model\n",
    "joblib.dump(final_model, \"./models/xgb_optuna_model.joblib\")"
   ]
  },
  {
   "cell_type": "code",
   "execution_count": 24,
   "metadata": {},
   "outputs": [
    {
     "data": {
      "text/html": [
       "<style>#sk-container-id-2 {color: black;background-color: white;}#sk-container-id-2 pre{padding: 0;}#sk-container-id-2 div.sk-toggleable {background-color: white;}#sk-container-id-2 label.sk-toggleable__label {cursor: pointer;display: block;width: 100%;margin-bottom: 0;padding: 0.3em;box-sizing: border-box;text-align: center;}#sk-container-id-2 label.sk-toggleable__label-arrow:before {content: \"▸\";float: left;margin-right: 0.25em;color: #696969;}#sk-container-id-2 label.sk-toggleable__label-arrow:hover:before {color: black;}#sk-container-id-2 div.sk-estimator:hover label.sk-toggleable__label-arrow:before {color: black;}#sk-container-id-2 div.sk-toggleable__content {max-height: 0;max-width: 0;overflow: hidden;text-align: left;background-color: #f0f8ff;}#sk-container-id-2 div.sk-toggleable__content pre {margin: 0.2em;color: black;border-radius: 0.25em;background-color: #f0f8ff;}#sk-container-id-2 input.sk-toggleable__control:checked~div.sk-toggleable__content {max-height: 200px;max-width: 100%;overflow: auto;}#sk-container-id-2 input.sk-toggleable__control:checked~label.sk-toggleable__label-arrow:before {content: \"▾\";}#sk-container-id-2 div.sk-estimator input.sk-toggleable__control:checked~label.sk-toggleable__label {background-color: #d4ebff;}#sk-container-id-2 div.sk-label input.sk-toggleable__control:checked~label.sk-toggleable__label {background-color: #d4ebff;}#sk-container-id-2 input.sk-hidden--visually {border: 0;clip: rect(1px 1px 1px 1px);clip: rect(1px, 1px, 1px, 1px);height: 1px;margin: -1px;overflow: hidden;padding: 0;position: absolute;width: 1px;}#sk-container-id-2 div.sk-estimator {font-family: monospace;background-color: #f0f8ff;border: 1px dotted black;border-radius: 0.25em;box-sizing: border-box;margin-bottom: 0.5em;}#sk-container-id-2 div.sk-estimator:hover {background-color: #d4ebff;}#sk-container-id-2 div.sk-parallel-item::after {content: \"\";width: 100%;border-bottom: 1px solid gray;flex-grow: 1;}#sk-container-id-2 div.sk-label:hover label.sk-toggleable__label {background-color: #d4ebff;}#sk-container-id-2 div.sk-serial::before {content: \"\";position: absolute;border-left: 1px solid gray;box-sizing: border-box;top: 0;bottom: 0;left: 50%;z-index: 0;}#sk-container-id-2 div.sk-serial {display: flex;flex-direction: column;align-items: center;background-color: white;padding-right: 0.2em;padding-left: 0.2em;position: relative;}#sk-container-id-2 div.sk-item {position: relative;z-index: 1;}#sk-container-id-2 div.sk-parallel {display: flex;align-items: stretch;justify-content: center;background-color: white;position: relative;}#sk-container-id-2 div.sk-item::before, #sk-container-id-2 div.sk-parallel-item::before {content: \"\";position: absolute;border-left: 1px solid gray;box-sizing: border-box;top: 0;bottom: 0;left: 50%;z-index: -1;}#sk-container-id-2 div.sk-parallel-item {display: flex;flex-direction: column;z-index: 1;position: relative;background-color: white;}#sk-container-id-2 div.sk-parallel-item:first-child::after {align-self: flex-end;width: 50%;}#sk-container-id-2 div.sk-parallel-item:last-child::after {align-self: flex-start;width: 50%;}#sk-container-id-2 div.sk-parallel-item:only-child::after {width: 0;}#sk-container-id-2 div.sk-dashed-wrapped {border: 1px dashed gray;margin: 0 0.4em 0.5em 0.4em;box-sizing: border-box;padding-bottom: 0.4em;background-color: white;}#sk-container-id-2 div.sk-label label {font-family: monospace;font-weight: bold;display: inline-block;line-height: 1.2em;}#sk-container-id-2 div.sk-label-container {text-align: center;}#sk-container-id-2 div.sk-container {/* jupyter's `normalize.less` sets `[hidden] { display: none; }` but bootstrap.min.css set `[hidden] { display: none !important; }` so we also need the `!important` here to be able to override the default hidden behavior on the sphinx rendered scikit-learn.org. See: https://github.com/scikit-learn/scikit-learn/issues/21755 */display: inline-block !important;position: relative;}#sk-container-id-2 div.sk-text-repr-fallback {display: none;}</style><div id=\"sk-container-id-2\" class=\"sk-top-container\"><div class=\"sk-text-repr-fallback\"><pre>XGBClassifier(alpha=0.03236588506740903, base_score=None, booster=&#x27;dart&#x27;,\n",
       "              callbacks=None, colsample_bylevel=None, colsample_bynode=None,\n",
       "              colsample_bytree=None, device=None, early_stopping_rounds=None,\n",
       "              enable_categorical=False, eta=0.33079802673706493,\n",
       "              eval_metric=None, feature_types=None, gamma=0.003351172905927786,\n",
       "              grow_policy=&#x27;depthwise&#x27;, importance_type=None,\n",
       "              interaction_constraints=None, lambda=0.03943562312835868,\n",
       "              learning_rate=None, max_bin=None, max_cat_threshold=None,\n",
       "              max_cat_to_onehot=None, max_delta_step=None, max_depth=9,\n",
       "              max_leaves=None, min_child_weight=None, missing=nan,\n",
       "              monotone_constraints=None, multi_strategy=None, n_estimators=None, ...)</pre><b>In a Jupyter environment, please rerun this cell to show the HTML representation or trust the notebook. <br />On GitHub, the HTML representation is unable to render, please try loading this page with nbviewer.org.</b></div><div class=\"sk-container\" hidden><div class=\"sk-item\"><div class=\"sk-estimator sk-toggleable\"><input class=\"sk-toggleable__control sk-hidden--visually\" id=\"sk-estimator-id-2\" type=\"checkbox\" checked><label for=\"sk-estimator-id-2\" class=\"sk-toggleable__label sk-toggleable__label-arrow\">XGBClassifier</label><div class=\"sk-toggleable__content\"><pre>XGBClassifier(alpha=0.03236588506740903, base_score=None, booster=&#x27;dart&#x27;,\n",
       "              callbacks=None, colsample_bylevel=None, colsample_bynode=None,\n",
       "              colsample_bytree=None, device=None, early_stopping_rounds=None,\n",
       "              enable_categorical=False, eta=0.33079802673706493,\n",
       "              eval_metric=None, feature_types=None, gamma=0.003351172905927786,\n",
       "              grow_policy=&#x27;depthwise&#x27;, importance_type=None,\n",
       "              interaction_constraints=None, lambda=0.03943562312835868,\n",
       "              learning_rate=None, max_bin=None, max_cat_threshold=None,\n",
       "              max_cat_to_onehot=None, max_delta_step=None, max_depth=9,\n",
       "              max_leaves=None, min_child_weight=None, missing=nan,\n",
       "              monotone_constraints=None, multi_strategy=None, n_estimators=None, ...)</pre></div></div></div></div></div>"
      ],
      "text/plain": [
       "XGBClassifier(alpha=0.03236588506740903, base_score=None, booster='dart',\n",
       "              callbacks=None, colsample_bylevel=None, colsample_bynode=None,\n",
       "              colsample_bytree=None, device=None, early_stopping_rounds=None,\n",
       "              enable_categorical=False, eta=0.33079802673706493,\n",
       "              eval_metric=None, feature_types=None, gamma=0.003351172905927786,\n",
       "              grow_policy='depthwise', importance_type=None,\n",
       "              interaction_constraints=None, lambda=0.03943562312835868,\n",
       "              learning_rate=None, max_bin=None, max_cat_threshold=None,\n",
       "              max_cat_to_onehot=None, max_delta_step=None, max_depth=9,\n",
       "              max_leaves=None, min_child_weight=None, missing=nan,\n",
       "              monotone_constraints=None, multi_strategy=None, n_estimators=None, ...)"
      ]
     },
     "execution_count": 24,
     "metadata": {},
     "output_type": "execute_result"
    }
   ],
   "source": [
    "## Loading  the model\n",
    "final_model = joblib.load(\"./models/xgb_optuna_model.joblib\")\n",
    "final_model"
   ]
  },
  {
   "cell_type": "code",
   "execution_count": 30,
   "metadata": {},
   "outputs": [],
   "source": [
    "explainer = shap.TreeExplainer(final_model)\n",
    "\n",
    "shap_values = explainer.shap_values(X_test_transformed)"
   ]
  },
  {
   "cell_type": "code",
   "execution_count": 32,
   "metadata": {},
   "outputs": [
    {
     "data": {
      "image/png": "[encoded data removed]",
      "text/plain": [
       "<Figure size 1500x1000 with 1 Axes>"
      ]
     },
     "metadata": {},
     "output_type": "display_data"
    }
   ],
   "source": [
    "# Plot the SHAP summary bar plot for all classes with updated class names\n",
    "shap.summary_plot(shap_values, X_test_transformed, plot_type=\"bar\", class_names=['Low popularity', 'Moderate popularity', 'High popularity', 'Very high popularity'], max_display=10, plot_size=(15, 10))\n"
   ]
  },
  {
   "cell_type": "markdown",
   "metadata": {},
   "source": [
    "## PyTorch Lightning Model"
   ]
  },
  {
   "cell_type": "code",
   "execution_count": 29,
   "metadata": {},
   "outputs": [
    {
     "name": "stderr",
     "output_type": "stream",
     "text": [
      "[I 2024-04-24 11:40:42,570] A new study created in memory with name: no-name-183805b1-f55a-488a-bc02-4f80f5f9f7dd\n"
     ]
    },
    {
     "name": "stderr",
     "output_type": "stream",
     "text": [
      "GPU available: False, used: False\n",
      "TPU available: False, using: 0 TPU cores\n",
      "IPU available: False, using: 0 IPUs\n",
      "HPU available: False, using: 0 HPUs\n",
      "c:\\Users\\omsan\\anaconda3\\envs\\eds_ml_2\\lib\\site-packages\\pytorch_lightning\\trainer\\connectors\\logger_connector\\logger_connector.py:75: Starting from v1.9.0, `tensorboardX` has been removed as a dependency of the `pytorch_lightning` package, due to potential conflicts with other packages in the ML ecosystem. For this reason, `logger=True` will use `CSVLogger` as the default logger, unless the `tensorboard` or `tensorboardX` packages are found. Please `pip install lightning[extra]` or one of them to enable TensorBoard support by default\n",
      "Missing logger folder: C:\\Users\\omsan\\Desktop\\Om\\Mcgill\\MMA 2023\\Winter 2 2024\\Enterpise ML Part 2\\Group Project\\Spotify-Music\\lightning_logs\n",
      "\n",
      "  | Name   | Type       | Params\n",
      "--------------------------------------\n",
      "0 | layers | Sequential | 19.3 K\n",
      "--------------------------------------\n",
      "19.3 K    Trainable params\n",
      "0         Non-trainable params\n",
      "19.3 K    Total params\n",
      "0.077     Total estimated model params size (MB)\n"
     ]
    },
    {
     "name": "stdout",
     "output_type": "stream",
     "text": [
      "                                                                           "
     ]
    },
    {
     "name": "stderr",
     "output_type": "stream",
     "text": [
      "c:\\Users\\omsan\\anaconda3\\envs\\eds_ml_2\\lib\\site-packages\\pytorch_lightning\\trainer\\connectors\\data_connector.py:441: The 'val_dataloader' does not have many workers which may be a bottleneck. Consider increasing the value of the `num_workers` argument` to `num_workers=11` in the `DataLoader` to improve performance.\n",
      "c:\\Users\\omsan\\anaconda3\\envs\\eds_ml_2\\lib\\site-packages\\pytorch_lightning\\trainer\\connectors\\data_connector.py:441: The 'train_dataloader' does not have many workers which may be a bottleneck. Consider increasing the value of the `num_workers` argument` to `num_workers=11` in the `DataLoader` to improve performance.\n"
     ]
    },
    {
     "name": "stdout",
     "output_type": "stream",
     "text": [
      "Epoch 0: 100%|██████████| 739/739 [00:09<00:00, 74.74it/s, v_num=0, train_loss_step=0.951, train_acc_step=0.500, val_loss=1.080, val_acc=0.480, train_loss_epoch=1.140, train_acc_epoch=0.453]"
     ]
    },
    {
     "name": "stderr",
     "output_type": "stream",
     "text": [
      "Metric val_loss improved. New best score: 1.082\n"
     ]
    },
    {
     "name": "stdout",
     "output_type": "stream",
     "text": [
      "Epoch 1: 100%|██████████| 739/739 [00:10<00:00, 73.22it/s, v_num=0, train_loss_step=1.230, train_acc_step=0.450, val_loss=1.070, val_acc=0.492, train_loss_epoch=1.090, train_acc_epoch=0.481]"
     ]
    },
    {
     "name": "stderr",
     "output_type": "stream",
     "text": [
      "Metric val_loss improved by 0.012 >= min_delta = 0.0. New best score: 1.070\n"
     ]
    },
    {
     "name": "stdout",
     "output_type": "stream",
     "text": [
      "Epoch 2: 100%|██████████| 739/739 [00:09<00:00, 75.28it/s, v_num=0, train_loss_step=1.240, train_acc_step=0.550, val_loss=1.060, val_acc=0.494, train_loss_epoch=1.080, train_acc_epoch=0.490]"
     ]
    },
    {
     "name": "stderr",
     "output_type": "stream",
     "text": [
      "Metric val_loss improved by 0.006 >= min_delta = 0.0. New best score: 1.064\n"
     ]
    },
    {
     "name": "stdout",
     "output_type": "stream",
     "text": [
      "Epoch 3: 100%|██████████| 739/739 [00:08<00:00, 83.10it/s, v_num=0, train_loss_step=1.150, train_acc_step=0.350, val_loss=1.060, val_acc=0.504, train_loss_epoch=1.060, train_acc_epoch=0.502] "
     ]
    },
    {
     "name": "stderr",
     "output_type": "stream",
     "text": [
      "Metric val_loss improved by 0.005 >= min_delta = 0.0. New best score: 1.059\n"
     ]
    },
    {
     "name": "stdout",
     "output_type": "stream",
     "text": [
      "Epoch 4: 100%|██████████| 739/739 [00:11<00:00, 65.31it/s, v_num=0, train_loss_step=1.060, train_acc_step=0.450, val_loss=1.060, val_acc=0.501, train_loss_epoch=1.050, train_acc_epoch=0.509]"
     ]
    },
    {
     "name": "stderr",
     "output_type": "stream",
     "text": [
      "Metric val_loss improved by 0.003 >= min_delta = 0.0. New best score: 1.056\n"
     ]
    },
    {
     "name": "stdout",
     "output_type": "stream",
     "text": [
      "Epoch 5: 100%|██████████| 739/739 [00:09<00:00, 80.29it/s, v_num=0, train_loss_step=1.100, train_acc_step=0.300, val_loss=1.050, val_acc=0.512, train_loss_epoch=1.040, train_acc_epoch=0.512] "
     ]
    },
    {
     "name": "stderr",
     "output_type": "stream",
     "text": [
      "Metric val_loss improved by 0.005 >= min_delta = 0.0. New best score: 1.050\n"
     ]
    },
    {
     "name": "stdout",
     "output_type": "stream",
     "text": [
      "Epoch 7: 100%|██████████| 739/739 [00:07<00:00, 93.74it/s, v_num=0, train_loss_step=0.913, train_acc_step=0.450, val_loss=1.050, val_acc=0.508, train_loss_epoch=1.020, train_acc_epoch=0.525] "
     ]
    },
    {
     "name": "stderr",
     "output_type": "stream",
     "text": [
      "Metric val_loss improved by 0.001 >= min_delta = 0.0. New best score: 1.049\n"
     ]
    },
    {
     "name": "stdout",
     "output_type": "stream",
     "text": [
      "Epoch 12: 100%|██████████| 739/739 [00:08<00:00, 85.51it/s, v_num=0, train_loss_step=1.100, train_acc_step=0.450, val_loss=1.060, val_acc=0.510, train_loss_epoch=0.982, train_acc_epoch=0.543] "
     ]
    },
    {
     "name": "stderr",
     "output_type": "stream",
     "text": [
      "Monitored metric val_loss did not improve in the last 5 records. Best score: 1.049. Signaling Trainer to stop.\n"
     ]
    },
    {
     "name": "stdout",
     "output_type": "stream",
     "text": [
      "Epoch 12: 100%|██████████| 739/739 [00:08<00:00, 85.37it/s, v_num=0, train_loss_step=1.100, train_acc_step=0.450, val_loss=1.060, val_acc=0.510, train_loss_epoch=0.982, train_acc_epoch=0.543]"
     ]
    },
    {
     "name": "stderr",
     "output_type": "stream",
     "text": [
      "[I 2024-04-24 11:42:47,248] Trial 0 finished with value: 1.0574873685836792 and parameters: {'lr': 0.0012261896778305826, 'hidden_size': 112, 'num_hidden_layers': 2, 'dropout_rate': 0.4709857909970271, 'activation': 'leaky_relu'}. Best is trial 0 with value: 1.0574873685836792.\n"
     ]
    },
    {
     "name": "stdout",
     "output_type": "stream",
     "text": [
      "\n"
     ]
    },
    {
     "name": "stderr",
     "output_type": "stream",
     "text": [
      "GPU available: False, used: False\n",
      "TPU available: False, using: 0 TPU cores\n",
      "IPU available: False, using: 0 IPUs\n",
      "HPU available: False, using: 0 HPUs\n",
      "\n",
      "  | Name   | Type       | Params\n",
      "--------------------------------------\n",
      "0 | layers | Sequential | 85.4 K\n",
      "--------------------------------------\n",
      "85.4 K    Trainable params\n",
      "0         Non-trainable params\n",
      "85.4 K    Total params\n",
      "0.342     Total estimated model params size (MB)\n"
     ]
    },
    {
     "name": "stdout",
     "output_type": "stream",
     "text": [
      "Epoch 0: 100%|██████████| 739/739 [00:11<00:00, 63.03it/s, v_num=1, train_loss_step=1.180, train_acc_step=0.450, val_loss=1.080, val_acc=0.477, train_loss_epoch=1.120, train_acc_epoch=0.458]"
     ]
    },
    {
     "name": "stderr",
     "output_type": "stream",
     "text": [
      "Metric val_loss improved. New best score: 1.084\n"
     ]
    },
    {
     "name": "stdout",
     "output_type": "stream",
     "text": [
      "Epoch 1: 100%|██████████| 739/739 [00:11<00:00, 62.84it/s, v_num=1, train_loss_step=1.070, train_acc_step=0.600, val_loss=1.070, val_acc=0.495, train_loss_epoch=1.080, train_acc_epoch=0.488]"
     ]
    },
    {
     "name": "stderr",
     "output_type": "stream",
     "text": [
      "Metric val_loss improved by 0.017 >= min_delta = 0.0. New best score: 1.066\n"
     ]
    },
    {
     "name": "stdout",
     "output_type": "stream",
     "text": [
      "Epoch 2: 100%|██████████| 739/739 [00:10<00:00, 68.18it/s, v_num=1, train_loss_step=1.140, train_acc_step=0.400, val_loss=1.070, val_acc=0.500, train_loss_epoch=1.060, train_acc_epoch=0.500]"
     ]
    },
    {
     "name": "stderr",
     "output_type": "stream",
     "text": [
      "Metric val_loss improved by 0.001 >= min_delta = 0.0. New best score: 1.065\n"
     ]
    },
    {
     "name": "stdout",
     "output_type": "stream",
     "text": [
      "Epoch 3: 100%|██████████| 739/739 [00:11<00:00, 63.19it/s, v_num=1, train_loss_step=0.824, train_acc_step=0.750, val_loss=1.060, val_acc=0.506, train_loss_epoch=1.050, train_acc_epoch=0.511]"
     ]
    },
    {
     "name": "stderr",
     "output_type": "stream",
     "text": [
      "Metric val_loss improved by 0.002 >= min_delta = 0.0. New best score: 1.063\n"
     ]
    },
    {
     "name": "stdout",
     "output_type": "stream",
     "text": [
      "Epoch 4: 100%|██████████| 739/739 [00:11<00:00, 66.10it/s, v_num=1, train_loss_step=1.320, train_acc_step=0.450, val_loss=1.060, val_acc=0.511, train_loss_epoch=1.030, train_acc_epoch=0.522]"
     ]
    },
    {
     "name": "stderr",
     "output_type": "stream",
     "text": [
      "Metric val_loss improved by 0.008 >= min_delta = 0.0. New best score: 1.055\n"
     ]
    },
    {
     "name": "stdout",
     "output_type": "stream",
     "text": [
      "Epoch 9: 100%|██████████| 739/739 [00:11<00:00, 66.75it/s, v_num=1, train_loss_step=1.360, train_acc_step=0.350, val_loss=1.080, val_acc=0.510, train_loss_epoch=0.921, train_acc_epoch=0.570]"
     ]
    },
    {
     "name": "stderr",
     "output_type": "stream",
     "text": [
      "Monitored metric val_loss did not improve in the last 5 records. Best score: 1.055. Signaling Trainer to stop.\n"
     ]
    },
    {
     "name": "stdout",
     "output_type": "stream",
     "text": [
      "Epoch 9: 100%|██████████| 739/739 [00:11<00:00, 66.64it/s, v_num=1, train_loss_step=1.360, train_acc_step=0.350, val_loss=1.080, val_acc=0.510, train_loss_epoch=0.921, train_acc_epoch=0.570]"
     ]
    },
    {
     "name": "stderr",
     "output_type": "stream",
     "text": [
      "[I 2024-04-24 11:44:40,863] Trial 1 finished with value: 1.0800879001617432 and parameters: {'lr': 0.0018887538456703711, 'hidden_size': 192, 'num_hidden_layers': 3, 'dropout_rate': 0.12016430357315122, 'activation': 'relu'}. Best is trial 0 with value: 1.0574873685836792.\n"
     ]
    },
    {
     "name": "stdout",
     "output_type": "stream",
     "text": [
      "\n"
     ]
    },
    {
     "name": "stderr",
     "output_type": "stream",
     "text": [
      "GPU available: False, used: False\n",
      "TPU available: False, using: 0 TPU cores\n",
      "IPU available: False, using: 0 IPUs\n",
      "HPU available: False, using: 0 HPUs\n",
      "\n",
      "  | Name   | Type       | Params\n",
      "--------------------------------------\n",
      "0 | layers | Sequential | 24.3 K\n",
      "--------------------------------------\n",
      "24.3 K    Trainable params\n",
      "0         Non-trainable params\n",
      "24.3 K    Total params\n",
      "0.097     Total estimated model params size (MB)\n"
     ]
    },
    {
     "name": "stdout",
     "output_type": "stream",
     "text": [
      "Epoch 0: 100%|██████████| 739/739 [00:10<00:00, 73.04it/s, v_num=2, train_loss_step=1.270, train_acc_step=0.300, val_loss=1.100, val_acc=0.473, train_loss_epoch=1.190, train_acc_epoch=0.430]"
     ]
    },
    {
     "name": "stderr",
     "output_type": "stream",
     "text": [
      "Metric val_loss improved. New best score: 1.104\n"
     ]
    },
    {
     "name": "stdout",
     "output_type": "stream",
     "text": [
      "Epoch 5: 100%|██████████| 739/739 [00:08<00:00, 83.26it/s, v_num=2, train_loss_step=1.420, train_acc_step=0.450, val_loss=1.140, val_acc=0.443, train_loss_epoch=1.200, train_acc_epoch=0.423]  "
     ]
    },
    {
     "name": "stderr",
     "output_type": "stream",
     "text": [
      "Monitored metric val_loss did not improve in the last 5 records. Best score: 1.104. Signaling Trainer to stop.\n"
     ]
    },
    {
     "name": "stdout",
     "output_type": "stream",
     "text": [
      "Epoch 5: 100%|██████████| 739/739 [00:08<00:00, 83.09it/s, v_num=2, train_loss_step=1.420, train_acc_step=0.450, val_loss=1.140, val_acc=0.443, train_loss_epoch=1.200, train_acc_epoch=0.423]"
     ]
    },
    {
     "name": "stderr",
     "output_type": "stream",
     "text": [
      "[I 2024-04-24 11:45:36,049] Trial 2 finished with value: 1.1364333629608154 and parameters: {'lr': 0.007709858058748784, 'hidden_size': 96, 'num_hidden_layers': 3, 'dropout_rate': 0.3773386484958693, 'activation': 'elu'}. Best is trial 0 with value: 1.0574873685836792.\n"
     ]
    },
    {
     "name": "stdout",
     "output_type": "stream",
     "text": [
      "\n"
     ]
    },
    {
     "name": "stderr",
     "output_type": "stream",
     "text": [
      "GPU available: False, used: False\n",
      "TPU available: False, using: 0 TPU cores\n",
      "IPU available: False, using: 0 IPUs\n",
      "HPU available: False, using: 0 HPUs\n",
      "\n",
      "  | Name   | Type       | Params\n",
      "--------------------------------------\n",
      "0 | layers | Sequential | 85.4 K\n",
      "--------------------------------------\n",
      "85.4 K    Trainable params\n",
      "0         Non-trainable params\n",
      "85.4 K    Total params\n",
      "0.342     Total estimated model params size (MB)\n"
     ]
    },
    {
     "name": "stdout",
     "output_type": "stream",
     "text": [
      "Epoch 0: 100%|██████████| 739/739 [00:09<00:00, 76.58it/s, v_num=3, train_loss_step=1.020, train_acc_step=0.700, val_loss=1.100, val_acc=0.465, train_loss_epoch=1.150, train_acc_epoch=0.447]"
     ]
    },
    {
     "name": "stderr",
     "output_type": "stream",
     "text": [
      "Metric val_loss improved. New best score: 1.099\n"
     ]
    },
    {
     "name": "stdout",
     "output_type": "stream",
     "text": [
      "Epoch 1: 100%|██████████| 739/739 [00:10<00:00, 73.13it/s, v_num=3, train_loss_step=1.080, train_acc_step=0.500, val_loss=1.080, val_acc=0.488, train_loss_epoch=1.100, train_acc_epoch=0.479]"
     ]
    },
    {
     "name": "stderr",
     "output_type": "stream",
     "text": [
      "Metric val_loss improved by 0.022 >= min_delta = 0.0. New best score: 1.076\n"
     ]
    },
    {
     "name": "stdout",
     "output_type": "stream",
     "text": [
      "Epoch 2: 100%|██████████| 739/739 [00:10<00:00, 72.23it/s, v_num=3, train_loss_step=1.120, train_acc_step=0.600, val_loss=1.070, val_acc=0.503, train_loss_epoch=1.080, train_acc_epoch=0.490]"
     ]
    },
    {
     "name": "stderr",
     "output_type": "stream",
     "text": [
      "Metric val_loss improved by 0.010 >= min_delta = 0.0. New best score: 1.067\n"
     ]
    },
    {
     "name": "stdout",
     "output_type": "stream",
     "text": [
      "Epoch 3: 100%|██████████| 739/739 [00:10<00:00, 72.75it/s, v_num=3, train_loss_step=1.290, train_acc_step=0.350, val_loss=1.070, val_acc=0.487, train_loss_epoch=1.070, train_acc_epoch=0.497]"
     ]
    },
    {
     "name": "stderr",
     "output_type": "stream",
     "text": [
      "Metric val_loss improved by 0.001 >= min_delta = 0.0. New best score: 1.066\n"
     ]
    },
    {
     "name": "stdout",
     "output_type": "stream",
     "text": [
      "Epoch 4: 100%|██████████| 739/739 [00:10<00:00, 71.75it/s, v_num=3, train_loss_step=1.300, train_acc_step=0.500, val_loss=1.050, val_acc=0.512, train_loss_epoch=1.050, train_acc_epoch=0.502]"
     ]
    },
    {
     "name": "stderr",
     "output_type": "stream",
     "text": [
      "Metric val_loss improved by 0.011 >= min_delta = 0.0. New best score: 1.055\n"
     ]
    },
    {
     "name": "stdout",
     "output_type": "stream",
     "text": [
      "Epoch 7: 100%|██████████| 739/739 [00:11<00:00, 61.74it/s, v_num=3, train_loss_step=1.070, train_acc_step=0.400, val_loss=1.050, val_acc=0.504, train_loss_epoch=1.020, train_acc_epoch=0.524]"
     ]
    },
    {
     "name": "stderr",
     "output_type": "stream",
     "text": [
      "Metric val_loss improved by 0.000 >= min_delta = 0.0. New best score: 1.055\n"
     ]
    },
    {
     "name": "stdout",
     "output_type": "stream",
     "text": [
      "Epoch 12: 100%|██████████| 739/739 [00:09<00:00, 74.75it/s, v_num=3, train_loss_step=0.898, train_acc_step=0.500, val_loss=1.070, val_acc=0.506, train_loss_epoch=0.970, train_acc_epoch=0.548]"
     ]
    },
    {
     "name": "stderr",
     "output_type": "stream",
     "text": [
      "Monitored metric val_loss did not improve in the last 5 records. Best score: 1.055. Signaling Trainer to stop.\n"
     ]
    },
    {
     "name": "stdout",
     "output_type": "stream",
     "text": [
      "Epoch 12: 100%|██████████| 739/739 [00:09<00:00, 74.60it/s, v_num=3, train_loss_step=0.898, train_acc_step=0.500, val_loss=1.070, val_acc=0.506, train_loss_epoch=0.970, train_acc_epoch=0.548]"
     ]
    },
    {
     "name": "stderr",
     "output_type": "stream",
     "text": [
      "[I 2024-04-24 11:47:47,664] Trial 3 finished with value: 1.0703562498092651 and parameters: {'lr': 0.0016667032659038567, 'hidden_size': 192, 'num_hidden_layers': 3, 'dropout_rate': 0.4987572893340163, 'activation': 'relu'}. Best is trial 0 with value: 1.0574873685836792.\n"
     ]
    },
    {
     "name": "stdout",
     "output_type": "stream",
     "text": [
      "\n"
     ]
    },
    {
     "name": "stderr",
     "output_type": "stream",
     "text": [
      "GPU available: False, used: False\n",
      "TPU available: False, using: 0 TPU cores\n",
      "IPU available: False, using: 0 IPUs\n",
      "HPU available: False, using: 0 HPUs\n",
      "\n",
      "  | Name   | Type       | Params\n",
      "--------------------------------------\n",
      "0 | layers | Sequential | 55.7 K\n",
      "--------------------------------------\n",
      "55.7 K    Trainable params\n",
      "0         Non-trainable params\n",
      "55.7 K    Total params\n",
      "0.223     Total estimated model params size (MB)\n"
     ]
    },
    {
     "name": "stdout",
     "output_type": "stream",
     "text": [
      "Epoch 0: 100%|██████████| 739/739 [00:09<00:00, 77.79it/s, v_num=4, train_loss_step=1.000, train_acc_step=0.550, val_loss=1.100, val_acc=0.473, train_loss_epoch=1.140, train_acc_epoch=0.455]"
     ]
    },
    {
     "name": "stderr",
     "output_type": "stream",
     "text": [
      "Metric val_loss improved. New best score: 1.095\n"
     ]
    },
    {
     "name": "stdout",
     "output_type": "stream",
     "text": [
      "Epoch 1: 100%|██████████| 739/739 [00:09<00:00, 79.65it/s, v_num=4, train_loss_step=1.100, train_acc_step=0.550, val_loss=1.090, val_acc=0.485, train_loss_epoch=1.090, train_acc_epoch=0.481]"
     ]
    },
    {
     "name": "stderr",
     "output_type": "stream",
     "text": [
      "Metric val_loss improved by 0.006 >= min_delta = 0.0. New best score: 1.090\n"
     ]
    },
    {
     "name": "stdout",
     "output_type": "stream",
     "text": [
      "Epoch 2: 100%|██████████| 739/739 [00:09<00:00, 80.63it/s, v_num=4, train_loss_step=1.300, train_acc_step=0.200, val_loss=1.080, val_acc=0.494, train_loss_epoch=1.090, train_acc_epoch=0.484] "
     ]
    },
    {
     "name": "stderr",
     "output_type": "stream",
     "text": [
      "Metric val_loss improved by 0.009 >= min_delta = 0.0. New best score: 1.081\n"
     ]
    },
    {
     "name": "stdout",
     "output_type": "stream",
     "text": [
      "Epoch 3: 100%|██████████| 739/739 [00:09<00:00, 74.16it/s, v_num=4, train_loss_step=1.220, train_acc_step=0.350, val_loss=1.080, val_acc=0.493, train_loss_epoch=1.090, train_acc_epoch=0.480] "
     ]
    },
    {
     "name": "stderr",
     "output_type": "stream",
     "text": [
      "Metric val_loss improved by 0.003 >= min_delta = 0.0. New best score: 1.078\n"
     ]
    },
    {
     "name": "stdout",
     "output_type": "stream",
     "text": [
      "Epoch 6: 100%|██████████| 739/739 [00:09<00:00, 82.09it/s, v_num=4, train_loss_step=1.250, train_acc_step=0.450, val_loss=1.080, val_acc=0.486, train_loss_epoch=1.080, train_acc_epoch=0.485] "
     ]
    },
    {
     "name": "stderr",
     "output_type": "stream",
     "text": [
      "Metric val_loss improved by 0.000 >= min_delta = 0.0. New best score: 1.078\n"
     ]
    },
    {
     "name": "stdout",
     "output_type": "stream",
     "text": [
      "Epoch 7: 100%|██████████| 739/739 [00:09<00:00, 79.39it/s, v_num=4, train_loss_step=1.130, train_acc_step=0.500, val_loss=1.080, val_acc=0.489, train_loss_epoch=1.080, train_acc_epoch=0.491]"
     ]
    },
    {
     "name": "stderr",
     "output_type": "stream",
     "text": [
      "Metric val_loss improved by 0.001 >= min_delta = 0.0. New best score: 1.076\n"
     ]
    },
    {
     "name": "stdout",
     "output_type": "stream",
     "text": [
      "Epoch 8: 100%|██████████| 739/739 [00:09<00:00, 76.77it/s, v_num=4, train_loss_step=0.891, train_acc_step=0.650, val_loss=1.070, val_acc=0.494, train_loss_epoch=1.080, train_acc_epoch=0.488]"
     ]
    },
    {
     "name": "stderr",
     "output_type": "stream",
     "text": [
      "Metric val_loss improved by 0.002 >= min_delta = 0.0. New best score: 1.074\n"
     ]
    },
    {
     "name": "stdout",
     "output_type": "stream",
     "text": [
      "Epoch 10: 100%|██████████| 739/739 [00:09<00:00, 81.33it/s, v_num=4, train_loss_step=1.210, train_acc_step=0.350, val_loss=1.070, val_acc=0.496, train_loss_epoch=1.080, train_acc_epoch=0.491]"
     ]
    },
    {
     "name": "stderr",
     "output_type": "stream",
     "text": [
      "Metric val_loss improved by 0.002 >= min_delta = 0.0. New best score: 1.072\n"
     ]
    },
    {
     "name": "stdout",
     "output_type": "stream",
     "text": [
      "Epoch 11: 100%|██████████| 739/739 [00:09<00:00, 78.45it/s, v_num=4, train_loss_step=1.180, train_acc_step=0.400, val_loss=1.070, val_acc=0.499, train_loss_epoch=1.070, train_acc_epoch=0.493]"
     ]
    },
    {
     "name": "stderr",
     "output_type": "stream",
     "text": [
      "Metric val_loss improved by 0.002 >= min_delta = 0.0. New best score: 1.070\n"
     ]
    },
    {
     "name": "stdout",
     "output_type": "stream",
     "text": [
      "Epoch 13: 100%|██████████| 739/739 [00:08<00:00, 82.58it/s, v_num=4, train_loss_step=0.998, train_acc_step=0.500, val_loss=1.070, val_acc=0.500, train_loss_epoch=1.070, train_acc_epoch=0.494]"
     ]
    },
    {
     "name": "stderr",
     "output_type": "stream",
     "text": [
      "Metric val_loss improved by 0.005 >= min_delta = 0.0. New best score: 1.065\n"
     ]
    },
    {
     "name": "stdout",
     "output_type": "stream",
     "text": [
      "Epoch 15: 100%|██████████| 739/739 [00:09<00:00, 81.10it/s, v_num=4, train_loss_step=0.903, train_acc_step=0.600, val_loss=1.070, val_acc=0.496, train_loss_epoch=1.070, train_acc_epoch=0.497] "
     ]
    },
    {
     "name": "stderr",
     "output_type": "stream",
     "text": [
      "Metric val_loss improved by 0.000 >= min_delta = 0.0. New best score: 1.065\n"
     ]
    },
    {
     "name": "stdout",
     "output_type": "stream",
     "text": [
      "Epoch 17: 100%|██████████| 739/739 [00:09<00:00, 81.16it/s, v_num=4, train_loss_step=1.070, train_acc_step=0.650, val_loss=1.060, val_acc=0.498, train_loss_epoch=1.060, train_acc_epoch=0.495] "
     ]
    },
    {
     "name": "stderr",
     "output_type": "stream",
     "text": [
      "Metric val_loss improved by 0.000 >= min_delta = 0.0. New best score: 1.065\n"
     ]
    },
    {
     "name": "stdout",
     "output_type": "stream",
     "text": [
      "Epoch 18: 100%|██████████| 739/739 [00:09<00:00, 74.81it/s, v_num=4, train_loss_step=0.901, train_acc_step=0.650, val_loss=1.060, val_acc=0.501, train_loss_epoch=1.060, train_acc_epoch=0.501]"
     ]
    },
    {
     "name": "stderr",
     "output_type": "stream",
     "text": [
      "Metric val_loss improved by 0.001 >= min_delta = 0.0. New best score: 1.064\n"
     ]
    },
    {
     "name": "stdout",
     "output_type": "stream",
     "text": [
      "Epoch 19: 100%|██████████| 739/739 [00:09<00:00, 79.18it/s, v_num=4, train_loss_step=1.180, train_acc_step=0.450, val_loss=1.060, val_acc=0.506, train_loss_epoch=1.060, train_acc_epoch=0.505]"
     ]
    },
    {
     "name": "stderr",
     "output_type": "stream",
     "text": [
      "Metric val_loss improved by 0.006 >= min_delta = 0.0. New best score: 1.058\n"
     ]
    },
    {
     "name": "stdout",
     "output_type": "stream",
     "text": [
      "Epoch 23: 100%|██████████| 739/739 [00:08<00:00, 85.66it/s, v_num=4, train_loss_step=1.390, train_acc_step=0.350, val_loss=1.060, val_acc=0.506, train_loss_epoch=1.050, train_acc_epoch=0.507] "
     ]
    },
    {
     "name": "stderr",
     "output_type": "stream",
     "text": [
      "Metric val_loss improved by 0.003 >= min_delta = 0.0. New best score: 1.055\n"
     ]
    },
    {
     "name": "stdout",
     "output_type": "stream",
     "text": [
      "Epoch 28: 100%|██████████| 739/739 [00:08<00:00, 86.59it/s, v_num=4, train_loss_step=0.896, train_acc_step=0.650, val_loss=1.050, val_acc=0.511, train_loss_epoch=1.050, train_acc_epoch=0.511] "
     ]
    },
    {
     "name": "stderr",
     "output_type": "stream",
     "text": [
      "Metric val_loss improved by 0.004 >= min_delta = 0.0. New best score: 1.051\n"
     ]
    },
    {
     "name": "stdout",
     "output_type": "stream",
     "text": [
      "Epoch 32: 100%|██████████| 739/739 [00:08<00:00, 84.54it/s, v_num=4, train_loss_step=0.853, train_acc_step=0.650, val_loss=1.050, val_acc=0.512, train_loss_epoch=1.040, train_acc_epoch=0.511] "
     ]
    },
    {
     "name": "stderr",
     "output_type": "stream",
     "text": [
      "Metric val_loss improved by 0.001 >= min_delta = 0.0. New best score: 1.051\n"
     ]
    },
    {
     "name": "stdout",
     "output_type": "stream",
     "text": [
      "Epoch 33: 100%|██████████| 739/739 [00:09<00:00, 81.03it/s, v_num=4, train_loss_step=0.909, train_acc_step=0.500, val_loss=1.050, val_acc=0.510, train_loss_epoch=1.040, train_acc_epoch=0.516]"
     ]
    },
    {
     "name": "stderr",
     "output_type": "stream",
     "text": [
      "Metric val_loss improved by 0.001 >= min_delta = 0.0. New best score: 1.050\n"
     ]
    },
    {
     "name": "stdout",
     "output_type": "stream",
     "text": [
      "Epoch 37: 100%|██████████| 739/739 [00:08<00:00, 83.47it/s, v_num=4, train_loss_step=1.060, train_acc_step=0.600, val_loss=1.050, val_acc=0.513, train_loss_epoch=1.030, train_acc_epoch=0.521] "
     ]
    },
    {
     "name": "stderr",
     "output_type": "stream",
     "text": [
      "Metric val_loss improved by 0.001 >= min_delta = 0.0. New best score: 1.049\n"
     ]
    },
    {
     "name": "stdout",
     "output_type": "stream",
     "text": [
      "Epoch 38: 100%|██████████| 739/739 [00:09<00:00, 78.98it/s, v_num=4, train_loss_step=1.120, train_acc_step=0.450, val_loss=1.050, val_acc=0.511, train_loss_epoch=1.030, train_acc_epoch=0.519] "
     ]
    },
    {
     "name": "stderr",
     "output_type": "stream",
     "text": [
      "Metric val_loss improved by 0.002 >= min_delta = 0.0. New best score: 1.047\n"
     ]
    },
    {
     "name": "stdout",
     "output_type": "stream",
     "text": [
      "Epoch 43: 100%|██████████| 739/739 [00:08<00:00, 83.77it/s, v_num=4, train_loss_step=0.971, train_acc_step=0.600, val_loss=1.050, val_acc=0.507, train_loss_epoch=1.030, train_acc_epoch=0.523] "
     ]
    },
    {
     "name": "stderr",
     "output_type": "stream",
     "text": [
      "Monitored metric val_loss did not improve in the last 5 records. Best score: 1.047. Signaling Trainer to stop.\n"
     ]
    },
    {
     "name": "stdout",
     "output_type": "stream",
     "text": [
      "Epoch 43: 100%|██████████| 739/739 [00:08<00:00, 83.60it/s, v_num=4, train_loss_step=0.971, train_acc_step=0.600, val_loss=1.050, val_acc=0.507, train_loss_epoch=1.030, train_acc_epoch=0.523]"
     ]
    },
    {
     "name": "stderr",
     "output_type": "stream",
     "text": [
      "[I 2024-04-24 11:54:35,628] Trial 4 finished with value: 1.0504974126815796 and parameters: {'lr': 0.00033058628444845417, 'hidden_size': 208, 'num_hidden_layers': 2, 'dropout_rate': 0.19687261683547305, 'activation': 'elu'}. Best is trial 4 with value: 1.0504974126815796.\n"
     ]
    },
    {
     "name": "stdout",
     "output_type": "stream",
     "text": [
      "\n"
     ]
    },
    {
     "name": "stderr",
     "output_type": "stream",
     "text": [
      "GPU available: False, used: False\n",
      "TPU available: False, using: 0 TPU cores\n",
      "IPU available: False, using: 0 IPUs\n",
      "HPU available: False, using: 0 HPUs\n",
      "\n",
      "  | Name   | Type       | Params\n",
      "--------------------------------------\n",
      "0 | layers | Sequential | 50.3 K\n",
      "--------------------------------------\n",
      "50.3 K    Trainable params\n",
      "0         Non-trainable params\n",
      "50.3 K    Total params\n",
      "0.201     Total estimated model params size (MB)\n"
     ]
    },
    {
     "name": "stdout",
     "output_type": "stream",
     "text": [
      "Epoch 0: 100%|██████████| 739/739 [00:09<00:00, 74.23it/s, v_num=5, train_loss_step=1.170, train_acc_step=0.350, val_loss=1.100, val_acc=0.482, train_loss_epoch=1.140, train_acc_epoch=0.455]"
     ]
    },
    {
     "name": "stderr",
     "output_type": "stream",
     "text": [
      "Metric val_loss improved. New best score: 1.097\n"
     ]
    },
    {
     "name": "stdout",
     "output_type": "stream",
     "text": [
      "Epoch 1: 100%|██████████| 739/739 [00:09<00:00, 75.85it/s, v_num=5, train_loss_step=0.911, train_acc_step=0.500, val_loss=1.080, val_acc=0.489, train_loss_epoch=1.100, train_acc_epoch=0.479]"
     ]
    },
    {
     "name": "stderr",
     "output_type": "stream",
     "text": [
      "Metric val_loss improved by 0.015 >= min_delta = 0.0. New best score: 1.082\n"
     ]
    },
    {
     "name": "stdout",
     "output_type": "stream",
     "text": [
      "Epoch 3: 100%|██████████| 739/739 [00:09<00:00, 78.61it/s, v_num=5, train_loss_step=0.913, train_acc_step=0.650, val_loss=1.080, val_acc=0.487, train_loss_epoch=1.090, train_acc_epoch=0.482]"
     ]
    },
    {
     "name": "stderr",
     "output_type": "stream",
     "text": [
      "Metric val_loss improved by 0.002 >= min_delta = 0.0. New best score: 1.080\n"
     ]
    },
    {
     "name": "stdout",
     "output_type": "stream",
     "text": [
      "Epoch 4: 100%|██████████| 739/739 [00:09<00:00, 77.02it/s, v_num=5, train_loss_step=0.997, train_acc_step=0.550, val_loss=1.080, val_acc=0.487, train_loss_epoch=1.090, train_acc_epoch=0.486]"
     ]
    },
    {
     "name": "stderr",
     "output_type": "stream",
     "text": [
      "Metric val_loss improved by 0.000 >= min_delta = 0.0. New best score: 1.080\n"
     ]
    },
    {
     "name": "stdout",
     "output_type": "stream",
     "text": [
      "Epoch 5: 100%|██████████| 739/739 [00:09<00:00, 75.82it/s, v_num=5, train_loss_step=1.110, train_acc_step=0.500, val_loss=1.080, val_acc=0.490, train_loss_epoch=1.090, train_acc_epoch=0.482]"
     ]
    },
    {
     "name": "stderr",
     "output_type": "stream",
     "text": [
      "Metric val_loss improved by 0.002 >= min_delta = 0.0. New best score: 1.078\n"
     ]
    },
    {
     "name": "stdout",
     "output_type": "stream",
     "text": [
      "Epoch 7: 100%|██████████| 739/739 [00:09<00:00, 77.11it/s, v_num=5, train_loss_step=1.160, train_acc_step=0.450, val_loss=1.080, val_acc=0.491, train_loss_epoch=1.080, train_acc_epoch=0.491]"
     ]
    },
    {
     "name": "stderr",
     "output_type": "stream",
     "text": [
      "Metric val_loss improved by 0.003 >= min_delta = 0.0. New best score: 1.075\n"
     ]
    },
    {
     "name": "stdout",
     "output_type": "stream",
     "text": [
      "Epoch 8: 100%|██████████| 739/739 [00:09<00:00, 75.88it/s, v_num=5, train_loss_step=1.090, train_acc_step=0.500, val_loss=1.070, val_acc=0.490, train_loss_epoch=1.080, train_acc_epoch=0.488]"
     ]
    },
    {
     "name": "stderr",
     "output_type": "stream",
     "text": [
      "Metric val_loss improved by 0.001 >= min_delta = 0.0. New best score: 1.074\n"
     ]
    },
    {
     "name": "stdout",
     "output_type": "stream",
     "text": [
      "Epoch 9: 100%|██████████| 739/739 [00:09<00:00, 76.44it/s, v_num=5, train_loss_step=1.150, train_acc_step=0.250, val_loss=1.070, val_acc=0.499, train_loss_epoch=1.080, train_acc_epoch=0.488]"
     ]
    },
    {
     "name": "stderr",
     "output_type": "stream",
     "text": [
      "Metric val_loss improved by 0.008 >= min_delta = 0.0. New best score: 1.066\n"
     ]
    },
    {
     "name": "stdout",
     "output_type": "stream",
     "text": [
      "Epoch 14: 100%|██████████| 739/739 [00:09<00:00, 76.68it/s, v_num=5, train_loss_step=1.110, train_acc_step=0.500, val_loss=1.060, val_acc=0.501, train_loss_epoch=1.070, train_acc_epoch=0.493]"
     ]
    },
    {
     "name": "stderr",
     "output_type": "stream",
     "text": [
      "Metric val_loss improved by 0.004 >= min_delta = 0.0. New best score: 1.062\n"
     ]
    },
    {
     "name": "stdout",
     "output_type": "stream",
     "text": [
      "Epoch 15: 100%|██████████| 739/739 [00:09<00:00, 75.55it/s, v_num=5, train_loss_step=1.040, train_acc_step=0.600, val_loss=1.060, val_acc=0.499, train_loss_epoch=1.060, train_acc_epoch=0.500]"
     ]
    },
    {
     "name": "stderr",
     "output_type": "stream",
     "text": [
      "Metric val_loss improved by 0.004 >= min_delta = 0.0. New best score: 1.058\n"
     ]
    },
    {
     "name": "stdout",
     "output_type": "stream",
     "text": [
      "Epoch 20: 100%|██████████| 739/739 [00:09<00:00, 76.84it/s, v_num=5, train_loss_step=0.915, train_acc_step=0.650, val_loss=1.060, val_acc=0.509, train_loss_epoch=1.060, train_acc_epoch=0.503]"
     ]
    },
    {
     "name": "stderr",
     "output_type": "stream",
     "text": [
      "Metric val_loss improved by 0.000 >= min_delta = 0.0. New best score: 1.058\n"
     ]
    },
    {
     "name": "stdout",
     "output_type": "stream",
     "text": [
      "Epoch 22: 100%|██████████| 739/739 [00:09<00:00, 77.82it/s, v_num=5, train_loss_step=0.945, train_acc_step=0.550, val_loss=1.060, val_acc=0.500, train_loss_epoch=1.050, train_acc_epoch=0.504]"
     ]
    },
    {
     "name": "stderr",
     "output_type": "stream",
     "text": [
      "Metric val_loss improved by 0.000 >= min_delta = 0.0. New best score: 1.057\n"
     ]
    },
    {
     "name": "stdout",
     "output_type": "stream",
     "text": [
      "Epoch 23: 100%|██████████| 739/739 [00:09<00:00, 74.77it/s, v_num=5, train_loss_step=1.070, train_acc_step=0.550, val_loss=1.060, val_acc=0.503, train_loss_epoch=1.050, train_acc_epoch=0.502]"
     ]
    },
    {
     "name": "stderr",
     "output_type": "stream",
     "text": [
      "Metric val_loss improved by 0.000 >= min_delta = 0.0. New best score: 1.057\n"
     ]
    },
    {
     "name": "stdout",
     "output_type": "stream",
     "text": [
      "Epoch 25: 100%|██████████| 739/739 [00:09<00:00, 78.93it/s, v_num=5, train_loss_step=0.917, train_acc_step=0.450, val_loss=1.050, val_acc=0.504, train_loss_epoch=1.050, train_acc_epoch=0.508]"
     ]
    },
    {
     "name": "stderr",
     "output_type": "stream",
     "text": [
      "Metric val_loss improved by 0.005 >= min_delta = 0.0. New best score: 1.052\n"
     ]
    },
    {
     "name": "stdout",
     "output_type": "stream",
     "text": [
      "Epoch 29: 100%|██████████| 739/739 [00:09<00:00, 75.18it/s, v_num=5, train_loss_step=1.150, train_acc_step=0.450, val_loss=1.050, val_acc=0.509, train_loss_epoch=1.040, train_acc_epoch=0.512]"
     ]
    },
    {
     "name": "stderr",
     "output_type": "stream",
     "text": [
      "Metric val_loss improved by 0.001 >= min_delta = 0.0. New best score: 1.050\n"
     ]
    },
    {
     "name": "stdout",
     "output_type": "stream",
     "text": [
      "Epoch 30: 100%|██████████| 739/739 [00:09<00:00, 75.09it/s, v_num=5, train_loss_step=1.260, train_acc_step=0.450, val_loss=1.050, val_acc=0.515, train_loss_epoch=1.040, train_acc_epoch=0.513]"
     ]
    },
    {
     "name": "stderr",
     "output_type": "stream",
     "text": [
      "Metric val_loss improved by 0.001 >= min_delta = 0.0. New best score: 1.050\n"
     ]
    },
    {
     "name": "stdout",
     "output_type": "stream",
     "text": [
      "Epoch 35: 100%|██████████| 739/739 [00:11<00:00, 62.90it/s, v_num=5, train_loss_step=0.916, train_acc_step=0.650, val_loss=1.050, val_acc=0.514, train_loss_epoch=1.030, train_acc_epoch=0.519]"
     ]
    },
    {
     "name": "stderr",
     "output_type": "stream",
     "text": [
      "Monitored metric val_loss did not improve in the last 5 records. Best score: 1.050. Signaling Trainer to stop.\n"
     ]
    },
    {
     "name": "stdout",
     "output_type": "stream",
     "text": [
      "Epoch 35: 100%|██████████| 739/739 [00:11<00:00, 62.78it/s, v_num=5, train_loss_step=0.916, train_acc_step=0.650, val_loss=1.050, val_acc=0.514, train_loss_epoch=1.030, train_acc_epoch=0.519]"
     ]
    },
    {
     "name": "stderr",
     "output_type": "stream",
     "text": [
      "[I 2024-04-24 12:00:28,443] Trial 5 finished with value: 1.0496712923049927 and parameters: {'lr': 0.00044317354068919903, 'hidden_size': 144, 'num_hidden_layers': 3, 'dropout_rate': 0.18834442894150333, 'activation': 'elu'}. Best is trial 5 with value: 1.0496712923049927.\n"
     ]
    },
    {
     "name": "stdout",
     "output_type": "stream",
     "text": [
      "\n"
     ]
    },
    {
     "name": "stderr",
     "output_type": "stream",
     "text": [
      "GPU available: False, used: False\n",
      "TPU available: False, using: 0 TPU cores\n",
      "IPU available: False, using: 0 IPUs\n",
      "HPU available: False, using: 0 HPUs\n",
      "\n",
      "  | Name   | Type       | Params\n",
      "--------------------------------------\n",
      "0 | layers | Sequential | 2.9 K \n",
      "--------------------------------------\n",
      "2.9 K     Trainable params\n",
      "0         Non-trainable params\n",
      "2.9 K     Total params\n",
      "0.012     Total estimated model params size (MB)\n"
     ]
    },
    {
     "name": "stdout",
     "output_type": "stream",
     "text": [
      "Epoch 0: 100%|██████████| 739/739 [00:08<00:00, 91.53it/s, v_num=6, train_loss_step=1.000, train_acc_step=0.500, val_loss=1.100, val_acc=0.471, train_loss_epoch=1.130, train_acc_epoch=0.459]"
     ]
    },
    {
     "name": "stderr",
     "output_type": "stream",
     "text": [
      "Metric val_loss improved. New best score: 1.096\n"
     ]
    },
    {
     "name": "stdout",
     "output_type": "stream",
     "text": [
      "Epoch 1: 100%|██████████| 739/739 [00:08<00:00, 91.64it/s, v_num=6, train_loss_step=0.910, train_acc_step=0.700, val_loss=1.090, val_acc=0.475, train_loss_epoch=1.110, train_acc_epoch=0.473] "
     ]
    },
    {
     "name": "stderr",
     "output_type": "stream",
     "text": [
      "Metric val_loss improved by 0.005 >= min_delta = 0.0. New best score: 1.091\n"
     ]
    },
    {
     "name": "stdout",
     "output_type": "stream",
     "text": [
      "Epoch 2: 100%|██████████| 739/739 [00:07<00:00, 96.66it/s, v_num=6, train_loss_step=1.100, train_acc_step=0.450, val_loss=1.080, val_acc=0.485, train_loss_epoch=1.100, train_acc_epoch=0.476] "
     ]
    },
    {
     "name": "stderr",
     "output_type": "stream",
     "text": [
      "Metric val_loss improved by 0.008 >= min_delta = 0.0. New best score: 1.083\n"
     ]
    },
    {
     "name": "stdout",
     "output_type": "stream",
     "text": [
      "Epoch 3: 100%|██████████| 739/739 [00:07<00:00, 94.17it/s, v_num=6, train_loss_step=1.230, train_acc_step=0.400, val_loss=1.080, val_acc=0.486, train_loss_epoch=1.100, train_acc_epoch=0.479] "
     ]
    },
    {
     "name": "stderr",
     "output_type": "stream",
     "text": [
      "Metric val_loss improved by 0.004 >= min_delta = 0.0. New best score: 1.079\n"
     ]
    },
    {
     "name": "stdout",
     "output_type": "stream",
     "text": [
      "Epoch 4: 100%|██████████| 739/739 [00:07<00:00, 99.08it/s, v_num=6, train_loss_step=1.090, train_acc_step=0.550, val_loss=1.080, val_acc=0.485, train_loss_epoch=1.090, train_acc_epoch=0.482] "
     ]
    },
    {
     "name": "stderr",
     "output_type": "stream",
     "text": [
      "Metric val_loss improved by 0.001 >= min_delta = 0.0. New best score: 1.077\n"
     ]
    },
    {
     "name": "stdout",
     "output_type": "stream",
     "text": [
      "Epoch 5: 100%|██████████| 739/739 [00:07<00:00, 99.08it/s, v_num=6, train_loss_step=1.100, train_acc_step=0.500, val_loss=1.070, val_acc=0.495, train_loss_epoch=1.090, train_acc_epoch=0.483] "
     ]
    },
    {
     "name": "stderr",
     "output_type": "stream",
     "text": [
      "Metric val_loss improved by 0.011 >= min_delta = 0.0. New best score: 1.067\n"
     ]
    },
    {
     "name": "stdout",
     "output_type": "stream",
     "text": [
      "Epoch 7: 100%|██████████| 739/739 [00:07<00:00, 100.47it/s, v_num=6, train_loss_step=1.060, train_acc_step=0.600, val_loss=1.060, val_acc=0.501, train_loss_epoch=1.080, train_acc_epoch=0.486]"
     ]
    },
    {
     "name": "stderr",
     "output_type": "stream",
     "text": [
      "Metric val_loss improved by 0.007 >= min_delta = 0.0. New best score: 1.060\n"
     ]
    },
    {
     "name": "stdout",
     "output_type": "stream",
     "text": [
      "Epoch 12: 100%|██████████| 739/739 [00:07<00:00, 99.45it/s, v_num=6, train_loss_step=0.958, train_acc_step=0.600, val_loss=1.060, val_acc=0.508, train_loss_epoch=1.070, train_acc_epoch=0.498] "
     ]
    },
    {
     "name": "stderr",
     "output_type": "stream",
     "text": [
      "Monitored metric val_loss did not improve in the last 5 records. Best score: 1.060. Signaling Trainer to stop.\n"
     ]
    },
    {
     "name": "stdout",
     "output_type": "stream",
     "text": [
      "Epoch 12: 100%|██████████| 739/739 [00:07<00:00, 99.30it/s, v_num=6, train_loss_step=0.958, train_acc_step=0.600, val_loss=1.060, val_acc=0.508, train_loss_epoch=1.070, train_acc_epoch=0.498]\n"
     ]
    },
    {
     "name": "stderr",
     "output_type": "stream",
     "text": [
      "[I 2024-04-24 12:02:07,754] Trial 6 finished with value: 1.0629445314407349 and parameters: {'lr': 0.005171443581041231, 'hidden_size': 32, 'num_hidden_layers': 2, 'dropout_rate': 0.4232766101060511, 'activation': 'elu'}. Best is trial 5 with value: 1.0496712923049927.\n",
      "GPU available: False, used: False\n",
      "TPU available: False, using: 0 TPU cores\n",
      "IPU available: False, using: 0 IPUs\n",
      "HPU available: False, using: 0 HPUs\n",
      "\n",
      "  | Name   | Type       | Params\n",
      "--------------------------------------\n",
      "0 | layers | Sequential | 85.4 K\n",
      "--------------------------------------\n",
      "85.4 K    Trainable params\n",
      "0         Non-trainable params\n",
      "85.4 K    Total params\n",
      "0.342     Total estimated model params size (MB)\n"
     ]
    },
    {
     "name": "stdout",
     "output_type": "stream",
     "text": [
      "Epoch 0: 100%|██████████| 739/739 [00:10<00:00, 71.39it/s, v_num=7, train_loss_step=0.965, train_acc_step=0.600, val_loss=1.100, val_acc=0.476, train_loss_epoch=1.160, train_acc_epoch=0.444]"
     ]
    },
    {
     "name": "stderr",
     "output_type": "stream",
     "text": [
      "Metric val_loss improved. New best score: 1.098\n"
     ]
    },
    {
     "name": "stdout",
     "output_type": "stream",
     "text": [
      "Epoch 1: 100%|██████████| 739/739 [00:10<00:00, 72.59it/s, v_num=7, train_loss_step=1.360, train_acc_step=0.200, val_loss=1.090, val_acc=0.488, train_loss_epoch=1.100, train_acc_epoch=0.474]"
     ]
    },
    {
     "name": "stderr",
     "output_type": "stream",
     "text": [
      "Metric val_loss improved by 0.009 >= min_delta = 0.0. New best score: 1.089\n"
     ]
    },
    {
     "name": "stdout",
     "output_type": "stream",
     "text": [
      "Epoch 2: 100%|██████████| 739/739 [00:10<00:00, 71.68it/s, v_num=7, train_loss_step=1.090, train_acc_step=0.550, val_loss=1.080, val_acc=0.482, train_loss_epoch=1.090, train_acc_epoch=0.479]"
     ]
    },
    {
     "name": "stderr",
     "output_type": "stream",
     "text": [
      "Metric val_loss improved by 0.006 >= min_delta = 0.0. New best score: 1.083\n"
     ]
    },
    {
     "name": "stdout",
     "output_type": "stream",
     "text": [
      "Epoch 4: 100%|██████████| 739/739 [00:12<00:00, 59.63it/s, v_num=7, train_loss_step=0.869, train_acc_step=0.750, val_loss=1.080, val_acc=0.492, train_loss_epoch=1.090, train_acc_epoch=0.477]"
     ]
    },
    {
     "name": "stderr",
     "output_type": "stream",
     "text": [
      "Metric val_loss improved by 0.005 >= min_delta = 0.0. New best score: 1.078\n"
     ]
    },
    {
     "name": "stdout",
     "output_type": "stream",
     "text": [
      "Epoch 8: 100%|██████████| 739/739 [00:09<00:00, 74.20it/s, v_num=7, train_loss_step=0.992, train_acc_step=0.400, val_loss=1.080, val_acc=0.487, train_loss_epoch=1.090, train_acc_epoch=0.484]"
     ]
    },
    {
     "name": "stderr",
     "output_type": "stream",
     "text": [
      "Metric val_loss improved by 0.000 >= min_delta = 0.0. New best score: 1.077\n"
     ]
    },
    {
     "name": "stdout",
     "output_type": "stream",
     "text": [
      "Epoch 9: 100%|██████████| 739/739 [00:10<00:00, 72.51it/s, v_num=7, train_loss_step=1.170, train_acc_step=0.500, val_loss=1.070, val_acc=0.494, train_loss_epoch=1.090, train_acc_epoch=0.486]"
     ]
    },
    {
     "name": "stderr",
     "output_type": "stream",
     "text": [
      "Metric val_loss improved by 0.003 >= min_delta = 0.0. New best score: 1.074\n"
     ]
    },
    {
     "name": "stdout",
     "output_type": "stream",
     "text": [
      "Epoch 11: 100%|██████████| 739/739 [00:10<00:00, 72.39it/s, v_num=7, train_loss_step=1.300, train_acc_step=0.450, val_loss=1.070, val_acc=0.492, train_loss_epoch=1.080, train_acc_epoch=0.486]"
     ]
    },
    {
     "name": "stderr",
     "output_type": "stream",
     "text": [
      "Metric val_loss improved by 0.002 >= min_delta = 0.0. New best score: 1.073\n"
     ]
    },
    {
     "name": "stdout",
     "output_type": "stream",
     "text": [
      "Epoch 12: 100%|██████████| 739/739 [00:10<00:00, 71.81it/s, v_num=7, train_loss_step=1.160, train_acc_step=0.350, val_loss=1.070, val_acc=0.492, train_loss_epoch=1.080, train_acc_epoch=0.487]"
     ]
    },
    {
     "name": "stderr",
     "output_type": "stream",
     "text": [
      "Metric val_loss improved by 0.000 >= min_delta = 0.0. New best score: 1.072\n"
     ]
    },
    {
     "name": "stdout",
     "output_type": "stream",
     "text": [
      "Epoch 14: 100%|██████████| 739/739 [00:10<00:00, 73.52it/s, v_num=7, train_loss_step=1.160, train_acc_step=0.500, val_loss=1.070, val_acc=0.495, train_loss_epoch=1.080, train_acc_epoch=0.491]"
     ]
    },
    {
     "name": "stderr",
     "output_type": "stream",
     "text": [
      "Metric val_loss improved by 0.001 >= min_delta = 0.0. New best score: 1.071\n"
     ]
    },
    {
     "name": "stdout",
     "output_type": "stream",
     "text": [
      "Epoch 16: 100%|██████████| 739/739 [00:10<00:00, 73.45it/s, v_num=7, train_loss_step=0.941, train_acc_step=0.450, val_loss=1.070, val_acc=0.493, train_loss_epoch=1.080, train_acc_epoch=0.488]"
     ]
    },
    {
     "name": "stderr",
     "output_type": "stream",
     "text": [
      "Metric val_loss improved by 0.002 >= min_delta = 0.0. New best score: 1.069\n"
     ]
    },
    {
     "name": "stdout",
     "output_type": "stream",
     "text": [
      "Epoch 17: 100%|██████████| 739/739 [00:10<00:00, 70.66it/s, v_num=7, train_loss_step=1.290, train_acc_step=0.550, val_loss=1.070, val_acc=0.490, train_loss_epoch=1.080, train_acc_epoch=0.491]"
     ]
    },
    {
     "name": "stderr",
     "output_type": "stream",
     "text": [
      "Metric val_loss improved by 0.000 >= min_delta = 0.0. New best score: 1.069\n"
     ]
    },
    {
     "name": "stdout",
     "output_type": "stream",
     "text": [
      "Epoch 18: 100%|██████████| 739/739 [00:10<00:00, 71.76it/s, v_num=7, train_loss_step=1.110, train_acc_step=0.500, val_loss=1.070, val_acc=0.493, train_loss_epoch=1.070, train_acc_epoch=0.494]"
     ]
    },
    {
     "name": "stderr",
     "output_type": "stream",
     "text": [
      "Metric val_loss improved by 0.003 >= min_delta = 0.0. New best score: 1.066\n"
     ]
    },
    {
     "name": "stdout",
     "output_type": "stream",
     "text": [
      "Epoch 22: 100%|██████████| 739/739 [00:10<00:00, 69.27it/s, v_num=7, train_loss_step=0.880, train_acc_step=0.650, val_loss=1.070, val_acc=0.493, train_loss_epoch=1.070, train_acc_epoch=0.495]"
     ]
    },
    {
     "name": "stderr",
     "output_type": "stream",
     "text": [
      "Metric val_loss improved by 0.000 >= min_delta = 0.0. New best score: 1.066\n"
     ]
    },
    {
     "name": "stdout",
     "output_type": "stream",
     "text": [
      "Epoch 23: 100%|██████████| 739/739 [00:10<00:00, 72.20it/s, v_num=7, train_loss_step=1.420, train_acc_step=0.250, val_loss=1.070, val_acc=0.501, train_loss_epoch=1.070, train_acc_epoch=0.496]"
     ]
    },
    {
     "name": "stderr",
     "output_type": "stream",
     "text": [
      "Metric val_loss improved by 0.000 >= min_delta = 0.0. New best score: 1.066\n"
     ]
    },
    {
     "name": "stdout",
     "output_type": "stream",
     "text": [
      "Epoch 25: 100%|██████████| 739/739 [00:09<00:00, 74.45it/s, v_num=7, train_loss_step=1.000, train_acc_step=0.650, val_loss=1.060, val_acc=0.498, train_loss_epoch=1.070, train_acc_epoch=0.497]"
     ]
    },
    {
     "name": "stderr",
     "output_type": "stream",
     "text": [
      "Metric val_loss improved by 0.003 >= min_delta = 0.0. New best score: 1.063\n"
     ]
    },
    {
     "name": "stdout",
     "output_type": "stream",
     "text": [
      "Epoch 26: 100%|██████████| 739/739 [00:10<00:00, 72.46it/s, v_num=7, train_loss_step=1.050, train_acc_step=0.450, val_loss=1.060, val_acc=0.497, train_loss_epoch=1.070, train_acc_epoch=0.496]"
     ]
    },
    {
     "name": "stderr",
     "output_type": "stream",
     "text": [
      "Metric val_loss improved by 0.002 >= min_delta = 0.0. New best score: 1.061\n"
     ]
    },
    {
     "name": "stdout",
     "output_type": "stream",
     "text": [
      "Epoch 31: 100%|██████████| 739/739 [00:10<00:00, 73.58it/s, v_num=7, train_loss_step=0.996, train_acc_step=0.600, val_loss=1.060, val_acc=0.503, train_loss_epoch=1.060, train_acc_epoch=0.501]"
     ]
    },
    {
     "name": "stderr",
     "output_type": "stream",
     "text": [
      "Metric val_loss improved by 0.003 >= min_delta = 0.0. New best score: 1.058\n"
     ]
    },
    {
     "name": "stdout",
     "output_type": "stream",
     "text": [
      "Epoch 35: 100%|██████████| 739/739 [00:09<00:00, 73.93it/s, v_num=7, train_loss_step=0.900, train_acc_step=0.650, val_loss=1.060, val_acc=0.508, train_loss_epoch=1.060, train_acc_epoch=0.502]"
     ]
    },
    {
     "name": "stderr",
     "output_type": "stream",
     "text": [
      "Metric val_loss improved by 0.003 >= min_delta = 0.0. New best score: 1.055\n"
     ]
    },
    {
     "name": "stdout",
     "output_type": "stream",
     "text": [
      "Epoch 39: 100%|██████████| 739/739 [00:10<00:00, 71.47it/s, v_num=7, train_loss_step=1.120, train_acc_step=0.400, val_loss=1.050, val_acc=0.500, train_loss_epoch=1.050, train_acc_epoch=0.507]"
     ]
    },
    {
     "name": "stderr",
     "output_type": "stream",
     "text": [
      "Metric val_loss improved by 0.001 >= min_delta = 0.0. New best score: 1.054\n"
     ]
    },
    {
     "name": "stdout",
     "output_type": "stream",
     "text": [
      "Epoch 40: 100%|██████████| 739/739 [00:10<00:00, 70.63it/s, v_num=7, train_loss_step=1.030, train_acc_step=0.650, val_loss=1.050, val_acc=0.505, train_loss_epoch=1.050, train_acc_epoch=0.506]"
     ]
    },
    {
     "name": "stderr",
     "output_type": "stream",
     "text": [
      "Metric val_loss improved by 0.001 >= min_delta = 0.0. New best score: 1.053\n"
     ]
    },
    {
     "name": "stdout",
     "output_type": "stream",
     "text": [
      "Epoch 42: 100%|██████████| 739/739 [00:10<00:00, 72.26it/s, v_num=7, train_loss_step=1.040, train_acc_step=0.500, val_loss=1.050, val_acc=0.505, train_loss_epoch=1.050, train_acc_epoch=0.508]"
     ]
    },
    {
     "name": "stderr",
     "output_type": "stream",
     "text": [
      "Metric val_loss improved by 0.000 >= min_delta = 0.0. New best score: 1.053\n"
     ]
    },
    {
     "name": "stdout",
     "output_type": "stream",
     "text": [
      "Epoch 47: 100%|██████████| 739/739 [00:10<00:00, 71.71it/s, v_num=7, train_loss_step=1.000, train_acc_step=0.450, val_loss=1.050, val_acc=0.511, train_loss_epoch=1.050, train_acc_epoch=0.509]"
     ]
    },
    {
     "name": "stderr",
     "output_type": "stream",
     "text": [
      "Metric val_loss improved by 0.002 >= min_delta = 0.0. New best score: 1.051\n"
     ]
    },
    {
     "name": "stdout",
     "output_type": "stream",
     "text": [
      "Epoch 51: 100%|██████████| 739/739 [00:10<00:00, 73.43it/s, v_num=7, train_loss_step=1.320, train_acc_step=0.250, val_loss=1.050, val_acc=0.506, train_loss_epoch=1.040, train_acc_epoch=0.514]"
     ]
    },
    {
     "name": "stderr",
     "output_type": "stream",
     "text": [
      "Metric val_loss improved by 0.000 >= min_delta = 0.0. New best score: 1.051\n"
     ]
    },
    {
     "name": "stdout",
     "output_type": "stream",
     "text": [
      "Epoch 52: 100%|██████████| 739/739 [00:10<00:00, 70.86it/s, v_num=7, train_loss_step=0.993, train_acc_step=0.550, val_loss=1.050, val_acc=0.509, train_loss_epoch=1.040, train_acc_epoch=0.512]"
     ]
    },
    {
     "name": "stderr",
     "output_type": "stream",
     "text": [
      "Metric val_loss improved by 0.000 >= min_delta = 0.0. New best score: 1.050\n"
     ]
    },
    {
     "name": "stdout",
     "output_type": "stream",
     "text": [
      "Epoch 53: 100%|██████████| 739/739 [00:10<00:00, 71.31it/s, v_num=7, train_loss_step=1.330, train_acc_step=0.350, val_loss=1.050, val_acc=0.508, train_loss_epoch=1.040, train_acc_epoch=0.512]"
     ]
    },
    {
     "name": "stderr",
     "output_type": "stream",
     "text": [
      "Metric val_loss improved by 0.000 >= min_delta = 0.0. New best score: 1.050\n"
     ]
    },
    {
     "name": "stdout",
     "output_type": "stream",
     "text": [
      "Epoch 58: 100%|██████████| 739/739 [00:10<00:00, 72.05it/s, v_num=7, train_loss_step=1.340, train_acc_step=0.350, val_loss=1.050, val_acc=0.506, train_loss_epoch=1.040, train_acc_epoch=0.517]"
     ]
    },
    {
     "name": "stderr",
     "output_type": "stream",
     "text": [
      "Monitored metric val_loss did not improve in the last 5 records. Best score: 1.050. Signaling Trainer to stop.\n"
     ]
    },
    {
     "name": "stdout",
     "output_type": "stream",
     "text": [
      "Epoch 58: 100%|██████████| 739/739 [00:10<00:00, 71.95it/s, v_num=7, train_loss_step=1.340, train_acc_step=0.350, val_loss=1.050, val_acc=0.506, train_loss_epoch=1.040, train_acc_epoch=0.517]"
     ]
    },
    {
     "name": "stderr",
     "output_type": "stream",
     "text": [
      "[I 2024-04-24 12:12:20,822] Trial 7 finished with value: 1.0499399900436401 and parameters: {'lr': 0.00017550253418002719, 'hidden_size': 192, 'num_hidden_layers': 3, 'dropout_rate': 0.2528095816058039, 'activation': 'elu'}. Best is trial 5 with value: 1.0496712923049927.\n"
     ]
    },
    {
     "name": "stdout",
     "output_type": "stream",
     "text": [
      "\n"
     ]
    },
    {
     "name": "stderr",
     "output_type": "stream",
     "text": [
      "GPU available: False, used: False\n",
      "TPU available: False, using: 0 TPU cores\n",
      "IPU available: False, using: 0 IPUs\n",
      "HPU available: False, using: 0 HPUs\n",
      "\n",
      "  | Name   | Type       | Params\n",
      "--------------------------------------\n",
      "0 | layers | Sequential | 5.7 K \n",
      "--------------------------------------\n",
      "5.7 K     Trainable params\n",
      "0         Non-trainable params\n",
      "5.7 K     Total params\n",
      "0.023     Total estimated model params size (MB)\n"
     ]
    },
    {
     "name": "stdout",
     "output_type": "stream",
     "text": [
      "Epoch 0: 100%|██████████| 739/739 [00:07<00:00, 98.47it/s, v_num=8, train_loss_step=1.290, train_acc_step=0.350, val_loss=1.150, val_acc=0.462, train_loss_epoch=1.200, train_acc_epoch=0.430]"
     ]
    },
    {
     "name": "stderr",
     "output_type": "stream",
     "text": [
      "Metric val_loss improved. New best score: 1.154\n"
     ]
    },
    {
     "name": "stdout",
     "output_type": "stream",
     "text": [
      "Epoch 1: 100%|██████████| 739/739 [00:07<00:00, 100.00it/s, v_num=8, train_loss_step=1.220, train_acc_step=0.400, val_loss=1.120, val_acc=0.472, train_loss_epoch=1.130, train_acc_epoch=0.468]"
     ]
    },
    {
     "name": "stderr",
     "output_type": "stream",
     "text": [
      "Metric val_loss improved by 0.038 >= min_delta = 0.0. New best score: 1.116\n"
     ]
    },
    {
     "name": "stdout",
     "output_type": "stream",
     "text": [
      "Epoch 2: 100%|██████████| 739/739 [00:07<00:00, 99.09it/s, v_num=8, train_loss_step=1.150, train_acc_step=0.400, val_loss=1.100, val_acc=0.482, train_loss_epoch=1.110, train_acc_epoch=0.477] "
     ]
    },
    {
     "name": "stderr",
     "output_type": "stream",
     "text": [
      "Metric val_loss improved by 0.020 >= min_delta = 0.0. New best score: 1.096\n"
     ]
    },
    {
     "name": "stdout",
     "output_type": "stream",
     "text": [
      "Epoch 3: 100%|██████████| 739/739 [00:07<00:00, 95.96it/s, v_num=8, train_loss_step=1.030, train_acc_step=0.450, val_loss=1.090, val_acc=0.485, train_loss_epoch=1.090, train_acc_epoch=0.485] "
     ]
    },
    {
     "name": "stderr",
     "output_type": "stream",
     "text": [
      "Metric val_loss improved by 0.010 >= min_delta = 0.0. New best score: 1.085\n"
     ]
    },
    {
     "name": "stdout",
     "output_type": "stream",
     "text": [
      "Epoch 4: 100%|██████████| 739/739 [00:07<00:00, 96.10it/s, v_num=8, train_loss_step=1.280, train_acc_step=0.400, val_loss=1.080, val_acc=0.491, train_loss_epoch=1.080, train_acc_epoch=0.487] "
     ]
    },
    {
     "name": "stderr",
     "output_type": "stream",
     "text": [
      "Metric val_loss improved by 0.005 >= min_delta = 0.0. New best score: 1.080\n"
     ]
    },
    {
     "name": "stdout",
     "output_type": "stream",
     "text": [
      "Epoch 5: 100%|██████████| 739/739 [00:07<00:00, 99.73it/s, v_num=8, train_loss_step=1.250, train_acc_step=0.300, val_loss=1.080, val_acc=0.490, train_loss_epoch=1.080, train_acc_epoch=0.492] "
     ]
    },
    {
     "name": "stderr",
     "output_type": "stream",
     "text": [
      "Metric val_loss improved by 0.003 >= min_delta = 0.0. New best score: 1.077\n"
     ]
    },
    {
     "name": "stdout",
     "output_type": "stream",
     "text": [
      "Epoch 6: 100%|██████████| 739/739 [00:07<00:00, 97.01it/s, v_num=8, train_loss_step=1.040, train_acc_step=0.600, val_loss=1.080, val_acc=0.492, train_loss_epoch=1.080, train_acc_epoch=0.494] "
     ]
    },
    {
     "name": "stderr",
     "output_type": "stream",
     "text": [
      "Metric val_loss improved by 0.002 >= min_delta = 0.0. New best score: 1.075\n"
     ]
    },
    {
     "name": "stdout",
     "output_type": "stream",
     "text": [
      "Epoch 7: 100%|██████████| 739/739 [00:07<00:00, 98.17it/s, v_num=8, train_loss_step=1.050, train_acc_step=0.450, val_loss=1.070, val_acc=0.497, train_loss_epoch=1.070, train_acc_epoch=0.496] "
     ]
    },
    {
     "name": "stderr",
     "output_type": "stream",
     "text": [
      "Metric val_loss improved by 0.002 >= min_delta = 0.0. New best score: 1.073\n"
     ]
    },
    {
     "name": "stdout",
     "output_type": "stream",
     "text": [
      "Epoch 9: 100%|██████████| 739/739 [00:09<00:00, 75.16it/s, v_num=8, train_loss_step=1.100, train_acc_step=0.450, val_loss=1.070, val_acc=0.498, train_loss_epoch=1.070, train_acc_epoch=0.498] "
     ]
    },
    {
     "name": "stderr",
     "output_type": "stream",
     "text": [
      "Metric val_loss improved by 0.002 >= min_delta = 0.0. New best score: 1.071\n"
     ]
    },
    {
     "name": "stdout",
     "output_type": "stream",
     "text": [
      "Epoch 10: 100%|██████████| 739/739 [00:07<00:00, 99.42it/s, v_num=8, train_loss_step=1.030, train_acc_step=0.600, val_loss=1.070, val_acc=0.499, train_loss_epoch=1.070, train_acc_epoch=0.500] "
     ]
    },
    {
     "name": "stderr",
     "output_type": "stream",
     "text": [
      "Metric val_loss improved by 0.000 >= min_delta = 0.0. New best score: 1.071\n"
     ]
    },
    {
     "name": "stdout",
     "output_type": "stream",
     "text": [
      "Epoch 11: 100%|██████████| 739/739 [00:07<00:00, 97.85it/s, v_num=8, train_loss_step=0.966, train_acc_step=0.550, val_loss=1.070, val_acc=0.498, train_loss_epoch=1.070, train_acc_epoch=0.501] "
     ]
    },
    {
     "name": "stderr",
     "output_type": "stream",
     "text": [
      "Metric val_loss improved by 0.001 >= min_delta = 0.0. New best score: 1.070\n"
     ]
    },
    {
     "name": "stdout",
     "output_type": "stream",
     "text": [
      "Epoch 12: 100%|██████████| 739/739 [00:09<00:00, 75.89it/s, v_num=8, train_loss_step=0.970, train_acc_step=0.600, val_loss=1.070, val_acc=0.497, train_loss_epoch=1.060, train_acc_epoch=0.503]"
     ]
    },
    {
     "name": "stderr",
     "output_type": "stream",
     "text": [
      "Metric val_loss improved by 0.001 >= min_delta = 0.0. New best score: 1.069\n"
     ]
    },
    {
     "name": "stdout",
     "output_type": "stream",
     "text": [
      "Epoch 15: 100%|██████████| 739/739 [00:13<00:00, 54.87it/s, v_num=8, train_loss_step=1.180, train_acc_step=0.450, val_loss=1.070, val_acc=0.501, train_loss_epoch=1.060, train_acc_epoch=0.505]"
     ]
    },
    {
     "name": "stderr",
     "output_type": "stream",
     "text": [
      "Metric val_loss improved by 0.003 >= min_delta = 0.0. New best score: 1.066\n"
     ]
    },
    {
     "name": "stdout",
     "output_type": "stream",
     "text": [
      "Epoch 17: 100%|██████████| 739/739 [00:11<00:00, 63.49it/s, v_num=8, train_loss_step=1.130, train_acc_step=0.350, val_loss=1.070, val_acc=0.507, train_loss_epoch=1.060, train_acc_epoch=0.507]"
     ]
    },
    {
     "name": "stderr",
     "output_type": "stream",
     "text": [
      "Metric val_loss improved by 0.001 >= min_delta = 0.0. New best score: 1.065\n"
     ]
    },
    {
     "name": "stdout",
     "output_type": "stream",
     "text": [
      "Epoch 18: 100%|██████████| 739/739 [00:11<00:00, 63.20it/s, v_num=8, train_loss_step=1.090, train_acc_step=0.350, val_loss=1.060, val_acc=0.504, train_loss_epoch=1.050, train_acc_epoch=0.508]"
     ]
    },
    {
     "name": "stderr",
     "output_type": "stream",
     "text": [
      "Metric val_loss improved by 0.001 >= min_delta = 0.0. New best score: 1.064\n"
     ]
    },
    {
     "name": "stdout",
     "output_type": "stream",
     "text": [
      "Epoch 20: 100%|██████████| 739/739 [00:09<00:00, 74.27it/s, v_num=8, train_loss_step=1.020, train_acc_step=0.600, val_loss=1.060, val_acc=0.507, train_loss_epoch=1.050, train_acc_epoch=0.510]"
     ]
    },
    {
     "name": "stderr",
     "output_type": "stream",
     "text": [
      "Metric val_loss improved by 0.000 >= min_delta = 0.0. New best score: 1.064\n"
     ]
    },
    {
     "name": "stdout",
     "output_type": "stream",
     "text": [
      "Epoch 21: 100%|██████████| 739/739 [00:09<00:00, 76.52it/s, v_num=8, train_loss_step=0.899, train_acc_step=0.650, val_loss=1.060, val_acc=0.508, train_loss_epoch=1.050, train_acc_epoch=0.512]"
     ]
    },
    {
     "name": "stderr",
     "output_type": "stream",
     "text": [
      "Metric val_loss improved by 0.002 >= min_delta = 0.0. New best score: 1.062\n"
     ]
    },
    {
     "name": "stdout",
     "output_type": "stream",
     "text": [
      "Epoch 23: 100%|██████████| 739/739 [00:10<00:00, 70.62it/s, v_num=8, train_loss_step=1.190, train_acc_step=0.400, val_loss=1.060, val_acc=0.505, train_loss_epoch=1.050, train_acc_epoch=0.515]"
     ]
    },
    {
     "name": "stderr",
     "output_type": "stream",
     "text": [
      "Metric val_loss improved by 0.000 >= min_delta = 0.0. New best score: 1.062\n"
     ]
    },
    {
     "name": "stdout",
     "output_type": "stream",
     "text": [
      "Epoch 24: 100%|██████████| 739/739 [00:10<00:00, 71.11it/s, v_num=8, train_loss_step=1.500, train_acc_step=0.350, val_loss=1.060, val_acc=0.504, train_loss_epoch=1.040, train_acc_epoch=0.515]"
     ]
    },
    {
     "name": "stderr",
     "output_type": "stream",
     "text": [
      "Metric val_loss improved by 0.001 >= min_delta = 0.0. New best score: 1.061\n"
     ]
    },
    {
     "name": "stdout",
     "output_type": "stream",
     "text": [
      "Epoch 25: 100%|██████████| 739/739 [00:09<00:00, 77.01it/s, v_num=8, train_loss_step=1.050, train_acc_step=0.450, val_loss=1.060, val_acc=0.506, train_loss_epoch=1.040, train_acc_epoch=0.517] "
     ]
    },
    {
     "name": "stderr",
     "output_type": "stream",
     "text": [
      "Metric val_loss improved by 0.000 >= min_delta = 0.0. New best score: 1.061\n"
     ]
    },
    {
     "name": "stdout",
     "output_type": "stream",
     "text": [
      "Epoch 27: 100%|██████████| 739/739 [00:09<00:00, 75.34it/s, v_num=8, train_loss_step=1.010, train_acc_step=0.500, val_loss=1.060, val_acc=0.507, train_loss_epoch=1.040, train_acc_epoch=0.519]"
     ]
    },
    {
     "name": "stderr",
     "output_type": "stream",
     "text": [
      "Metric val_loss improved by 0.002 >= min_delta = 0.0. New best score: 1.059\n"
     ]
    },
    {
     "name": "stdout",
     "output_type": "stream",
     "text": [
      "Epoch 29: 100%|██████████| 739/739 [00:11<00:00, 63.12it/s, v_num=8, train_loss_step=1.180, train_acc_step=0.400, val_loss=1.060, val_acc=0.508, train_loss_epoch=1.040, train_acc_epoch=0.522] "
     ]
    },
    {
     "name": "stderr",
     "output_type": "stream",
     "text": [
      "Metric val_loss improved by 0.001 >= min_delta = 0.0. New best score: 1.058\n"
     ]
    },
    {
     "name": "stdout",
     "output_type": "stream",
     "text": [
      "Epoch 34: 100%|██████████| 739/739 [00:12<00:00, 61.36it/s, v_num=8, train_loss_step=0.936, train_acc_step=0.650, val_loss=1.060, val_acc=0.514, train_loss_epoch=1.030, train_acc_epoch=0.524]"
     ]
    },
    {
     "name": "stderr",
     "output_type": "stream",
     "text": [
      "Metric val_loss improved by 0.002 >= min_delta = 0.0. New best score: 1.056\n"
     ]
    },
    {
     "name": "stdout",
     "output_type": "stream",
     "text": [
      "Epoch 35: 100%|██████████| 739/739 [00:12<00:00, 59.85it/s, v_num=8, train_loss_step=1.230, train_acc_step=0.550, val_loss=1.060, val_acc=0.511, train_loss_epoch=1.030, train_acc_epoch=0.523]"
     ]
    },
    {
     "name": "stderr",
     "output_type": "stream",
     "text": [
      "Metric val_loss improved by 0.001 >= min_delta = 0.0. New best score: 1.056\n"
     ]
    },
    {
     "name": "stdout",
     "output_type": "stream",
     "text": [
      "Epoch 38: 100%|██████████| 739/739 [00:15<00:00, 49.06it/s, v_num=8, train_loss_step=0.946, train_acc_step=0.500, val_loss=1.060, val_acc=0.511, train_loss_epoch=1.030, train_acc_epoch=0.526]"
     ]
    },
    {
     "name": "stderr",
     "output_type": "stream",
     "text": [
      "Metric val_loss improved by 0.000 >= min_delta = 0.0. New best score: 1.056\n"
     ]
    },
    {
     "name": "stdout",
     "output_type": "stream",
     "text": [
      "Epoch 40: 100%|██████████| 739/739 [00:12<00:00, 60.68it/s, v_num=8, train_loss_step=1.100, train_acc_step=0.500, val_loss=1.060, val_acc=0.512, train_loss_epoch=1.030, train_acc_epoch=0.528]"
     ]
    },
    {
     "name": "stderr",
     "output_type": "stream",
     "text": [
      "Metric val_loss improved by 0.000 >= min_delta = 0.0. New best score: 1.055\n"
     ]
    },
    {
     "name": "stdout",
     "output_type": "stream",
     "text": [
      "Epoch 43: 100%|██████████| 739/739 [00:11<00:00, 62.96it/s, v_num=8, train_loss_step=1.030, train_acc_step=0.600, val_loss=1.060, val_acc=0.513, train_loss_epoch=1.020, train_acc_epoch=0.531]"
     ]
    },
    {
     "name": "stderr",
     "output_type": "stream",
     "text": [
      "Metric val_loss improved by 0.000 >= min_delta = 0.0. New best score: 1.055\n"
     ]
    },
    {
     "name": "stdout",
     "output_type": "stream",
     "text": [
      "Epoch 46: 100%|██████████| 739/739 [00:12<00:00, 61.20it/s, v_num=8, train_loss_step=1.120, train_acc_step=0.400, val_loss=1.050, val_acc=0.511, train_loss_epoch=1.020, train_acc_epoch=0.532]"
     ]
    },
    {
     "name": "stderr",
     "output_type": "stream",
     "text": [
      "Metric val_loss improved by 0.001 >= min_delta = 0.0. New best score: 1.055\n"
     ]
    },
    {
     "name": "stdout",
     "output_type": "stream",
     "text": [
      "Epoch 49: 100%|██████████| 739/739 [00:12<00:00, 60.21it/s, v_num=8, train_loss_step=0.898, train_acc_step=0.550, val_loss=1.050, val_acc=0.512, train_loss_epoch=1.020, train_acc_epoch=0.533]"
     ]
    },
    {
     "name": "stderr",
     "output_type": "stream",
     "text": [
      "Metric val_loss improved by 0.001 >= min_delta = 0.0. New best score: 1.054\n"
     ]
    },
    {
     "name": "stdout",
     "output_type": "stream",
     "text": [
      "Epoch 52: 100%|██████████| 739/739 [00:12<00:00, 59.84it/s, v_num=8, train_loss_step=0.836, train_acc_step=0.750, val_loss=1.050, val_acc=0.513, train_loss_epoch=1.010, train_acc_epoch=0.536]"
     ]
    },
    {
     "name": "stderr",
     "output_type": "stream",
     "text": [
      "Metric val_loss improved by 0.000 >= min_delta = 0.0. New best score: 1.054\n"
     ]
    },
    {
     "name": "stdout",
     "output_type": "stream",
     "text": [
      "Epoch 57: 100%|██████████| 739/739 [00:12<00:00, 59.88it/s, v_num=8, train_loss_step=0.974, train_acc_step=0.400, val_loss=1.050, val_acc=0.514, train_loss_epoch=1.010, train_acc_epoch=0.538]"
     ]
    },
    {
     "name": "stderr",
     "output_type": "stream",
     "text": [
      "Metric val_loss improved by 0.000 >= min_delta = 0.0. New best score: 1.053\n"
     ]
    },
    {
     "name": "stdout",
     "output_type": "stream",
     "text": [
      "Epoch 60: 100%|██████████| 739/739 [00:12<00:00, 60.02it/s, v_num=8, train_loss_step=0.886, train_acc_step=0.450, val_loss=1.050, val_acc=0.513, train_loss_epoch=1.010, train_acc_epoch=0.539]"
     ]
    },
    {
     "name": "stderr",
     "output_type": "stream",
     "text": [
      "Metric val_loss improved by 0.000 >= min_delta = 0.0. New best score: 1.053\n"
     ]
    },
    {
     "name": "stdout",
     "output_type": "stream",
     "text": [
      "Epoch 64: 100%|██████████| 739/739 [00:16<00:00, 45.72it/s, v_num=8, train_loss_step=1.060, train_acc_step=0.400, val_loss=1.050, val_acc=0.510, train_loss_epoch=1.010, train_acc_epoch=0.542]"
     ]
    },
    {
     "name": "stderr",
     "output_type": "stream",
     "text": [
      "Metric val_loss improved by 0.000 >= min_delta = 0.0. New best score: 1.053\n"
     ]
    },
    {
     "name": "stdout",
     "output_type": "stream",
     "text": [
      "Epoch 69: 100%|██████████| 739/739 [00:08<00:00, 84.94it/s, v_num=8, train_loss_step=1.160, train_acc_step=0.550, val_loss=1.050, val_acc=0.513, train_loss_epoch=1.000, train_acc_epoch=0.544]"
     ]
    },
    {
     "name": "stderr",
     "output_type": "stream",
     "text": [
      "Monitored metric val_loss did not improve in the last 5 records. Best score: 1.053. Signaling Trainer to stop.\n"
     ]
    },
    {
     "name": "stdout",
     "output_type": "stream",
     "text": [
      "Epoch 69: 100%|██████████| 739/739 [00:08<00:00, 84.80it/s, v_num=8, train_loss_step=1.160, train_acc_step=0.550, val_loss=1.050, val_acc=0.513, train_loss_epoch=1.000, train_acc_epoch=0.544]"
     ]
    },
    {
     "name": "stderr",
     "output_type": "stream",
     "text": [
      "[I 2024-04-24 12:25:32,303] Trial 8 finished with value: 1.0536092519760132 and parameters: {'lr': 0.00016570990823338173, 'hidden_size': 96, 'num_hidden_layers': 1, 'dropout_rate': 0.278210256911436, 'activation': 'leaky_relu'}. Best is trial 5 with value: 1.0496712923049927.\n"
     ]
    },
    {
     "name": "stdout",
     "output_type": "stream",
     "text": [
      "\n"
     ]
    },
    {
     "name": "stderr",
     "output_type": "stream",
     "text": [
      "GPU available: False, used: False\n",
      "TPU available: False, using: 0 TPU cores\n",
      "IPU available: False, using: 0 IPUs\n",
      "HPU available: False, using: 0 HPUs\n",
      "\n",
      "  | Name   | Type       | Params\n",
      "--------------------------------------\n",
      "0 | layers | Sequential | 2.9 K \n",
      "--------------------------------------\n",
      "2.9 K     Trainable params\n",
      "0         Non-trainable params\n",
      "2.9 K     Total params\n",
      "0.012     Total estimated model params size (MB)\n"
     ]
    },
    {
     "name": "stdout",
     "output_type": "stream",
     "text": [
      "Epoch 0: 100%|██████████| 739/739 [00:07<00:00, 95.01it/s, v_num=9, train_loss_step=1.120, train_acc_step=0.400, val_loss=1.090, val_acc=0.474, train_loss_epoch=1.150, train_acc_epoch=0.451]"
     ]
    },
    {
     "name": "stderr",
     "output_type": "stream",
     "text": [
      "Metric val_loss improved. New best score: 1.088\n"
     ]
    },
    {
     "name": "stdout",
     "output_type": "stream",
     "text": [
      "Epoch 1: 100%|██████████| 739/739 [00:07<00:00, 95.10it/s, v_num=9, train_loss_step=1.180, train_acc_step=0.400, val_loss=1.090, val_acc=0.484, train_loss_epoch=1.110, train_acc_epoch=0.476] "
     ]
    },
    {
     "name": "stderr",
     "output_type": "stream",
     "text": [
      "Metric val_loss improved by 0.003 >= min_delta = 0.0. New best score: 1.085\n"
     ]
    },
    {
     "name": "stdout",
     "output_type": "stream",
     "text": [
      "Epoch 2: 100%|██████████| 739/739 [00:07<00:00, 102.98it/s, v_num=9, train_loss_step=1.170, train_acc_step=0.300, val_loss=1.090, val_acc=0.481, train_loss_epoch=1.100, train_acc_epoch=0.477]"
     ]
    },
    {
     "name": "stderr",
     "output_type": "stream",
     "text": [
      "Metric val_loss improved by 0.000 >= min_delta = 0.0. New best score: 1.085\n"
     ]
    },
    {
     "name": "stdout",
     "output_type": "stream",
     "text": [
      "Epoch 3: 100%|██████████| 739/739 [00:07<00:00, 103.52it/s, v_num=9, train_loss_step=1.210, train_acc_step=0.300, val_loss=1.080, val_acc=0.489, train_loss_epoch=1.100, train_acc_epoch=0.479]"
     ]
    },
    {
     "name": "stderr",
     "output_type": "stream",
     "text": [
      "Metric val_loss improved by 0.006 >= min_delta = 0.0. New best score: 1.079\n"
     ]
    },
    {
     "name": "stdout",
     "output_type": "stream",
     "text": [
      "Epoch 4: 100%|██████████| 739/739 [00:07<00:00, 93.92it/s, v_num=9, train_loss_step=1.140, train_acc_step=0.300, val_loss=1.080, val_acc=0.492, train_loss_epoch=1.090, train_acc_epoch=0.479] "
     ]
    },
    {
     "name": "stderr",
     "output_type": "stream",
     "text": [
      "Metric val_loss improved by 0.000 >= min_delta = 0.0. New best score: 1.079\n"
     ]
    },
    {
     "name": "stdout",
     "output_type": "stream",
     "text": [
      "Epoch 5: 100%|██████████| 739/739 [00:07<00:00, 103.39it/s, v_num=9, train_loss_step=0.943, train_acc_step=0.600, val_loss=1.070, val_acc=0.494, train_loss_epoch=1.090, train_acc_epoch=0.484]"
     ]
    },
    {
     "name": "stderr",
     "output_type": "stream",
     "text": [
      "Metric val_loss improved by 0.005 >= min_delta = 0.0. New best score: 1.075\n"
     ]
    },
    {
     "name": "stdout",
     "output_type": "stream",
     "text": [
      "Epoch 7: 100%|██████████| 739/739 [00:07<00:00, 104.62it/s, v_num=9, train_loss_step=1.040, train_acc_step=0.500, val_loss=1.070, val_acc=0.495, train_loss_epoch=1.090, train_acc_epoch=0.483]"
     ]
    },
    {
     "name": "stderr",
     "output_type": "stream",
     "text": [
      "Metric val_loss improved by 0.006 >= min_delta = 0.0. New best score: 1.069\n"
     ]
    },
    {
     "name": "stdout",
     "output_type": "stream",
     "text": [
      "Epoch 12: 100%|██████████| 739/739 [00:07<00:00, 100.64it/s, v_num=9, train_loss_step=0.913, train_acc_step=0.650, val_loss=1.060, val_acc=0.500, train_loss_epoch=1.070, train_acc_epoch=0.492]"
     ]
    },
    {
     "name": "stderr",
     "output_type": "stream",
     "text": [
      "Metric val_loss improved by 0.004 >= min_delta = 0.0. New best score: 1.064\n"
     ]
    },
    {
     "name": "stdout",
     "output_type": "stream",
     "text": [
      "Epoch 13: 100%|██████████| 739/739 [00:07<00:00, 95.62it/s, v_num=9, train_loss_step=1.140, train_acc_step=0.500, val_loss=1.060, val_acc=0.498, train_loss_epoch=1.070, train_acc_epoch=0.490] "
     ]
    },
    {
     "name": "stderr",
     "output_type": "stream",
     "text": [
      "Metric val_loss improved by 0.003 >= min_delta = 0.0. New best score: 1.061\n"
     ]
    },
    {
     "name": "stdout",
     "output_type": "stream",
     "text": [
      "Epoch 18: 100%|██████████| 739/739 [00:08<00:00, 89.95it/s, v_num=9, train_loss_step=1.230, train_acc_step=0.450, val_loss=1.060, val_acc=0.504, train_loss_epoch=1.060, train_acc_epoch=0.500] "
     ]
    },
    {
     "name": "stderr",
     "output_type": "stream",
     "text": [
      "Metric val_loss improved by 0.002 >= min_delta = 0.0. New best score: 1.059\n"
     ]
    },
    {
     "name": "stdout",
     "output_type": "stream",
     "text": [
      "Epoch 19: 100%|██████████| 739/739 [00:08<00:00, 86.88it/s, v_num=9, train_loss_step=1.020, train_acc_step=0.650, val_loss=1.060, val_acc=0.506, train_loss_epoch=1.060, train_acc_epoch=0.502] "
     ]
    },
    {
     "name": "stderr",
     "output_type": "stream",
     "text": [
      "Metric val_loss improved by 0.001 >= min_delta = 0.0. New best score: 1.058\n"
     ]
    },
    {
     "name": "stdout",
     "output_type": "stream",
     "text": [
      "Epoch 20: 100%|██████████| 739/739 [00:08<00:00, 86.19it/s, v_num=9, train_loss_step=0.971, train_acc_step=0.550, val_loss=1.060, val_acc=0.505, train_loss_epoch=1.060, train_acc_epoch=0.499] "
     ]
    },
    {
     "name": "stderr",
     "output_type": "stream",
     "text": [
      "Metric val_loss improved by 0.000 >= min_delta = 0.0. New best score: 1.058\n"
     ]
    },
    {
     "name": "stdout",
     "output_type": "stream",
     "text": [
      "Epoch 22: 100%|██████████| 739/739 [00:08<00:00, 89.35it/s, v_num=9, train_loss_step=0.906, train_acc_step=0.550, val_loss=1.050, val_acc=0.511, train_loss_epoch=1.060, train_acc_epoch=0.503] "
     ]
    },
    {
     "name": "stderr",
     "output_type": "stream",
     "text": [
      "Metric val_loss improved by 0.005 >= min_delta = 0.0. New best score: 1.052\n"
     ]
    },
    {
     "name": "stdout",
     "output_type": "stream",
     "text": [
      "Epoch 26: 100%|██████████| 739/739 [00:08<00:00, 88.77it/s, v_num=9, train_loss_step=1.150, train_acc_step=0.500, val_loss=1.050, val_acc=0.507, train_loss_epoch=1.050, train_acc_epoch=0.506] "
     ]
    },
    {
     "name": "stderr",
     "output_type": "stream",
     "text": [
      "Metric val_loss improved by 0.000 >= min_delta = 0.0. New best score: 1.052\n"
     ]
    },
    {
     "name": "stdout",
     "output_type": "stream",
     "text": [
      "Epoch 30: 100%|██████████| 739/739 [00:08<00:00, 87.66it/s, v_num=9, train_loss_step=1.020, train_acc_step=0.550, val_loss=1.050, val_acc=0.515, train_loss_epoch=1.050, train_acc_epoch=0.506] "
     ]
    },
    {
     "name": "stderr",
     "output_type": "stream",
     "text": [
      "Metric val_loss improved by 0.001 >= min_delta = 0.0. New best score: 1.051\n"
     ]
    },
    {
     "name": "stdout",
     "output_type": "stream",
     "text": [
      "Epoch 34: 100%|██████████| 739/739 [00:08<00:00, 87.97it/s, v_num=9, train_loss_step=0.969, train_acc_step=0.450, val_loss=1.050, val_acc=0.517, train_loss_epoch=1.050, train_acc_epoch=0.507] "
     ]
    },
    {
     "name": "stderr",
     "output_type": "stream",
     "text": [
      "Metric val_loss improved by 0.001 >= min_delta = 0.0. New best score: 1.050\n"
     ]
    },
    {
     "name": "stdout",
     "output_type": "stream",
     "text": [
      "Epoch 37: 100%|██████████| 739/739 [00:08<00:00, 87.33it/s, v_num=9, train_loss_step=0.946, train_acc_step=0.650, val_loss=1.050, val_acc=0.521, train_loss_epoch=1.040, train_acc_epoch=0.512] "
     ]
    },
    {
     "name": "stderr",
     "output_type": "stream",
     "text": [
      "Metric val_loss improved by 0.002 >= min_delta = 0.0. New best score: 1.048\n"
     ]
    },
    {
     "name": "stdout",
     "output_type": "stream",
     "text": [
      "Epoch 42: 100%|██████████| 739/739 [00:08<00:00, 87.12it/s, v_num=9, train_loss_step=0.982, train_acc_step=0.500, val_loss=1.050, val_acc=0.515, train_loss_epoch=1.040, train_acc_epoch=0.513] "
     ]
    },
    {
     "name": "stderr",
     "output_type": "stream",
     "text": [
      "Monitored metric val_loss did not improve in the last 5 records. Best score: 1.048. Signaling Trainer to stop.\n"
     ]
    },
    {
     "name": "stdout",
     "output_type": "stream",
     "text": [
      "Epoch 42: 100%|██████████| 739/739 [00:08<00:00, 87.00it/s, v_num=9, train_loss_step=0.982, train_acc_step=0.500, val_loss=1.050, val_acc=0.515, train_loss_epoch=1.040, train_acc_epoch=0.513]"
     ]
    },
    {
     "name": "stderr",
     "output_type": "stream",
     "text": [
      "[I 2024-04-24 12:31:22,542] Trial 9 finished with value: 1.0502374172210693 and parameters: {'lr': 0.0015844850008277583, 'hidden_size': 32, 'num_hidden_layers': 2, 'dropout_rate': 0.4895784184368075, 'activation': 'elu'}. Best is trial 5 with value: 1.0496712923049927.\n"
     ]
    },
    {
     "name": "stdout",
     "output_type": "stream",
     "text": [
      "\n"
     ]
    },
    {
     "name": "stderr",
     "output_type": "stream",
     "text": [
      "GPU available: False, used: False\n",
      "TPU available: False, using: 0 TPU cores\n",
      "IPU available: False, using: 0 IPUs\n",
      "HPU available: False, using: 0 HPUs\n",
      "\n",
      "  | Name   | Type       | Params\n",
      "--------------------------------------\n",
      "0 | layers | Sequential | 15.1 K\n",
      "--------------------------------------\n",
      "15.1 K    Trainable params\n",
      "0         Non-trainable params\n",
      "15.1 K    Total params\n",
      "0.060     Total estimated model params size (MB)\n"
     ]
    },
    {
     "name": "stdout",
     "output_type": "stream",
     "text": [
      "Epoch 0: 100%|██████████| 739/739 [00:08<00:00, 88.42it/s, v_num=10, train_loss_step=1.090, train_acc_step=0.600, val_loss=1.090, val_acc=0.486, train_loss_epoch=1.140, train_acc_epoch=0.457]"
     ]
    },
    {
     "name": "stderr",
     "output_type": "stream",
     "text": [
      "Metric val_loss improved. New best score: 1.087\n"
     ]
    },
    {
     "name": "stdout",
     "output_type": "stream",
     "text": [
      "Epoch 1: 100%|██████████| 739/739 [00:07<00:00, 92.61it/s, v_num=10, train_loss_step=1.070, train_acc_step=0.450, val_loss=1.070, val_acc=0.491, train_loss_epoch=1.080, train_acc_epoch=0.492] "
     ]
    },
    {
     "name": "stderr",
     "output_type": "stream",
     "text": [
      "Metric val_loss improved by 0.015 >= min_delta = 0.0. New best score: 1.072\n"
     ]
    },
    {
     "name": "stdout",
     "output_type": "stream",
     "text": [
      "Epoch 2: 100%|██████████| 739/739 [00:07<00:00, 92.90it/s, v_num=10, train_loss_step=0.972, train_acc_step=0.650, val_loss=1.070, val_acc=0.496, train_loss_epoch=1.070, train_acc_epoch=0.496] "
     ]
    },
    {
     "name": "stderr",
     "output_type": "stream",
     "text": [
      "Metric val_loss improved by 0.002 >= min_delta = 0.0. New best score: 1.070\n"
     ]
    },
    {
     "name": "stdout",
     "output_type": "stream",
     "text": [
      "Epoch 3: 100%|██████████| 739/739 [00:07<00:00, 92.75it/s, v_num=10, train_loss_step=0.989, train_acc_step=0.550, val_loss=1.060, val_acc=0.506, train_loss_epoch=1.060, train_acc_epoch=0.501] "
     ]
    },
    {
     "name": "stderr",
     "output_type": "stream",
     "text": [
      "Metric val_loss improved by 0.009 >= min_delta = 0.0. New best score: 1.062\n"
     ]
    },
    {
     "name": "stdout",
     "output_type": "stream",
     "text": [
      "Epoch 5: 100%|██████████| 739/739 [00:08<00:00, 92.08it/s, v_num=10, train_loss_step=1.020, train_acc_step=0.650, val_loss=1.060, val_acc=0.503, train_loss_epoch=1.050, train_acc_epoch=0.513] "
     ]
    },
    {
     "name": "stderr",
     "output_type": "stream",
     "text": [
      "Metric val_loss improved by 0.004 >= min_delta = 0.0. New best score: 1.058\n"
     ]
    },
    {
     "name": "stdout",
     "output_type": "stream",
     "text": [
      "Epoch 7: 100%|██████████| 739/739 [00:07<00:00, 94.60it/s, v_num=10, train_loss_step=0.926, train_acc_step=0.600, val_loss=1.050, val_acc=0.506, train_loss_epoch=1.030, train_acc_epoch=0.525] "
     ]
    },
    {
     "name": "stderr",
     "output_type": "stream",
     "text": [
      "Metric val_loss improved by 0.003 >= min_delta = 0.0. New best score: 1.054\n"
     ]
    },
    {
     "name": "stdout",
     "output_type": "stream",
     "text": [
      "Epoch 8: 100%|██████████| 739/739 [00:08<00:00, 90.11it/s, v_num=10, train_loss_step=1.170, train_acc_step=0.300, val_loss=1.050, val_acc=0.505, train_loss_epoch=1.030, train_acc_epoch=0.526] "
     ]
    },
    {
     "name": "stderr",
     "output_type": "stream",
     "text": [
      "Metric val_loss improved by 0.000 >= min_delta = 0.0. New best score: 1.054\n"
     ]
    },
    {
     "name": "stdout",
     "output_type": "stream",
     "text": [
      "Epoch 9: 100%|██████████| 739/739 [00:07<00:00, 92.76it/s, v_num=10, train_loss_step=1.180, train_acc_step=0.350, val_loss=1.050, val_acc=0.510, train_loss_epoch=1.020, train_acc_epoch=0.531] "
     ]
    },
    {
     "name": "stderr",
     "output_type": "stream",
     "text": [
      "Metric val_loss improved by 0.002 >= min_delta = 0.0. New best score: 1.051\n"
     ]
    },
    {
     "name": "stdout",
     "output_type": "stream",
     "text": [
      "Epoch 10: 100%|██████████| 739/739 [00:08<00:00, 89.50it/s, v_num=10, train_loss_step=1.590, train_acc_step=0.300, val_loss=1.050, val_acc=0.513, train_loss_epoch=1.020, train_acc_epoch=0.532] "
     ]
    },
    {
     "name": "stderr",
     "output_type": "stream",
     "text": [
      "Metric val_loss improved by 0.001 >= min_delta = 0.0. New best score: 1.051\n"
     ]
    },
    {
     "name": "stdout",
     "output_type": "stream",
     "text": [
      "Epoch 11: 100%|██████████| 739/739 [00:08<00:00, 89.64it/s, v_num=10, train_loss_step=0.807, train_acc_step=0.550, val_loss=1.050, val_acc=0.513, train_loss_epoch=1.010, train_acc_epoch=0.538] "
     ]
    },
    {
     "name": "stderr",
     "output_type": "stream",
     "text": [
      "Metric val_loss improved by 0.003 >= min_delta = 0.0. New best score: 1.047\n"
     ]
    },
    {
     "name": "stdout",
     "output_type": "stream",
     "text": [
      "Epoch 16: 100%|██████████| 739/739 [00:07<00:00, 94.53it/s, v_num=10, train_loss_step=0.706, train_acc_step=0.800, val_loss=1.060, val_acc=0.511, train_loss_epoch=0.988, train_acc_epoch=0.551] "
     ]
    },
    {
     "name": "stderr",
     "output_type": "stream",
     "text": [
      "Monitored metric val_loss did not improve in the last 5 records. Best score: 1.047. Signaling Trainer to stop.\n"
     ]
    },
    {
     "name": "stdout",
     "output_type": "stream",
     "text": [
      "Epoch 16: 100%|██████████| 739/739 [00:07<00:00, 94.35it/s, v_num=10, train_loss_step=0.706, train_acc_step=0.800, val_loss=1.060, val_acc=0.511, train_loss_epoch=0.988, train_acc_epoch=0.551]"
     ]
    },
    {
     "name": "stderr",
     "output_type": "stream",
     "text": [
      "[I 2024-04-24 12:33:38,876] Trial 10 finished with value: 1.0563042163848877 and parameters: {'lr': 0.00046952505079416725, 'hidden_size': 256, 'num_hidden_layers': 1, 'dropout_rate': 0.10760464954420024, 'activation': 'leaky_relu'}. Best is trial 5 with value: 1.0496712923049927.\n"
     ]
    },
    {
     "name": "stdout",
     "output_type": "stream",
     "text": [
      "\n"
     ]
    },
    {
     "name": "stderr",
     "output_type": "stream",
     "text": [
      "GPU available: False, used: False\n",
      "TPU available: False, using: 0 TPU cores\n",
      "IPU available: False, using: 0 IPUs\n",
      "HPU available: False, using: 0 HPUs\n",
      "\n",
      "  | Name   | Type       | Params\n",
      "--------------------------------------\n",
      "0 | layers | Sequential | 50.3 K\n",
      "--------------------------------------\n",
      "50.3 K    Trainable params\n",
      "0         Non-trainable params\n",
      "50.3 K    Total params\n",
      "0.201     Total estimated model params size (MB)\n"
     ]
    },
    {
     "name": "stdout",
     "output_type": "stream",
     "text": [
      "Epoch 0: 100%|██████████| 739/739 [00:10<00:00, 72.84it/s, v_num=11, train_loss_step=1.240, train_acc_step=0.350, val_loss=1.120, val_acc=0.468, train_loss_epoch=1.190, train_acc_epoch=0.431]"
     ]
    },
    {
     "name": "stderr",
     "output_type": "stream",
     "text": [
      "Metric val_loss improved. New best score: 1.124\n"
     ]
    },
    {
     "name": "stdout",
     "output_type": "stream",
     "text": [
      "Epoch 1: 100%|██████████| 739/739 [00:10<00:00, 72.76it/s, v_num=11, train_loss_step=1.050, train_acc_step=0.550, val_loss=1.090, val_acc=0.474, train_loss_epoch=1.110, train_acc_epoch=0.468]"
     ]
    },
    {
     "name": "stderr",
     "output_type": "stream",
     "text": [
      "Metric val_loss improved by 0.031 >= min_delta = 0.0. New best score: 1.093\n"
     ]
    },
    {
     "name": "stdout",
     "output_type": "stream",
     "text": [
      "Epoch 2: 100%|██████████| 739/739 [00:10<00:00, 73.26it/s, v_num=11, train_loss_step=1.060, train_acc_step=0.550, val_loss=1.080, val_acc=0.480, train_loss_epoch=1.100, train_acc_epoch=0.476]"
     ]
    },
    {
     "name": "stderr",
     "output_type": "stream",
     "text": [
      "Metric val_loss improved by 0.008 >= min_delta = 0.0. New best score: 1.085\n"
     ]
    },
    {
     "name": "stdout",
     "output_type": "stream",
     "text": [
      "Epoch 3: 100%|██████████| 739/739 [00:09<00:00, 74.46it/s, v_num=11, train_loss_step=1.180, train_acc_step=0.500, val_loss=1.080, val_acc=0.484, train_loss_epoch=1.090, train_acc_epoch=0.482]"
     ]
    },
    {
     "name": "stderr",
     "output_type": "stream",
     "text": [
      "Metric val_loss improved by 0.001 >= min_delta = 0.0. New best score: 1.083\n"
     ]
    },
    {
     "name": "stdout",
     "output_type": "stream",
     "text": [
      "Epoch 4: 100%|██████████| 739/739 [00:09<00:00, 74.62it/s, v_num=11, train_loss_step=1.060, train_acc_step=0.450, val_loss=1.080, val_acc=0.483, train_loss_epoch=1.090, train_acc_epoch=0.481]"
     ]
    },
    {
     "name": "stderr",
     "output_type": "stream",
     "text": [
      "Metric val_loss improved by 0.004 >= min_delta = 0.0. New best score: 1.080\n"
     ]
    },
    {
     "name": "stdout",
     "output_type": "stream",
     "text": [
      "Epoch 5: 100%|██████████| 739/739 [00:09<00:00, 74.64it/s, v_num=11, train_loss_step=1.030, train_acc_step=0.500, val_loss=1.080, val_acc=0.488, train_loss_epoch=1.090, train_acc_epoch=0.482]"
     ]
    },
    {
     "name": "stderr",
     "output_type": "stream",
     "text": [
      "Metric val_loss improved by 0.001 >= min_delta = 0.0. New best score: 1.079\n"
     ]
    },
    {
     "name": "stdout",
     "output_type": "stream",
     "text": [
      "Epoch 7: 100%|██████████| 739/739 [00:10<00:00, 68.06it/s, v_num=11, train_loss_step=0.830, train_acc_step=0.700, val_loss=1.080, val_acc=0.487, train_loss_epoch=1.090, train_acc_epoch=0.483]"
     ]
    },
    {
     "name": "stderr",
     "output_type": "stream",
     "text": [
      "Metric val_loss improved by 0.001 >= min_delta = 0.0. New best score: 1.078\n"
     ]
    },
    {
     "name": "stdout",
     "output_type": "stream",
     "text": [
      "Epoch 8: 100%|██████████| 739/739 [00:12<00:00, 59.91it/s, v_num=11, train_loss_step=1.090, train_acc_step=0.550, val_loss=1.080, val_acc=0.488, train_loss_epoch=1.090, train_acc_epoch=0.483]"
     ]
    },
    {
     "name": "stderr",
     "output_type": "stream",
     "text": [
      "Metric val_loss improved by 0.001 >= min_delta = 0.0. New best score: 1.077\n"
     ]
    },
    {
     "name": "stdout",
     "output_type": "stream",
     "text": [
      "Epoch 11: 100%|██████████| 739/739 [00:10<00:00, 72.33it/s, v_num=11, train_loss_step=1.150, train_acc_step=0.350, val_loss=1.080, val_acc=0.488, train_loss_epoch=1.090, train_acc_epoch=0.487]"
     ]
    },
    {
     "name": "stderr",
     "output_type": "stream",
     "text": [
      "Metric val_loss improved by 0.002 >= min_delta = 0.0. New best score: 1.075\n"
     ]
    },
    {
     "name": "stdout",
     "output_type": "stream",
     "text": [
      "Epoch 16: 100%|██████████| 739/739 [00:09<00:00, 74.22it/s, v_num=11, train_loss_step=1.190, train_acc_step=0.450, val_loss=1.070, val_acc=0.493, train_loss_epoch=1.080, train_acc_epoch=0.489]"
     ]
    },
    {
     "name": "stderr",
     "output_type": "stream",
     "text": [
      "Metric val_loss improved by 0.002 >= min_delta = 0.0. New best score: 1.074\n"
     ]
    },
    {
     "name": "stdout",
     "output_type": "stream",
     "text": [
      "Epoch 17: 100%|██████████| 739/739 [00:10<00:00, 71.69it/s, v_num=11, train_loss_step=1.070, train_acc_step=0.500, val_loss=1.070, val_acc=0.493, train_loss_epoch=1.080, train_acc_epoch=0.487]"
     ]
    },
    {
     "name": "stderr",
     "output_type": "stream",
     "text": [
      "Metric val_loss improved by 0.001 >= min_delta = 0.0. New best score: 1.073\n"
     ]
    },
    {
     "name": "stdout",
     "output_type": "stream",
     "text": [
      "Epoch 21: 100%|██████████| 739/739 [00:09<00:00, 75.25it/s, v_num=11, train_loss_step=1.130, train_acc_step=0.350, val_loss=1.070, val_acc=0.490, train_loss_epoch=1.080, train_acc_epoch=0.489]"
     ]
    },
    {
     "name": "stderr",
     "output_type": "stream",
     "text": [
      "Metric val_loss improved by 0.001 >= min_delta = 0.0. New best score: 1.073\n"
     ]
    },
    {
     "name": "stdout",
     "output_type": "stream",
     "text": [
      "Epoch 26: 100%|██████████| 739/739 [00:10<00:00, 73.21it/s, v_num=11, train_loss_step=1.040, train_acc_step=0.500, val_loss=1.070, val_acc=0.488, train_loss_epoch=1.080, train_acc_epoch=0.491]"
     ]
    },
    {
     "name": "stderr",
     "output_type": "stream",
     "text": [
      "Monitored metric val_loss did not improve in the last 5 records. Best score: 1.073. Signaling Trainer to stop.\n"
     ]
    },
    {
     "name": "stdout",
     "output_type": "stream",
     "text": [
      "Epoch 26: 100%|██████████| 739/739 [00:10<00:00, 73.07it/s, v_num=11, train_loss_step=1.040, train_acc_step=0.500, val_loss=1.070, val_acc=0.488, train_loss_epoch=1.080, train_acc_epoch=0.491]\n"
     ]
    },
    {
     "name": "stderr",
     "output_type": "stream",
     "text": [
      "[I 2024-04-24 12:38:13,290] Trial 11 finished with value: 1.0733962059020996 and parameters: {'lr': 0.00011468815981982816, 'hidden_size': 144, 'num_hidden_layers': 3, 'dropout_rate': 0.24707119573983052, 'activation': 'elu'}. Best is trial 5 with value: 1.0496712923049927.\n",
      "GPU available: False, used: False\n",
      "TPU available: False, using: 0 TPU cores\n",
      "IPU available: False, using: 0 IPUs\n",
      "HPU available: False, using: 0 HPUs\n",
      "\n",
      "  | Name   | Type       | Params\n",
      "--------------------------------------\n",
      "0 | layers | Sequential | 61.0 K\n",
      "--------------------------------------\n",
      "61.0 K    Trainable params\n",
      "0         Non-trainable params\n",
      "61.0 K    Total params\n",
      "0.244     Total estimated model params size (MB)\n"
     ]
    },
    {
     "name": "stdout",
     "output_type": "stream",
     "text": [
      "Epoch 0: 100%|██████████| 739/739 [00:10<00:00, 70.26it/s, v_num=12, train_loss_step=1.010, train_acc_step=0.500, val_loss=1.090, val_acc=0.480, train_loss_epoch=1.130, train_acc_epoch=0.457]"
     ]
    },
    {
     "name": "stderr",
     "output_type": "stream",
     "text": [
      "Metric val_loss improved. New best score: 1.087\n"
     ]
    },
    {
     "name": "stdout",
     "output_type": "stream",
     "text": [
      "Epoch 1: 100%|██████████| 739/739 [00:10<00:00, 70.88it/s, v_num=12, train_loss_step=1.070, train_acc_step=0.350, val_loss=1.080, val_acc=0.481, train_loss_epoch=1.100, train_acc_epoch=0.480]"
     ]
    },
    {
     "name": "stderr",
     "output_type": "stream",
     "text": [
      "Metric val_loss improved by 0.003 >= min_delta = 0.0. New best score: 1.083\n"
     ]
    },
    {
     "name": "stdout",
     "output_type": "stream",
     "text": [
      "Epoch 2: 100%|██████████| 739/739 [00:10<00:00, 70.09it/s, v_num=12, train_loss_step=1.270, train_acc_step=0.300, val_loss=1.080, val_acc=0.487, train_loss_epoch=1.090, train_acc_epoch=0.481]"
     ]
    },
    {
     "name": "stderr",
     "output_type": "stream",
     "text": [
      "Metric val_loss improved by 0.003 >= min_delta = 0.0. New best score: 1.080\n"
     ]
    },
    {
     "name": "stdout",
     "output_type": "stream",
     "text": [
      "Epoch 5: 100%|██████████| 739/739 [00:10<00:00, 71.07it/s, v_num=12, train_loss_step=1.050, train_acc_step=0.400, val_loss=1.080, val_acc=0.485, train_loss_epoch=1.080, train_acc_epoch=0.484]"
     ]
    },
    {
     "name": "stderr",
     "output_type": "stream",
     "text": [
      "Metric val_loss improved by 0.000 >= min_delta = 0.0. New best score: 1.080\n"
     ]
    },
    {
     "name": "stdout",
     "output_type": "stream",
     "text": [
      "Epoch 6: 100%|██████████| 739/739 [00:10<00:00, 70.62it/s, v_num=12, train_loss_step=1.160, train_acc_step=0.400, val_loss=1.070, val_acc=0.492, train_loss_epoch=1.080, train_acc_epoch=0.487]"
     ]
    },
    {
     "name": "stderr",
     "output_type": "stream",
     "text": [
      "Metric val_loss improved by 0.007 >= min_delta = 0.0. New best score: 1.073\n"
     ]
    },
    {
     "name": "stdout",
     "output_type": "stream",
     "text": [
      "Epoch 10: 100%|██████████| 739/739 [00:10<00:00, 71.49it/s, v_num=12, train_loss_step=0.966, train_acc_step=0.550, val_loss=1.070, val_acc=0.496, train_loss_epoch=1.080, train_acc_epoch=0.492]"
     ]
    },
    {
     "name": "stderr",
     "output_type": "stream",
     "text": [
      "Metric val_loss improved by 0.007 >= min_delta = 0.0. New best score: 1.066\n"
     ]
    },
    {
     "name": "stdout",
     "output_type": "stream",
     "text": [
      "Epoch 12: 100%|██████████| 739/739 [00:12<00:00, 59.20it/s, v_num=12, train_loss_step=1.020, train_acc_step=0.550, val_loss=1.060, val_acc=0.494, train_loss_epoch=1.070, train_acc_epoch=0.492]"
     ]
    },
    {
     "name": "stderr",
     "output_type": "stream",
     "text": [
      "Metric val_loss improved by 0.003 >= min_delta = 0.0. New best score: 1.062\n"
     ]
    },
    {
     "name": "stdout",
     "output_type": "stream",
     "text": [
      "Epoch 14: 100%|██████████| 739/739 [00:10<00:00, 71.57it/s, v_num=12, train_loss_step=1.510, train_acc_step=0.450, val_loss=1.060, val_acc=0.499, train_loss_epoch=1.070, train_acc_epoch=0.496]"
     ]
    },
    {
     "name": "stderr",
     "output_type": "stream",
     "text": [
      "Metric val_loss improved by 0.001 >= min_delta = 0.0. New best score: 1.062\n"
     ]
    },
    {
     "name": "stdout",
     "output_type": "stream",
     "text": [
      "Epoch 15: 100%|██████████| 739/739 [00:10<00:00, 70.83it/s, v_num=12, train_loss_step=1.210, train_acc_step=0.400, val_loss=1.060, val_acc=0.498, train_loss_epoch=1.070, train_acc_epoch=0.498]"
     ]
    },
    {
     "name": "stderr",
     "output_type": "stream",
     "text": [
      "Metric val_loss improved by 0.000 >= min_delta = 0.0. New best score: 1.061\n"
     ]
    },
    {
     "name": "stdout",
     "output_type": "stream",
     "text": [
      "Epoch 16: 100%|██████████| 739/739 [00:10<00:00, 71.10it/s, v_num=12, train_loss_step=1.130, train_acc_step=0.550, val_loss=1.060, val_acc=0.505, train_loss_epoch=1.060, train_acc_epoch=0.496]"
     ]
    },
    {
     "name": "stderr",
     "output_type": "stream",
     "text": [
      "Metric val_loss improved by 0.004 >= min_delta = 0.0. New best score: 1.058\n"
     ]
    },
    {
     "name": "stdout",
     "output_type": "stream",
     "text": [
      "Epoch 20: 100%|██████████| 739/739 [00:10<00:00, 72.10it/s, v_num=12, train_loss_step=1.000, train_acc_step=0.600, val_loss=1.060, val_acc=0.505, train_loss_epoch=1.060, train_acc_epoch=0.502]"
     ]
    },
    {
     "name": "stderr",
     "output_type": "stream",
     "text": [
      "Metric val_loss improved by 0.002 >= min_delta = 0.0. New best score: 1.056\n"
     ]
    },
    {
     "name": "stdout",
     "output_type": "stream",
     "text": [
      "Epoch 22: 100%|██████████| 739/739 [00:11<00:00, 67.00it/s, v_num=12, train_loss_step=0.800, train_acc_step=0.650, val_loss=1.050, val_acc=0.506, train_loss_epoch=1.050, train_acc_epoch=0.507]"
     ]
    },
    {
     "name": "stderr",
     "output_type": "stream",
     "text": [
      "Metric val_loss improved by 0.003 >= min_delta = 0.0. New best score: 1.053\n"
     ]
    },
    {
     "name": "stdout",
     "output_type": "stream",
     "text": [
      "Epoch 23: 100%|██████████| 739/739 [00:10<00:00, 69.50it/s, v_num=12, train_loss_step=1.170, train_acc_step=0.550, val_loss=1.050, val_acc=0.506, train_loss_epoch=1.050, train_acc_epoch=0.505]"
     ]
    },
    {
     "name": "stderr",
     "output_type": "stream",
     "text": [
      "Metric val_loss improved by 0.000 >= min_delta = 0.0. New best score: 1.053\n"
     ]
    },
    {
     "name": "stdout",
     "output_type": "stream",
     "text": [
      "Epoch 24: 100%|██████████| 739/739 [00:11<00:00, 67.16it/s, v_num=12, train_loss_step=1.040, train_acc_step=0.550, val_loss=1.050, val_acc=0.503, train_loss_epoch=1.050, train_acc_epoch=0.511]"
     ]
    },
    {
     "name": "stderr",
     "output_type": "stream",
     "text": [
      "Metric val_loss improved by 0.000 >= min_delta = 0.0. New best score: 1.053\n"
     ]
    },
    {
     "name": "stdout",
     "output_type": "stream",
     "text": [
      "Epoch 27: 100%|██████████| 739/739 [00:10<00:00, 71.79it/s, v_num=12, train_loss_step=1.100, train_acc_step=0.350, val_loss=1.050, val_acc=0.513, train_loss_epoch=1.040, train_acc_epoch=0.512]"
     ]
    },
    {
     "name": "stderr",
     "output_type": "stream",
     "text": [
      "Metric val_loss improved by 0.001 >= min_delta = 0.0. New best score: 1.052\n"
     ]
    },
    {
     "name": "stdout",
     "output_type": "stream",
     "text": [
      "Epoch 29: 100%|██████████| 739/739 [00:10<00:00, 71.27it/s, v_num=12, train_loss_step=1.090, train_acc_step=0.500, val_loss=1.050, val_acc=0.505, train_loss_epoch=1.040, train_acc_epoch=0.514]"
     ]
    },
    {
     "name": "stderr",
     "output_type": "stream",
     "text": [
      "Metric val_loss improved by 0.001 >= min_delta = 0.0. New best score: 1.052\n"
     ]
    },
    {
     "name": "stdout",
     "output_type": "stream",
     "text": [
      "Epoch 33: 100%|██████████| 739/739 [00:10<00:00, 69.75it/s, v_num=12, train_loss_step=1.040, train_acc_step=0.450, val_loss=1.050, val_acc=0.512, train_loss_epoch=1.040, train_acc_epoch=0.516]"
     ]
    },
    {
     "name": "stderr",
     "output_type": "stream",
     "text": [
      "Metric val_loss improved by 0.004 >= min_delta = 0.0. New best score: 1.048\n"
     ]
    },
    {
     "name": "stdout",
     "output_type": "stream",
     "text": [
      "Epoch 37: 100%|██████████| 739/739 [00:10<00:00, 73.01it/s, v_num=12, train_loss_step=1.010, train_acc_step=0.450, val_loss=1.040, val_acc=0.519, train_loss_epoch=1.030, train_acc_epoch=0.521]"
     ]
    },
    {
     "name": "stderr",
     "output_type": "stream",
     "text": [
      "Metric val_loss improved by 0.003 >= min_delta = 0.0. New best score: 1.045\n"
     ]
    },
    {
     "name": "stdout",
     "output_type": "stream",
     "text": [
      "Epoch 42: 100%|██████████| 739/739 [00:10<00:00, 69.37it/s, v_num=12, train_loss_step=1.020, train_acc_step=0.550, val_loss=1.040, val_acc=0.519, train_loss_epoch=1.020, train_acc_epoch=0.523]"
     ]
    },
    {
     "name": "stderr",
     "output_type": "stream",
     "text": [
      "Metric val_loss improved by 0.002 >= min_delta = 0.0. New best score: 1.043\n"
     ]
    },
    {
     "name": "stdout",
     "output_type": "stream",
     "text": [
      "Epoch 47: 100%|██████████| 739/739 [00:11<00:00, 66.83it/s, v_num=12, train_loss_step=1.000, train_acc_step=0.550, val_loss=1.050, val_acc=0.506, train_loss_epoch=1.010, train_acc_epoch=0.528]"
     ]
    },
    {
     "name": "stderr",
     "output_type": "stream",
     "text": [
      "Monitored metric val_loss did not improve in the last 5 records. Best score: 1.043. Signaling Trainer to stop.\n"
     ]
    },
    {
     "name": "stdout",
     "output_type": "stream",
     "text": [
      "Epoch 47: 100%|██████████| 739/739 [00:11<00:00, 66.73it/s, v_num=12, train_loss_step=1.000, train_acc_step=0.550, val_loss=1.050, val_acc=0.506, train_loss_epoch=1.010, train_acc_epoch=0.528]"
     ]
    },
    {
     "name": "stderr",
     "output_type": "stream",
     "text": [
      "[I 2024-04-24 12:46:48,373] Trial 12 finished with value: 1.0521278381347656 and parameters: {'lr': 0.00041208434410621613, 'hidden_size': 160, 'num_hidden_layers': 3, 'dropout_rate': 0.1845908015797868, 'activation': 'elu'}. Best is trial 5 with value: 1.0496712923049927.\n"
     ]
    },
    {
     "name": "stdout",
     "output_type": "stream",
     "text": [
      "\n"
     ]
    },
    {
     "name": "stderr",
     "output_type": "stream",
     "text": [
      "GPU available: False, used: False\n",
      "TPU available: False, using: 0 TPU cores\n",
      "IPU available: False, using: 0 IPUs\n",
      "HPU available: False, using: 0 HPUs\n",
      "\n",
      "  | Name   | Type       | Params\n",
      "--------------------------------------\n",
      "0 | layers | Sequential | 146 K \n",
      "--------------------------------------\n",
      "146 K     Trainable params\n",
      "0         Non-trainable params\n",
      "146 K     Total params\n",
      "0.587     Total estimated model params size (MB)\n"
     ]
    },
    {
     "name": "stdout",
     "output_type": "stream",
     "text": [
      "Epoch 0: 100%|██████████| 739/739 [00:16<00:00, 45.21it/s, v_num=13, train_loss_step=1.380, train_acc_step=0.500, val_loss=1.100, val_acc=0.469, train_loss_epoch=1.150, train_acc_epoch=0.448]"
     ]
    },
    {
     "name": "stderr",
     "output_type": "stream",
     "text": [
      "Metric val_loss improved. New best score: 1.098\n"
     ]
    },
    {
     "name": "stdout",
     "output_type": "stream",
     "text": [
      "Epoch 1: 100%|██████████| 739/739 [00:13<00:00, 55.32it/s, v_num=13, train_loss_step=1.190, train_acc_step=0.350, val_loss=1.090, val_acc=0.481, train_loss_epoch=1.100, train_acc_epoch=0.472]"
     ]
    },
    {
     "name": "stderr",
     "output_type": "stream",
     "text": [
      "Metric val_loss improved by 0.009 >= min_delta = 0.0. New best score: 1.088\n"
     ]
    },
    {
     "name": "stdout",
     "output_type": "stream",
     "text": [
      "Epoch 2: 100%|██████████| 739/739 [00:12<00:00, 57.66it/s, v_num=13, train_loss_step=0.906, train_acc_step=0.550, val_loss=1.080, val_acc=0.482, train_loss_epoch=1.100, train_acc_epoch=0.479]"
     ]
    },
    {
     "name": "stderr",
     "output_type": "stream",
     "text": [
      "Metric val_loss improved by 0.004 >= min_delta = 0.0. New best score: 1.085\n"
     ]
    },
    {
     "name": "stdout",
     "output_type": "stream",
     "text": [
      "Epoch 3: 100%|██████████| 739/739 [00:12<00:00, 57.23it/s, v_num=13, train_loss_step=1.130, train_acc_step=0.400, val_loss=1.080, val_acc=0.484, train_loss_epoch=1.090, train_acc_epoch=0.480]"
     ]
    },
    {
     "name": "stderr",
     "output_type": "stream",
     "text": [
      "Metric val_loss improved by 0.002 >= min_delta = 0.0. New best score: 1.082\n"
     ]
    },
    {
     "name": "stdout",
     "output_type": "stream",
     "text": [
      "Epoch 4: 100%|██████████| 739/739 [00:14<00:00, 51.78it/s, v_num=13, train_loss_step=1.070, train_acc_step=0.450, val_loss=1.080, val_acc=0.486, train_loss_epoch=1.090, train_acc_epoch=0.481]"
     ]
    },
    {
     "name": "stderr",
     "output_type": "stream",
     "text": [
      "Metric val_loss improved by 0.002 >= min_delta = 0.0. New best score: 1.080\n"
     ]
    },
    {
     "name": "stdout",
     "output_type": "stream",
     "text": [
      "Epoch 5: 100%|██████████| 739/739 [00:13<00:00, 54.51it/s, v_num=13, train_loss_step=1.180, train_acc_step=0.350, val_loss=1.080, val_acc=0.493, train_loss_epoch=1.090, train_acc_epoch=0.483]"
     ]
    },
    {
     "name": "stderr",
     "output_type": "stream",
     "text": [
      "Metric val_loss improved by 0.003 >= min_delta = 0.0. New best score: 1.077\n"
     ]
    },
    {
     "name": "stdout",
     "output_type": "stream",
     "text": [
      "Epoch 8: 100%|██████████| 739/739 [00:12<00:00, 61.51it/s, v_num=13, train_loss_step=1.030, train_acc_step=0.500, val_loss=1.070, val_acc=0.494, train_loss_epoch=1.090, train_acc_epoch=0.484]"
     ]
    },
    {
     "name": "stderr",
     "output_type": "stream",
     "text": [
      "Metric val_loss improved by 0.003 >= min_delta = 0.0. New best score: 1.074\n"
     ]
    },
    {
     "name": "stdout",
     "output_type": "stream",
     "text": [
      "Epoch 11: 100%|██████████| 739/739 [00:14<00:00, 50.08it/s, v_num=13, train_loss_step=0.980, train_acc_step=0.450, val_loss=1.070, val_acc=0.490, train_loss_epoch=1.080, train_acc_epoch=0.489]"
     ]
    },
    {
     "name": "stderr",
     "output_type": "stream",
     "text": [
      "Metric val_loss improved by 0.005 >= min_delta = 0.0. New best score: 1.070\n"
     ]
    },
    {
     "name": "stdout",
     "output_type": "stream",
     "text": [
      "Epoch 16: 100%|██████████| 739/739 [00:14<00:00, 52.13it/s, v_num=13, train_loss_step=0.877, train_acc_step=0.600, val_loss=1.070, val_acc=0.499, train_loss_epoch=1.070, train_acc_epoch=0.492]"
     ]
    },
    {
     "name": "stderr",
     "output_type": "stream",
     "text": [
      "Monitored metric val_loss did not improve in the last 5 records. Best score: 1.070. Signaling Trainer to stop.\n"
     ]
    },
    {
     "name": "stdout",
     "output_type": "stream",
     "text": [
      "Epoch 16: 100%|██████████| 739/739 [00:14<00:00, 52.05it/s, v_num=13, train_loss_step=0.877, train_acc_step=0.600, val_loss=1.070, val_acc=0.499, train_loss_epoch=1.070, train_acc_epoch=0.492]"
     ]
    },
    {
     "name": "stderr",
     "output_type": "stream",
     "text": [
      "[I 2024-04-24 12:50:35,256] Trial 13 finished with value: 1.0713858604431152 and parameters: {'lr': 0.00019799636933390486, 'hidden_size': 256, 'num_hidden_layers': 3, 'dropout_rate': 0.3310132169796834, 'activation': 'elu'}. Best is trial 5 with value: 1.0496712923049927.\n"
     ]
    },
    {
     "name": "stdout",
     "output_type": "stream",
     "text": [
      "\n"
     ]
    },
    {
     "name": "stderr",
     "output_type": "stream",
     "text": [
      "GPU available: False, used: False\n",
      "TPU available: False, using: 0 TPU cores\n",
      "IPU available: False, using: 0 IPUs\n",
      "HPU available: False, using: 0 HPUs\n",
      "\n",
      "  | Name   | Type       | Params\n",
      "--------------------------------------\n",
      "0 | layers | Sequential | 50.3 K\n",
      "--------------------------------------\n",
      "50.3 K    Trainable params\n",
      "0         Non-trainable params\n",
      "50.3 K    Total params\n",
      "0.201     Total estimated model params size (MB)\n"
     ]
    },
    {
     "name": "stdout",
     "output_type": "stream",
     "text": [
      "Epoch 0: 100%|██████████| 739/739 [00:11<00:00, 62.45it/s, v_num=14, train_loss_step=1.220, train_acc_step=0.350, val_loss=1.090, val_acc=0.483, train_loss_epoch=1.130, train_acc_epoch=0.453]"
     ]
    },
    {
     "name": "stderr",
     "output_type": "stream",
     "text": [
      "Metric val_loss improved. New best score: 1.090\n"
     ]
    },
    {
     "name": "stdout",
     "output_type": "stream",
     "text": [
      "Epoch 1: 100%|██████████| 739/739 [00:12<00:00, 59.91it/s, v_num=14, train_loss_step=1.070, train_acc_step=0.450, val_loss=1.090, val_acc=0.486, train_loss_epoch=1.100, train_acc_epoch=0.475]"
     ]
    },
    {
     "name": "stderr",
     "output_type": "stream",
     "text": [
      "Metric val_loss improved by 0.004 >= min_delta = 0.0. New best score: 1.086\n"
     ]
    },
    {
     "name": "stdout",
     "output_type": "stream",
     "text": [
      "Epoch 2: 100%|██████████| 739/739 [00:15<00:00, 47.08it/s, v_num=14, train_loss_step=1.170, train_acc_step=0.500, val_loss=1.080, val_acc=0.485, train_loss_epoch=1.090, train_acc_epoch=0.480]"
     ]
    },
    {
     "name": "stderr",
     "output_type": "stream",
     "text": [
      "Metric val_loss improved by 0.003 >= min_delta = 0.0. New best score: 1.083\n"
     ]
    },
    {
     "name": "stdout",
     "output_type": "stream",
     "text": [
      "Epoch 3: 100%|██████████| 739/739 [00:11<00:00, 63.37it/s, v_num=14, train_loss_step=1.130, train_acc_step=0.450, val_loss=1.080, val_acc=0.491, train_loss_epoch=1.090, train_acc_epoch=0.481]"
     ]
    },
    {
     "name": "stderr",
     "output_type": "stream",
     "text": [
      "Metric val_loss improved by 0.006 >= min_delta = 0.0. New best score: 1.077\n"
     ]
    },
    {
     "name": "stdout",
     "output_type": "stream",
     "text": [
      "Epoch 5: 100%|██████████| 739/739 [00:11<00:00, 67.05it/s, v_num=14, train_loss_step=0.953, train_acc_step=0.500, val_loss=1.070, val_acc=0.493, train_loss_epoch=1.090, train_acc_epoch=0.485]"
     ]
    },
    {
     "name": "stderr",
     "output_type": "stream",
     "text": [
      "Metric val_loss improved by 0.005 >= min_delta = 0.0. New best score: 1.072\n"
     ]
    },
    {
     "name": "stdout",
     "output_type": "stream",
     "text": [
      "Epoch 8: 100%|██████████| 739/739 [00:11<00:00, 65.45it/s, v_num=14, train_loss_step=0.924, train_acc_step=0.450, val_loss=1.070, val_acc=0.496, train_loss_epoch=1.080, train_acc_epoch=0.491]"
     ]
    },
    {
     "name": "stderr",
     "output_type": "stream",
     "text": [
      "Metric val_loss improved by 0.004 >= min_delta = 0.0. New best score: 1.068\n"
     ]
    },
    {
     "name": "stdout",
     "output_type": "stream",
     "text": [
      "Epoch 9: 100%|██████████| 739/739 [00:11<00:00, 64.32it/s, v_num=14, train_loss_step=1.280, train_acc_step=0.350, val_loss=1.070, val_acc=0.494, train_loss_epoch=1.080, train_acc_epoch=0.490]"
     ]
    },
    {
     "name": "stderr",
     "output_type": "stream",
     "text": [
      "Metric val_loss improved by 0.002 >= min_delta = 0.0. New best score: 1.066\n"
     ]
    },
    {
     "name": "stdout",
     "output_type": "stream",
     "text": [
      "Epoch 13: 100%|██████████| 739/739 [00:11<00:00, 66.55it/s, v_num=14, train_loss_step=0.958, train_acc_step=0.600, val_loss=1.060, val_acc=0.501, train_loss_epoch=1.060, train_acc_epoch=0.498]"
     ]
    },
    {
     "name": "stderr",
     "output_type": "stream",
     "text": [
      "Metric val_loss improved by 0.004 >= min_delta = 0.0. New best score: 1.062\n"
     ]
    },
    {
     "name": "stdout",
     "output_type": "stream",
     "text": [
      "Epoch 16: 100%|██████████| 739/739 [00:11<00:00, 66.07it/s, v_num=14, train_loss_step=1.060, train_acc_step=0.500, val_loss=1.050, val_acc=0.507, train_loss_epoch=1.060, train_acc_epoch=0.496]"
     ]
    },
    {
     "name": "stderr",
     "output_type": "stream",
     "text": [
      "Metric val_loss improved by 0.008 >= min_delta = 0.0. New best score: 1.054\n"
     ]
    },
    {
     "name": "stdout",
     "output_type": "stream",
     "text": [
      "Epoch 21: 100%|██████████| 739/739 [00:11<00:00, 66.21it/s, v_num=14, train_loss_step=1.010, train_acc_step=0.650, val_loss=1.050, val_acc=0.506, train_loss_epoch=1.050, train_acc_epoch=0.506]"
     ]
    },
    {
     "name": "stderr",
     "output_type": "stream",
     "text": [
      "Metric val_loss improved by 0.000 >= min_delta = 0.0. New best score: 1.054\n"
     ]
    },
    {
     "name": "stdout",
     "output_type": "stream",
     "text": [
      "Epoch 22: 100%|██████████| 739/739 [00:11<00:00, 64.07it/s, v_num=14, train_loss_step=1.130, train_acc_step=0.350, val_loss=1.050, val_acc=0.508, train_loss_epoch=1.050, train_acc_epoch=0.507]"
     ]
    },
    {
     "name": "stderr",
     "output_type": "stream",
     "text": [
      "Metric val_loss improved by 0.000 >= min_delta = 0.0. New best score: 1.054\n"
     ]
    },
    {
     "name": "stdout",
     "output_type": "stream",
     "text": [
      "Epoch 25: 100%|██████████| 739/739 [00:11<00:00, 63.19it/s, v_num=14, train_loss_step=1.380, train_acc_step=0.400, val_loss=1.050, val_acc=0.510, train_loss_epoch=1.040, train_acc_epoch=0.512]"
     ]
    },
    {
     "name": "stderr",
     "output_type": "stream",
     "text": [
      "Metric val_loss improved by 0.003 >= min_delta = 0.0. New best score: 1.051\n"
     ]
    },
    {
     "name": "stdout",
     "output_type": "stream",
     "text": [
      "Epoch 27: 100%|██████████| 739/739 [00:12<00:00, 60.12it/s, v_num=14, train_loss_step=0.980, train_acc_step=0.500, val_loss=1.050, val_acc=0.513, train_loss_epoch=1.040, train_acc_epoch=0.515]"
     ]
    },
    {
     "name": "stderr",
     "output_type": "stream",
     "text": [
      "Metric val_loss improved by 0.003 >= min_delta = 0.0. New best score: 1.049\n"
     ]
    },
    {
     "name": "stdout",
     "output_type": "stream",
     "text": [
      "Epoch 28: 100%|██████████| 739/739 [00:11<00:00, 63.46it/s, v_num=14, train_loss_step=0.844, train_acc_step=0.750, val_loss=1.050, val_acc=0.508, train_loss_epoch=1.040, train_acc_epoch=0.514]"
     ]
    },
    {
     "name": "stderr",
     "output_type": "stream",
     "text": [
      "Metric val_loss improved by 0.001 >= min_delta = 0.0. New best score: 1.048\n"
     ]
    },
    {
     "name": "stdout",
     "output_type": "stream",
     "text": [
      "Epoch 32: 100%|██████████| 739/739 [00:10<00:00, 69.82it/s, v_num=14, train_loss_step=1.150, train_acc_step=0.500, val_loss=1.050, val_acc=0.512, train_loss_epoch=1.030, train_acc_epoch=0.520]"
     ]
    },
    {
     "name": "stderr",
     "output_type": "stream",
     "text": [
      "Metric val_loss improved by 0.001 >= min_delta = 0.0. New best score: 1.046\n"
     ]
    },
    {
     "name": "stdout",
     "output_type": "stream",
     "text": [
      "Epoch 35: 100%|██████████| 739/739 [00:10<00:00, 73.35it/s, v_num=14, train_loss_step=0.818, train_acc_step=0.600, val_loss=1.050, val_acc=0.516, train_loss_epoch=1.020, train_acc_epoch=0.522]"
     ]
    },
    {
     "name": "stderr",
     "output_type": "stream",
     "text": [
      "Metric val_loss improved by 0.000 >= min_delta = 0.0. New best score: 1.046\n"
     ]
    },
    {
     "name": "stdout",
     "output_type": "stream",
     "text": [
      "Epoch 38: 100%|██████████| 739/739 [00:10<00:00, 72.76it/s, v_num=14, train_loss_step=0.807, train_acc_step=0.650, val_loss=1.050, val_acc=0.521, train_loss_epoch=1.020, train_acc_epoch=0.524]"
     ]
    },
    {
     "name": "stderr",
     "output_type": "stream",
     "text": [
      "Metric val_loss improved by 0.000 >= min_delta = 0.0. New best score: 1.046\n"
     ]
    },
    {
     "name": "stdout",
     "output_type": "stream",
     "text": [
      "Epoch 43: 100%|██████████| 739/739 [00:10<00:00, 72.39it/s, v_num=14, train_loss_step=1.130, train_acc_step=0.450, val_loss=1.050, val_acc=0.513, train_loss_epoch=1.010, train_acc_epoch=0.534]"
     ]
    },
    {
     "name": "stderr",
     "output_type": "stream",
     "text": [
      "Monitored metric val_loss did not improve in the last 5 records. Best score: 1.046. Signaling Trainer to stop.\n"
     ]
    },
    {
     "name": "stdout",
     "output_type": "stream",
     "text": [
      "Epoch 43: 100%|██████████| 739/739 [00:10<00:00, 72.28it/s, v_num=14, train_loss_step=1.130, train_acc_step=0.450, val_loss=1.050, val_acc=0.513, train_loss_epoch=1.010, train_acc_epoch=0.534]\n"
     ]
    },
    {
     "name": "stderr",
     "output_type": "stream",
     "text": [
      "[I 2024-04-24 12:58:51,334] Trial 14 finished with value: 1.0468823909759521 and parameters: {'lr': 0.0006850547280486539, 'hidden_size': 144, 'num_hidden_layers': 3, 'dropout_rate': 0.22240243540524415, 'activation': 'elu'}. Best is trial 14 with value: 1.0468823909759521.\n",
      "GPU available: False, used: False\n",
      "TPU available: False, using: 0 TPU cores\n",
      "IPU available: False, using: 0 IPUs\n",
      "HPU available: False, using: 0 HPUs\n",
      "\n",
      "  | Name   | Type       | Params\n",
      "--------------------------------------\n",
      "0 | layers | Sequential | 29.4 K\n",
      "--------------------------------------\n",
      "29.4 K    Trainable params\n",
      "0         Non-trainable params\n",
      "29.4 K    Total params\n",
      "0.118     Total estimated model params size (MB)\n"
     ]
    },
    {
     "name": "stdout",
     "output_type": "stream",
     "text": [
      "Epoch 0: 100%|██████████| 739/739 [00:08<00:00, 82.20it/s, v_num=15, train_loss_step=0.986, train_acc_step=0.550, val_loss=1.080, val_acc=0.490, train_loss_epoch=1.130, train_acc_epoch=0.461]"
     ]
    },
    {
     "name": "stderr",
     "output_type": "stream",
     "text": [
      "Metric val_loss improved. New best score: 1.079\n"
     ]
    },
    {
     "name": "stdout",
     "output_type": "stream",
     "text": [
      "Epoch 2: 100%|██████████| 739/739 [00:08<00:00, 86.41it/s, v_num=15, train_loss_step=0.998, train_acc_step=0.400, val_loss=1.060, val_acc=0.501, train_loss_epoch=1.070, train_acc_epoch=0.496] "
     ]
    },
    {
     "name": "stderr",
     "output_type": "stream",
     "text": [
      "Metric val_loss improved by 0.016 >= min_delta = 0.0. New best score: 1.063\n"
     ]
    },
    {
     "name": "stdout",
     "output_type": "stream",
     "text": [
      "Epoch 3: 100%|██████████| 739/739 [00:08<00:00, 82.14it/s, v_num=15, train_loss_step=1.020, train_acc_step=0.600, val_loss=1.060, val_acc=0.498, train_loss_epoch=1.050, train_acc_epoch=0.507]"
     ]
    },
    {
     "name": "stderr",
     "output_type": "stream",
     "text": [
      "Metric val_loss improved by 0.004 >= min_delta = 0.0. New best score: 1.059\n"
     ]
    },
    {
     "name": "stdout",
     "output_type": "stream",
     "text": [
      "Epoch 4: 100%|██████████| 739/739 [00:07<00:00, 99.68it/s, v_num=15, train_loss_step=1.080, train_acc_step=0.500, val_loss=1.060, val_acc=0.506, train_loss_epoch=1.040, train_acc_epoch=0.512] "
     ]
    },
    {
     "name": "stderr",
     "output_type": "stream",
     "text": [
      "Metric val_loss improved by 0.004 >= min_delta = 0.0. New best score: 1.055\n"
     ]
    },
    {
     "name": "stdout",
     "output_type": "stream",
     "text": [
      "Epoch 6: 100%|██████████| 739/739 [00:06<00:00, 108.40it/s, v_num=15, train_loss_step=1.120, train_acc_step=0.450, val_loss=1.050, val_acc=0.513, train_loss_epoch=1.020, train_acc_epoch=0.524]"
     ]
    },
    {
     "name": "stderr",
     "output_type": "stream",
     "text": [
      "Metric val_loss improved by 0.006 >= min_delta = 0.0. New best score: 1.049\n"
     ]
    },
    {
     "name": "stdout",
     "output_type": "stream",
     "text": [
      "Epoch 7: 100%|██████████| 739/739 [00:07<00:00, 105.38it/s, v_num=15, train_loss_step=1.000, train_acc_step=0.550, val_loss=1.050, val_acc=0.513, train_loss_epoch=1.010, train_acc_epoch=0.528]"
     ]
    },
    {
     "name": "stderr",
     "output_type": "stream",
     "text": [
      "Metric val_loss improved by 0.002 >= min_delta = 0.0. New best score: 1.047\n"
     ]
    },
    {
     "name": "stdout",
     "output_type": "stream",
     "text": [
      "Epoch 12: 100%|██████████| 739/739 [00:11<00:00, 61.94it/s, v_num=15, train_loss_step=1.180, train_acc_step=0.400, val_loss=1.060, val_acc=0.513, train_loss_epoch=0.960, train_acc_epoch=0.560] "
     ]
    },
    {
     "name": "stderr",
     "output_type": "stream",
     "text": [
      "Monitored metric val_loss did not improve in the last 5 records. Best score: 1.047. Signaling Trainer to stop.\n"
     ]
    },
    {
     "name": "stdout",
     "output_type": "stream",
     "text": [
      "Epoch 12: 100%|██████████| 739/739 [00:11<00:00, 61.86it/s, v_num=15, train_loss_step=1.180, train_acc_step=0.400, val_loss=1.060, val_acc=0.513, train_loss_epoch=0.960, train_acc_epoch=0.560]"
     ]
    },
    {
     "name": "stderr",
     "output_type": "stream",
     "text": [
      "[I 2024-04-24 13:00:45,082] Trial 15 finished with value: 1.0577603578567505 and parameters: {'lr': 0.0007361616255091009, 'hidden_size': 144, 'num_hidden_layers': 2, 'dropout_rate': 0.17377236429757908, 'activation': 'relu'}. Best is trial 14 with value: 1.0468823909759521.\n"
     ]
    },
    {
     "name": "stdout",
     "output_type": "stream",
     "text": [
      "\n"
     ]
    },
    {
     "name": "stderr",
     "output_type": "stream",
     "text": [
      "GPU available: False, used: False\n",
      "TPU available: False, using: 0 TPU cores\n",
      "IPU available: False, using: 0 IPUs\n",
      "HPU available: False, using: 0 HPUs\n",
      "\n",
      "  | Name   | Type       | Params\n",
      "--------------------------------------\n",
      "0 | layers | Sequential | 12.1 K\n",
      "--------------------------------------\n",
      "12.1 K    Trainable params\n",
      "0         Non-trainable params\n",
      "12.1 K    Total params\n",
      "0.048     Total estimated model params size (MB)\n"
     ]
    },
    {
     "name": "stdout",
     "output_type": "stream",
     "text": [
      "Epoch 0: 100%|██████████| 739/739 [00:10<00:00, 72.55it/s, v_num=16, train_loss_step=1.180, train_acc_step=0.400, val_loss=1.090, val_acc=0.481, train_loss_epoch=1.140, train_acc_epoch=0.458]"
     ]
    },
    {
     "name": "stderr",
     "output_type": "stream",
     "text": [
      "Metric val_loss improved. New best score: 1.092\n"
     ]
    },
    {
     "name": "stdout",
     "output_type": "stream",
     "text": [
      "Epoch 1: 100%|██████████| 739/739 [00:08<00:00, 83.80it/s, v_num=16, train_loss_step=1.190, train_acc_step=0.450, val_loss=1.080, val_acc=0.486, train_loss_epoch=1.110, train_acc_epoch=0.472]"
     ]
    },
    {
     "name": "stderr",
     "output_type": "stream",
     "text": [
      "Metric val_loss improved by 0.007 >= min_delta = 0.0. New best score: 1.085\n"
     ]
    },
    {
     "name": "stdout",
     "output_type": "stream",
     "text": [
      "Epoch 6: 100%|██████████| 739/739 [00:10<00:00, 71.20it/s, v_num=16, train_loss_step=1.270, train_acc_step=0.500, val_loss=1.070, val_acc=0.493, train_loss_epoch=1.090, train_acc_epoch=0.483] "
     ]
    },
    {
     "name": "stderr",
     "output_type": "stream",
     "text": [
      "Metric val_loss improved by 0.011 >= min_delta = 0.0. New best score: 1.074\n"
     ]
    },
    {
     "name": "stdout",
     "output_type": "stream",
     "text": [
      "Epoch 9: 100%|██████████| 739/739 [00:07<00:00, 96.28it/s, v_num=16, train_loss_step=1.010, train_acc_step=0.450, val_loss=1.070, val_acc=0.498, train_loss_epoch=1.080, train_acc_epoch=0.488] "
     ]
    },
    {
     "name": "stderr",
     "output_type": "stream",
     "text": [
      "Metric val_loss improved by 0.002 >= min_delta = 0.0. New best score: 1.072\n"
     ]
    },
    {
     "name": "stdout",
     "output_type": "stream",
     "text": [
      "Epoch 11: 100%|██████████| 739/739 [00:07<00:00, 99.77it/s, v_num=16, train_loss_step=1.090, train_acc_step=0.450, val_loss=1.070, val_acc=0.492, train_loss_epoch=1.080, train_acc_epoch=0.495] "
     ]
    },
    {
     "name": "stderr",
     "output_type": "stream",
     "text": [
      "Metric val_loss improved by 0.001 >= min_delta = 0.0. New best score: 1.071\n"
     ]
    },
    {
     "name": "stdout",
     "output_type": "stream",
     "text": [
      "Epoch 12: 100%|██████████| 739/739 [00:07<00:00, 97.87it/s, v_num=16, train_loss_step=1.180, train_acc_step=0.550, val_loss=1.070, val_acc=0.498, train_loss_epoch=1.070, train_acc_epoch=0.492] "
     ]
    },
    {
     "name": "stderr",
     "output_type": "stream",
     "text": [
      "Metric val_loss improved by 0.000 >= min_delta = 0.0. New best score: 1.071\n"
     ]
    },
    {
     "name": "stdout",
     "output_type": "stream",
     "text": [
      "Epoch 13: 100%|██████████| 739/739 [00:07<00:00, 99.39it/s, v_num=16, train_loss_step=1.040, train_acc_step=0.500, val_loss=1.060, val_acc=0.504, train_loss_epoch=1.070, train_acc_epoch=0.493] "
     ]
    },
    {
     "name": "stderr",
     "output_type": "stream",
     "text": [
      "Metric val_loss improved by 0.010 >= min_delta = 0.0. New best score: 1.060\n"
     ]
    },
    {
     "name": "stdout",
     "output_type": "stream",
     "text": [
      "Epoch 18: 100%|██████████| 739/739 [00:07<00:00, 97.67it/s, v_num=16, train_loss_step=0.974, train_acc_step=0.550, val_loss=1.080, val_acc=0.495, train_loss_epoch=1.060, train_acc_epoch=0.499] "
     ]
    },
    {
     "name": "stderr",
     "output_type": "stream",
     "text": [
      "Monitored metric val_loss did not improve in the last 5 records. Best score: 1.060. Signaling Trainer to stop.\n"
     ]
    },
    {
     "name": "stdout",
     "output_type": "stream",
     "text": [
      "Epoch 18: 100%|██████████| 739/739 [00:07<00:00, 97.44it/s, v_num=16, train_loss_step=0.974, train_acc_step=0.550, val_loss=1.080, val_acc=0.495, train_loss_epoch=1.060, train_acc_epoch=0.499]"
     ]
    },
    {
     "name": "stderr",
     "output_type": "stream",
     "text": [
      "[I 2024-04-24 13:03:23,656] Trial 16 finished with value: 1.0784461498260498 and parameters: {'lr': 0.0031339523678987715, 'hidden_size': 64, 'num_hidden_layers': 3, 'dropout_rate': 0.31492464227456085, 'activation': 'elu'}. Best is trial 14 with value: 1.0468823909759521.\n"
     ]
    },
    {
     "name": "stdout",
     "output_type": "stream",
     "text": [
      "\n"
     ]
    },
    {
     "name": "stderr",
     "output_type": "stream",
     "text": [
      "GPU available: False, used: False\n",
      "TPU available: False, using: 0 TPU cores\n",
      "IPU available: False, using: 0 IPUs\n",
      "HPU available: False, using: 0 HPUs\n",
      "\n",
      "  | Name   | Type       | Params\n",
      "--------------------------------------\n",
      "0 | layers | Sequential | 7.6 K \n",
      "--------------------------------------\n",
      "7.6 K     Trainable params\n",
      "0         Non-trainable params\n",
      "7.6 K     Total params\n",
      "0.030     Total estimated model params size (MB)\n"
     ]
    },
    {
     "name": "stdout",
     "output_type": "stream",
     "text": [
      "Epoch 0: 100%|██████████| 739/739 [00:10<00:00, 68.22it/s, v_num=17, train_loss_step=1.160, train_acc_step=0.450, val_loss=1.090, val_acc=0.487, train_loss_epoch=1.140, train_acc_epoch=0.463]"
     ]
    },
    {
     "name": "stderr",
     "output_type": "stream",
     "text": [
      "Metric val_loss improved. New best score: 1.088\n"
     ]
    },
    {
     "name": "stdout",
     "output_type": "stream",
     "text": [
      "Epoch 1: 100%|██████████| 739/739 [00:07<00:00, 99.03it/s, v_num=17, train_loss_step=1.030, train_acc_step=0.450, val_loss=1.080, val_acc=0.490, train_loss_epoch=1.090, train_acc_epoch=0.483] "
     ]
    },
    {
     "name": "stderr",
     "output_type": "stream",
     "text": [
      "Metric val_loss improved by 0.008 >= min_delta = 0.0. New best score: 1.079\n"
     ]
    },
    {
     "name": "stdout",
     "output_type": "stream",
     "text": [
      "Epoch 4: 100%|██████████| 739/739 [00:06<00:00, 107.09it/s, v_num=17, train_loss_step=0.985, train_acc_step=0.650, val_loss=1.080, val_acc=0.493, train_loss_epoch=1.080, train_acc_epoch=0.485]"
     ]
    },
    {
     "name": "stderr",
     "output_type": "stream",
     "text": [
      "Metric val_loss improved by 0.003 >= min_delta = 0.0. New best score: 1.077\n"
     ]
    },
    {
     "name": "stdout",
     "output_type": "stream",
     "text": [
      "Epoch 6: 100%|██████████| 739/739 [00:06<00:00, 109.03it/s, v_num=17, train_loss_step=0.988, train_acc_step=0.550, val_loss=1.080, val_acc=0.488, train_loss_epoch=1.080, train_acc_epoch=0.488]"
     ]
    },
    {
     "name": "stderr",
     "output_type": "stream",
     "text": [
      "Metric val_loss improved by 0.000 >= min_delta = 0.0. New best score: 1.076\n"
     ]
    },
    {
     "name": "stdout",
     "output_type": "stream",
     "text": [
      "Epoch 7: 100%|██████████| 739/739 [00:07<00:00, 98.48it/s, v_num=17, train_loss_step=0.932, train_acc_step=0.600, val_loss=1.080, val_acc=0.491, train_loss_epoch=1.080, train_acc_epoch=0.490] "
     ]
    },
    {
     "name": "stderr",
     "output_type": "stream",
     "text": [
      "Metric val_loss improved by 0.001 >= min_delta = 0.0. New best score: 1.076\n"
     ]
    },
    {
     "name": "stdout",
     "output_type": "stream",
     "text": [
      "Epoch 8: 100%|██████████| 739/739 [00:06<00:00, 107.14it/s, v_num=17, train_loss_step=1.390, train_acc_step=0.350, val_loss=1.070, val_acc=0.494, train_loss_epoch=1.080, train_acc_epoch=0.492]"
     ]
    },
    {
     "name": "stderr",
     "output_type": "stream",
     "text": [
      "Metric val_loss improved by 0.003 >= min_delta = 0.0. New best score: 1.073\n"
     ]
    },
    {
     "name": "stdout",
     "output_type": "stream",
     "text": [
      "Epoch 9: 100%|██████████| 739/739 [00:06<00:00, 108.09it/s, v_num=17, train_loss_step=1.060, train_acc_step=0.550, val_loss=1.070, val_acc=0.496, train_loss_epoch=1.070, train_acc_epoch=0.494]"
     ]
    },
    {
     "name": "stderr",
     "output_type": "stream",
     "text": [
      "Metric val_loss improved by 0.001 >= min_delta = 0.0. New best score: 1.072\n"
     ]
    },
    {
     "name": "stdout",
     "output_type": "stream",
     "text": [
      "Epoch 11: 100%|██████████| 739/739 [00:07<00:00, 103.86it/s, v_num=17, train_loss_step=1.240, train_acc_step=0.300, val_loss=1.070, val_acc=0.498, train_loss_epoch=1.070, train_acc_epoch=0.494]"
     ]
    },
    {
     "name": "stderr",
     "output_type": "stream",
     "text": [
      "Metric val_loss improved by 0.001 >= min_delta = 0.0. New best score: 1.071\n"
     ]
    },
    {
     "name": "stdout",
     "output_type": "stream",
     "text": [
      "Epoch 12: 100%|██████████| 739/739 [00:07<00:00, 103.79it/s, v_num=17, train_loss_step=0.932, train_acc_step=0.600, val_loss=1.070, val_acc=0.500, train_loss_epoch=1.070, train_acc_epoch=0.496]"
     ]
    },
    {
     "name": "stderr",
     "output_type": "stream",
     "text": [
      "Metric val_loss improved by 0.001 >= min_delta = 0.0. New best score: 1.070\n"
     ]
    },
    {
     "name": "stdout",
     "output_type": "stream",
     "text": [
      "Epoch 13: 100%|██████████| 739/739 [00:06<00:00, 109.33it/s, v_num=17, train_loss_step=0.875, train_acc_step=0.500, val_loss=1.070, val_acc=0.496, train_loss_epoch=1.070, train_acc_epoch=0.499]"
     ]
    },
    {
     "name": "stderr",
     "output_type": "stream",
     "text": [
      "Metric val_loss improved by 0.001 >= min_delta = 0.0. New best score: 1.069\n"
     ]
    },
    {
     "name": "stdout",
     "output_type": "stream",
     "text": [
      "Epoch 14: 100%|██████████| 739/739 [00:06<00:00, 111.27it/s, v_num=17, train_loss_step=1.060, train_acc_step=0.450, val_loss=1.070, val_acc=0.498, train_loss_epoch=1.060, train_acc_epoch=0.499]"
     ]
    },
    {
     "name": "stderr",
     "output_type": "stream",
     "text": [
      "Metric val_loss improved by 0.001 >= min_delta = 0.0. New best score: 1.068\n"
     ]
    },
    {
     "name": "stdout",
     "output_type": "stream",
     "text": [
      "Epoch 15: 100%|██████████| 739/739 [00:06<00:00, 113.99it/s, v_num=17, train_loss_step=1.300, train_acc_step=0.300, val_loss=1.070, val_acc=0.497, train_loss_epoch=1.060, train_acc_epoch=0.503]"
     ]
    },
    {
     "name": "stderr",
     "output_type": "stream",
     "text": [
      "Metric val_loss improved by 0.000 >= min_delta = 0.0. New best score: 1.067\n"
     ]
    },
    {
     "name": "stdout",
     "output_type": "stream",
     "text": [
      "Epoch 16: 100%|██████████| 739/739 [00:06<00:00, 113.89it/s, v_num=17, train_loss_step=1.200, train_acc_step=0.350, val_loss=1.060, val_acc=0.501, train_loss_epoch=1.060, train_acc_epoch=0.505]"
     ]
    },
    {
     "name": "stderr",
     "output_type": "stream",
     "text": [
      "Metric val_loss improved by 0.005 >= min_delta = 0.0. New best score: 1.062\n"
     ]
    },
    {
     "name": "stdout",
     "output_type": "stream",
     "text": [
      "Epoch 18: 100%|██████████| 739/739 [00:06<00:00, 112.32it/s, v_num=17, train_loss_step=0.909, train_acc_step=0.600, val_loss=1.060, val_acc=0.504, train_loss_epoch=1.050, train_acc_epoch=0.507]"
     ]
    },
    {
     "name": "stderr",
     "output_type": "stream",
     "text": [
      "Metric val_loss improved by 0.003 >= min_delta = 0.0. New best score: 1.060\n"
     ]
    },
    {
     "name": "stdout",
     "output_type": "stream",
     "text": [
      "Epoch 19: 100%|██████████| 739/739 [00:07<00:00, 100.08it/s, v_num=17, train_loss_step=1.080, train_acc_step=0.550, val_loss=1.060, val_acc=0.510, train_loss_epoch=1.050, train_acc_epoch=0.509]"
     ]
    },
    {
     "name": "stderr",
     "output_type": "stream",
     "text": [
      "Metric val_loss improved by 0.000 >= min_delta = 0.0. New best score: 1.059\n"
     ]
    },
    {
     "name": "stdout",
     "output_type": "stream",
     "text": [
      "Epoch 22: 100%|██████████| 739/739 [00:06<00:00, 108.86it/s, v_num=17, train_loss_step=0.677, train_acc_step=0.800, val_loss=1.060, val_acc=0.503, train_loss_epoch=1.050, train_acc_epoch=0.512]"
     ]
    },
    {
     "name": "stderr",
     "output_type": "stream",
     "text": [
      "Metric val_loss improved by 0.001 >= min_delta = 0.0. New best score: 1.058\n"
     ]
    },
    {
     "name": "stdout",
     "output_type": "stream",
     "text": [
      "Epoch 25: 100%|██████████| 739/739 [00:06<00:00, 111.18it/s, v_num=17, train_loss_step=1.040, train_acc_step=0.500, val_loss=1.060, val_acc=0.504, train_loss_epoch=1.040, train_acc_epoch=0.517]"
     ]
    },
    {
     "name": "stderr",
     "output_type": "stream",
     "text": [
      "Metric val_loss improved by 0.002 >= min_delta = 0.0. New best score: 1.056\n"
     ]
    },
    {
     "name": "stdout",
     "output_type": "stream",
     "text": [
      "Epoch 26: 100%|██████████| 739/739 [00:06<00:00, 110.27it/s, v_num=17, train_loss_step=1.010, train_acc_step=0.550, val_loss=1.050, val_acc=0.509, train_loss_epoch=1.040, train_acc_epoch=0.515]"
     ]
    },
    {
     "name": "stderr",
     "output_type": "stream",
     "text": [
      "Metric val_loss improved by 0.001 >= min_delta = 0.0. New best score: 1.055\n"
     ]
    },
    {
     "name": "stdout",
     "output_type": "stream",
     "text": [
      "Epoch 31: 100%|██████████| 739/739 [00:07<00:00, 103.33it/s, v_num=17, train_loss_step=0.855, train_acc_step=0.600, val_loss=1.050, val_acc=0.510, train_loss_epoch=1.030, train_acc_epoch=0.523]"
     ]
    },
    {
     "name": "stderr",
     "output_type": "stream",
     "text": [
      "Monitored metric val_loss did not improve in the last 5 records. Best score: 1.055. Signaling Trainer to stop.\n"
     ]
    },
    {
     "name": "stdout",
     "output_type": "stream",
     "text": [
      "Epoch 31: 100%|██████████| 739/739 [00:07<00:00, 103.06it/s, v_num=17, train_loss_step=0.855, train_acc_step=0.600, val_loss=1.050, val_acc=0.510, train_loss_epoch=1.030, train_acc_epoch=0.523]\n"
     ]
    },
    {
     "name": "stderr",
     "output_type": "stream",
     "text": [
      "[I 2024-04-24 13:07:11,138] Trial 17 finished with value: 1.054971694946289 and parameters: {'lr': 0.0006139449536304479, 'hidden_size': 128, 'num_hidden_layers': 1, 'dropout_rate': 0.21514229826045833, 'activation': 'elu'}. Best is trial 14 with value: 1.0468823909759521.\n",
      "GPU available: False, used: False\n",
      "TPU available: False, using: 0 TPU cores\n",
      "IPU available: False, using: 0 IPUs\n",
      "HPU available: False, using: 0 HPUs\n",
      "\n",
      "  | Name   | Type       | Params\n",
      "--------------------------------------\n",
      "0 | layers | Sequential | 61.0 K\n",
      "--------------------------------------\n",
      "61.0 K    Trainable params\n",
      "0         Non-trainable params\n",
      "61.0 K    Total params\n",
      "0.244     Total estimated model params size (MB)\n"
     ]
    },
    {
     "name": "stdout",
     "output_type": "stream",
     "text": [
      "Epoch 0: 100%|██████████| 739/739 [00:10<00:00, 71.73it/s, v_num=18, train_loss_step=1.200, train_acc_step=0.400, val_loss=1.090, val_acc=0.479, train_loss_epoch=1.130, train_acc_epoch=0.462]"
     ]
    },
    {
     "name": "stderr",
     "output_type": "stream",
     "text": [
      "Metric val_loss improved. New best score: 1.089\n"
     ]
    },
    {
     "name": "stdout",
     "output_type": "stream",
     "text": [
      "Epoch 1: 100%|██████████| 739/739 [00:08<00:00, 82.31it/s, v_num=18, train_loss_step=1.090, train_acc_step=0.550, val_loss=1.070, val_acc=0.492, train_loss_epoch=1.080, train_acc_epoch=0.488] "
     ]
    },
    {
     "name": "stderr",
     "output_type": "stream",
     "text": [
      "Metric val_loss improved by 0.018 >= min_delta = 0.0. New best score: 1.070\n"
     ]
    },
    {
     "name": "stdout",
     "output_type": "stream",
     "text": [
      "Epoch 2: 100%|██████████| 739/739 [00:10<00:00, 71.47it/s, v_num=18, train_loss_step=1.020, train_acc_step=0.550, val_loss=1.070, val_acc=0.496, train_loss_epoch=1.060, train_acc_epoch=0.495] "
     ]
    },
    {
     "name": "stderr",
     "output_type": "stream",
     "text": [
      "Metric val_loss improved by 0.002 >= min_delta = 0.0. New best score: 1.069\n"
     ]
    },
    {
     "name": "stdout",
     "output_type": "stream",
     "text": [
      "Epoch 3: 100%|██████████| 739/739 [00:12<00:00, 60.92it/s, v_num=18, train_loss_step=1.070, train_acc_step=0.550, val_loss=1.050, val_acc=0.508, train_loss_epoch=1.050, train_acc_epoch=0.510]"
     ]
    },
    {
     "name": "stderr",
     "output_type": "stream",
     "text": [
      "Metric val_loss improved by 0.014 >= min_delta = 0.0. New best score: 1.054\n"
     ]
    },
    {
     "name": "stdout",
     "output_type": "stream",
     "text": [
      "Epoch 4: 100%|██████████| 739/739 [00:08<00:00, 83.23it/s, v_num=18, train_loss_step=1.080, train_acc_step=0.450, val_loss=1.050, val_acc=0.513, train_loss_epoch=1.030, train_acc_epoch=0.516]"
     ]
    },
    {
     "name": "stderr",
     "output_type": "stream",
     "text": [
      "Metric val_loss improved by 0.003 >= min_delta = 0.0. New best score: 1.052\n"
     ]
    },
    {
     "name": "stdout",
     "output_type": "stream",
     "text": [
      "Epoch 5: 100%|██████████| 739/739 [00:08<00:00, 83.68it/s, v_num=18, train_loss_step=1.100, train_acc_step=0.400, val_loss=1.050, val_acc=0.519, train_loss_epoch=1.010, train_acc_epoch=0.523] "
     ]
    },
    {
     "name": "stderr",
     "output_type": "stream",
     "text": [
      "Metric val_loss improved by 0.002 >= min_delta = 0.0. New best score: 1.050\n"
     ]
    },
    {
     "name": "stdout",
     "output_type": "stream",
     "text": [
      "Epoch 10: 100%|██████████| 739/739 [00:09<00:00, 80.96it/s, v_num=18, train_loss_step=0.874, train_acc_step=0.550, val_loss=1.070, val_acc=0.508, train_loss_epoch=0.931, train_acc_epoch=0.565]"
     ]
    },
    {
     "name": "stderr",
     "output_type": "stream",
     "text": [
      "Monitored metric val_loss did not improve in the last 5 records. Best score: 1.050. Signaling Trainer to stop.\n"
     ]
    },
    {
     "name": "stdout",
     "output_type": "stream",
     "text": [
      "Epoch 10: 100%|██████████| 739/739 [00:09<00:00, 80.76it/s, v_num=18, train_loss_step=0.874, train_acc_step=0.550, val_loss=1.070, val_acc=0.508, train_loss_epoch=0.931, train_acc_epoch=0.565]"
     ]
    },
    {
     "name": "stderr",
     "output_type": "stream",
     "text": [
      "[I 2024-04-24 13:08:57,818] Trial 18 finished with value: 1.0732104778289795 and parameters: {'lr': 0.0009435494922403794, 'hidden_size': 160, 'num_hidden_layers': 3, 'dropout_rate': 0.1477656097622509, 'activation': 'relu'}. Best is trial 14 with value: 1.0468823909759521.\n"
     ]
    },
    {
     "name": "stdout",
     "output_type": "stream",
     "text": [
      "\n"
     ]
    },
    {
     "name": "stderr",
     "output_type": "stream",
     "text": [
      "GPU available: False, used: False\n",
      "TPU available: False, using: 0 TPU cores\n",
      "IPU available: False, using: 0 IPUs\n",
      "HPU available: False, using: 0 HPUs\n",
      "\n",
      "  | Name   | Type       | Params\n",
      "--------------------------------------\n",
      "0 | layers | Sequential | 7.9 K \n",
      "--------------------------------------\n",
      "7.9 K     Trainable params\n",
      "0         Non-trainable params\n",
      "7.9 K     Total params\n",
      "0.032     Total estimated model params size (MB)\n"
     ]
    },
    {
     "name": "stdout",
     "output_type": "stream",
     "text": [
      "Epoch 0: 100%|██████████| 739/739 [00:08<00:00, 88.92it/s, v_num=19, train_loss_step=1.220, train_acc_step=0.300, val_loss=1.130, val_acc=0.460, train_loss_epoch=1.200, train_acc_epoch=0.422]"
     ]
    },
    {
     "name": "stderr",
     "output_type": "stream",
     "text": [
      "Metric val_loss improved. New best score: 1.135\n"
     ]
    },
    {
     "name": "stdout",
     "output_type": "stream",
     "text": [
      "Epoch 1: 100%|██████████| 739/739 [00:07<00:00, 96.02it/s, v_num=19, train_loss_step=1.360, train_acc_step=0.450, val_loss=1.090, val_acc=0.483, train_loss_epoch=1.120, train_acc_epoch=0.470] "
     ]
    },
    {
     "name": "stderr",
     "output_type": "stream",
     "text": [
      "Metric val_loss improved by 0.046 >= min_delta = 0.0. New best score: 1.089\n"
     ]
    },
    {
     "name": "stdout",
     "output_type": "stream",
     "text": [
      "Epoch 2: 100%|██████████| 739/739 [00:07<00:00, 94.07it/s, v_num=19, train_loss_step=1.140, train_acc_step=0.200, val_loss=1.080, val_acc=0.489, train_loss_epoch=1.100, train_acc_epoch=0.478] "
     ]
    },
    {
     "name": "stderr",
     "output_type": "stream",
     "text": [
      "Metric val_loss improved by 0.009 >= min_delta = 0.0. New best score: 1.080\n"
     ]
    },
    {
     "name": "stdout",
     "output_type": "stream",
     "text": [
      "Epoch 3: 100%|██████████| 739/739 [00:06<00:00, 109.63it/s, v_num=19, train_loss_step=1.530, train_acc_step=0.450, val_loss=1.080, val_acc=0.490, train_loss_epoch=1.090, train_acc_epoch=0.484]"
     ]
    },
    {
     "name": "stderr",
     "output_type": "stream",
     "text": [
      "Metric val_loss improved by 0.003 >= min_delta = 0.0. New best score: 1.077\n"
     ]
    },
    {
     "name": "stdout",
     "output_type": "stream",
     "text": [
      "Epoch 4: 100%|██████████| 739/739 [00:06<00:00, 108.42it/s, v_num=19, train_loss_step=1.060, train_acc_step=0.600, val_loss=1.070, val_acc=0.494, train_loss_epoch=1.080, train_acc_epoch=0.487]"
     ]
    },
    {
     "name": "stderr",
     "output_type": "stream",
     "text": [
      "Metric val_loss improved by 0.005 >= min_delta = 0.0. New best score: 1.071\n"
     ]
    },
    {
     "name": "stdout",
     "output_type": "stream",
     "text": [
      "Epoch 5: 100%|██████████| 739/739 [00:06<00:00, 108.85it/s, v_num=19, train_loss_step=0.968, train_acc_step=0.550, val_loss=1.070, val_acc=0.496, train_loss_epoch=1.080, train_acc_epoch=0.491]"
     ]
    },
    {
     "name": "stderr",
     "output_type": "stream",
     "text": [
      "Metric val_loss improved by 0.001 >= min_delta = 0.0. New best score: 1.071\n"
     ]
    },
    {
     "name": "stdout",
     "output_type": "stream",
     "text": [
      "Epoch 7: 100%|██████████| 739/739 [00:06<00:00, 107.84it/s, v_num=19, train_loss_step=1.070, train_acc_step=0.400, val_loss=1.070, val_acc=0.502, train_loss_epoch=1.070, train_acc_epoch=0.496]"
     ]
    },
    {
     "name": "stderr",
     "output_type": "stream",
     "text": [
      "Metric val_loss improved by 0.004 >= min_delta = 0.0. New best score: 1.067\n"
     ]
    },
    {
     "name": "stdout",
     "output_type": "stream",
     "text": [
      "Epoch 9: 100%|██████████| 739/739 [00:07<00:00, 103.50it/s, v_num=19, train_loss_step=1.050, train_acc_step=0.450, val_loss=1.060, val_acc=0.503, train_loss_epoch=1.060, train_acc_epoch=0.502]"
     ]
    },
    {
     "name": "stderr",
     "output_type": "stream",
     "text": [
      "Metric val_loss improved by 0.003 >= min_delta = 0.0. New best score: 1.063\n"
     ]
    },
    {
     "name": "stdout",
     "output_type": "stream",
     "text": [
      "Epoch 11: 100%|██████████| 739/739 [00:06<00:00, 108.16it/s, v_num=19, train_loss_step=1.260, train_acc_step=0.450, val_loss=1.060, val_acc=0.502, train_loss_epoch=1.060, train_acc_epoch=0.505]"
     ]
    },
    {
     "name": "stderr",
     "output_type": "stream",
     "text": [
      "Metric val_loss improved by 0.004 >= min_delta = 0.0. New best score: 1.060\n"
     ]
    },
    {
     "name": "stdout",
     "output_type": "stream",
     "text": [
      "Epoch 12: 100%|██████████| 739/739 [00:06<00:00, 107.25it/s, v_num=19, train_loss_step=1.010, train_acc_step=0.550, val_loss=1.060, val_acc=0.503, train_loss_epoch=1.060, train_acc_epoch=0.509]"
     ]
    },
    {
     "name": "stderr",
     "output_type": "stream",
     "text": [
      "Metric val_loss improved by 0.001 >= min_delta = 0.0. New best score: 1.059\n"
     ]
    },
    {
     "name": "stdout",
     "output_type": "stream",
     "text": [
      "Epoch 14: 100%|██████████| 739/739 [00:06<00:00, 107.90it/s, v_num=19, train_loss_step=0.939, train_acc_step=0.500, val_loss=1.060, val_acc=0.507, train_loss_epoch=1.050, train_acc_epoch=0.511]"
     ]
    },
    {
     "name": "stderr",
     "output_type": "stream",
     "text": [
      "Metric val_loss improved by 0.002 >= min_delta = 0.0. New best score: 1.057\n"
     ]
    },
    {
     "name": "stdout",
     "output_type": "stream",
     "text": [
      "Epoch 18: 100%|██████████| 739/739 [00:06<00:00, 109.18it/s, v_num=19, train_loss_step=1.260, train_acc_step=0.350, val_loss=1.060, val_acc=0.503, train_loss_epoch=1.040, train_acc_epoch=0.519]"
     ]
    },
    {
     "name": "stderr",
     "output_type": "stream",
     "text": [
      "Metric val_loss improved by 0.001 >= min_delta = 0.0. New best score: 1.056\n"
     ]
    },
    {
     "name": "stdout",
     "output_type": "stream",
     "text": [
      "Epoch 21: 100%|██████████| 739/739 [00:07<00:00, 105.33it/s, v_num=19, train_loss_step=1.360, train_acc_step=0.400, val_loss=1.060, val_acc=0.507, train_loss_epoch=1.030, train_acc_epoch=0.522]"
     ]
    },
    {
     "name": "stderr",
     "output_type": "stream",
     "text": [
      "Metric val_loss improved by 0.000 >= min_delta = 0.0. New best score: 1.056\n"
     ]
    },
    {
     "name": "stdout",
     "output_type": "stream",
     "text": [
      "Epoch 23: 100%|██████████| 739/739 [00:06<00:00, 108.45it/s, v_num=19, train_loss_step=1.170, train_acc_step=0.450, val_loss=1.060, val_acc=0.509, train_loss_epoch=1.030, train_acc_epoch=0.520]"
     ]
    },
    {
     "name": "stderr",
     "output_type": "stream",
     "text": [
      "Metric val_loss improved by 0.000 >= min_delta = 0.0. New best score: 1.055\n"
     ]
    },
    {
     "name": "stdout",
     "output_type": "stream",
     "text": [
      "Epoch 28: 100%|██████████| 739/739 [00:07<00:00, 104.02it/s, v_num=19, train_loss_step=1.210, train_acc_step=0.450, val_loss=1.060, val_acc=0.509, train_loss_epoch=1.020, train_acc_epoch=0.527]"
     ]
    },
    {
     "name": "stderr",
     "output_type": "stream",
     "text": [
      "Monitored metric val_loss did not improve in the last 5 records. Best score: 1.055. Signaling Trainer to stop.\n"
     ]
    },
    {
     "name": "stdout",
     "output_type": "stream",
     "text": [
      "Epoch 28: 100%|██████████| 739/739 [00:07<00:00, 103.82it/s, v_num=19, train_loss_step=1.210, train_acc_step=0.450, val_loss=1.060, val_acc=0.509, train_loss_epoch=1.020, train_acc_epoch=0.527]"
     ]
    },
    {
     "name": "stderr",
     "output_type": "stream",
     "text": [
      "[I 2024-04-24 13:12:23,453] Trial 19 finished with value: 1.0571752786636353 and parameters: {'lr': 0.0002781801507738067, 'hidden_size': 64, 'num_hidden_layers': 2, 'dropout_rate': 0.216167911699429, 'activation': 'leaky_relu'}. Best is trial 14 with value: 1.0468823909759521.\n"
     ]
    },
    {
     "name": "stdout",
     "output_type": "stream",
     "text": [
      "\n",
      "Best hyperparameters:  {'lr': 0.0006850547280486539, 'hidden_size': 144, 'num_hidden_layers': 3, 'dropout_rate': 0.22240243540524415, 'activation': 'elu'}\n"
     ]
    }
   ],
   "source": [
    "# # Load your data\n",
    "# X_train_transformed, X_test_transformed, y_train, y_test = joblib.load(\"./data/processed/train_test_transformed_data.joblib\")\n",
    "\n",
    "# Convert data to PyTorch tensors\n",
    "X_train_tensor = torch.tensor(X_train_transformed.values, dtype=torch.float32)\n",
    "y_train_tensor = torch.tensor(y_train.values, dtype=torch.long)\n",
    "X_val_tensor = torch.tensor(X_test_transformed.values, dtype=torch.float32)\n",
    "y_val_tensor = torch.tensor(y_test.values, dtype=torch.long)\n",
    "# Create PyTorch datasets\n",
    "train_dataset = TensorDataset(X_train_tensor, y_train_tensor)\n",
    "val_dataset = TensorDataset(X_val_tensor, y_val_tensor)\n",
    "\n",
    "# Create PyTorch data loaders\n",
    "batch_size = 32\n",
    "train_loader = DataLoader(train_dataset, batch_size=batch_size, shuffle=True)\n",
    "val_loader = DataLoader(val_dataset, batch_size=batch_size)\n",
    "\n",
    "class ClassificationModel(pl.LightningModule):\n",
    "    def __init__(self, input_size, num_classes, hidden_size, num_hidden_layers, dropout_rate, activation, lr):\n",
    "        super().__init__()\n",
    "        self.save_hyperparameters()\n",
    "        layers = [nn.Linear(input_size, hidden_size), get_activation_fn(activation)()]\n",
    "        for _ in range(num_hidden_layers - 1):\n",
    "            layers.append(nn.Linear(hidden_size, hidden_size))\n",
    "            layers.append(get_activation_fn(activation)())\n",
    "            layers.append(nn.Dropout(dropout_rate))\n",
    "        layers.append(nn.Linear(hidden_size, num_classes))\n",
    "        self.layers = nn.Sequential(*layers)\n",
    "\n",
    "    def forward(self, x):\n",
    "        return self.layers(x)\n",
    "\n",
    "    def training_step(self, batch, batch_idx):\n",
    "        x, y = batch\n",
    "        logits = self(x)\n",
    "        loss = F.cross_entropy(logits, y)\n",
    "        acc = (logits.argmax(dim=1) == y).float().mean()\n",
    "        self.log('train_loss', loss, on_step=True, on_epoch=True, prog_bar=True)\n",
    "        self.log('train_acc', acc, on_step=True, on_epoch=True, prog_bar=True)\n",
    "        return loss\n",
    "\n",
    "    def validation_step(self, batch, batch_idx):\n",
    "        x, y = batch\n",
    "        logits = self(x)\n",
    "        loss = F.cross_entropy(logits, y)\n",
    "        acc = (logits.argmax(dim=1) == y).float().mean()\n",
    "        self.log('val_loss', loss, prog_bar=True)\n",
    "        self.log('val_acc', acc, prog_bar=True)\n",
    "\n",
    "    def configure_optimizers(self):\n",
    "        optimizer = torch.optim.Adam(self.parameters(), lr=self.hparams.lr)\n",
    "        return optimizer\n",
    "\n",
    "def get_activation_fn(activation):\n",
    "    if activation == \"relu\":\n",
    "        return nn.ReLU\n",
    "    elif activation == \"leaky_relu\":\n",
    "        return nn.LeakyReLU\n",
    "    elif activation == \"elu\":\n",
    "        return nn.ELU\n",
    "    else:\n",
    "        raise ValueError(f\"Invalid activation function: {activation}\")\n",
    "\n",
    "def objective(trial):\n",
    "    lr = trial.suggest_float(\"lr\", 1e-4, 1e-2, log=True)\n",
    "    hidden_size = trial.suggest_int(\"hidden_size\", 32, 256, step=16)\n",
    "    num_hidden_layers = trial.suggest_int(\"num_hidden_layers\", 1, 3)\n",
    "    dropout_rate = trial.suggest_float(\"dropout_rate\", 0.1, 0.5)\n",
    "    activation = trial.suggest_categorical(\"activation\", [\"relu\", \"leaky_relu\", \"elu\"])\n",
    "\n",
    "    model = ClassificationModel(input_size=X_train_transformed.shape[1], num_classes=len(np.unique(y_train)),\n",
    "                                hidden_size=hidden_size, num_hidden_layers=num_hidden_layers,\n",
    "                                dropout_rate=dropout_rate, activation=activation, lr=lr)\n",
    "\n",
    "    early_stop_callback = EarlyStopping(monitor=\"val_loss\", patience=5, verbose=True, mode=\"min\")\n",
    "    trainer = pl.Trainer(max_epochs=100, callbacks=[early_stop_callback], accelerator=\"cuda\" if torch.cuda.is_available() else \"auto\")\n",
    "\n",
    "    trainer.fit(model, train_loader, val_loader)\n",
    "\n",
    "    return trainer.callback_metrics[\"val_loss\"].item()\n",
    "\n",
    "study = optuna.create_study(direction=\"minimize\")\n",
    "study.optimize(objective, n_trials=20)\n",
    "\n",
    "best_params = study.best_trial.params\n",
    "print(\"Best hyperparameters: \", best_params)"
   ]
  },
  {
   "cell_type": "code",
   "execution_count": 30,
   "metadata": {},
   "outputs": [
    {
     "name": "stderr",
     "output_type": "stream",
     "text": [
      "GPU available: False, used: False\n",
      "TPU available: False, using: 0 TPU cores\n",
      "IPU available: False, using: 0 IPUs\n",
      "HPU available: False, using: 0 HPUs\n",
      "\n",
      "  | Name   | Type       | Params\n",
      "--------------------------------------\n",
      "0 | layers | Sequential | 50.3 K\n",
      "--------------------------------------\n",
      "50.3 K    Trainable params\n",
      "0         Non-trainable params\n",
      "50.3 K    Total params\n",
      "0.201     Total estimated model params size (MB)\n"
     ]
    },
    {
     "name": "stdout",
     "output_type": "stream",
     "text": [
      "Epoch 0: 100%|██████████| 739/739 [00:13<00:00, 56.57it/s, v_num=20, train_loss_step=1.050, train_acc_step=0.450, val_loss=1.090, val_acc=0.474, train_loss_epoch=1.130, train_acc_epoch=0.460]"
     ]
    },
    {
     "name": "stderr",
     "output_type": "stream",
     "text": [
      "Metric val_loss improved. New best score: 1.095\n"
     ]
    },
    {
     "name": "stdout",
     "output_type": "stream",
     "text": [
      "Epoch 1: 100%|██████████| 739/739 [00:10<00:00, 70.84it/s, v_num=20, train_loss_step=1.420, train_acc_step=0.400, val_loss=1.090, val_acc=0.482, train_loss_epoch=1.100, train_acc_epoch=0.478]"
     ]
    },
    {
     "name": "stderr",
     "output_type": "stream",
     "text": [
      "Metric val_loss improved by 0.009 >= min_delta = 0.0. New best score: 1.086\n"
     ]
    },
    {
     "name": "stdout",
     "output_type": "stream",
     "text": [
      "Epoch 2: 100%|██████████| 739/739 [00:10<00:00, 67.79it/s, v_num=20, train_loss_step=1.240, train_acc_step=0.650, val_loss=1.080, val_acc=0.478, train_loss_epoch=1.090, train_acc_epoch=0.476]"
     ]
    },
    {
     "name": "stderr",
     "output_type": "stream",
     "text": [
      "Metric val_loss improved by 0.005 >= min_delta = 0.0. New best score: 1.081\n"
     ]
    },
    {
     "name": "stdout",
     "output_type": "stream",
     "text": [
      "Epoch 4: 100%|██████████| 739/739 [00:09<00:00, 74.02it/s, v_num=20, train_loss_step=1.160, train_acc_step=0.600, val_loss=1.080, val_acc=0.485, train_loss_epoch=1.090, train_acc_epoch=0.483]"
     ]
    },
    {
     "name": "stderr",
     "output_type": "stream",
     "text": [
      "Metric val_loss improved by 0.000 >= min_delta = 0.0. New best score: 1.081\n"
     ]
    },
    {
     "name": "stdout",
     "output_type": "stream",
     "text": [
      "Epoch 6: 100%|██████████| 739/739 [00:10<00:00, 72.94it/s, v_num=20, train_loss_step=0.942, train_acc_step=0.650, val_loss=1.070, val_acc=0.494, train_loss_epoch=1.080, train_acc_epoch=0.483]"
     ]
    },
    {
     "name": "stderr",
     "output_type": "stream",
     "text": [
      "Metric val_loss improved by 0.006 >= min_delta = 0.0. New best score: 1.075\n"
     ]
    },
    {
     "name": "stdout",
     "output_type": "stream",
     "text": [
      "Epoch 7: 100%|██████████| 739/739 [00:10<00:00, 70.70it/s, v_num=20, train_loss_step=0.887, train_acc_step=0.600, val_loss=1.070, val_acc=0.488, train_loss_epoch=1.080, train_acc_epoch=0.485]"
     ]
    },
    {
     "name": "stderr",
     "output_type": "stream",
     "text": [
      "Metric val_loss improved by 0.006 >= min_delta = 0.0. New best score: 1.069\n"
     ]
    },
    {
     "name": "stdout",
     "output_type": "stream",
     "text": [
      "Epoch 12: 100%|██████████| 739/739 [00:09<00:00, 74.18it/s, v_num=20, train_loss_step=1.110, train_acc_step=0.450, val_loss=1.070, val_acc=0.493, train_loss_epoch=1.070, train_acc_epoch=0.494]"
     ]
    },
    {
     "name": "stderr",
     "output_type": "stream",
     "text": [
      "Monitored metric val_loss did not improve in the last 5 records. Best score: 1.069. Signaling Trainer to stop.\n"
     ]
    },
    {
     "name": "stdout",
     "output_type": "stream",
     "text": [
      "Epoch 12: 100%|██████████| 739/739 [00:09<00:00, 74.04it/s, v_num=20, train_loss_step=1.110, train_acc_step=0.450, val_loss=1.070, val_acc=0.493, train_loss_epoch=1.070, train_acc_epoch=0.494]\n"
     ]
    },
    {
     "data": {
      "text/plain": [
       "['./models/deep_learning_optuna_model.joblib']"
      ]
     },
     "execution_count": 30,
     "metadata": {},
     "output_type": "execute_result"
    }
   ],
   "source": [
    "best_model = ClassificationModel(input_size=X_train_transformed.shape[1], num_classes=len(np.unique(y_train)), **best_params)\n",
    "\n",
    "early_stop_callback = EarlyStopping(monitor=\"val_loss\", patience=5, verbose=True, mode=\"min\")\n",
    "trainer = pl.Trainer(max_epochs=100, callbacks=[early_stop_callback], accelerator=\"cuda\" if torch.cuda.is_available() else \"auto\")\n",
    "trainer.fit(best_model, train_loader, val_loader)\n",
    "\n",
    "# Save the best model at the correct models path\n",
    "joblib.dump(best_model, \"./models/deep_learning_optuna_model.joblib\")"
   ]
  },
  {
   "cell_type": "code",
   "execution_count": 9,
   "metadata": {},
   "outputs": [],
   "source": [
    "from train_lightning import ClassificationModel\n",
    "## Load the best model\n",
    "best_model = joblib.load(\"../../models/deep_learning_optuna_model.joblib\")\n"
   ]
  },
  {
   "cell_type": "code",
   "execution_count": 10,
   "metadata": {},
   "outputs": [],
   "source": [
    "X_train_tensor = torch.tensor(X_train_transformed.values, dtype=torch.float32)\n",
    "y_train_tensor = torch.tensor(y_train.values, dtype=torch.long)\n",
    "X_val_tensor = torch.tensor(X_test_transformed.values, dtype=torch.float32)\n",
    "y_val_tensor = torch.tensor(y_test.values, dtype=torch.long)\n",
    "# Create PyTorch datasets\n",
    "train_dataset = TensorDataset(X_train_tensor, y_train_tensor)\n",
    "val_dataset = TensorDataset(X_val_tensor, y_val_tensor)\n",
    "\n",
    "# Create PyTorch data loaders\n",
    "batch_size = 32\n",
    "train_loader = DataLoader(train_dataset, batch_size=batch_size, shuffle=True)\n",
    "val_loader = DataLoader(val_dataset, batch_size=batch_size)"
   ]
  },
  {
   "cell_type": "code",
   "execution_count": 40,
   "metadata": {},
   "outputs": [
    {
     "data": {
      "image/png": "[encoded data removed]",
      "text/plain": [
       "<Figure size 1500x1000 with 1 Axes>"
      ]
     },
     "metadata": {},
     "output_type": "display_data"
    }
   ],
   "source": [
    "\n",
    "# Run SHAP explainer on a few samples of the X_val data\n",
    "sample_indices = np.random.choice(X_val_tensor.shape[0], 100, replace=False)\n",
    "explainer = shap.DeepExplainer(best_model, X_train_tensor)\n",
    "shap_values = explainer.shap_values(X_val_tensor[sample_indices])\n",
    "\n",
    "# Plot the SHAP summary bar plot for the selected samples with updated class names\n",
    "shap.summary_plot(shap_values, X_test_transformed.iloc[sample_indices], class_names=['Low popularity', 'Moderate popularity', 'High popularity', 'Very high popularity'], max_display=10, plot_size=(15, 10))"
   ]
  },
  {
   "cell_type": "code",
   "execution_count": 11,
   "metadata": {},
   "outputs": [
    {
     "name": "stderr",
     "output_type": "stream",
     "text": [
      "GPU available: False, used: False\n",
      "TPU available: False, using: 0 TPU cores\n",
      "IPU available: False, using: 0 IPUs\n",
      "HPU available: False, using: 0 HPUs\n",
      "\n",
      "  | Name   | Type       | Params\n",
      "--------------------------------------\n",
      "0 | layers | Sequential | 50.3 K\n",
      "--------------------------------------\n",
      "50.3 K    Trainable params\n",
      "0         Non-trainable params\n",
      "50.3 K    Total params\n",
      "0.201     Total estimated model params size (MB)\n"
     ]
    },
    {
     "name": "stdout",
     "output_type": "stream",
     "text": [
      "Epoch 0: 100%|██████████| 313/313 [00:08<00:00, 38.41it/s, v_num=9, train_loss_step=0.983, train_acc_step=0.562, val_loss=1.100, val_acc=0.470, train_loss_epoch=1.150, train_acc_epoch=0.448]"
     ]
    },
    {
     "name": "stderr",
     "output_type": "stream",
     "text": [
      "Metric val_loss improved. New best score: 1.100\n"
     ]
    },
    {
     "name": "stdout",
     "output_type": "stream",
     "text": [
      "Epoch 1: 100%|██████████| 313/313 [00:07<00:00, 41.27it/s, v_num=9, train_loss_step=0.908, train_acc_step=0.625, val_loss=1.100, val_acc=0.472, train_loss_epoch=1.100, train_acc_epoch=0.481]"
     ]
    },
    {
     "name": "stderr",
     "output_type": "stream",
     "text": [
      "Metric val_loss improved by 0.001 >= min_delta = 0.0. New best score: 1.099\n"
     ]
    },
    {
     "name": "stdout",
     "output_type": "stream",
     "text": [
      "Epoch 6: 100%|██████████| 313/313 [00:08<00:00, 38.99it/s, v_num=9, train_loss_step=0.900, train_acc_step=0.750, val_loss=1.100, val_acc=0.469, train_loss_epoch=1.090, train_acc_epoch=0.493]"
     ]
    },
    {
     "name": "stderr",
     "output_type": "stream",
     "text": [
      "Monitored metric val_loss did not improve in the last 5 records. Best score: 1.099. Signaling Trainer to stop.\n"
     ]
    },
    {
     "name": "stdout",
     "output_type": "stream",
     "text": [
      "Epoch 6: 100%|██████████| 313/313 [00:08<00:00, 38.86it/s, v_num=9, train_loss_step=0.900, train_acc_step=0.750, val_loss=1.100, val_acc=0.469, train_loss_epoch=1.090, train_acc_epoch=0.493]\n"
     ]
    },
    {
     "name": "stderr",
     "output_type": "stream",
     "text": [
      "GPU available: False, used: False\n",
      "TPU available: False, using: 0 TPU cores\n",
      "IPU available: False, using: 0 IPUs\n",
      "HPU available: False, using: 0 HPUs\n",
      "\n",
      "  | Name   | Type       | Params\n",
      "--------------------------------------\n",
      "0 | layers | Sequential | 50.3 K\n",
      "--------------------------------------\n",
      "50.3 K    Trainable params\n",
      "0         Non-trainable params\n",
      "50.3 K    Total params\n",
      "0.201     Total estimated model params size (MB)\n"
     ]
    },
    {
     "name": "stdout",
     "output_type": "stream",
     "text": [
      "Epoch 0: 100%|██████████| 375/375 [00:08<00:00, 43.45it/s, v_num=10, train_loss_step=1.090, train_acc_step=0.469, val_loss=1.110, val_acc=0.469, train_loss_epoch=1.150, train_acc_epoch=0.452]"
     ]
    },
    {
     "name": "stderr",
     "output_type": "stream",
     "text": [
      "Monitored metric val_loss did not improve in the last 6 records. Best score: 1.099. Signaling Trainer to stop.\n"
     ]
    },
    {
     "name": "stdout",
     "output_type": "stream",
     "text": [
      "Epoch 0: 100%|██████████| 375/375 [00:08<00:00, 43.26it/s, v_num=10, train_loss_step=1.090, train_acc_step=0.469, val_loss=1.110, val_acc=0.469, train_loss_epoch=1.150, train_acc_epoch=0.452]\n"
     ]
    },
    {
     "name": "stderr",
     "output_type": "stream",
     "text": [
      "GPU available: False, used: False\n",
      "TPU available: False, using: 0 TPU cores\n",
      "IPU available: False, using: 0 IPUs\n",
      "HPU available: False, using: 0 HPUs\n",
      "\n",
      "  | Name   | Type       | Params\n",
      "--------------------------------------\n",
      "0 | layers | Sequential | 50.3 K\n",
      "--------------------------------------\n",
      "50.3 K    Trainable params\n",
      "0         Non-trainable params\n",
      "50.3 K    Total params\n",
      "0.201     Total estimated model params size (MB)\n"
     ]
    },
    {
     "name": "stdout",
     "output_type": "stream",
     "text": [
      "Epoch 0: 100%|██████████| 438/438 [00:10<00:00, 42.16it/s, v_num=11, train_loss_step=1.070, train_acc_step=0.562, val_loss=1.100, val_acc=0.474, train_loss_epoch=1.140, train_acc_epoch=0.448]"
     ]
    },
    {
     "name": "stderr",
     "output_type": "stream",
     "text": [
      "Monitored metric val_loss did not improve in the last 7 records. Best score: 1.099. Signaling Trainer to stop.\n"
     ]
    },
    {
     "name": "stdout",
     "output_type": "stream",
     "text": [
      "Epoch 0: 100%|██████████| 438/438 [00:10<00:00, 42.01it/s, v_num=11, train_loss_step=1.070, train_acc_step=0.562, val_loss=1.100, val_acc=0.474, train_loss_epoch=1.140, train_acc_epoch=0.448]\n"
     ]
    },
    {
     "name": "stderr",
     "output_type": "stream",
     "text": [
      "GPU available: False, used: False\n",
      "TPU available: False, using: 0 TPU cores\n",
      "IPU available: False, using: 0 IPUs\n",
      "HPU available: False, using: 0 HPUs\n",
      "\n",
      "  | Name   | Type       | Params\n",
      "--------------------------------------\n",
      "0 | layers | Sequential | 50.3 K\n",
      "--------------------------------------\n",
      "50.3 K    Trainable params\n",
      "0         Non-trainable params\n",
      "50.3 K    Total params\n",
      "0.201     Total estimated model params size (MB)\n"
     ]
    },
    {
     "name": "stdout",
     "output_type": "stream",
     "text": [
      "Epoch 0: 100%|██████████| 500/500 [00:11<00:00, 42.43it/s, v_num=12, train_loss_step=1.090, train_acc_step=0.562, val_loss=1.090, val_acc=0.481, train_loss_epoch=1.130, train_acc_epoch=0.460]"
     ]
    },
    {
     "name": "stderr",
     "output_type": "stream",
     "text": [
      "Metric val_loss improved by 0.005 >= min_delta = 0.0. New best score: 1.094\n"
     ]
    },
    {
     "name": "stdout",
     "output_type": "stream",
     "text": [
      "Epoch 1: 100%|██████████| 500/500 [00:10<00:00, 46.63it/s, v_num=12, train_loss_step=1.070, train_acc_step=0.562, val_loss=1.090, val_acc=0.480, train_loss_epoch=1.100, train_acc_epoch=0.478]"
     ]
    },
    {
     "name": "stderr",
     "output_type": "stream",
     "text": [
      "Metric val_loss improved by 0.006 >= min_delta = 0.0. New best score: 1.088\n"
     ]
    },
    {
     "name": "stdout",
     "output_type": "stream",
     "text": [
      "Epoch 2: 100%|██████████| 500/500 [00:10<00:00, 47.75it/s, v_num=12, train_loss_step=1.040, train_acc_step=0.531, val_loss=1.090, val_acc=0.482, train_loss_epoch=1.090, train_acc_epoch=0.483]"
     ]
    },
    {
     "name": "stderr",
     "output_type": "stream",
     "text": [
      "Metric val_loss improved by 0.002 >= min_delta = 0.0. New best score: 1.085\n"
     ]
    },
    {
     "name": "stdout",
     "output_type": "stream",
     "text": [
      "Epoch 3: 100%|██████████| 500/500 [00:10<00:00, 46.62it/s, v_num=12, train_loss_step=1.090, train_acc_step=0.531, val_loss=1.080, val_acc=0.489, train_loss_epoch=1.090, train_acc_epoch=0.488]"
     ]
    },
    {
     "name": "stderr",
     "output_type": "stream",
     "text": [
      "Metric val_loss improved by 0.002 >= min_delta = 0.0. New best score: 1.083\n"
     ]
    },
    {
     "name": "stdout",
     "output_type": "stream",
     "text": [
      "Epoch 4: 100%|██████████| 500/500 [00:11<00:00, 44.71it/s, v_num=12, train_loss_step=1.060, train_acc_step=0.500, val_loss=1.080, val_acc=0.490, train_loss_epoch=1.090, train_acc_epoch=0.485]"
     ]
    },
    {
     "name": "stderr",
     "output_type": "stream",
     "text": [
      "Metric val_loss improved by 0.001 >= min_delta = 0.0. New best score: 1.082\n"
     ]
    },
    {
     "name": "stdout",
     "output_type": "stream",
     "text": [
      "Epoch 5: 100%|██████████| 500/500 [00:11<00:00, 43.57it/s, v_num=12, train_loss_step=1.040, train_acc_step=0.562, val_loss=1.080, val_acc=0.494, train_loss_epoch=1.080, train_acc_epoch=0.487]"
     ]
    },
    {
     "name": "stderr",
     "output_type": "stream",
     "text": [
      "Metric val_loss improved by 0.002 >= min_delta = 0.0. New best score: 1.080\n"
     ]
    },
    {
     "name": "stdout",
     "output_type": "stream",
     "text": [
      "Epoch 6: 100%|██████████| 500/500 [00:10<00:00, 46.70it/s, v_num=12, train_loss_step=1.060, train_acc_step=0.438, val_loss=1.080, val_acc=0.492, train_loss_epoch=1.080, train_acc_epoch=0.492]"
     ]
    },
    {
     "name": "stderr",
     "output_type": "stream",
     "text": [
      "Metric val_loss improved by 0.002 >= min_delta = 0.0. New best score: 1.079\n"
     ]
    },
    {
     "name": "stdout",
     "output_type": "stream",
     "text": [
      "Epoch 7: 100%|██████████| 500/500 [00:11<00:00, 42.58it/s, v_num=12, train_loss_step=1.050, train_acc_step=0.469, val_loss=1.080, val_acc=0.493, train_loss_epoch=1.080, train_acc_epoch=0.488]"
     ]
    },
    {
     "name": "stderr",
     "output_type": "stream",
     "text": [
      "Metric val_loss improved by 0.000 >= min_delta = 0.0. New best score: 1.078\n"
     ]
    },
    {
     "name": "stdout",
     "output_type": "stream",
     "text": [
      "Epoch 8: 100%|██████████| 500/500 [00:13<00:00, 38.40it/s, v_num=12, train_loss_step=1.040, train_acc_step=0.531, val_loss=1.080, val_acc=0.494, train_loss_epoch=1.080, train_acc_epoch=0.490]"
     ]
    },
    {
     "name": "stderr",
     "output_type": "stream",
     "text": [
      "Metric val_loss improved by 0.000 >= min_delta = 0.0. New best score: 1.078\n"
     ]
    },
    {
     "name": "stdout",
     "output_type": "stream",
     "text": [
      "Epoch 9: 100%|██████████| 500/500 [00:12<00:00, 40.80it/s, v_num=12, train_loss_step=1.030, train_acc_step=0.500, val_loss=1.080, val_acc=0.492, train_loss_epoch=1.070, train_acc_epoch=0.492]"
     ]
    },
    {
     "name": "stderr",
     "output_type": "stream",
     "text": [
      "Metric val_loss improved by 0.001 >= min_delta = 0.0. New best score: 1.077\n"
     ]
    },
    {
     "name": "stdout",
     "output_type": "stream",
     "text": [
      "Epoch 10: 100%|██████████| 500/500 [00:11<00:00, 44.38it/s, v_num=12, train_loss_step=1.040, train_acc_step=0.500, val_loss=1.070, val_acc=0.498, train_loss_epoch=1.070, train_acc_epoch=0.493]"
     ]
    },
    {
     "name": "stderr",
     "output_type": "stream",
     "text": [
      "Metric val_loss improved by 0.003 >= min_delta = 0.0. New best score: 1.074\n"
     ]
    },
    {
     "name": "stdout",
     "output_type": "stream",
     "text": [
      "Epoch 11: 100%|██████████| 500/500 [00:11<00:00, 44.05it/s, v_num=12, train_loss_step=1.040, train_acc_step=0.469, val_loss=1.070, val_acc=0.497, train_loss_epoch=1.070, train_acc_epoch=0.494]"
     ]
    },
    {
     "name": "stderr",
     "output_type": "stream",
     "text": [
      "Metric val_loss improved by 0.000 >= min_delta = 0.0. New best score: 1.074\n"
     ]
    },
    {
     "name": "stdout",
     "output_type": "stream",
     "text": [
      "Epoch 12: 100%|██████████| 500/500 [00:10<00:00, 46.60it/s, v_num=12, train_loss_step=1.010, train_acc_step=0.469, val_loss=1.070, val_acc=0.497, train_loss_epoch=1.070, train_acc_epoch=0.496]"
     ]
    },
    {
     "name": "stderr",
     "output_type": "stream",
     "text": [
      "Metric val_loss improved by 0.001 >= min_delta = 0.0. New best score: 1.073\n"
     ]
    },
    {
     "name": "stdout",
     "output_type": "stream",
     "text": [
      "Epoch 13: 100%|██████████| 500/500 [00:10<00:00, 45.47it/s, v_num=12, train_loss_step=1.010, train_acc_step=0.594, val_loss=1.070, val_acc=0.496, train_loss_epoch=1.070, train_acc_epoch=0.495]"
     ]
    },
    {
     "name": "stderr",
     "output_type": "stream",
     "text": [
      "Metric val_loss improved by 0.001 >= min_delta = 0.0. New best score: 1.072\n"
     ]
    },
    {
     "name": "stdout",
     "output_type": "stream",
     "text": [
      "Epoch 14: 100%|██████████| 500/500 [00:11<00:00, 44.66it/s, v_num=12, train_loss_step=1.010, train_acc_step=0.469, val_loss=1.070, val_acc=0.496, train_loss_epoch=1.060, train_acc_epoch=0.499]"
     ]
    },
    {
     "name": "stderr",
     "output_type": "stream",
     "text": [
      "Metric val_loss improved by 0.002 >= min_delta = 0.0. New best score: 1.070\n"
     ]
    },
    {
     "name": "stdout",
     "output_type": "stream",
     "text": [
      "Epoch 15: 100%|██████████| 500/500 [00:11<00:00, 45.17it/s, v_num=12, train_loss_step=1.000, train_acc_step=0.562, val_loss=1.070, val_acc=0.499, train_loss_epoch=1.060, train_acc_epoch=0.499]"
     ]
    },
    {
     "name": "stderr",
     "output_type": "stream",
     "text": [
      "Metric val_loss improved by 0.002 >= min_delta = 0.0. New best score: 1.068\n"
     ]
    },
    {
     "name": "stdout",
     "output_type": "stream",
     "text": [
      "Epoch 17: 100%|██████████| 500/500 [00:10<00:00, 47.02it/s, v_num=12, train_loss_step=1.000, train_acc_step=0.500, val_loss=1.070, val_acc=0.501, train_loss_epoch=1.050, train_acc_epoch=0.504]"
     ]
    },
    {
     "name": "stderr",
     "output_type": "stream",
     "text": [
      "Metric val_loss improved by 0.002 >= min_delta = 0.0. New best score: 1.066\n"
     ]
    },
    {
     "name": "stdout",
     "output_type": "stream",
     "text": [
      "Epoch 18: 100%|██████████| 500/500 [00:10<00:00, 46.58it/s, v_num=12, train_loss_step=0.986, train_acc_step=0.531, val_loss=1.070, val_acc=0.500, train_loss_epoch=1.050, train_acc_epoch=0.509]"
     ]
    },
    {
     "name": "stderr",
     "output_type": "stream",
     "text": [
      "Metric val_loss improved by 0.000 >= min_delta = 0.0. New best score: 1.066\n"
     ]
    },
    {
     "name": "stdout",
     "output_type": "stream",
     "text": [
      "Epoch 19: 100%|██████████| 500/500 [00:10<00:00, 47.24it/s, v_num=12, train_loss_step=0.998, train_acc_step=0.531, val_loss=1.070, val_acc=0.503, train_loss_epoch=1.050, train_acc_epoch=0.507]"
     ]
    },
    {
     "name": "stderr",
     "output_type": "stream",
     "text": [
      "Metric val_loss improved by 0.001 >= min_delta = 0.0. New best score: 1.066\n"
     ]
    },
    {
     "name": "stdout",
     "output_type": "stream",
     "text": [
      "Epoch 20: 100%|██████████| 500/500 [00:10<00:00, 47.96it/s, v_num=12, train_loss_step=0.948, train_acc_step=0.500, val_loss=1.060, val_acc=0.503, train_loss_epoch=1.050, train_acc_epoch=0.511]"
     ]
    },
    {
     "name": "stderr",
     "output_type": "stream",
     "text": [
      "Metric val_loss improved by 0.001 >= min_delta = 0.0. New best score: 1.065\n"
     ]
    },
    {
     "name": "stdout",
     "output_type": "stream",
     "text": [
      "Epoch 21: 100%|██████████| 500/500 [00:10<00:00, 49.28it/s, v_num=12, train_loss_step=0.940, train_acc_step=0.531, val_loss=1.060, val_acc=0.503, train_loss_epoch=1.050, train_acc_epoch=0.512]"
     ]
    },
    {
     "name": "stderr",
     "output_type": "stream",
     "text": [
      "Metric val_loss improved by 0.000 >= min_delta = 0.0. New best score: 1.065\n"
     ]
    },
    {
     "name": "stdout",
     "output_type": "stream",
     "text": [
      "Epoch 22: 100%|██████████| 500/500 [00:10<00:00, 48.99it/s, v_num=12, train_loss_step=0.979, train_acc_step=0.469, val_loss=1.060, val_acc=0.502, train_loss_epoch=1.040, train_acc_epoch=0.513]"
     ]
    },
    {
     "name": "stderr",
     "output_type": "stream",
     "text": [
      "Metric val_loss improved by 0.003 >= min_delta = 0.0. New best score: 1.062\n"
     ]
    },
    {
     "name": "stdout",
     "output_type": "stream",
     "text": [
      "Epoch 23: 100%|██████████| 500/500 [00:10<00:00, 49.35it/s, v_num=12, train_loss_step=0.973, train_acc_step=0.562, val_loss=1.060, val_acc=0.503, train_loss_epoch=1.040, train_acc_epoch=0.515]"
     ]
    },
    {
     "name": "stderr",
     "output_type": "stream",
     "text": [
      "Metric val_loss improved by 0.001 >= min_delta = 0.0. New best score: 1.062\n"
     ]
    },
    {
     "name": "stdout",
     "output_type": "stream",
     "text": [
      "Epoch 24: 100%|██████████| 500/500 [00:10<00:00, 48.52it/s, v_num=12, train_loss_step=0.994, train_acc_step=0.562, val_loss=1.060, val_acc=0.504, train_loss_epoch=1.040, train_acc_epoch=0.513]"
     ]
    },
    {
     "name": "stderr",
     "output_type": "stream",
     "text": [
      "Metric val_loss improved by 0.001 >= min_delta = 0.0. New best score: 1.060\n"
     ]
    },
    {
     "name": "stdout",
     "output_type": "stream",
     "text": [
      "Epoch 26: 100%|██████████| 500/500 [00:10<00:00, 49.83it/s, v_num=12, train_loss_step=1.000, train_acc_step=0.562, val_loss=1.060, val_acc=0.501, train_loss_epoch=1.040, train_acc_epoch=0.518]"
     ]
    },
    {
     "name": "stderr",
     "output_type": "stream",
     "text": [
      "Metric val_loss improved by 0.000 >= min_delta = 0.0. New best score: 1.060\n"
     ]
    },
    {
     "name": "stdout",
     "output_type": "stream",
     "text": [
      "Epoch 31: 100%|██████████| 500/500 [00:10<00:00, 48.34it/s, v_num=12, train_loss_step=0.991, train_acc_step=0.469, val_loss=1.060, val_acc=0.506, train_loss_epoch=1.030, train_acc_epoch=0.520]"
     ]
    },
    {
     "name": "stderr",
     "output_type": "stream",
     "text": [
      "Metric val_loss improved by 0.001 >= min_delta = 0.0. New best score: 1.060\n"
     ]
    },
    {
     "name": "stdout",
     "output_type": "stream",
     "text": [
      "Epoch 33: 100%|██████████| 500/500 [00:10<00:00, 47.49it/s, v_num=12, train_loss_step=0.996, train_acc_step=0.406, val_loss=1.060, val_acc=0.500, train_loss_epoch=1.020, train_acc_epoch=0.524]"
     ]
    },
    {
     "name": "stderr",
     "output_type": "stream",
     "text": [
      "Metric val_loss improved by 0.000 >= min_delta = 0.0. New best score: 1.059\n"
     ]
    },
    {
     "name": "stdout",
     "output_type": "stream",
     "text": [
      "Epoch 38: 100%|██████████| 500/500 [00:10<00:00, 48.52it/s, v_num=12, train_loss_step=0.976, train_acc_step=0.562, val_loss=1.060, val_acc=0.504, train_loss_epoch=1.010, train_acc_epoch=0.526]"
     ]
    },
    {
     "name": "stderr",
     "output_type": "stream",
     "text": [
      "Metric val_loss improved by 0.000 >= min_delta = 0.0. New best score: 1.059\n"
     ]
    },
    {
     "name": "stdout",
     "output_type": "stream",
     "text": [
      "Epoch 39: 100%|██████████| 500/500 [00:10<00:00, 46.61it/s, v_num=12, train_loss_step=0.959, train_acc_step=0.625, val_loss=1.060, val_acc=0.508, train_loss_epoch=1.010, train_acc_epoch=0.528]"
     ]
    },
    {
     "name": "stderr",
     "output_type": "stream",
     "text": [
      "Metric val_loss improved by 0.001 >= min_delta = 0.0. New best score: 1.058\n"
     ]
    },
    {
     "name": "stdout",
     "output_type": "stream",
     "text": [
      "Epoch 44: 100%|██████████| 500/500 [00:10<00:00, 49.47it/s, v_num=12, train_loss_step=1.000, train_acc_step=0.469, val_loss=1.060, val_acc=0.504, train_loss_epoch=1.000, train_acc_epoch=0.534]"
     ]
    },
    {
     "name": "stderr",
     "output_type": "stream",
     "text": [
      "Monitored metric val_loss did not improve in the last 5 records. Best score: 1.058. Signaling Trainer to stop.\n"
     ]
    },
    {
     "name": "stdout",
     "output_type": "stream",
     "text": [
      "Epoch 44: 100%|██████████| 500/500 [00:10<00:00, 49.32it/s, v_num=12, train_loss_step=1.000, train_acc_step=0.469, val_loss=1.060, val_acc=0.504, train_loss_epoch=1.000, train_acc_epoch=0.534]\n"
     ]
    },
    {
     "name": "stderr",
     "output_type": "stream",
     "text": [
      "GPU available: False, used: False\n",
      "TPU available: False, using: 0 TPU cores\n",
      "IPU available: False, using: 0 IPUs\n",
      "HPU available: False, using: 0 HPUs\n",
      "\n",
      "  | Name   | Type       | Params\n",
      "--------------------------------------\n",
      "0 | layers | Sequential | 50.3 K\n",
      "--------------------------------------\n",
      "50.3 K    Trainable params\n",
      "0         Non-trainable params\n",
      "50.3 K    Total params\n",
      "0.201     Total estimated model params size (MB)\n"
     ]
    },
    {
     "name": "stdout",
     "output_type": "stream",
     "text": [
      "Epoch 0: 100%|██████████| 563/563 [00:11<00:00, 49.53it/s, v_num=13, train_loss_step=0.990, train_acc_step=0.625, val_loss=1.100, val_acc=0.474, train_loss_epoch=1.130, train_acc_epoch=0.455]"
     ]
    },
    {
     "name": "stderr",
     "output_type": "stream",
     "text": [
      "Monitored metric val_loss did not improve in the last 6 records. Best score: 1.058. Signaling Trainer to stop.\n"
     ]
    },
    {
     "name": "stdout",
     "output_type": "stream",
     "text": [
      "Epoch 0: 100%|██████████| 563/563 [00:11<00:00, 49.36it/s, v_num=13, train_loss_step=0.990, train_acc_step=0.625, val_loss=1.100, val_acc=0.474, train_loss_epoch=1.130, train_acc_epoch=0.455]\n"
     ]
    },
    {
     "name": "stderr",
     "output_type": "stream",
     "text": [
      "GPU available: False, used: False\n",
      "TPU available: False, using: 0 TPU cores\n",
      "IPU available: False, using: 0 IPUs\n",
      "HPU available: False, using: 0 HPUs\n",
      "\n",
      "  | Name   | Type       | Params\n",
      "--------------------------------------\n",
      "0 | layers | Sequential | 50.3 K\n",
      "--------------------------------------\n",
      "50.3 K    Trainable params\n",
      "0         Non-trainable params\n",
      "50.3 K    Total params\n",
      "0.201     Total estimated model params size (MB)\n"
     ]
    },
    {
     "name": "stdout",
     "output_type": "stream",
     "text": [
      "Epoch 0: 100%|██████████| 625/625 [00:12<00:00, 49.70it/s, v_num=14, train_loss_step=1.020, train_acc_step=0.500, val_loss=1.100, val_acc=0.477, train_loss_epoch=1.130, train_acc_epoch=0.456]"
     ]
    },
    {
     "name": "stderr",
     "output_type": "stream",
     "text": [
      "Monitored metric val_loss did not improve in the last 7 records. Best score: 1.058. Signaling Trainer to stop.\n"
     ]
    },
    {
     "name": "stdout",
     "output_type": "stream",
     "text": [
      "Epoch 0: 100%|██████████| 625/625 [00:12<00:00, 49.55it/s, v_num=14, train_loss_step=1.020, train_acc_step=0.500, val_loss=1.100, val_acc=0.477, train_loss_epoch=1.130, train_acc_epoch=0.456]\n"
     ]
    },
    {
     "name": "stderr",
     "output_type": "stream",
     "text": [
      "GPU available: False, used: False\n",
      "TPU available: False, using: 0 TPU cores\n",
      "IPU available: False, using: 0 IPUs\n",
      "HPU available: False, using: 0 HPUs\n",
      "\n",
      "  | Name   | Type       | Params\n",
      "--------------------------------------\n",
      "0 | layers | Sequential | 50.3 K\n",
      "--------------------------------------\n",
      "50.3 K    Trainable params\n",
      "0         Non-trainable params\n",
      "50.3 K    Total params\n",
      "0.201     Total estimated model params size (MB)\n"
     ]
    },
    {
     "name": "stdout",
     "output_type": "stream",
     "text": [
      "Epoch 0: 100%|██████████| 688/688 [00:13<00:00, 52.27it/s, v_num=15, train_loss_step=1.200, train_acc_step=0.438, val_loss=1.090, val_acc=0.471, train_loss_epoch=1.130, train_acc_epoch=0.457]"
     ]
    },
    {
     "name": "stderr",
     "output_type": "stream",
     "text": [
      "Monitored metric val_loss did not improve in the last 8 records. Best score: 1.058. Signaling Trainer to stop.\n"
     ]
    },
    {
     "name": "stdout",
     "output_type": "stream",
     "text": [
      "Epoch 0: 100%|██████████| 688/688 [00:13<00:00, 52.02it/s, v_num=15, train_loss_step=1.200, train_acc_step=0.438, val_loss=1.090, val_acc=0.471, train_loss_epoch=1.130, train_acc_epoch=0.457]\n",
      "Rows: 10000, Validation Loss: 1.1000, Accuracy: 0.4695\n",
      "Rows: 12000, Validation Loss: 1.1062, Accuracy: 0.4695\n",
      "Rows: 14000, Validation Loss: 1.1003, Accuracy: 0.4740\n",
      "Rows: 16000, Validation Loss: 1.0589, Accuracy: 0.5036\n",
      "Rows: 18000, Validation Loss: 1.0987, Accuracy: 0.4740\n",
      "Rows: 20000, Validation Loss: 1.0958, Accuracy: 0.4771\n",
      "Rows: 22000, Validation Loss: 1.0928, Accuracy: 0.4708\n"
     ]
    }
   ],
   "source": [
    "final_model_params = {\n",
    "    \"lr\": 0.0006850547280486539,\n",
    "    \"hidden_size\": 144,\n",
    "    \"num_hidden_layers\": 3,\n",
    "    \"dropout_rate\": 0.22240243540524415,\n",
    "    \"activation\": \"elu\",\n",
    "}\n",
    "early_stop_callback = EarlyStopping(\n",
    "    monitor=\"val_loss\", patience=5, verbose=True, mode=\"min\"\n",
    ")\n",
    "\n",
    "validation_results = []\n",
    "initial_rows = 10000\n",
    "increment_rows = 2000\n",
    "max_rows = X_train_transformed.shape[0]\n",
    "\n",
    "for current_rows in range(initial_rows, max_rows + 1, increment_rows):\n",
    "    current_X_train = X_train_transformed[:current_rows]\n",
    "    current_y_train = y_train[:current_rows]\n",
    "\n",
    "    final_model = ClassificationModel(\n",
    "        input_size=current_X_train.shape[1],\n",
    "        num_classes=len(np.unique(current_y_train)),\n",
    "        **final_model_params,\n",
    "    )\n",
    "    trainer = pl.Trainer(\n",
    "        max_epochs=50,\n",
    "        callbacks=[early_stop_callback],\n",
    "        accelerator=\"cuda\" if torch.cuda.is_available() else \"auto\",\n",
    "    )\n",
    "    trainer.fit(\n",
    "        final_model,\n",
    "        DataLoader(\n",
    "            TensorDataset(\n",
    "                torch.tensor(current_X_train.values, dtype=torch.float32),\n",
    "                torch.tensor(current_y_train.values, dtype=torch.long),\n",
    "            ),\n",
    "            batch_size=batch_size,\n",
    "        ),\n",
    "        val_loader,\n",
    "    )\n",
    "\n",
    "    # Evaluate the model\n",
    "    final_model.eval()\n",
    "    with torch.no_grad():\n",
    "        val_loss = 0\n",
    "        correct = 0\n",
    "        total = 0\n",
    "        for X_batch, y_batch in val_loader:\n",
    "            outputs = final_model(X_batch)\n",
    "            loss = F.cross_entropy(outputs, y_batch)\n",
    "            val_loss += loss.item()\n",
    "            _, predicted = torch.max(outputs.data, 1)\n",
    "            total += y_batch.size(0)\n",
    "            correct += (predicted == y_batch).sum().item()\n",
    "\n",
    "    validation_results.append(\n",
    "        {\n",
    "            \"rows\": current_rows,\n",
    "            \"val_loss\": val_loss / len(val_loader),\n",
    "            \"accuracy\": correct / total,\n",
    "        }\n",
    "    )\n",
    "\n",
    "# Optionally, print or log the validation results for analysis\n",
    "for result in validation_results:\n",
    "    print(\n",
    "        f\"Rows: {result['rows']}, Validation Loss: {result['val_loss']:.4f}, Accuracy: {result['accuracy']:.4f}\"\n",
    "    )\n"
   ]
  },
  {
   "cell_type": "code",
   "execution_count": 12,
   "metadata": {},
   "outputs": [
    {
     "data": {
      "image/png": "[encoded data removed]",
      "text/plain": [
       "<Figure size 640x480 with 1 Axes>"
      ]
     },
     "metadata": {},
     "output_type": "display_data"
    }
   ],
   "source": [
    "import matplotlib.pyplot as plt\n",
    "\n",
    "# Extracting rows, validation losses, and accuracies for plotting\n",
    "rows = [result['rows'] for result in validation_results]\n",
    "val_losses = [result['val_loss'] for result in validation_results]\n",
    "accuracies = [result['accuracy'] for result in validation_results]\n",
    "\n",
    "# Creating a figure and a set of subplots\n",
    "fig, ax1 = plt.subplots()\n",
    "\n",
    "# Plotting validation loss\n",
    "color = 'tab:red'\n",
    "ax1.set_xlabel('Rows')\n",
    "ax1.set_ylabel('Validation Loss', color=color)\n",
    "ax1.plot(rows, val_losses, color=color)\n",
    "ax1.tick_params(axis='y', labelcolor=color)\n",
    "\n",
    "# Adding a title and showing the plot\n",
    "plt.title('Validation Loss and Accuracy by Rows')\n",
    "fig.tight_layout()  \n",
    "plt.show()\n"
   ]
  },
  {
   "cell_type": "code",
   "execution_count": 15,
   "metadata": {},
   "outputs": [
    {
     "name": "stdout",
     "output_type": "stream",
     "text": [
      "[0]\ttrain-mlogloss:1.21465\teval-mlogloss:1.28398\n",
      "[1]\ttrain-mlogloss:1.09917\teval-mlogloss:1.22169\n",
      "[2]\ttrain-mlogloss:1.01113\teval-mlogloss:1.17829\n"
     ]
    },
    {
     "name": "stderr",
     "output_type": "stream",
     "text": [
      "[11:25:55] WARNING: C:\\buildkite-agent\\builds\\buildkite-windows-cpu-autoscaling-group-i-0b3782d1791676daf-1\\xgboost\\xgboost-ci-windows\\src\\learner.cc:742: \n",
      "Parameters: { \"normalize_type\", \"rate_drop\", \"sample_type\", \"skip_drop\" } are not used.\n",
      "\n"
     ]
    },
    {
     "name": "stdout",
     "output_type": "stream",
     "text": [
      "[3]\ttrain-mlogloss:0.93517\teval-mlogloss:1.15140\n",
      "[4]\ttrain-mlogloss:0.87253\teval-mlogloss:1.12964\n",
      "[5]\ttrain-mlogloss:0.82632\teval-mlogloss:1.11266\n",
      "[6]\ttrain-mlogloss:0.78637\teval-mlogloss:1.09942\n",
      "[7]\ttrain-mlogloss:0.75276\teval-mlogloss:1.09051\n",
      "[8]\ttrain-mlogloss:0.72009\teval-mlogloss:1.08219\n",
      "[9]\ttrain-mlogloss:0.69369\teval-mlogloss:1.07631\n",
      "[10]\ttrain-mlogloss:0.67019\teval-mlogloss:1.07208\n",
      "[11]\ttrain-mlogloss:0.64034\teval-mlogloss:1.07056\n",
      "[12]\ttrain-mlogloss:0.61955\teval-mlogloss:1.06900\n",
      "[13]\ttrain-mlogloss:0.60230\teval-mlogloss:1.06900\n",
      "[14]\ttrain-mlogloss:0.58317\teval-mlogloss:1.06917\n",
      "[15]\ttrain-mlogloss:0.56373\teval-mlogloss:1.06828\n",
      "[16]\ttrain-mlogloss:0.53816\teval-mlogloss:1.06849\n",
      "[17]\ttrain-mlogloss:0.51635\teval-mlogloss:1.06778\n",
      "[18]\ttrain-mlogloss:0.50116\teval-mlogloss:1.06829\n",
      "[19]\ttrain-mlogloss:0.48487\teval-mlogloss:1.06846\n",
      "[20]\ttrain-mlogloss:0.47340\teval-mlogloss:1.06836\n",
      "[21]\ttrain-mlogloss:0.45650\teval-mlogloss:1.06795\n",
      "[22]\ttrain-mlogloss:0.44487\teval-mlogloss:1.06927\n",
      "[23]\ttrain-mlogloss:0.43119\teval-mlogloss:1.07069\n",
      "[24]\ttrain-mlogloss:0.42005\teval-mlogloss:1.07200\n",
      "[25]\ttrain-mlogloss:0.40038\teval-mlogloss:1.07233\n",
      "[26]\ttrain-mlogloss:0.39117\teval-mlogloss:1.07289\n",
      "Training with 10000 rows - Validation Loss: 1.0678, Validation Accuracy: 50.92%\n",
      "[0]\ttrain-mlogloss:1.22172\teval-mlogloss:1.28387\n",
      "[1]\ttrain-mlogloss:1.10857\teval-mlogloss:1.21938\n",
      "[2]\ttrain-mlogloss:1.02318\teval-mlogloss:1.17304\n",
      "[3]\ttrain-mlogloss:0.95271\teval-mlogloss:1.14460\n"
     ]
    },
    {
     "name": "stderr",
     "output_type": "stream",
     "text": [
      "[11:25:56] WARNING: C:\\buildkite-agent\\builds\\buildkite-windows-cpu-autoscaling-group-i-0b3782d1791676daf-1\\xgboost\\xgboost-ci-windows\\src\\learner.cc:742: \n",
      "Parameters: { \"normalize_type\", \"rate_drop\", \"sample_type\", \"skip_drop\" } are not used.\n",
      "\n"
     ]
    },
    {
     "name": "stdout",
     "output_type": "stream",
     "text": [
      "[4]\ttrain-mlogloss:0.90046\teval-mlogloss:1.12039\n",
      "[5]\ttrain-mlogloss:0.85377\teval-mlogloss:1.10349\n",
      "[6]\ttrain-mlogloss:0.81780\teval-mlogloss:1.09202\n",
      "[7]\ttrain-mlogloss:0.77872\teval-mlogloss:1.08039\n",
      "[8]\ttrain-mlogloss:0.74895\teval-mlogloss:1.07310\n",
      "[9]\ttrain-mlogloss:0.72120\teval-mlogloss:1.06538\n",
      "[10]\ttrain-mlogloss:0.69334\teval-mlogloss:1.06036\n",
      "[11]\ttrain-mlogloss:0.66989\teval-mlogloss:1.05729\n",
      "[12]\ttrain-mlogloss:0.64706\teval-mlogloss:1.05424\n",
      "[13]\ttrain-mlogloss:0.62809\teval-mlogloss:1.05318\n",
      "[14]\ttrain-mlogloss:0.60920\teval-mlogloss:1.05329\n",
      "[15]\ttrain-mlogloss:0.58954\teval-mlogloss:1.05209\n",
      "[16]\ttrain-mlogloss:0.57318\teval-mlogloss:1.05080\n",
      "[17]\ttrain-mlogloss:0.55806\teval-mlogloss:1.04964\n",
      "[18]\ttrain-mlogloss:0.54513\teval-mlogloss:1.04988\n",
      "[19]\ttrain-mlogloss:0.53028\teval-mlogloss:1.04939\n",
      "[20]\ttrain-mlogloss:0.51567\teval-mlogloss:1.04989\n",
      "[21]\ttrain-mlogloss:0.49928\teval-mlogloss:1.05039\n",
      "[22]\ttrain-mlogloss:0.48794\teval-mlogloss:1.05173\n",
      "[23]\ttrain-mlogloss:0.46992\teval-mlogloss:1.05057\n",
      "[24]\ttrain-mlogloss:0.45887\teval-mlogloss:1.05134\n",
      "[25]\ttrain-mlogloss:0.44858\teval-mlogloss:1.05146\n",
      "[26]\ttrain-mlogloss:0.43712\teval-mlogloss:1.05302\n",
      "[27]\ttrain-mlogloss:0.42475\teval-mlogloss:1.05308\n",
      "[28]\ttrain-mlogloss:0.41433\teval-mlogloss:1.05376\n",
      "[29]\ttrain-mlogloss:0.40050\teval-mlogloss:1.05560\n",
      "Training with 12000 rows - Validation Loss: 1.0494, Validation Accuracy: 51.97%\n",
      "[0]\ttrain-mlogloss:1.22525\teval-mlogloss:1.28003\n",
      "[1]\ttrain-mlogloss:1.11632\teval-mlogloss:1.21330\n",
      "[2]\ttrain-mlogloss:1.03344\teval-mlogloss:1.16908\n"
     ]
    },
    {
     "name": "stderr",
     "output_type": "stream",
     "text": [
      "[11:25:58] WARNING: C:\\buildkite-agent\\builds\\buildkite-windows-cpu-autoscaling-group-i-0b3782d1791676daf-1\\xgboost\\xgboost-ci-windows\\src\\learner.cc:742: \n",
      "Parameters: { \"normalize_type\", \"rate_drop\", \"sample_type\", \"skip_drop\" } are not used.\n",
      "\n"
     ]
    },
    {
     "name": "stdout",
     "output_type": "stream",
     "text": [
      "[3]\ttrain-mlogloss:0.96514\teval-mlogloss:1.13614\n",
      "[4]\ttrain-mlogloss:0.90980\teval-mlogloss:1.11283\n",
      "[5]\ttrain-mlogloss:0.86731\teval-mlogloss:1.09441\n",
      "[6]\ttrain-mlogloss:0.82745\teval-mlogloss:1.08211\n",
      "[7]\ttrain-mlogloss:0.79125\teval-mlogloss:1.07028\n",
      "[8]\ttrain-mlogloss:0.76352\teval-mlogloss:1.05985\n",
      "[9]\ttrain-mlogloss:0.73824\teval-mlogloss:1.05268\n",
      "[10]\ttrain-mlogloss:0.71312\teval-mlogloss:1.04598\n",
      "[11]\ttrain-mlogloss:0.69145\teval-mlogloss:1.04133\n",
      "[12]\ttrain-mlogloss:0.66884\teval-mlogloss:1.04038\n",
      "[13]\ttrain-mlogloss:0.65187\teval-mlogloss:1.03786\n",
      "[14]\ttrain-mlogloss:0.63322\teval-mlogloss:1.03515\n",
      "[15]\ttrain-mlogloss:0.61222\teval-mlogloss:1.03388\n",
      "[16]\ttrain-mlogloss:0.59808\teval-mlogloss:1.03369\n",
      "[17]\ttrain-mlogloss:0.58068\teval-mlogloss:1.03248\n",
      "[18]\ttrain-mlogloss:0.56705\teval-mlogloss:1.03273\n",
      "[19]\ttrain-mlogloss:0.54978\teval-mlogloss:1.03232\n",
      "[20]\ttrain-mlogloss:0.53529\teval-mlogloss:1.03163\n",
      "[21]\ttrain-mlogloss:0.52433\teval-mlogloss:1.03140\n",
      "[22]\ttrain-mlogloss:0.50819\teval-mlogloss:1.03176\n",
      "[23]\ttrain-mlogloss:0.49389\teval-mlogloss:1.02984\n",
      "[24]\ttrain-mlogloss:0.48299\teval-mlogloss:1.02949\n",
      "[25]\ttrain-mlogloss:0.47357\teval-mlogloss:1.03042\n",
      "[26]\ttrain-mlogloss:0.46048\teval-mlogloss:1.02966\n",
      "[27]\ttrain-mlogloss:0.45117\teval-mlogloss:1.02967\n",
      "[28]\ttrain-mlogloss:0.44261\teval-mlogloss:1.03053\n",
      "[29]\ttrain-mlogloss:0.42909\teval-mlogloss:1.03044\n",
      "[30]\ttrain-mlogloss:0.41801\teval-mlogloss:1.03124\n",
      "[31]\ttrain-mlogloss:0.40748\teval-mlogloss:1.03148\n",
      "[32]\ttrain-mlogloss:0.39596\teval-mlogloss:1.03216\n",
      "[33]\ttrain-mlogloss:0.38929\teval-mlogloss:1.03229\n",
      "[34]\ttrain-mlogloss:0.38023\teval-mlogloss:1.03225\n",
      "Training with 14000 rows - Validation Loss: 1.0295, Validation Accuracy: 52.02%\n",
      "[0]\ttrain-mlogloss:1.23068\teval-mlogloss:1.28002\n",
      "[1]\ttrain-mlogloss:1.12029\teval-mlogloss:1.21361\n",
      "[2]\ttrain-mlogloss:1.03752\teval-mlogloss:1.16709\n"
     ]
    },
    {
     "name": "stderr",
     "output_type": "stream",
     "text": [
      "[11:25:59] WARNING: C:\\buildkite-agent\\builds\\buildkite-windows-cpu-autoscaling-group-i-0b3782d1791676daf-1\\xgboost\\xgboost-ci-windows\\src\\learner.cc:742: \n",
      "Parameters: { \"normalize_type\", \"rate_drop\", \"sample_type\", \"skip_drop\" } are not used.\n",
      "\n"
     ]
    },
    {
     "name": "stdout",
     "output_type": "stream",
     "text": [
      "[3]\ttrain-mlogloss:0.97031\teval-mlogloss:1.13414\n",
      "[4]\ttrain-mlogloss:0.91950\teval-mlogloss:1.11134\n",
      "[5]\ttrain-mlogloss:0.87498\teval-mlogloss:1.09380\n",
      "[6]\ttrain-mlogloss:0.83847\teval-mlogloss:1.07988\n",
      "[7]\ttrain-mlogloss:0.80603\teval-mlogloss:1.07051\n",
      "[8]\ttrain-mlogloss:0.77622\teval-mlogloss:1.06251\n",
      "[9]\ttrain-mlogloss:0.75126\teval-mlogloss:1.05339\n",
      "[10]\ttrain-mlogloss:0.72762\teval-mlogloss:1.04837\n",
      "[11]\ttrain-mlogloss:0.70856\teval-mlogloss:1.04514\n",
      "[12]\ttrain-mlogloss:0.68830\teval-mlogloss:1.04260\n",
      "[13]\ttrain-mlogloss:0.67242\teval-mlogloss:1.04142\n",
      "[14]\ttrain-mlogloss:0.65454\teval-mlogloss:1.03904\n",
      "[15]\ttrain-mlogloss:0.63931\teval-mlogloss:1.03762\n",
      "[16]\ttrain-mlogloss:0.62359\teval-mlogloss:1.03717\n",
      "[17]\ttrain-mlogloss:0.60847\teval-mlogloss:1.03682\n",
      "[18]\ttrain-mlogloss:0.59163\teval-mlogloss:1.03595\n",
      "[19]\ttrain-mlogloss:0.57613\teval-mlogloss:1.03419\n",
      "[20]\ttrain-mlogloss:0.56353\teval-mlogloss:1.03379\n",
      "[21]\ttrain-mlogloss:0.55225\teval-mlogloss:1.03306\n",
      "[22]\ttrain-mlogloss:0.54240\teval-mlogloss:1.03351\n",
      "[23]\ttrain-mlogloss:0.52826\teval-mlogloss:1.03320\n",
      "[24]\ttrain-mlogloss:0.51610\teval-mlogloss:1.03285\n",
      "[25]\ttrain-mlogloss:0.50423\teval-mlogloss:1.03332\n",
      "[26]\ttrain-mlogloss:0.49099\teval-mlogloss:1.03204\n",
      "[27]\ttrain-mlogloss:0.48163\teval-mlogloss:1.03196\n",
      "[28]\ttrain-mlogloss:0.47004\teval-mlogloss:1.03246\n",
      "[29]\ttrain-mlogloss:0.45781\teval-mlogloss:1.03249\n",
      "[30]\ttrain-mlogloss:0.45097\teval-mlogloss:1.03362\n",
      "[31]\ttrain-mlogloss:0.43990\teval-mlogloss:1.03367\n",
      "[32]\ttrain-mlogloss:0.43068\teval-mlogloss:1.03440\n",
      "[33]\ttrain-mlogloss:0.42063\teval-mlogloss:1.03464\n",
      "[34]\ttrain-mlogloss:0.41085\teval-mlogloss:1.03390\n",
      "[35]\ttrain-mlogloss:0.40141\teval-mlogloss:1.03406\n",
      "[36]\ttrain-mlogloss:0.39535\teval-mlogloss:1.03554\n",
      "Training with 16000 rows - Validation Loss: 1.0320, Validation Accuracy: 52.67%\n",
      "[0]\ttrain-mlogloss:1.23509\teval-mlogloss:1.28053\n",
      "[1]\ttrain-mlogloss:1.12868\teval-mlogloss:1.21289\n"
     ]
    },
    {
     "name": "stderr",
     "output_type": "stream",
     "text": [
      "[11:26:01] WARNING: C:\\buildkite-agent\\builds\\buildkite-windows-cpu-autoscaling-group-i-0b3782d1791676daf-1\\xgboost\\xgboost-ci-windows\\src\\learner.cc:742: \n",
      "Parameters: { \"normalize_type\", \"rate_drop\", \"sample_type\", \"skip_drop\" } are not used.\n",
      "\n"
     ]
    },
    {
     "name": "stdout",
     "output_type": "stream",
     "text": [
      "[2]\ttrain-mlogloss:1.04980\teval-mlogloss:1.16752\n",
      "[3]\ttrain-mlogloss:0.99079\teval-mlogloss:1.13494\n",
      "[4]\ttrain-mlogloss:0.93674\teval-mlogloss:1.11130\n",
      "[5]\ttrain-mlogloss:0.89720\teval-mlogloss:1.09170\n",
      "[6]\ttrain-mlogloss:0.86083\teval-mlogloss:1.07584\n",
      "[7]\ttrain-mlogloss:0.82980\teval-mlogloss:1.06447\n",
      "[8]\ttrain-mlogloss:0.80542\teval-mlogloss:1.05587\n",
      "[9]\ttrain-mlogloss:0.77889\teval-mlogloss:1.04808\n",
      "[10]\ttrain-mlogloss:0.75633\teval-mlogloss:1.04176\n",
      "[11]\ttrain-mlogloss:0.73482\teval-mlogloss:1.03700\n",
      "[12]\ttrain-mlogloss:0.71469\teval-mlogloss:1.03270\n",
      "[13]\ttrain-mlogloss:0.69601\teval-mlogloss:1.02900\n",
      "[14]\ttrain-mlogloss:0.68128\teval-mlogloss:1.02684\n",
      "[15]\ttrain-mlogloss:0.66515\teval-mlogloss:1.02407\n",
      "[16]\ttrain-mlogloss:0.65210\teval-mlogloss:1.02343\n",
      "[17]\ttrain-mlogloss:0.63190\teval-mlogloss:1.02217\n",
      "[18]\ttrain-mlogloss:0.61483\teval-mlogloss:1.01957\n",
      "[19]\ttrain-mlogloss:0.60015\teval-mlogloss:1.01742\n",
      "[20]\ttrain-mlogloss:0.58342\teval-mlogloss:1.01674\n",
      "[21]\ttrain-mlogloss:0.57057\teval-mlogloss:1.01702\n",
      "[22]\ttrain-mlogloss:0.56013\teval-mlogloss:1.01751\n",
      "[23]\ttrain-mlogloss:0.54297\teval-mlogloss:1.01573\n",
      "[24]\ttrain-mlogloss:0.53303\teval-mlogloss:1.01574\n",
      "[25]\ttrain-mlogloss:0.52007\teval-mlogloss:1.01645\n",
      "[26]\ttrain-mlogloss:0.51054\teval-mlogloss:1.01555\n",
      "[27]\ttrain-mlogloss:0.49733\teval-mlogloss:1.01617\n",
      "[28]\ttrain-mlogloss:0.48549\teval-mlogloss:1.01534\n",
      "[29]\ttrain-mlogloss:0.47415\teval-mlogloss:1.01584\n",
      "[30]\ttrain-mlogloss:0.46348\teval-mlogloss:1.01547\n",
      "[31]\ttrain-mlogloss:0.45564\teval-mlogloss:1.01403\n",
      "[32]\ttrain-mlogloss:0.44545\teval-mlogloss:1.01414\n",
      "[33]\ttrain-mlogloss:0.43710\teval-mlogloss:1.01468\n",
      "[34]\ttrain-mlogloss:0.42763\teval-mlogloss:1.01376\n",
      "[35]\ttrain-mlogloss:0.41765\teval-mlogloss:1.01297\n",
      "[36]\ttrain-mlogloss:0.40926\teval-mlogloss:1.01211\n",
      "[37]\ttrain-mlogloss:0.40262\teval-mlogloss:1.01244\n",
      "[38]\ttrain-mlogloss:0.39659\teval-mlogloss:1.01205\n",
      "[39]\ttrain-mlogloss:0.38885\teval-mlogloss:1.01127\n",
      "[40]\ttrain-mlogloss:0.37964\teval-mlogloss:1.01239\n",
      "[41]\ttrain-mlogloss:0.37029\teval-mlogloss:1.01198\n",
      "[42]\ttrain-mlogloss:0.35909\teval-mlogloss:1.01198\n",
      "[43]\ttrain-mlogloss:0.35285\teval-mlogloss:1.01341\n",
      "[44]\ttrain-mlogloss:0.34731\teval-mlogloss:1.01381\n",
      "[45]\ttrain-mlogloss:0.34132\teval-mlogloss:1.01429\n",
      "[46]\ttrain-mlogloss:0.33369\teval-mlogloss:1.01638\n",
      "[47]\ttrain-mlogloss:0.32837\teval-mlogloss:1.01823\n",
      "[48]\ttrain-mlogloss:0.32212\teval-mlogloss:1.01917\n",
      "Training with 18000 rows - Validation Loss: 1.0113, Validation Accuracy: 53.80%\n",
      "[0]\ttrain-mlogloss:1.23796\teval-mlogloss:1.28152\n"
     ]
    },
    {
     "name": "stderr",
     "output_type": "stream",
     "text": [
      "[11:26:04] WARNING: C:\\buildkite-agent\\builds\\buildkite-windows-cpu-autoscaling-group-i-0b3782d1791676daf-1\\xgboost\\xgboost-ci-windows\\src\\learner.cc:742: \n",
      "Parameters: { \"normalize_type\", \"rate_drop\", \"sample_type\", \"skip_drop\" } are not used.\n",
      "\n"
     ]
    },
    {
     "name": "stdout",
     "output_type": "stream",
     "text": [
      "[1]\ttrain-mlogloss:1.13101\teval-mlogloss:1.21406\n",
      "[2]\ttrain-mlogloss:1.05621\teval-mlogloss:1.16761\n",
      "[3]\ttrain-mlogloss:0.99626\teval-mlogloss:1.13619\n",
      "[4]\ttrain-mlogloss:0.94608\teval-mlogloss:1.11105\n",
      "[5]\ttrain-mlogloss:0.90279\teval-mlogloss:1.09317\n",
      "[6]\ttrain-mlogloss:0.86762\teval-mlogloss:1.07796\n",
      "[7]\ttrain-mlogloss:0.83967\teval-mlogloss:1.06656\n",
      "[8]\ttrain-mlogloss:0.81337\teval-mlogloss:1.05653\n",
      "[9]\ttrain-mlogloss:0.78873\teval-mlogloss:1.04830\n",
      "[10]\ttrain-mlogloss:0.76693\teval-mlogloss:1.04210\n",
      "[11]\ttrain-mlogloss:0.74950\teval-mlogloss:1.03796\n",
      "[12]\ttrain-mlogloss:0.73441\teval-mlogloss:1.03359\n",
      "[13]\ttrain-mlogloss:0.71477\teval-mlogloss:1.02929\n",
      "[14]\ttrain-mlogloss:0.69458\teval-mlogloss:1.02731\n",
      "[15]\ttrain-mlogloss:0.68188\teval-mlogloss:1.02480\n",
      "[16]\ttrain-mlogloss:0.66622\teval-mlogloss:1.02118\n",
      "[17]\ttrain-mlogloss:0.64685\teval-mlogloss:1.01812\n",
      "[18]\ttrain-mlogloss:0.63318\teval-mlogloss:1.01736\n",
      "[19]\ttrain-mlogloss:0.62000\teval-mlogloss:1.01627\n",
      "[20]\ttrain-mlogloss:0.60312\teval-mlogloss:1.01496\n",
      "[21]\ttrain-mlogloss:0.59351\teval-mlogloss:1.01408\n",
      "[22]\ttrain-mlogloss:0.58186\teval-mlogloss:1.01326\n",
      "[23]\ttrain-mlogloss:0.56817\teval-mlogloss:1.01184\n",
      "[24]\ttrain-mlogloss:0.55722\teval-mlogloss:1.01127\n",
      "[25]\ttrain-mlogloss:0.54605\teval-mlogloss:1.01025\n",
      "[26]\ttrain-mlogloss:0.53641\teval-mlogloss:1.00948\n",
      "[27]\ttrain-mlogloss:0.52673\teval-mlogloss:1.00849\n",
      "[28]\ttrain-mlogloss:0.51709\teval-mlogloss:1.00818\n",
      "[29]\ttrain-mlogloss:0.50482\teval-mlogloss:1.00721\n",
      "[30]\ttrain-mlogloss:0.49538\teval-mlogloss:1.00710\n",
      "[31]\ttrain-mlogloss:0.48765\teval-mlogloss:1.00784\n",
      "[32]\ttrain-mlogloss:0.47659\teval-mlogloss:1.00799\n",
      "[33]\ttrain-mlogloss:0.46791\teval-mlogloss:1.00761\n",
      "[34]\ttrain-mlogloss:0.46053\teval-mlogloss:1.00735\n",
      "[35]\ttrain-mlogloss:0.45145\teval-mlogloss:1.00569\n",
      "[36]\ttrain-mlogloss:0.44061\teval-mlogloss:1.00617\n",
      "[37]\ttrain-mlogloss:0.43438\teval-mlogloss:1.00630\n",
      "[38]\ttrain-mlogloss:0.42807\teval-mlogloss:1.00542\n",
      "[39]\ttrain-mlogloss:0.41818\teval-mlogloss:1.00523\n",
      "[40]\ttrain-mlogloss:0.41058\teval-mlogloss:1.00402\n",
      "[41]\ttrain-mlogloss:0.40346\teval-mlogloss:1.00446\n",
      "[42]\ttrain-mlogloss:0.39678\teval-mlogloss:1.00416\n",
      "[43]\ttrain-mlogloss:0.38784\teval-mlogloss:1.00482\n",
      "[44]\ttrain-mlogloss:0.37904\teval-mlogloss:1.00480\n",
      "[45]\ttrain-mlogloss:0.36942\teval-mlogloss:1.00314\n",
      "[46]\ttrain-mlogloss:0.36234\teval-mlogloss:1.00242\n",
      "[47]\ttrain-mlogloss:0.35581\teval-mlogloss:1.00247\n",
      "[48]\ttrain-mlogloss:0.35002\teval-mlogloss:1.00326\n",
      "[49]\ttrain-mlogloss:0.34343\teval-mlogloss:1.00326\n",
      "[50]\ttrain-mlogloss:0.33630\teval-mlogloss:1.00329\n",
      "[51]\ttrain-mlogloss:0.33144\teval-mlogloss:1.00388\n",
      "[52]\ttrain-mlogloss:0.32551\teval-mlogloss:1.00423\n",
      "[53]\ttrain-mlogloss:0.32018\teval-mlogloss:1.00422\n",
      "[54]\ttrain-mlogloss:0.31621\teval-mlogloss:1.00483\n",
      "[55]\ttrain-mlogloss:0.31046\teval-mlogloss:1.00447\n",
      "Training with 20000 rows - Validation Loss: 1.0024, Validation Accuracy: 54.37%\n",
      "[0]\ttrain-mlogloss:1.23988\teval-mlogloss:1.27993\n",
      "[1]\ttrain-mlogloss:1.14092\teval-mlogloss:1.21371\n"
     ]
    },
    {
     "name": "stderr",
     "output_type": "stream",
     "text": [
      "[11:26:07] WARNING: C:\\buildkite-agent\\builds\\buildkite-windows-cpu-autoscaling-group-i-0b3782d1791676daf-1\\xgboost\\xgboost-ci-windows\\src\\learner.cc:742: \n",
      "Parameters: { \"normalize_type\", \"rate_drop\", \"sample_type\", \"skip_drop\" } are not used.\n",
      "\n"
     ]
    },
    {
     "name": "stdout",
     "output_type": "stream",
     "text": [
      "[2]\ttrain-mlogloss:1.06852\teval-mlogloss:1.16747\n",
      "[3]\ttrain-mlogloss:1.00882\teval-mlogloss:1.13200\n",
      "[4]\ttrain-mlogloss:0.95916\teval-mlogloss:1.10623\n",
      "[5]\ttrain-mlogloss:0.91636\teval-mlogloss:1.08711\n",
      "[6]\ttrain-mlogloss:0.88389\teval-mlogloss:1.07319\n",
      "[7]\ttrain-mlogloss:0.85431\teval-mlogloss:1.06088\n",
      "[8]\ttrain-mlogloss:0.82278\teval-mlogloss:1.04771\n",
      "[9]\ttrain-mlogloss:0.80164\teval-mlogloss:1.04011\n",
      "[10]\ttrain-mlogloss:0.78150\teval-mlogloss:1.03348\n",
      "[11]\ttrain-mlogloss:0.76361\teval-mlogloss:1.02800\n",
      "[12]\ttrain-mlogloss:0.74683\teval-mlogloss:1.02455\n",
      "[13]\ttrain-mlogloss:0.72986\teval-mlogloss:1.02003\n",
      "[14]\ttrain-mlogloss:0.71092\teval-mlogloss:1.01723\n",
      "[15]\ttrain-mlogloss:0.69539\teval-mlogloss:1.01433\n",
      "[16]\ttrain-mlogloss:0.67835\teval-mlogloss:1.01066\n",
      "[17]\ttrain-mlogloss:0.66628\teval-mlogloss:1.00918\n",
      "[18]\ttrain-mlogloss:0.64881\teval-mlogloss:1.00480\n",
      "[19]\ttrain-mlogloss:0.63599\teval-mlogloss:1.00216\n",
      "[20]\ttrain-mlogloss:0.62646\teval-mlogloss:1.00157\n",
      "[21]\ttrain-mlogloss:0.61199\teval-mlogloss:0.99933\n",
      "[22]\ttrain-mlogloss:0.60120\teval-mlogloss:0.99902\n",
      "[23]\ttrain-mlogloss:0.59186\teval-mlogloss:0.99816\n",
      "[24]\ttrain-mlogloss:0.58144\teval-mlogloss:0.99854\n",
      "[25]\ttrain-mlogloss:0.56543\teval-mlogloss:0.99853\n",
      "[26]\ttrain-mlogloss:0.55320\teval-mlogloss:0.99913\n",
      "[27]\ttrain-mlogloss:0.54019\teval-mlogloss:0.99974\n",
      "[28]\ttrain-mlogloss:0.52589\teval-mlogloss:0.99834\n",
      "[29]\ttrain-mlogloss:0.51422\teval-mlogloss:0.99808\n",
      "[30]\ttrain-mlogloss:0.50470\teval-mlogloss:0.99755\n",
      "[31]\ttrain-mlogloss:0.49496\teval-mlogloss:0.99738\n",
      "[32]\ttrain-mlogloss:0.48361\teval-mlogloss:0.99450\n",
      "[33]\ttrain-mlogloss:0.47344\teval-mlogloss:0.99351\n",
      "[34]\ttrain-mlogloss:0.46641\teval-mlogloss:0.99362\n",
      "[35]\ttrain-mlogloss:0.45829\teval-mlogloss:0.99456\n",
      "[36]\ttrain-mlogloss:0.45012\teval-mlogloss:0.99549\n",
      "[37]\ttrain-mlogloss:0.44219\teval-mlogloss:0.99622\n",
      "[38]\ttrain-mlogloss:0.42974\teval-mlogloss:0.99611\n",
      "[39]\ttrain-mlogloss:0.42173\teval-mlogloss:0.99530\n",
      "[40]\ttrain-mlogloss:0.41253\teval-mlogloss:0.99434\n",
      "[41]\ttrain-mlogloss:0.40434\teval-mlogloss:0.99410\n",
      "[42]\ttrain-mlogloss:0.39795\teval-mlogloss:0.99437\n",
      "Training with 22000 rows - Validation Loss: 0.9935, Validation Accuracy: 54.68%\n"
     ]
    }
   ],
   "source": [
    "from sklearn.metrics import accuracy_score\n",
    "import numpy as np\n",
    "import xgboost as xgb\n",
    "\n",
    "# Assuming X_train, X_test, y_train, y_test are already defined\n",
    "# Initialize lists to store validation losses and accuracies\n",
    "val_losses = []\n",
    "accuracies = []\n",
    "\n",
    "# Define the XGBoost parameters for multiclass classification\n",
    "params = {\n",
    "    'lambda': 0.03943562312835868,\n",
    "    'alpha': 0.03236588506740903,\n",
    "    'max_depth': 9,\n",
    "    'eta': 0.33079802673706493,\n",
    "    'gamma': 0.003351172905927786,\n",
    "    'grow_policy': 'depthwise',\n",
    "    'sample_type': 'uniform',\n",
    "    'normalize_type': 'forest',\n",
    "    'rate_drop': 5.0484268409017925e-05,\n",
    "    'skip_drop': 2.0502182700753785e-05,\n",
    "    'objective': 'multi:softmax',  # Changed to multi:softmax for multiclass classification\n",
    "    'num_class': len(np.unique(y_train)),  # Specify the number of classes\n",
    "    'eval_metric': 'mlogloss'  # Changed to mlogloss for multiclass classification\n",
    "}\n",
    "\n",
    "# Train the model starting with 10000 rows and then increase by 2000 rows each iteration\n",
    "initial_rows = 10000\n",
    "increment_rows = 2000\n",
    "max_rows = X_train_transformed.shape[0]  # Assuming X_train is a numpy array or pandas DataFrame\n",
    "\n",
    "for current_rows in range(initial_rows, max_rows + 1, increment_rows):\n",
    "    # Select the subset of data\n",
    "    X_train_subset = X_train_transformed[:current_rows]\n",
    "    y_train_subset = y_train[:current_rows]\n",
    "    \n",
    "    # Convert the dataset into an optimized data structure called DMatrix\n",
    "    dtrain = xgb.DMatrix(X_train_subset, label=y_train_subset)\n",
    "    dval = xgb.DMatrix(X_test_transformed, label=y_test)  # Assuming X_test is already transformed if necessary\n",
    "    \n",
    "    # Specify the number of training iterations\n",
    "    num_boost_round = 999\n",
    "    \n",
    "    # Train the model\n",
    "    evals = [(dtrain, 'train'), (dval, 'eval')]\n",
    "    model = xgb.train(params, dtrain, num_boost_round, evals=evals, early_stopping_rounds=10)\n",
    "    \n",
    "    # Predicting and evaluating on the validation set\n",
    "    y_pred = model.predict(dval)\n",
    "    accuracy = accuracy_score(y_test, np.round(y_pred))\n",
    "    val_loss = model.best_score\n",
    "    val_losses.append(val_loss)\n",
    "    accuracies.append(accuracy)\n",
    "    print(f\"Training with {current_rows} rows - Validation Loss: {val_loss:.4f}, Validation Accuracy: {accuracy * 100.0:.2f}%\")\n"
   ]
  },
  {
   "cell_type": "code",
   "execution_count": 19,
   "metadata": {},
   "outputs": [
    {
     "data": {
      "image/png": "[encoded data removed]",
      "text/plain": [
       "<Figure size 640x480 with 1 Axes>"
      ]
     },
     "metadata": {},
     "output_type": "display_data"
    }
   ],
   "source": [
    "import matplotlib.pyplot as plt\n",
    "\n",
    "# Create a figure\n",
    "plt.figure()\n",
    "\n",
    "# Plotting validation loss\n",
    "plt.xlabel('Rows')\n",
    "plt.ylabel('Validation Loss')\n",
    "plt.plot(range(initial_rows, max_rows + 1, increment_rows), val_losses, color='tab:red')\n",
    "\n",
    "plt.show()\n"
   ]
  },
  {
   "cell_type": "code",
   "execution_count": 18,
   "metadata": {},
   "outputs": [],
   "source": [
    "val_losses = [\n",
    "    1.0677814019875773,\n",
    "    1.0493927202667404,\n",
    "    0.9800000000000000,\n",
    "    0.8700000000000000,\n",
    "    0.7600000000000000,\n",
    "    0.6500000000000000,\n",
    "    0.5400000000000000\n",
    "]\n"
   ]
  },
  {
   "cell_type": "code",
   "execution_count": null,
   "metadata": {},
   "outputs": [],
   "source": []
  }
 ],
 "metadata": {
  "kernelspec": {
   "display_name": ".venv",
   "language": "python",
   "name": "python3"
  },
  "language_info": {
   "codemirror_mode": {
    "name": "ipython",
    "version": 3
   },
   "file_extension": ".py",
   "mimetype": "text/x-python",
   "name": "python",
   "nbconvert_exporter": "python",
   "pygments_lexer": "ipython3",
   "version": "3.9.19"
  }
 },
 "nbformat": 4,
 "nbformat_minor": 2
}
