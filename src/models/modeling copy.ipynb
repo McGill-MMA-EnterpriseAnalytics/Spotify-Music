{
 "cells": [
  {
   "cell_type": "code",
   "execution_count": 1,
   "metadata": {},
   "outputs": [
    {
     "name": "stderr",
     "output_type": "stream",
     "text": [
      "/Users/yyy/Library/CloudStorage/OneDrive-Personal/MMA/2024WINTER1/INSY695/Spotify-Music/.venv/lib/python3.11/site-packages/tqdm/auto.py:21: TqdmWarning: IProgress not found. Please update jupyter and ipywidgets. See https://ipywidgets.readthedocs.io/en/stable/user_install.html\n",
      "  from .autonotebook import tqdm as notebook_tqdm\n"
     ]
    }
   ],
   "source": [
    "import os\n",
    "import h2o\n",
    "import joblib  # Import joblib for saving the model\n",
    "import mlflow\n",
    "import mlflow.xgboost\n",
    "import numpy as np\n",
    "import optuna\n",
    "import pandas as pd\n",
    "import pytorch_lightning as pl\n",
    "import torch\n",
    "import torch.nn as nn\n",
    "import torch.nn.functional as F\n",
    "import xgboost as xgb\n",
    "from h2o.automl import H2OAutoML\n",
    "from pytorch_lightning.callbacks import EarlyStopping\n",
    "from sklearn.metrics import accuracy_score\n",
    "from torch.utils.data import DataLoader, TensorDataset"
   ]
  },
  {
   "cell_type": "code",
   "execution_count": null,
   "metadata": {},
   "outputs": [],
   "source": [
    "os.chdir(\n",
    "    r\"C:\\Users\\omsan\\Desktop\\Om\\Mcgill\\MMA 2023\\Winter 2 2024\\Enterpise ML Part 2\\Group Project\\Spotify-Music\"\n",
    ")"
   ]
  },
  {
   "cell_type": "code",
   "execution_count": 2,
   "metadata": {},
   "outputs": [],
   "source": [
    "X_train_transformed, X_test_transformed, y_train, y_test = joblib.load(\n",
    "    \"../../data/processed/train_test_transformed_data.joblib\"\n",
    ")"
   ]
  },
  {
   "cell_type": "markdown",
   "metadata": {},
   "source": [
    "## Training baseline Models using H20 AutoML"
   ]
  },
  {
   "cell_type": "code",
   "execution_count": 9,
   "metadata": {},
   "outputs": [
    {
     "name": "stdout",
     "output_type": "stream",
     "text": [
      "Checking whether there is an H2O instance running at http://localhost:54321. connected.\n"
     ]
    },
    {
     "data": {
      "text/html": [
       "\n",
       "<style>\n",
       "\n",
       "#h2o-table-4.h2o-container {\n",
       "  overflow-x: auto;\n",
       "}\n",
       "#h2o-table-4 .h2o-table {\n",
       "  /* width: 100%; */\n",
       "  margin-top: 1em;\n",
       "  margin-bottom: 1em;\n",
       "}\n",
       "#h2o-table-4 .h2o-table caption {\n",
       "  white-space: nowrap;\n",
       "  caption-side: top;\n",
       "  text-align: left;\n",
       "  /* margin-left: 1em; */\n",
       "  margin: 0;\n",
       "  font-size: larger;\n",
       "}\n",
       "#h2o-table-4 .h2o-table thead {\n",
       "  white-space: nowrap; \n",
       "  position: sticky;\n",
       "  top: 0;\n",
       "  box-shadow: 0 -1px inset;\n",
       "}\n",
       "#h2o-table-4 .h2o-table tbody {\n",
       "  overflow: auto;\n",
       "}\n",
       "#h2o-table-4 .h2o-table th,\n",
       "#h2o-table-4 .h2o-table td {\n",
       "  text-align: right;\n",
       "  /* border: 1px solid; */\n",
       "}\n",
       "#h2o-table-4 .h2o-table tr:nth-child(even) {\n",
       "  /* background: #F5F5F5 */\n",
       "}\n",
       "\n",
       "</style>      \n",
       "<div id=\"h2o-table-4\" class=\"h2o-container\">\n",
       "  <table class=\"h2o-table\">\n",
       "    <caption></caption>\n",
       "    <thead></thead>\n",
       "    <tbody><tr><td>H2O_cluster_uptime:</td>\n",
       "<td>3 mins 51 secs</td></tr>\n",
       "<tr><td>H2O_cluster_timezone:</td>\n",
       "<td>America/New_York</td></tr>\n",
       "<tr><td>H2O_data_parsing_timezone:</td>\n",
       "<td>UTC</td></tr>\n",
       "<tr><td>H2O_cluster_version:</td>\n",
       "<td>3.46.0.1</td></tr>\n",
       "<tr><td>H2O_cluster_version_age:</td>\n",
       "<td>1 month and 10 days</td></tr>\n",
       "<tr><td>H2O_cluster_name:</td>\n",
       "<td>H2O_from_python_omsan_2rmq5i</td></tr>\n",
       "<tr><td>H2O_cluster_total_nodes:</td>\n",
       "<td>1</td></tr>\n",
       "<tr><td>H2O_cluster_free_memory:</td>\n",
       "<td>3.043 Gb</td></tr>\n",
       "<tr><td>H2O_cluster_total_cores:</td>\n",
       "<td>12</td></tr>\n",
       "<tr><td>H2O_cluster_allowed_cores:</td>\n",
       "<td>12</td></tr>\n",
       "<tr><td>H2O_cluster_status:</td>\n",
       "<td>locked, healthy</td></tr>\n",
       "<tr><td>H2O_connection_url:</td>\n",
       "<td>http://localhost:54321</td></tr>\n",
       "<tr><td>H2O_connection_proxy:</td>\n",
       "<td>{\"http\": null, \"https\": null}</td></tr>\n",
       "<tr><td>H2O_internal_security:</td>\n",
       "<td>False</td></tr>\n",
       "<tr><td>Python_version:</td>\n",
       "<td>3.9.19 final</td></tr></tbody>\n",
       "  </table>\n",
       "</div>\n"
      ],
      "text/plain": [
       "--------------------------  -----------------------------\n",
       "H2O_cluster_uptime:         3 mins 51 secs\n",
       "H2O_cluster_timezone:       America/New_York\n",
       "H2O_data_parsing_timezone:  UTC\n",
       "H2O_cluster_version:        3.46.0.1\n",
       "H2O_cluster_version_age:    1 month and 10 days\n",
       "H2O_cluster_name:           H2O_from_python_omsan_2rmq5i\n",
       "H2O_cluster_total_nodes:    1\n",
       "H2O_cluster_free_memory:    3.043 Gb\n",
       "H2O_cluster_total_cores:    12\n",
       "H2O_cluster_allowed_cores:  12\n",
       "H2O_cluster_status:         locked, healthy\n",
       "H2O_connection_url:         http://localhost:54321\n",
       "H2O_connection_proxy:       {\"http\": null, \"https\": null}\n",
       "H2O_internal_security:      False\n",
       "Python_version:             3.9.19 final\n",
       "--------------------------  -----------------------------"
      ]
     },
     "metadata": {},
     "output_type": "display_data"
    },
    {
     "name": "stdout",
     "output_type": "stream",
     "text": [
      "Parse progress: |████████████████████████████████████████████████████████████████| (done) 100%\n",
      "Parse progress: |████████████████████████████████████████████████████████████████| (done) 100%\n",
      "AutoML progress: |█\n",
      "10:27:12.358: AutoML: XGBoost is not available; skipping it.\n",
      "\n",
      "██████████████████████████████████████████████████████████████| (done) 100%\n",
      "ModelMetricsMultinomialGLM: stackedensemble\n",
      "** Reported on test data. **\n",
      "\n",
      "MSE: 0.3463799646263551\n",
      "RMSE: 0.588540537793579\n",
      "LogLoss: 0.9352500844094357\n",
      "Null degrees of freedom: 5908\n",
      "Residual degrees of freedom: 5805\n",
      "Null deviance: 14242.961586886666\n",
      "Residual deviance: 11052.78549755071\n",
      "AUC table was not computed: it is either disabled (model parameter 'auc_type' was set to AUTO or NONE) or the domain size exceeds the limit (maximum is 50 domains).\n",
      "AUCPR table was not computed: it is either disabled (model parameter 'auc_type' was set to AUTO or NONE) or the domain size exceeds the limit (maximum is 50 domains).\n",
      "\n",
      "Confusion Matrix: Row labels: Actual class; Column labels: Predicted class\n",
      "0    1     2     3    Error     Rate\n",
      "---  ----  ----  ---  --------  -------------\n",
      "379  479   451   13   0.713313  943 / 1,322\n",
      "201  1150  675   4    0.433498  880 / 2,030\n",
      "122  524   1644  12   0.285838  658 / 2,302\n",
      "3    8     49    195  0.235294  60 / 255\n",
      "705  2161  2819  224  0.430022  2,541 / 5,909\n",
      "\n",
      "Top-4 Hit Ratios: \n",
      "k    hit_ratio\n",
      "---  -----------\n",
      "1    0.569978\n",
      "2    0.846505\n",
      "3    0.989677\n",
      "4    1\n"
     ]
    }
   ],
   "source": [
    "# Start H2O cluster\n",
    "h2o.init()\n",
    "\n",
    "# Convert data to H2O format, ensuring target columns are properly converted\n",
    "# Add target column name to the datasets before conversion\n",
    "target_column = \"target\"\n",
    "X_train_transformed[target_column] = y_train.reset_index(drop=True)\n",
    "X_test_transformed[target_column] = y_test.reset_index(drop=True)\n",
    "\n",
    "train = h2o.H2OFrame(X_train_transformed)\n",
    "test = h2o.H2OFrame(X_test_transformed)\n",
    "\n",
    "# Ensure the target is treated as a categorical variable\n",
    "train[target_column] = train[target_column].asfactor()\n",
    "test[target_column] = test[target_column].asfactor()\n",
    "\n",
    "# Run AutoML\n",
    "aml = H2OAutoML(max_models=10, seed=42)\n",
    "aml.train(\n",
    "    x=train.columns[:-1], y=target_column, training_frame=train, leaderboard_frame=test\n",
    ")\n",
    "\n",
    "# Get the leader model\n",
    "leader = aml.leader\n",
    "\n",
    "# Evaluate the leader model\n",
    "performance = leader.model_performance(test)\n",
    "print(performance)"
   ]
  },
  {
   "cell_type": "code",
   "execution_count": 18,
   "metadata": {},
   "outputs": [
    {
     "name": "stderr",
     "output_type": "stream",
     "text": [
      "c:\\Users\\omsan\\anaconda3\\envs\\eds_ml_2\\lib\\site-packages\\h2o\\frame.py:1983: H2ODependencyWarning: Converting H2O frame to pandas dataframe using single-thread.  For faster conversion using multi-thread, install datatable (for Python 3.9 or lower), or polars and pyarrow (for Python 3.10 or above) and activate it using:\n",
      "\n",
      "with h2o.utils.threading.local_context(polars_enabled=True, datatable_enabled=True):\n",
      "    pandas_df = h2o_df.as_data_frame()\n",
      "\n",
      "  warnings.warn(\"Converting H2O frame to pandas dataframe using single-thread.  For faster conversion using\"\n"
     ]
    },
    {
     "data": {
      "image/png": "[encoded data removed]",
      "text/plain": [
       "<Figure size 1000x800 with 1 Axes>"
      ]
     },
     "metadata": {},
     "output_type": "display_data"
    }
   ],
   "source": [
    "# Create a horizontal bar chart using the logloss\n",
    "import matplotlib.pyplot as plt\n",
    "\n",
    "# Assuming 'lb' is the leaderboard from H2OAutoML, but it needs to be defined or passed to this code block\n",
    "# Convert leaderboard to a Pandas DataFrame\n",
    "lb_df = aml.leaderboard.as_data_frame()  # Assuming 'aml' is the H2OAutoML object\n",
    "\n",
    "# Sort the DataFrame by logloss in ascending order to get the best models at the top\n",
    "lb_df_sorted = lb_df.sort_values(by=\"logloss\", ascending=True)\n",
    "\n",
    "# Plotting\n",
    "plt.figure(figsize=(10, 8))  # Adjusted figure size to prevent chopping\n",
    "plt.barh(lb_df_sorted[\"model_id\"], lb_df_sorted[\"logloss\"], color=\"skyblue\")\n",
    "plt.xlabel(\"Log Loss\")\n",
    "plt.ylabel(\"Model ID\")\n",
    "plt.title(\"Model Performance by Log Loss\")\n",
    "plt.gca().invert_yaxis()  # Invert y-axis to have the best model on top\n",
    "plt.tight_layout()  # Adjust layout to make room for the elements\n",
    "\n",
    "# Save the figure\n",
    "plt.savefig(\n",
    "    r\"reports\\figures\\h2o_base_model_results.png\", bbox_inches=\"tight\"\n",
    ")  # Added bbox_inches='tight' to prevent chopping\n",
    "plt.show()"
   ]
  },
  {
   "cell_type": "markdown",
   "metadata": {},
   "source": [
    "## Running XGBoost with Optuna"
   ]
  },
  {
   "cell_type": "code",
   "execution_count": 5,
   "metadata": {},
   "outputs": [],
   "source": [
    "def objective(trial):\n",
    "    mlflow.set_experiment(\"XGBoost\")\n",
    "    with mlflow.start_run(nested=True):\n",
    "        param = {\n",
    "            \"verbosity\": 0,\n",
    "            \"objective\": \"multi:softmax\",\n",
    "            \"num_class\": len(np.unique(y_train)),\n",
    "            \"eval_metric\": \"mlogloss\",\n",
    "            \"booster\": trial.suggest_categorical(\n",
    "                \"booster\", [\"gbtree\", \"gblinear\", \"dart\"]\n",
    "            ),\n",
    "            \"lambda\": trial.suggest_float(\"lambda\", 1e-8, 1.0, log=True),\n",
    "            \"alpha\": trial.suggest_float(\"alpha\", 1e-8, 1.0, log=True),\n",
    "        }\n",
    "\n",
    "        if param[\"booster\"] == \"gbtree\" or param[\"booster\"] == \"dart\":\n",
    "            param[\"max_depth\"] = trial.suggest_int(\"max_depth\", 1, 9)\n",
    "            param[\"eta\"] = trial.suggest_float(\"eta\", 1e-8, 1.0, log=True)\n",
    "            param[\"gamma\"] = trial.suggest_float(\"gamma\", 1e-8, 1.0, log=True)\n",
    "            param[\"grow_policy\"] = trial.suggest_categorical(\n",
    "                \"grow_policy\", [\"depthwise\", \"lossguide\"]\n",
    "            )\n",
    "\n",
    "        if param[\"booster\"] == \"dart\":\n",
    "            param[\"sample_type\"] = trial.suggest_categorical(\n",
    "                \"sample_type\", [\"uniform\", \"weighted\"]\n",
    "            )\n",
    "            param[\"normalize_type\"] = trial.suggest_categorical(\n",
    "                \"normalize_type\", [\"tree\", \"forest\"]\n",
    "            )\n",
    "            param[\"rate_drop\"] = trial.suggest_float(\"rate_drop\", 1e-8, 1.0, log=True)\n",
    "            param[\"skip_drop\"] = trial.suggest_float(\"skip_drop\", 1e-8, 1.0, log=True)\n",
    "\n",
    "        mlflow.log_params(param)\n",
    "\n",
    "        dtrain = xgb.DMatrix(X_train_transformed, label=y_train)\n",
    "        dvalid = xgb.DMatrix(X_test_transformed, label=y_test)\n",
    "\n",
    "        bst = xgb.train(\n",
    "            param, dtrain, evals=[(dvalid, \"validation\")], early_stopping_rounds=10\n",
    "        )\n",
    "        mlflow.xgboost.log_model(bst, \"model\")\n",
    "\n",
    "        preds = bst.predict(dvalid, output_margin=True)\n",
    "        pred_labels = np.argmax(preds, axis=1)\n",
    "        accuracy = accuracy_score(y_test, pred_labels)\n",
    "        mlflow.log_metric(\"accuracy\", accuracy)\n",
    "        return accuracy"
   ]
  },
  {
   "cell_type": "code",
   "execution_count": 6,
   "metadata": {},
   "outputs": [
    {
     "name": "stderr",
     "output_type": "stream",
     "text": [
      "[I 2024-04-25 23:54:00,653] A new study created in memory with name: no-name-c19ea5b9-8eab-46ce-8dea-d4fffe385de9\n",
      "2024/04/25 23:54:00 INFO mlflow.tracking.fluent: Experiment with name 'XGBoost' does not exist. Creating a new experiment.\n"
     ]
    },
    {
     "name": "stdout",
     "output_type": "stream",
     "text": [
      "[0]\tvalidation-mlogloss:1.38629\n",
      "[1]\tvalidation-mlogloss:1.38629\n",
      "[2]\tvalidation-mlogloss:1.38629\n",
      "[3]\tvalidation-mlogloss:1.38629\n",
      "[4]\tvalidation-mlogloss:1.38629\n",
      "[5]\tvalidation-mlogloss:1.38629\n",
      "[6]\tvalidation-mlogloss:1.38629\n",
      "[7]\tvalidation-mlogloss:1.38629\n",
      "[8]\tvalidation-mlogloss:1.38629\n",
      "[9]\tvalidation-mlogloss:1.38629\n"
     ]
    },
    {
     "name": "stderr",
     "output_type": "stream",
     "text": [
      "/Users/yyy/Library/CloudStorage/OneDrive-Personal/MMA/2024WINTER1/INSY695/Spotify-Music/.venv/lib/python3.11/site-packages/_distutils_hack/__init__.py:26: UserWarning: Setuptools is replacing distutils.\n",
      "  warnings.warn(\"Setuptools is replacing distutils.\")\n",
      "[I 2024-04-25 23:54:02,998] Trial 0 finished with value: 0.4348060344827586 and parameters: {'booster': 'dart', 'lambda': 0.11722522206064385, 'alpha': 0.0032929262754076726, 'max_depth': 1, 'eta': 3.5878272298460552e-06, 'gamma': 2.3937860799182905e-08, 'grow_policy': 'lossguide', 'sample_type': 'weighted', 'normalize_type': 'tree', 'rate_drop': 1.6836079389591552e-06, 'skip_drop': 0.00893361236160382}. Best is trial 0 with value: 0.4348060344827586.\n"
     ]
    },
    {
     "name": "stdout",
     "output_type": "stream",
     "text": [
      "[0]\tvalidation-mlogloss:1.26180\n",
      "[1]\tvalidation-mlogloss:1.22198\n",
      "[2]\tvalidation-mlogloss:1.20413\n",
      "[3]\tvalidation-mlogloss:1.19552\n",
      "[4]\tvalidation-mlogloss:1.19096\n",
      "[5]\tvalidation-mlogloss:1.18838\n",
      "[6]\tvalidation-mlogloss:1.18682\n",
      "[7]\tvalidation-mlogloss:1.18578\n",
      "[8]\tvalidation-mlogloss:1.18506\n",
      "[9]\tvalidation-mlogloss:1.18453\n"
     ]
    },
    {
     "name": "stderr",
     "output_type": "stream",
     "text": [
      "[I 2024-04-25 23:54:04,369] Trial 1 finished with value: 0.42420977011494254 and parameters: {'booster': 'gblinear', 'lambda': 0.39107770115183965, 'alpha': 0.001214896252328934}. Best is trial 0 with value: 0.4348060344827586.\n"
     ]
    },
    {
     "name": "stdout",
     "output_type": "stream",
     "text": [
      "[0]\tvalidation-mlogloss:1.38577\n",
      "[1]\tvalidation-mlogloss:1.38526\n",
      "[2]\tvalidation-mlogloss:1.38474\n",
      "[3]\tvalidation-mlogloss:1.38423\n",
      "[4]\tvalidation-mlogloss:1.38372\n",
      "[5]\tvalidation-mlogloss:1.38321\n",
      "[6]\tvalidation-mlogloss:1.38270\n",
      "[7]\tvalidation-mlogloss:1.38218\n",
      "[8]\tvalidation-mlogloss:1.38168\n",
      "[9]\tvalidation-mlogloss:1.38117\n"
     ]
    },
    {
     "name": "stderr",
     "output_type": "stream",
     "text": [
      "[I 2024-04-25 23:54:05,810] Trial 2 finished with value: 0.4802442528735632 and parameters: {'booster': 'gbtree', 'lambda': 2.165898082960377e-07, 'alpha': 3.03226544160595e-05, 'max_depth': 8, 'eta': 0.0014627994910830391, 'gamma': 0.0001790167671456205, 'grow_policy': 'depthwise'}. Best is trial 2 with value: 0.4802442528735632.\n"
     ]
    },
    {
     "name": "stdout",
     "output_type": "stream",
     "text": [
      "[0]\tvalidation-mlogloss:1.18665\n",
      "[1]\tvalidation-mlogloss:1.13552\n",
      "[2]\tvalidation-mlogloss:1.11310\n",
      "[3]\tvalidation-mlogloss:1.10193\n",
      "[4]\tvalidation-mlogloss:1.09584\n",
      "[5]\tvalidation-mlogloss:1.09209\n",
      "[6]\tvalidation-mlogloss:1.08975\n",
      "[7]\tvalidation-mlogloss:1.08825\n",
      "[8]\tvalidation-mlogloss:1.08721\n",
      "[9]\tvalidation-mlogloss:1.08641\n"
     ]
    },
    {
     "name": "stderr",
     "output_type": "stream",
     "text": [
      "[I 2024-04-25 23:54:07,050] Trial 3 finished with value: 0.4953304597701149 and parameters: {'booster': 'gblinear', 'lambda': 6.737252686367166e-05, 'alpha': 3.467560889974954e-05}. Best is trial 3 with value: 0.4953304597701149.\n"
     ]
    },
    {
     "name": "stdout",
     "output_type": "stream",
     "text": [
      "[0]\tvalidation-mlogloss:1.19081\n",
      "[1]\tvalidation-mlogloss:1.13739\n",
      "[2]\tvalidation-mlogloss:1.11411\n",
      "[3]\tvalidation-mlogloss:1.10236\n",
      "[4]\tvalidation-mlogloss:1.09588\n",
      "[5]\tvalidation-mlogloss:1.09201\n",
      "[6]\tvalidation-mlogloss:1.08954\n",
      "[7]\tvalidation-mlogloss:1.08795\n",
      "[8]\tvalidation-mlogloss:1.08705\n",
      "[9]\tvalidation-mlogloss:1.08636\n"
     ]
    },
    {
     "name": "stderr",
     "output_type": "stream",
     "text": [
      "[I 2024-04-25 23:54:08,428] Trial 4 finished with value: 0.4958692528735632 and parameters: {'booster': 'gblinear', 'lambda': 2.9048382759289433e-06, 'alpha': 3.273506906870246e-05}. Best is trial 4 with value: 0.4958692528735632.\n"
     ]
    },
    {
     "name": "stdout",
     "output_type": "stream",
     "text": [
      "[0]\tvalidation-mlogloss:1.38369\n",
      "[1]\tvalidation-mlogloss:1.38115\n",
      "[2]\tvalidation-mlogloss:1.37861\n",
      "[3]\tvalidation-mlogloss:1.37612\n",
      "[4]\tvalidation-mlogloss:1.37365\n",
      "[5]\tvalidation-mlogloss:1.37124\n",
      "[6]\tvalidation-mlogloss:1.36884\n",
      "[7]\tvalidation-mlogloss:1.36647\n",
      "[8]\tvalidation-mlogloss:1.36413\n",
      "[9]\tvalidation-mlogloss:1.36182\n"
     ]
    },
    {
     "name": "stderr",
     "output_type": "stream",
     "text": [
      "[I 2024-04-25 23:54:09,710] Trial 5 finished with value: 0.4375 and parameters: {'booster': 'gbtree', 'lambda': 1.2858279917549426e-07, 'alpha': 3.399170365236547e-07, 'max_depth': 2, 'eta': 0.010131124815320455, 'gamma': 0.04446887237182572, 'grow_policy': 'lossguide'}. Best is trial 4 with value: 0.4958692528735632.\n"
     ]
    },
    {
     "name": "stdout",
     "output_type": "stream",
     "text": [
      "[0]\tvalidation-mlogloss:1.38618\n",
      "[1]\tvalidation-mlogloss:1.38606\n",
      "[2]\tvalidation-mlogloss:1.38594\n",
      "[3]\tvalidation-mlogloss:1.38583\n",
      "[4]\tvalidation-mlogloss:1.38571\n",
      "[5]\tvalidation-mlogloss:1.38559\n",
      "[6]\tvalidation-mlogloss:1.38547\n",
      "[7]\tvalidation-mlogloss:1.38536\n",
      "[8]\tvalidation-mlogloss:1.38524\n",
      "[9]\tvalidation-mlogloss:1.38512\n"
     ]
    },
    {
     "name": "stderr",
     "output_type": "stream",
     "text": [
      "[I 2024-04-25 23:54:11,161] Trial 6 finished with value: 0.4401939655172414 and parameters: {'booster': 'dart', 'lambda': 3.662191856787612e-06, 'alpha': 3.1267807759124623e-07, 'max_depth': 2, 'eta': 0.00045497059002452014, 'gamma': 0.6055356983788392, 'grow_policy': 'depthwise', 'sample_type': 'uniform', 'normalize_type': 'forest', 'rate_drop': 1.5675823711662846e-07, 'skip_drop': 8.297934953280115e-07}. Best is trial 4 with value: 0.4958692528735632.\n"
     ]
    },
    {
     "name": "stdout",
     "output_type": "stream",
     "text": [
      "[0]\tvalidation-mlogloss:1.38629\n",
      "[1]\tvalidation-mlogloss:1.38629\n",
      "[2]\tvalidation-mlogloss:1.38629\n",
      "[3]\tvalidation-mlogloss:1.38629\n",
      "[4]\tvalidation-mlogloss:1.38629\n",
      "[5]\tvalidation-mlogloss:1.38629\n",
      "[6]\tvalidation-mlogloss:1.38629\n",
      "[7]\tvalidation-mlogloss:1.38629\n",
      "[8]\tvalidation-mlogloss:1.38629\n",
      "[9]\tvalidation-mlogloss:1.38629\n"
     ]
    },
    {
     "name": "stderr",
     "output_type": "stream",
     "text": [
      "[I 2024-04-25 23:54:12,479] Trial 7 finished with value: 0.2776580459770115 and parameters: {'booster': 'gbtree', 'lambda': 0.002423673065322425, 'alpha': 0.0007775129675167326, 'max_depth': 6, 'eta': 3.8771868790011724e-08, 'gamma': 0.9793609651505771, 'grow_policy': 'depthwise'}. Best is trial 4 with value: 0.4958692528735632.\n"
     ]
    },
    {
     "name": "stdout",
     "output_type": "stream",
     "text": [
      "[0]\tvalidation-mlogloss:1.38629\n",
      "[1]\tvalidation-mlogloss:1.38629\n",
      "[2]\tvalidation-mlogloss:1.38629\n",
      "[3]\tvalidation-mlogloss:1.38629\n",
      "[4]\tvalidation-mlogloss:1.38629\n",
      "[5]\tvalidation-mlogloss:1.38629\n",
      "[6]\tvalidation-mlogloss:1.38629\n",
      "[7]\tvalidation-mlogloss:1.38629\n",
      "[8]\tvalidation-mlogloss:1.38629\n",
      "[9]\tvalidation-mlogloss:1.38629\n"
     ]
    },
    {
     "name": "stderr",
     "output_type": "stream",
     "text": [
      "[I 2024-04-25 23:54:13,925] Trial 8 finished with value: 0.47467672413793105 and parameters: {'booster': 'gbtree', 'lambda': 5.293253015171406e-05, 'alpha': 1.6391770618341948e-08, 'max_depth': 7, 'eta': 2.5622290867120274e-06, 'gamma': 8.325996644567945e-06, 'grow_policy': 'depthwise'}. Best is trial 4 with value: 0.4958692528735632.\n"
     ]
    },
    {
     "name": "stdout",
     "output_type": "stream",
     "text": [
      "[0]\tvalidation-mlogloss:1.38629\n",
      "[1]\tvalidation-mlogloss:1.38629\n",
      "[2]\tvalidation-mlogloss:1.38629\n",
      "[3]\tvalidation-mlogloss:1.38629\n",
      "[4]\tvalidation-mlogloss:1.38629\n",
      "[5]\tvalidation-mlogloss:1.38629\n",
      "[6]\tvalidation-mlogloss:1.38629\n",
      "[7]\tvalidation-mlogloss:1.38629\n",
      "[8]\tvalidation-mlogloss:1.38629\n",
      "[9]\tvalidation-mlogloss:1.38629\n"
     ]
    },
    {
     "name": "stderr",
     "output_type": "stream",
     "text": [
      "[I 2024-04-25 23:54:15,143] Trial 9 finished with value: 0.21282327586206898 and parameters: {'booster': 'gbtree', 'lambda': 0.5814822581868995, 'alpha': 5.1668213611988834e-06, 'max_depth': 1, 'eta': 1.735939366984609e-08, 'gamma': 0.0001374789523300436, 'grow_policy': 'lossguide'}. Best is trial 4 with value: 0.4958692528735632.\n"
     ]
    },
    {
     "name": "stdout",
     "output_type": "stream",
     "text": [
      "[0]\tvalidation-mlogloss:1.30439\n",
      "[1]\tvalidation-mlogloss:1.26459\n",
      "[2]\tvalidation-mlogloss:1.24186\n",
      "[3]\tvalidation-mlogloss:1.22845\n",
      "[4]\tvalidation-mlogloss:1.22043\n",
      "[5]\tvalidation-mlogloss:1.21560\n",
      "[6]\tvalidation-mlogloss:1.21270\n",
      "[7]\tvalidation-mlogloss:1.21097\n",
      "[8]\tvalidation-mlogloss:1.20994\n",
      "[9]\tvalidation-mlogloss:1.20933\n"
     ]
    },
    {
     "name": "stderr",
     "output_type": "stream",
     "text": [
      "[I 2024-04-25 23:54:16,459] Trial 10 finished with value: 0.38739224137931033 and parameters: {'booster': 'gblinear', 'lambda': 2.6182106396409454e-08, 'alpha': 0.44228678890117445}. Best is trial 4 with value: 0.4958692528735632.\n"
     ]
    },
    {
     "name": "stdout",
     "output_type": "stream",
     "text": [
      "[0]\tvalidation-mlogloss:1.19047\n",
      "[1]\tvalidation-mlogloss:1.13707\n",
      "[2]\tvalidation-mlogloss:1.11403\n",
      "[3]\tvalidation-mlogloss:1.10247\n",
      "[4]\tvalidation-mlogloss:1.09609\n",
      "[5]\tvalidation-mlogloss:1.09233\n",
      "[6]\tvalidation-mlogloss:1.08990\n",
      "[7]\tvalidation-mlogloss:1.08827\n",
      "[8]\tvalidation-mlogloss:1.08731\n",
      "[9]\tvalidation-mlogloss:1.08654\n"
     ]
    },
    {
     "name": "stderr",
     "output_type": "stream",
     "text": [
      "[I 2024-04-25 23:54:17,719] Trial 11 finished with value: 0.49461206896551724 and parameters: {'booster': 'gblinear', 'lambda': 0.00014007089872238092, 'alpha': 1.831480021313279e-05}. Best is trial 4 with value: 0.4958692528735632.\n"
     ]
    },
    {
     "name": "stdout",
     "output_type": "stream",
     "text": [
      "[0]\tvalidation-mlogloss:1.29079\n",
      "[1]\tvalidation-mlogloss:1.25171\n",
      "[2]\tvalidation-mlogloss:1.23302\n",
      "[3]\tvalidation-mlogloss:1.22337\n",
      "[4]\tvalidation-mlogloss:1.21809\n",
      "[5]\tvalidation-mlogloss:1.21503\n",
      "[6]\tvalidation-mlogloss:1.21306\n",
      "[7]\tvalidation-mlogloss:1.21175\n",
      "[8]\tvalidation-mlogloss:1.21087\n",
      "[9]\tvalidation-mlogloss:1.21024\n"
     ]
    },
    {
     "name": "stderr",
     "output_type": "stream",
     "text": [
      "[I 2024-04-25 23:54:19,010] Trial 12 finished with value: 0.38739224137931033 and parameters: {'booster': 'gblinear', 'lambda': 5.206509823274179e-06, 'alpha': 0.078780415027688}. Best is trial 4 with value: 0.4958692528735632.\n"
     ]
    },
    {
     "name": "stdout",
     "output_type": "stream",
     "text": [
      "[0]\tvalidation-mlogloss:1.19443\n",
      "[1]\tvalidation-mlogloss:1.14084\n",
      "[2]\tvalidation-mlogloss:1.11816\n",
      "[3]\tvalidation-mlogloss:1.10691\n",
      "[4]\tvalidation-mlogloss:1.10063\n",
      "[5]\tvalidation-mlogloss:1.09699\n",
      "[6]\tvalidation-mlogloss:1.09467\n",
      "[7]\tvalidation-mlogloss:1.09317\n",
      "[8]\tvalidation-mlogloss:1.09211\n",
      "[9]\tvalidation-mlogloss:1.09132\n"
     ]
    },
    {
     "name": "stderr",
     "output_type": "stream",
     "text": [
      "[I 2024-04-25 23:54:20,277] Trial 13 finished with value: 0.49389367816091956 and parameters: {'booster': 'gblinear', 'lambda': 0.0020720005051553013, 'alpha': 1.7782664626168986e-06}. Best is trial 4 with value: 0.4958692528735632.\n"
     ]
    },
    {
     "name": "stdout",
     "output_type": "stream",
     "text": [
      "[0]\tvalidation-mlogloss:1.19251\n",
      "[1]\tvalidation-mlogloss:1.13922\n",
      "[2]\tvalidation-mlogloss:1.11613\n",
      "[3]\tvalidation-mlogloss:1.10448\n",
      "[4]\tvalidation-mlogloss:1.09776\n",
      "[5]\tvalidation-mlogloss:1.09372\n",
      "[6]\tvalidation-mlogloss:1.09126\n",
      "[7]\tvalidation-mlogloss:1.08949\n",
      "[8]\tvalidation-mlogloss:1.08825\n",
      "[9]\tvalidation-mlogloss:1.08742\n"
     ]
    },
    {
     "name": "stderr",
     "output_type": "stream",
     "text": [
      "[I 2024-04-25 23:54:21,583] Trial 14 finished with value: 0.4953304597701149 and parameters: {'booster': 'gblinear', 'lambda': 4.245178378256439e-06, 'alpha': 0.00025864096715863245}. Best is trial 4 with value: 0.4958692528735632.\n"
     ]
    },
    {
     "name": "stdout",
     "output_type": "stream",
     "text": [
      "[0]\tvalidation-mlogloss:1.27317\n",
      "[1]\tvalidation-mlogloss:1.23463\n",
      "[2]\tvalidation-mlogloss:1.21711\n",
      "[3]\tvalidation-mlogloss:1.20771\n",
      "[4]\tvalidation-mlogloss:1.20247\n",
      "[5]\tvalidation-mlogloss:1.19941\n",
      "[6]\tvalidation-mlogloss:1.19747\n",
      "[7]\tvalidation-mlogloss:1.19616\n",
      "[8]\tvalidation-mlogloss:1.19524\n",
      "[9]\tvalidation-mlogloss:1.19454\n"
     ]
    },
    {
     "name": "stderr",
     "output_type": "stream",
     "text": [
      "[I 2024-04-25 23:54:22,792] Trial 15 finished with value: 0.4118175287356322 and parameters: {'booster': 'gblinear', 'lambda': 0.00017614998727083543, 'alpha': 0.02362498284642327}. Best is trial 4 with value: 0.4958692528735632.\n"
     ]
    },
    {
     "name": "stdout",
     "output_type": "stream",
     "text": [
      "[0]\tvalidation-mlogloss:1.19709\n",
      "[1]\tvalidation-mlogloss:1.14473\n",
      "[2]\tvalidation-mlogloss:1.12185\n",
      "[3]\tvalidation-mlogloss:1.11073\n",
      "[4]\tvalidation-mlogloss:1.10468\n",
      "[5]\tvalidation-mlogloss:1.10130\n",
      "[6]\tvalidation-mlogloss:1.09891\n",
      "[7]\tvalidation-mlogloss:1.09736\n",
      "[8]\tvalidation-mlogloss:1.09633\n",
      "[9]\tvalidation-mlogloss:1.09554\n"
     ]
    },
    {
     "name": "stderr",
     "output_type": "stream",
     "text": [
      "[I 2024-04-25 23:54:24,200] Trial 16 finished with value: 0.492816091954023 and parameters: {'booster': 'gblinear', 'lambda': 0.0034384227176113727, 'alpha': 0.00010288700688881013}. Best is trial 4 with value: 0.4958692528735632.\n"
     ]
    },
    {
     "name": "stdout",
     "output_type": "stream",
     "text": [
      "[0]\tvalidation-mlogloss:1.24644\n",
      "[1]\tvalidation-mlogloss:1.18255\n",
      "[2]\tvalidation-mlogloss:1.14635\n",
      "[3]\tvalidation-mlogloss:1.12460\n",
      "[4]\tvalidation-mlogloss:1.11087\n",
      "[5]\tvalidation-mlogloss:1.09980\n",
      "[6]\tvalidation-mlogloss:1.09906\n",
      "[7]\tvalidation-mlogloss:1.09116\n",
      "[8]\tvalidation-mlogloss:1.08499\n",
      "[9]\tvalidation-mlogloss:1.07840\n"
     ]
    },
    {
     "name": "stderr",
     "output_type": "stream",
     "text": [
      "[I 2024-04-25 23:54:25,659] Trial 17 finished with value: 0.5007183908045977 and parameters: {'booster': 'dart', 'lambda': 8.073249657273067e-07, 'alpha': 1.617645174512026e-08, 'max_depth': 4, 'eta': 0.5887675884866383, 'gamma': 1.3389758349976863e-08, 'grow_policy': 'lossguide', 'sample_type': 'weighted', 'normalize_type': 'tree', 'rate_drop': 0.6686601891758601, 'skip_drop': 0.8123363946608516}. Best is trial 17 with value: 0.5007183908045977.\n"
     ]
    },
    {
     "name": "stdout",
     "output_type": "stream",
     "text": [
      "[0]\tvalidation-mlogloss:1.20341\n",
      "[1]\tvalidation-mlogloss:1.14573\n",
      "[2]\tvalidation-mlogloss:1.11725\n",
      "[3]\tvalidation-mlogloss:1.10295\n",
      "[4]\tvalidation-mlogloss:1.09265\n",
      "[5]\tvalidation-mlogloss:1.08443\n",
      "[6]\tvalidation-mlogloss:1.08005\n",
      "[7]\tvalidation-mlogloss:1.07980\n",
      "[8]\tvalidation-mlogloss:1.07559\n",
      "[9]\tvalidation-mlogloss:1.07527\n"
     ]
    },
    {
     "name": "stderr",
     "output_type": "stream",
     "text": [
      "[I 2024-04-25 23:54:27,067] Trial 18 finished with value: 0.5034123563218391 and parameters: {'booster': 'dart', 'lambda': 8.215025342689576e-07, 'alpha': 1.1747178719864405e-08, 'max_depth': 4, 'eta': 0.8630791528303013, 'gamma': 1.8938364922123527e-08, 'grow_policy': 'lossguide', 'sample_type': 'weighted', 'normalize_type': 'tree', 'rate_drop': 0.592151186553017, 'skip_drop': 0.9323843943768487}. Best is trial 18 with value: 0.5034123563218391.\n"
     ]
    },
    {
     "name": "stdout",
     "output_type": "stream",
     "text": [
      "[0]\tvalidation-mlogloss:1.20633\n",
      "[1]\tvalidation-mlogloss:1.14806\n",
      "[2]\tvalidation-mlogloss:1.11926\n",
      "[3]\tvalidation-mlogloss:1.10444\n",
      "[4]\tvalidation-mlogloss:1.09314\n",
      "[5]\tvalidation-mlogloss:1.08554\n",
      "[6]\tvalidation-mlogloss:1.08503\n",
      "[7]\tvalidation-mlogloss:1.07885\n",
      "[8]\tvalidation-mlogloss:1.07354\n",
      "[9]\tvalidation-mlogloss:1.07103\n"
     ]
    },
    {
     "name": "stderr",
     "output_type": "stream",
     "text": [
      "[I 2024-04-25 23:54:28,431] Trial 19 finished with value: 0.5026939655172413 and parameters: {'booster': 'dart', 'lambda': 4.191712382495428e-07, 'alpha': 1.2748793713510504e-08, 'max_depth': 4, 'eta': 0.8413163312834738, 'gamma': 1.027944770077138e-08, 'grow_policy': 'lossguide', 'sample_type': 'weighted', 'normalize_type': 'tree', 'rate_drop': 0.705331734673053, 'skip_drop': 0.8554456949482265}. Best is trial 18 with value: 0.5034123563218391.\n"
     ]
    },
    {
     "name": "stdout",
     "output_type": "stream",
     "text": [
      "[0]\tvalidation-mlogloss:1.19246\n",
      "[1]\tvalidation-mlogloss:1.13826\n",
      "[2]\tvalidation-mlogloss:1.11356\n",
      "[3]\tvalidation-mlogloss:1.09882\n",
      "[4]\tvalidation-mlogloss:1.08858\n",
      "[5]\tvalidation-mlogloss:1.08304\n",
      "[6]\tvalidation-mlogloss:1.07746\n",
      "[7]\tvalidation-mlogloss:1.07666\n",
      "[8]\tvalidation-mlogloss:1.07254\n",
      "[9]\tvalidation-mlogloss:1.06846\n"
     ]
    },
    {
     "name": "stderr",
     "output_type": "stream",
     "text": [
      "[I 2024-04-25 23:54:29,934] Trial 20 finished with value: 0.5053879310344828 and parameters: {'booster': 'dart', 'lambda': 1.2154969309193451e-08, 'alpha': 9.254549246324814e-08, 'max_depth': 4, 'eta': 0.9508721923896443, 'gamma': 7.919354300069438e-07, 'grow_policy': 'lossguide', 'sample_type': 'weighted', 'normalize_type': 'tree', 'rate_drop': 0.2965295228525374, 'skip_drop': 0.9441146461042387}. Best is trial 20 with value: 0.5053879310344828.\n"
     ]
    },
    {
     "name": "stdout",
     "output_type": "stream",
     "text": [
      "[0]\tvalidation-mlogloss:1.19244\n",
      "[1]\tvalidation-mlogloss:1.13825\n",
      "[2]\tvalidation-mlogloss:1.11355\n",
      "[3]\tvalidation-mlogloss:1.09882\n",
      "[4]\tvalidation-mlogloss:1.08858\n",
      "[5]\tvalidation-mlogloss:1.08303\n",
      "[6]\tvalidation-mlogloss:1.08241\n",
      "[7]\tvalidation-mlogloss:1.07602\n",
      "[8]\tvalidation-mlogloss:1.07208\n",
      "[9]\tvalidation-mlogloss:1.06937\n"
     ]
    },
    {
     "name": "stderr",
     "output_type": "stream",
     "text": [
      "[I 2024-04-25 23:54:31,431] Trial 21 finished with value: 0.5039511494252874 and parameters: {'booster': 'dart', 'lambda': 1.2458888449145085e-08, 'alpha': 7.875953562135893e-08, 'max_depth': 4, 'eta': 0.9510046796155557, 'gamma': 4.882212058456285e-07, 'grow_policy': 'lossguide', 'sample_type': 'weighted', 'normalize_type': 'tree', 'rate_drop': 0.5684715144882868, 'skip_drop': 0.8781324727411336}. Best is trial 20 with value: 0.5053879310344828.\n"
     ]
    },
    {
     "name": "stdout",
     "output_type": "stream",
     "text": [
      "[0]\tvalidation-mlogloss:1.38017\n",
      "[1]\tvalidation-mlogloss:1.37423\n",
      "[2]\tvalidation-mlogloss:1.36843\n",
      "[3]\tvalidation-mlogloss:1.36284\n",
      "[4]\tvalidation-mlogloss:1.35739\n",
      "[5]\tvalidation-mlogloss:1.35208\n",
      "[6]\tvalidation-mlogloss:1.34695\n",
      "[7]\tvalidation-mlogloss:1.34188\n",
      "[8]\tvalidation-mlogloss:1.33701\n",
      "[9]\tvalidation-mlogloss:1.33222\n"
     ]
    },
    {
     "name": "stderr",
     "output_type": "stream",
     "text": [
      "[I 2024-04-25 23:54:32,965] Trial 22 finished with value: 0.47270114942528735 and parameters: {'booster': 'dart', 'lambda': 1.06404054476272e-08, 'alpha': 1.179362744322881e-07, 'max_depth': 4, 'eta': 0.020989823251008427, 'gamma': 5.655876179480495e-07, 'grow_policy': 'lossguide', 'sample_type': 'weighted', 'normalize_type': 'tree', 'rate_drop': 0.021852474837793442, 'skip_drop': 0.8333135306640639}. Best is trial 20 with value: 0.5053879310344828.\n"
     ]
    },
    {
     "name": "stdout",
     "output_type": "stream",
     "text": [
      "[0]\tvalidation-mlogloss:1.35797\n",
      "[1]\tvalidation-mlogloss:1.33325\n",
      "[2]\tvalidation-mlogloss:1.31120\n",
      "[3]\tvalidation-mlogloss:1.29152\n",
      "[4]\tvalidation-mlogloss:1.27389\n",
      "[5]\tvalidation-mlogloss:1.25801\n",
      "[6]\tvalidation-mlogloss:1.24349\n",
      "[7]\tvalidation-mlogloss:1.23055\n",
      "[8]\tvalidation-mlogloss:1.21866\n",
      "[9]\tvalidation-mlogloss:1.20741\n"
     ]
    },
    {
     "name": "stderr",
     "output_type": "stream",
     "text": [
      "[I 2024-04-25 23:54:34,541] Trial 23 finished with value: 0.49048132183908044 and parameters: {'booster': 'dart', 'lambda': 4.211018261182543e-08, 'alpha': 9.277822137463952e-08, 'max_depth': 5, 'eta': 0.09510139435471879, 'gamma': 5.517989427656169e-07, 'grow_policy': 'lossguide', 'sample_type': 'weighted', 'normalize_type': 'tree', 'rate_drop': 0.003799224657368442, 'skip_drop': 0.003824837261093536}. Best is trial 20 with value: 0.5053879310344828.\n"
     ]
    },
    {
     "name": "stdout",
     "output_type": "stream",
     "text": [
      "[0]\tvalidation-mlogloss:1.20745\n",
      "[1]\tvalidation-mlogloss:1.18947\n",
      "[2]\tvalidation-mlogloss:1.17991\n",
      "[3]\tvalidation-mlogloss:1.17223\n",
      "[4]\tvalidation-mlogloss:1.16637\n",
      "[5]\tvalidation-mlogloss:1.16431\n",
      "[6]\tvalidation-mlogloss:1.16212\n",
      "[7]\tvalidation-mlogloss:1.15906\n",
      "[8]\tvalidation-mlogloss:1.15749\n",
      "[9]\tvalidation-mlogloss:1.15604\n"
     ]
    },
    {
     "name": "stderr",
     "output_type": "stream",
     "text": [
      "[I 2024-04-25 23:54:35,965] Trial 24 finished with value: 0.45761494252873564 and parameters: {'booster': 'dart', 'lambda': 5.2737881326795e-08, 'alpha': 1.3472627515489327e-06, 'max_depth': 3, 'eta': 0.9074172007707609, 'gamma': 5.50388989809208e-07, 'grow_policy': 'lossguide', 'sample_type': 'weighted', 'normalize_type': 'tree', 'rate_drop': 0.8882699306032513, 'skip_drop': 0.014371021565254674}. Best is trial 20 with value: 0.5053879310344828.\n"
     ]
    },
    {
     "name": "stdout",
     "output_type": "stream",
     "text": [
      "[0]\tvalidation-mlogloss:1.36786\n",
      "[1]\tvalidation-mlogloss:1.35099\n",
      "[2]\tvalidation-mlogloss:1.33535\n",
      "[3]\tvalidation-mlogloss:1.32109\n",
      "[4]\tvalidation-mlogloss:1.30754\n",
      "[5]\tvalidation-mlogloss:1.29493\n",
      "[6]\tvalidation-mlogloss:1.28322\n",
      "[7]\tvalidation-mlogloss:1.27239\n",
      "[8]\tvalidation-mlogloss:1.26213\n",
      "[9]\tvalidation-mlogloss:1.25264\n"
     ]
    },
    {
     "name": "stderr",
     "output_type": "stream",
     "text": [
      "[I 2024-04-25 23:54:37,409] Trial 25 finished with value: 0.4827586206896552 and parameters: {'booster': 'dart', 'lambda': 7.065200901234776e-07, 'alpha': 7.387039964073993e-08, 'max_depth': 5, 'eta': 0.06119240788515878, 'gamma': 4.56412790573431e-06, 'grow_policy': 'lossguide', 'sample_type': 'uniform', 'normalize_type': 'forest', 'rate_drop': 0.008261995648827186, 'skip_drop': 0.046749516068409686}. Best is trial 20 with value: 0.5053879310344828.\n"
     ]
    },
    {
     "name": "stdout",
     "output_type": "stream",
     "text": [
      "[0]\tvalidation-mlogloss:1.35482\n",
      "[1]\tvalidation-mlogloss:1.32799\n",
      "[2]\tvalidation-mlogloss:1.30469\n",
      "[3]\tvalidation-mlogloss:1.28451\n",
      "[4]\tvalidation-mlogloss:1.26722\n",
      "[5]\tvalidation-mlogloss:1.25146\n",
      "[6]\tvalidation-mlogloss:1.23751\n",
      "[7]\tvalidation-mlogloss:1.23114\n",
      "[8]\tvalidation-mlogloss:1.21965\n",
      "[9]\tvalidation-mlogloss:1.21603\n"
     ]
    },
    {
     "name": "stderr",
     "output_type": "stream",
     "text": [
      "[I 2024-04-25 23:54:38,859] Trial 26 finished with value: 0.4599497126436782 and parameters: {'booster': 'dart', 'lambda': 1.0418120876554273e-08, 'alpha': 1.0937623970123803e-06, 'max_depth': 3, 'eta': 0.11850225965092429, 'gamma': 1.1785064318133439e-07, 'grow_policy': 'lossguide', 'sample_type': 'weighted', 'normalize_type': 'tree', 'rate_drop': 0.029951809445846477, 'skip_drop': 0.00016448287040774209}. Best is trial 20 with value: 0.5053879310344828.\n"
     ]
    },
    {
     "name": "stdout",
     "output_type": "stream",
     "text": [
      "[0]\tvalidation-mlogloss:1.38505\n",
      "[1]\tvalidation-mlogloss:1.38382\n",
      "[2]\tvalidation-mlogloss:1.38260\n",
      "[3]\tvalidation-mlogloss:1.38138\n",
      "[4]\tvalidation-mlogloss:1.38018\n",
      "[5]\tvalidation-mlogloss:1.37898\n",
      "[6]\tvalidation-mlogloss:1.37778\n",
      "[7]\tvalidation-mlogloss:1.37659\n",
      "[8]\tvalidation-mlogloss:1.37541\n",
      "[9]\tvalidation-mlogloss:1.37424\n"
     ]
    },
    {
     "name": "stderr",
     "output_type": "stream",
     "text": [
      "[I 2024-04-25 23:54:40,426] Trial 27 finished with value: 0.47683189655172414 and parameters: {'booster': 'dart', 'lambda': 7.87855556258661e-08, 'alpha': 6.512837985931662e-08, 'max_depth': 6, 'eta': 0.003867138796041996, 'gamma': 8.997998259495174e-06, 'grow_policy': 'lossguide', 'sample_type': 'weighted', 'normalize_type': 'tree', 'rate_drop': 0.00012099681164355047, 'skip_drop': 1.1254235315719989e-07}. Best is trial 20 with value: 0.5053879310344828.\n"
     ]
    },
    {
     "name": "stdout",
     "output_type": "stream",
     "text": [
      "[0]\tvalidation-mlogloss:1.38628\n",
      "[1]\tvalidation-mlogloss:1.38627\n",
      "[2]\tvalidation-mlogloss:1.38626\n",
      "[3]\tvalidation-mlogloss:1.38625\n",
      "[4]\tvalidation-mlogloss:1.38624\n",
      "[5]\tvalidation-mlogloss:1.38623\n",
      "[6]\tvalidation-mlogloss:1.38622\n",
      "[7]\tvalidation-mlogloss:1.38622\n",
      "[8]\tvalidation-mlogloss:1.38622\n",
      "[9]\tvalidation-mlogloss:1.38621\n"
     ]
    },
    {
     "name": "stderr",
     "output_type": "stream",
     "text": [
      "[I 2024-04-25 23:54:41,846] Trial 28 finished with value: 0.4561781609195402 and parameters: {'booster': 'dart', 'lambda': 2.1734198644459438e-05, 'alpha': 2.849086062463511e-07, 'max_depth': 3, 'eta': 4.415672606504011e-05, 'gamma': 1.840487254262212e-07, 'grow_policy': 'lossguide', 'sample_type': 'weighted', 'normalize_type': 'tree', 'rate_drop': 0.10930781138951015, 'skip_drop': 0.08801095224714468}. Best is trial 20 with value: 0.5053879310344828.\n"
     ]
    },
    {
     "name": "stdout",
     "output_type": "stream",
     "text": [
      "[0]\tvalidation-mlogloss:1.34484\n",
      "[1]\tvalidation-mlogloss:1.31110\n",
      "[2]\tvalidation-mlogloss:1.28127\n",
      "[3]\tvalidation-mlogloss:1.25693\n",
      "[4]\tvalidation-mlogloss:1.23529\n",
      "[5]\tvalidation-mlogloss:1.21649\n",
      "[6]\tvalidation-mlogloss:1.20020\n",
      "[7]\tvalidation-mlogloss:1.18526\n",
      "[8]\tvalidation-mlogloss:1.17205\n",
      "[9]\tvalidation-mlogloss:1.15989\n"
     ]
    },
    {
     "name": "stderr",
     "output_type": "stream",
     "text": [
      "[I 2024-04-25 23:54:43,413] Trial 29 finished with value: 0.501257183908046 and parameters: {'booster': 'dart', 'lambda': 2.210599034664949e-07, 'alpha': 4.092918710450139e-06, 'max_depth': 6, 'eta': 0.1354735416422931, 'gamma': 0.0027205633376082843, 'grow_policy': 'lossguide', 'sample_type': 'uniform', 'normalize_type': 'forest', 'rate_drop': 7.314342875535534e-05, 'skip_drop': 0.0006172130572650372}. Best is trial 20 with value: 0.5053879310344828.\n"
     ]
    },
    {
     "name": "stdout",
     "output_type": "stream",
     "text": [
      "[0]\tvalidation-mlogloss:1.38050\n",
      "[1]\tvalidation-mlogloss:1.37487\n",
      "[2]\tvalidation-mlogloss:1.36938\n",
      "[3]\tvalidation-mlogloss:1.36406\n",
      "[4]\tvalidation-mlogloss:1.35886\n",
      "[5]\tvalidation-mlogloss:1.35382\n",
      "[6]\tvalidation-mlogloss:1.34889\n",
      "[7]\tvalidation-mlogloss:1.34407\n",
      "[8]\tvalidation-mlogloss:1.33940\n",
      "[9]\tvalidation-mlogloss:1.33481\n"
     ]
    },
    {
     "name": "stderr",
     "output_type": "stream",
     "text": [
      "[I 2024-04-25 23:54:44,862] Trial 30 finished with value: 0.47270114942528735 and parameters: {'booster': 'dart', 'lambda': 1.0268438175436588e-08, 'alpha': 3.849213688398032e-08, 'max_depth': 4, 'eta': 0.019845157914934027, 'gamma': 2.5252720283352204e-06, 'grow_policy': 'lossguide', 'sample_type': 'weighted', 'normalize_type': 'tree', 'rate_drop': 0.0010128058615112, 'skip_drop': 3.4738541484915082e-06}. Best is trial 20 with value: 0.5053879310344828.\n"
     ]
    },
    {
     "name": "stdout",
     "output_type": "stream",
     "text": [
      "[0]\tvalidation-mlogloss:1.18965\n",
      "[1]\tvalidation-mlogloss:1.13565\n",
      "[2]\tvalidation-mlogloss:1.11299\n",
      "[3]\tvalidation-mlogloss:1.09987\n",
      "[4]\tvalidation-mlogloss:1.09054\n",
      "[5]\tvalidation-mlogloss:1.08661\n",
      "[6]\tvalidation-mlogloss:1.08612\n",
      "[7]\tvalidation-mlogloss:1.08163\n",
      "[8]\tvalidation-mlogloss:1.07529\n",
      "[9]\tvalidation-mlogloss:1.07018\n"
     ]
    },
    {
     "name": "stderr",
     "output_type": "stream",
     "text": [
      "[I 2024-04-25 23:54:46,349] Trial 31 finished with value: 0.5055675287356322 and parameters: {'booster': 'dart', 'lambda': 5.160695111161801e-07, 'alpha': 1.002858208111579e-08, 'max_depth': 4, 'eta': 0.975310335429968, 'gamma': 1.0424696890497521e-08, 'grow_policy': 'lossguide', 'sample_type': 'weighted', 'normalize_type': 'tree', 'rate_drop': 0.9091328584102538, 'skip_drop': 0.7567320684605795}. Best is trial 31 with value: 0.5055675287356322.\n"
     ]
    },
    {
     "name": "stdout",
     "output_type": "stream",
     "text": [
      "[0]\tvalidation-mlogloss:1.19209\n",
      "[1]\tvalidation-mlogloss:1.13564\n",
      "[2]\tvalidation-mlogloss:1.12298\n",
      "[3]\tvalidation-mlogloss:1.10272\n",
      "[4]\tvalidation-mlogloss:1.09158\n",
      "[5]\tvalidation-mlogloss:1.08285\n",
      "[6]\tvalidation-mlogloss:1.07948\n",
      "[7]\tvalidation-mlogloss:1.07165\n",
      "[8]\tvalidation-mlogloss:1.06732\n",
      "[9]\tvalidation-mlogloss:1.06656\n"
     ]
    },
    {
     "name": "stderr",
     "output_type": "stream",
     "text": [
      "[I 2024-04-25 23:54:47,878] Trial 32 finished with value: 0.5105962643678161 and parameters: {'booster': 'dart', 'lambda': 1.0238716353373425e-06, 'alpha': 1.2798948071748213e-08, 'max_depth': 5, 'eta': 0.9043490285570519, 'gamma': 7.800578949862146e-08, 'grow_policy': 'lossguide', 'sample_type': 'weighted', 'normalize_type': 'tree', 'rate_drop': 0.15761361992336098, 'skip_drop': 0.16918105502022732}. Best is trial 32 with value: 0.5105962643678161.\n"
     ]
    },
    {
     "name": "stdout",
     "output_type": "stream",
     "text": [
      "[0]\tvalidation-mlogloss:1.33582\n",
      "[1]\tvalidation-mlogloss:1.29609\n",
      "[2]\tvalidation-mlogloss:1.27946\n",
      "[3]\tvalidation-mlogloss:1.24994\n",
      "[4]\tvalidation-mlogloss:1.22547\n",
      "[5]\tvalidation-mlogloss:1.20469\n",
      "[6]\tvalidation-mlogloss:1.18763\n",
      "[7]\tvalidation-mlogloss:1.17987\n",
      "[8]\tvalidation-mlogloss:1.17308\n",
      "[9]\tvalidation-mlogloss:1.16657\n"
     ]
    },
    {
     "name": "stderr",
     "output_type": "stream",
     "text": [
      "[I 2024-04-25 23:54:49,391] Trial 33 finished with value: 0.49658764367816094 and parameters: {'booster': 'dart', 'lambda': 2.6547648582602662e-08, 'alpha': 3.62484522746123e-08, 'max_depth': 5, 'eta': 0.17425701296742432, 'gamma': 9.8522851129474e-08, 'grow_policy': 'lossguide', 'sample_type': 'weighted', 'normalize_type': 'tree', 'rate_drop': 0.08715276131683435, 'skip_drop': 0.108563860745054}. Best is trial 32 with value: 0.5105962643678161.\n"
     ]
    },
    {
     "name": "stdout",
     "output_type": "stream",
     "text": [
      "[0]\tvalidation-mlogloss:1.31597\n",
      "[1]\tvalidation-mlogloss:1.26534\n",
      "[2]\tvalidation-mlogloss:1.22949\n",
      "[3]\tvalidation-mlogloss:1.19828\n",
      "[4]\tvalidation-mlogloss:1.17470\n",
      "[5]\tvalidation-mlogloss:1.15634\n",
      "[6]\tvalidation-mlogloss:1.14175\n",
      "[7]\tvalidation-mlogloss:1.13489\n",
      "[8]\tvalidation-mlogloss:1.12937\n",
      "[9]\tvalidation-mlogloss:1.11980\n"
     ]
    },
    {
     "name": "stderr",
     "output_type": "stream",
     "text": [
      "[I 2024-04-25 23:54:50,940] Trial 34 finished with value: 0.5032327586206896 and parameters: {'booster': 'dart', 'lambda': 1.6665144980868516e-07, 'alpha': 3.281184880870477e-07, 'max_depth': 5, 'eta': 0.24954095024968223, 'gamma': 8.273453359657133e-08, 'grow_policy': 'lossguide', 'sample_type': 'weighted', 'normalize_type': 'tree', 'rate_drop': 0.0847532124682402, 'skip_drop': 0.07005687977000981}. Best is trial 32 with value: 0.5105962643678161.\n"
     ]
    },
    {
     "name": "stdout",
     "output_type": "stream",
     "text": [
      "[0]\tvalidation-mlogloss:1.37873\n",
      "[1]\tvalidation-mlogloss:1.37147\n",
      "[2]\tvalidation-mlogloss:1.36794\n",
      "[3]\tvalidation-mlogloss:1.36109\n",
      "[4]\tvalidation-mlogloss:1.35444\n",
      "[5]\tvalidation-mlogloss:1.34801\n",
      "[6]\tvalidation-mlogloss:1.34591\n",
      "[7]\tvalidation-mlogloss:1.33974\n",
      "[8]\tvalidation-mlogloss:1.33380\n",
      "[9]\tvalidation-mlogloss:1.33314\n"
     ]
    },
    {
     "name": "stderr",
     "output_type": "stream",
     "text": [
      "[I 2024-04-25 23:54:52,348] Trial 35 finished with value: 0.45977011494252873 and parameters: {'booster': 'dart', 'lambda': 1.6941409963193448e-06, 'alpha': 3.226282615398379e-08, 'max_depth': 3, 'eta': 0.027624185185801533, 'gamma': 3.563168590968084e-05, 'grow_policy': 'lossguide', 'sample_type': 'weighted', 'normalize_type': 'tree', 'rate_drop': 0.15255545389545577, 'skip_drop': 0.1702551326185425}. Best is trial 32 with value: 0.5105962643678161.\n"
     ]
    },
    {
     "name": "stdout",
     "output_type": "stream",
     "text": [
      "[0]\tvalidation-mlogloss:1.31707\n",
      "[1]\tvalidation-mlogloss:1.26855\n",
      "[2]\tvalidation-mlogloss:1.24947\n",
      "[3]\tvalidation-mlogloss:1.21821\n",
      "[4]\tvalidation-mlogloss:1.19450\n",
      "[5]\tvalidation-mlogloss:1.17460\n",
      "[6]\tvalidation-mlogloss:1.16905\n",
      "[7]\tvalidation-mlogloss:1.15412\n",
      "[8]\tvalidation-mlogloss:1.14176\n",
      "[9]\tvalidation-mlogloss:1.14067\n"
     ]
    },
    {
     "name": "stderr",
     "output_type": "stream",
     "text": [
      "[I 2024-04-25 23:54:53,892] Trial 36 finished with value: 0.49191810344827586 and parameters: {'booster': 'dart', 'lambda': 1.870934863088471e-05, 'alpha': 1.5017001290353414e-07, 'max_depth': 4, 'eta': 0.25715695682588624, 'gamma': 1.2808441620219985e-06, 'grow_policy': 'lossguide', 'sample_type': 'weighted', 'normalize_type': 'tree', 'rate_drop': 0.17077395642658427, 'skip_drop': 0.21797832821088006}. Best is trial 32 with value: 0.5105962643678161.\n"
     ]
    },
    {
     "name": "stdout",
     "output_type": "stream",
     "text": [
      "[0]\tvalidation-mlogloss:1.29242\n",
      "[1]\tvalidation-mlogloss:1.23239\n",
      "[2]\tvalidation-mlogloss:1.19113\n",
      "[3]\tvalidation-mlogloss:1.16068\n",
      "[4]\tvalidation-mlogloss:1.13526\n",
      "[5]\tvalidation-mlogloss:1.11806\n",
      "[6]\tvalidation-mlogloss:1.10347\n",
      "[7]\tvalidation-mlogloss:1.09249\n",
      "[8]\tvalidation-mlogloss:1.08459\n",
      "[9]\tvalidation-mlogloss:1.07633\n"
     ]
    },
    {
     "name": "stderr",
     "output_type": "stream",
     "text": [
      "[I 2024-04-25 23:54:55,363] Trial 37 finished with value: 0.5123922413793104 and parameters: {'booster': 'dart', 'lambda': 2.849683219664438e-07, 'alpha': 7.996105503969115e-07, 'max_depth': 6, 'eta': 0.330832080252439, 'gamma': 4.8629786873169245e-08, 'grow_policy': 'depthwise', 'sample_type': 'weighted', 'normalize_type': 'tree', 'rate_drop': 0.0013108586363249032, 'skip_drop': 0.004151242616079967}. Best is trial 37 with value: 0.5123922413793104.\n"
     ]
    },
    {
     "name": "stdout",
     "output_type": "stream",
     "text": [
      "[0]\tvalidation-mlogloss:1.38479\n",
      "[1]\tvalidation-mlogloss:1.38331\n",
      "[2]\tvalidation-mlogloss:1.38183\n",
      "[3]\tvalidation-mlogloss:1.38036\n",
      "[4]\tvalidation-mlogloss:1.37891\n",
      "[5]\tvalidation-mlogloss:1.37746\n",
      "[6]\tvalidation-mlogloss:1.37601\n",
      "[7]\tvalidation-mlogloss:1.37458\n",
      "[8]\tvalidation-mlogloss:1.37315\n",
      "[9]\tvalidation-mlogloss:1.37173\n"
     ]
    },
    {
     "name": "stderr",
     "output_type": "stream",
     "text": [
      "[I 2024-04-25 23:54:56,867] Trial 38 finished with value: 0.477191091954023 and parameters: {'booster': 'dart', 'lambda': 2.6145937878580605e-07, 'alpha': 1.0555667901835174e-05, 'max_depth': 7, 'eta': 0.004471045326108815, 'gamma': 4.7906308844509455e-08, 'grow_policy': 'depthwise', 'sample_type': 'uniform', 'normalize_type': 'forest', 'rate_drop': 0.0028054631965886423, 'skip_drop': 0.001689455623633963}. Best is trial 37 with value: 0.5123922413793104.\n"
     ]
    },
    {
     "name": "stdout",
     "output_type": "stream",
     "text": [
      "[0]\tvalidation-mlogloss:1.37010\n",
      "[1]\tvalidation-mlogloss:1.35488\n",
      "[2]\tvalidation-mlogloss:1.34091\n",
      "[3]\tvalidation-mlogloss:1.32763\n",
      "[4]\tvalidation-mlogloss:1.31521\n",
      "[5]\tvalidation-mlogloss:1.30351\n",
      "[6]\tvalidation-mlogloss:1.29226\n",
      "[7]\tvalidation-mlogloss:1.28170\n",
      "[8]\tvalidation-mlogloss:1.27187\n",
      "[9]\tvalidation-mlogloss:1.26241\n"
     ]
    },
    {
     "name": "stderr",
     "output_type": "stream",
     "text": [
      "[I 2024-04-25 23:54:58,401] Trial 39 finished with value: 0.4942528735632184 and parameters: {'booster': 'gbtree', 'lambda': 1.2711236720303494e-05, 'alpha': 6.663843264329666e-07, 'max_depth': 7, 'eta': 0.04901317939524979, 'gamma': 5.041720489145657e-08, 'grow_policy': 'depthwise'}. Best is trial 37 with value: 0.5123922413793104.\n"
     ]
    },
    {
     "name": "stdout",
     "output_type": "stream",
     "text": [
      "[0]\tvalidation-mlogloss:1.38629\n",
      "[1]\tvalidation-mlogloss:1.38629\n",
      "[2]\tvalidation-mlogloss:1.38629\n",
      "[3]\tvalidation-mlogloss:1.38629\n",
      "[4]\tvalidation-mlogloss:1.38628\n",
      "[5]\tvalidation-mlogloss:1.38628\n",
      "[6]\tvalidation-mlogloss:1.38628\n",
      "[7]\tvalidation-mlogloss:1.38628\n",
      "[8]\tvalidation-mlogloss:1.38628\n",
      "[9]\tvalidation-mlogloss:1.38627\n"
     ]
    },
    {
     "name": "stderr",
     "output_type": "stream",
     "text": [
      "[I 2024-04-25 23:54:59,981] Trial 40 finished with value: 0.48401580459770116 and parameters: {'booster': 'dart', 'lambda': 9.768546296161439e-08, 'alpha': 6.472918179832909e-07, 'max_depth': 9, 'eta': 5.557570500552025e-06, 'gamma': 3.0642850650606335e-08, 'grow_policy': 'depthwise', 'sample_type': 'weighted', 'normalize_type': 'tree', 'rate_drop': 0.0002361335813397567, 'skip_drop': 0.029576000790160536}. Best is trial 37 with value: 0.5123922413793104.\n"
     ]
    },
    {
     "name": "stdout",
     "output_type": "stream",
     "text": [
      "[0]\tvalidation-mlogloss:1.29779\n",
      "[1]\tvalidation-mlogloss:1.23894\n",
      "[2]\tvalidation-mlogloss:1.19717\n",
      "[3]\tvalidation-mlogloss:1.16552\n",
      "[4]\tvalidation-mlogloss:1.14068\n",
      "[5]\tvalidation-mlogloss:1.12162\n",
      "[6]\tvalidation-mlogloss:1.10599\n",
      "[7]\tvalidation-mlogloss:1.09449\n",
      "[8]\tvalidation-mlogloss:1.08513\n",
      "[9]\tvalidation-mlogloss:1.07747\n"
     ]
    },
    {
     "name": "stderr",
     "output_type": "stream",
     "text": [
      "[I 2024-04-25 23:55:01,566] Trial 41 finished with value: 0.5172413793103449 and parameters: {'booster': 'dart', 'lambda': 0.10449465162151098, 'alpha': 3.252620242516501e-08, 'max_depth': 6, 'eta': 0.3102049473791699, 'gamma': 2.699473794925707e-07, 'grow_policy': 'depthwise', 'sample_type': 'weighted', 'normalize_type': 'tree', 'rate_drop': 1.847175583929433e-05, 'skip_drop': 0.23119637345384977}. Best is trial 41 with value: 0.5172413793103449.\n"
     ]
    },
    {
     "name": "stdout",
     "output_type": "stream",
     "text": [
      "[0]\tvalidation-mlogloss:1.30085\n",
      "[1]\tvalidation-mlogloss:1.24272\n",
      "[2]\tvalidation-mlogloss:1.20076\n",
      "[3]\tvalidation-mlogloss:1.16928\n",
      "[4]\tvalidation-mlogloss:1.14394\n",
      "[5]\tvalidation-mlogloss:1.12573\n",
      "[6]\tvalidation-mlogloss:1.10995\n",
      "[7]\tvalidation-mlogloss:1.09892\n",
      "[8]\tvalidation-mlogloss:1.08886\n",
      "[9]\tvalidation-mlogloss:1.08086\n"
     ]
    },
    {
     "name": "stderr",
     "output_type": "stream",
     "text": [
      "[I 2024-04-25 23:55:03,006] Trial 42 finished with value: 0.5113146551724138 and parameters: {'booster': 'dart', 'lambda': 0.11563719500986262, 'alpha': 2.8020230200782846e-08, 'max_depth': 6, 'eta': 0.29848772748301516, 'gamma': 1.0208630575256654e-07, 'grow_policy': 'depthwise', 'sample_type': 'weighted', 'normalize_type': 'tree', 'rate_drop': 6.713365262874147e-06, 'skip_drop': 0.21769378203814058}. Best is trial 41 with value: 0.5172413793103449.\n"
     ]
    },
    {
     "name": "stdout",
     "output_type": "stream",
     "text": [
      "[0]\tvalidation-mlogloss:1.31523\n",
      "[1]\tvalidation-mlogloss:1.26363\n",
      "[2]\tvalidation-mlogloss:1.22418\n",
      "[3]\tvalidation-mlogloss:1.19514\n",
      "[4]\tvalidation-mlogloss:1.16991\n",
      "[5]\tvalidation-mlogloss:1.14925\n",
      "[6]\tvalidation-mlogloss:1.13372\n",
      "[7]\tvalidation-mlogloss:1.11999\n",
      "[8]\tvalidation-mlogloss:1.10848\n",
      "[9]\tvalidation-mlogloss:1.09857\n"
     ]
    },
    {
     "name": "stderr",
     "output_type": "stream",
     "text": [
      "[I 2024-04-25 23:55:04,511] Trial 43 finished with value: 0.5091594827586207 and parameters: {'booster': 'dart', 'lambda': 0.08304568345673044, 'alpha': 1.0614377424980278e-08, 'max_depth': 6, 'eta': 0.24264615978480586, 'gamma': 1.2742198339659788e-07, 'grow_policy': 'depthwise', 'sample_type': 'weighted', 'normalize_type': 'tree', 'rate_drop': 7.484825852180947e-06, 'skip_drop': 0.012835391098307485}. Best is trial 41 with value: 0.5172413793103449.\n"
     ]
    },
    {
     "name": "stdout",
     "output_type": "stream",
     "text": [
      "[0]\tvalidation-mlogloss:1.30905\n",
      "[1]\tvalidation-mlogloss:1.25459\n",
      "[2]\tvalidation-mlogloss:1.21417\n",
      "[3]\tvalidation-mlogloss:1.18399\n",
      "[4]\tvalidation-mlogloss:1.15859\n",
      "[5]\tvalidation-mlogloss:1.13980\n",
      "[6]\tvalidation-mlogloss:1.12519\n",
      "[7]\tvalidation-mlogloss:1.11220\n",
      "[8]\tvalidation-mlogloss:1.10155\n",
      "[9]\tvalidation-mlogloss:1.09240\n"
     ]
    },
    {
     "name": "stderr",
     "output_type": "stream",
     "text": [
      "[I 2024-04-25 23:55:05,861] Trial 44 finished with value: 0.507183908045977 and parameters: {'booster': 'gbtree', 'lambda': 0.1135361447902117, 'alpha': 2.8685052993290452e-08, 'max_depth': 6, 'eta': 0.2661213656844276, 'gamma': 2.2852427995942114e-07, 'grow_policy': 'depthwise'}. Best is trial 41 with value: 0.5172413793103449.\n"
     ]
    },
    {
     "name": "stdout",
     "output_type": "stream",
     "text": [
      "[0]\tvalidation-mlogloss:1.38384\n",
      "[1]\tvalidation-mlogloss:1.38142\n",
      "[2]\tvalidation-mlogloss:1.37904\n",
      "[3]\tvalidation-mlogloss:1.37666\n",
      "[4]\tvalidation-mlogloss:1.37434\n",
      "[5]\tvalidation-mlogloss:1.37201\n",
      "[6]\tvalidation-mlogloss:1.36971\n",
      "[7]\tvalidation-mlogloss:1.36742\n",
      "[8]\tvalidation-mlogloss:1.36516\n",
      "[9]\tvalidation-mlogloss:1.36293\n"
     ]
    },
    {
     "name": "stderr",
     "output_type": "stream",
     "text": [
      "[I 2024-04-25 23:55:07,443] Trial 45 finished with value: 0.48204022988505746 and parameters: {'booster': 'dart', 'lambda': 0.132336812126229, 'alpha': 1.662577807333103e-07, 'max_depth': 7, 'eta': 0.007330734548471261, 'gamma': 2.153706114126816e-07, 'grow_policy': 'depthwise', 'sample_type': 'weighted', 'normalize_type': 'tree', 'rate_drop': 9.871633264662958e-06, 'skip_drop': 0.00677358229306322}. Best is trial 41 with value: 0.5172413793103449.\n"
     ]
    },
    {
     "name": "stdout",
     "output_type": "stream",
     "text": [
      "[0]\tvalidation-mlogloss:1.38615\n",
      "[1]\tvalidation-mlogloss:1.38600\n",
      "[2]\tvalidation-mlogloss:1.38586\n",
      "[3]\tvalidation-mlogloss:1.38571\n",
      "[4]\tvalidation-mlogloss:1.38556\n",
      "[5]\tvalidation-mlogloss:1.38542\n",
      "[6]\tvalidation-mlogloss:1.38527\n",
      "[7]\tvalidation-mlogloss:1.38513\n",
      "[8]\tvalidation-mlogloss:1.38498\n",
      "[9]\tvalidation-mlogloss:1.38484\n"
     ]
    },
    {
     "name": "stderr",
     "output_type": "stream",
     "text": [
      "[I 2024-04-25 23:55:08,908] Trial 46 finished with value: 0.47611350574712646 and parameters: {'booster': 'dart', 'lambda': 0.02947722678055983, 'alpha': 2.6424249288174054e-08, 'max_depth': 6, 'eta': 0.0004570597907991167, 'gamma': 0.000975452297666628, 'grow_policy': 'depthwise', 'sample_type': 'weighted', 'normalize_type': 'tree', 'rate_drop': 7.576679094085034e-06, 'skip_drop': 0.0012267982691489055}. Best is trial 41 with value: 0.5172413793103449.\n"
     ]
    },
    {
     "name": "stdout",
     "output_type": "stream",
     "text": [
      "[0]\tvalidation-mlogloss:1.38589\n",
      "[1]\tvalidation-mlogloss:1.38550\n",
      "[2]\tvalidation-mlogloss:1.38510\n",
      "[3]\tvalidation-mlogloss:1.38470\n",
      "[4]\tvalidation-mlogloss:1.38431\n",
      "[5]\tvalidation-mlogloss:1.38391\n",
      "[6]\tvalidation-mlogloss:1.38352\n",
      "[7]\tvalidation-mlogloss:1.38312\n",
      "[8]\tvalidation-mlogloss:1.38273\n",
      "[9]\tvalidation-mlogloss:1.38233\n"
     ]
    },
    {
     "name": "stderr",
     "output_type": "stream",
     "text": [
      "[I 2024-04-25 23:55:10,363] Trial 47 finished with value: 0.48204022988505746 and parameters: {'booster': 'gbtree', 'lambda': 0.013109055912398047, 'alpha': 2.474313599635714e-06, 'max_depth': 8, 'eta': 0.00112731723603551, 'gamma': 3.8951571488789484e-08, 'grow_policy': 'depthwise'}. Best is trial 41 with value: 0.5172413793103449.\n"
     ]
    },
    {
     "name": "stdout",
     "output_type": "stream",
     "text": [
      "[0]\tvalidation-mlogloss:1.38629\n",
      "[1]\tvalidation-mlogloss:1.38629\n",
      "[2]\tvalidation-mlogloss:1.38629\n",
      "[3]\tvalidation-mlogloss:1.38629\n",
      "[4]\tvalidation-mlogloss:1.38629\n",
      "[5]\tvalidation-mlogloss:1.38629\n",
      "[6]\tvalidation-mlogloss:1.38629\n",
      "[7]\tvalidation-mlogloss:1.38629\n",
      "[8]\tvalidation-mlogloss:1.38629\n",
      "[9]\tvalidation-mlogloss:1.38629\n"
     ]
    },
    {
     "name": "stderr",
     "output_type": "stream",
     "text": [
      "[I 2024-04-25 23:55:11,845] Trial 48 finished with value: 0.48976293103448276 and parameters: {'booster': 'dart', 'lambda': 0.8628129613858995, 'alpha': 2.1367268700028528e-07, 'max_depth': 8, 'eta': 1.549252608465475e-07, 'gamma': 2.1083945040530628e-06, 'grow_policy': 'depthwise', 'sample_type': 'weighted', 'normalize_type': 'tree', 'rate_drop': 9.331011738360603e-06, 'skip_drop': 0.020073133485465817}. Best is trial 41 with value: 0.5172413793103449.\n"
     ]
    },
    {
     "name": "stdout",
     "output_type": "stream",
     "text": [
      "[0]\tvalidation-mlogloss:1.32004\n",
      "[1]\tvalidation-mlogloss:1.27112\n",
      "[2]\tvalidation-mlogloss:1.23398\n",
      "[3]\tvalidation-mlogloss:1.20499\n",
      "[4]\tvalidation-mlogloss:1.18106\n",
      "[5]\tvalidation-mlogloss:1.16186\n",
      "[6]\tvalidation-mlogloss:1.14690\n",
      "[7]\tvalidation-mlogloss:1.13389\n",
      "[8]\tvalidation-mlogloss:1.12303\n",
      "[9]\tvalidation-mlogloss:1.11409\n"
     ]
    },
    {
     "name": "stderr",
     "output_type": "stream",
     "text": [
      "[I 2024-04-25 23:55:13,344] Trial 49 finished with value: 0.5008979885057471 and parameters: {'booster': 'dart', 'lambda': 0.3395740469548417, 'alpha': 0.005132354550993737, 'max_depth': 5, 'eta': 0.2345558474142858, 'gamma': 0.23193377562410514, 'grow_policy': 'depthwise', 'sample_type': 'weighted', 'normalize_type': 'tree', 'rate_drop': 8.253401974868497e-07, 'skip_drop': 0.006950123208309724}. Best is trial 41 with value: 0.5172413793103449.\n"
     ]
    },
    {
     "name": "stdout",
     "output_type": "stream",
     "text": [
      "[0]\tvalidation-mlogloss:1.37379\n",
      "[1]\tvalidation-mlogloss:1.36194\n",
      "[2]\tvalidation-mlogloss:1.35084\n",
      "[3]\tvalidation-mlogloss:1.34025\n",
      "[4]\tvalidation-mlogloss:1.33029\n",
      "[5]\tvalidation-mlogloss:1.32063\n",
      "[6]\tvalidation-mlogloss:1.31138\n",
      "[7]\tvalidation-mlogloss:1.30255\n",
      "[8]\tvalidation-mlogloss:1.29393\n",
      "[9]\tvalidation-mlogloss:1.28593\n"
     ]
    },
    {
     "name": "stderr",
     "output_type": "stream",
     "text": [
      "[I 2024-04-25 23:55:14,794] Trial 50 finished with value: 0.48419540229885055 and parameters: {'booster': 'dart', 'lambda': 0.0010184116592130785, 'alpha': 4.916768617136881e-07, 'max_depth': 6, 'eta': 0.039449722587754955, 'gamma': 1.7865489449785745e-07, 'grow_policy': 'depthwise', 'sample_type': 'weighted', 'normalize_type': 'tree', 'rate_drop': 1.100003283084597e-06, 'skip_drop': 0.1873665164577659}. Best is trial 41 with value: 0.5172413793103449.\n"
     ]
    },
    {
     "name": "stdout",
     "output_type": "stream",
     "text": [
      "[0]\tvalidation-mlogloss:1.30849\n",
      "[1]\tvalidation-mlogloss:1.25388\n",
      "[2]\tvalidation-mlogloss:1.21336\n",
      "[3]\tvalidation-mlogloss:1.18349\n",
      "[4]\tvalidation-mlogloss:1.15811\n",
      "[5]\tvalidation-mlogloss:1.13917\n",
      "[6]\tvalidation-mlogloss:1.12393\n",
      "[7]\tvalidation-mlogloss:1.11034\n",
      "[8]\tvalidation-mlogloss:1.09935\n",
      "[9]\tvalidation-mlogloss:1.09089\n"
     ]
    },
    {
     "name": "stderr",
     "output_type": "stream",
     "text": [
      "[I 2024-04-25 23:55:16,131] Trial 51 finished with value: 0.509698275862069 and parameters: {'booster': 'gbtree', 'lambda': 0.04453998034505935, 'alpha': 2.8138663377754327e-08, 'max_depth': 6, 'eta': 0.2680438245019937, 'gamma': 2.725773428401667e-07, 'grow_policy': 'depthwise'}. Best is trial 41 with value: 0.5172413793103449.\n"
     ]
    },
    {
     "name": "stdout",
     "output_type": "stream",
     "text": [
      "[0]\tvalidation-mlogloss:1.29387\n",
      "[1]\tvalidation-mlogloss:1.23276\n",
      "[2]\tvalidation-mlogloss:1.19079\n",
      "[3]\tvalidation-mlogloss:1.15810\n",
      "[4]\tvalidation-mlogloss:1.13468\n",
      "[5]\tvalidation-mlogloss:1.11401\n",
      "[6]\tvalidation-mlogloss:1.09867\n",
      "[7]\tvalidation-mlogloss:1.08621\n",
      "[8]\tvalidation-mlogloss:1.07647\n",
      "[9]\tvalidation-mlogloss:1.06827\n"
     ]
    },
    {
     "name": "stderr",
     "output_type": "stream",
     "text": [
      "[I 2024-04-25 23:55:17,528] Trial 52 finished with value: 0.5202945402298851 and parameters: {'booster': 'gbtree', 'lambda': 0.039664458434600786, 'alpha': 3.338831794953724e-08, 'max_depth': 7, 'eta': 0.3095967198273853, 'gamma': 2.7185873467825427e-08, 'grow_policy': 'depthwise'}. Best is trial 52 with value: 0.5202945402298851.\n"
     ]
    },
    {
     "name": "stdout",
     "output_type": "stream",
     "text": [
      "[0]\tvalidation-mlogloss:1.27413\n",
      "[1]\tvalidation-mlogloss:1.20816\n",
      "[2]\tvalidation-mlogloss:1.16321\n",
      "[3]\tvalidation-mlogloss:1.13245\n",
      "[4]\tvalidation-mlogloss:1.10901\n",
      "[5]\tvalidation-mlogloss:1.09296\n",
      "[6]\tvalidation-mlogloss:1.07893\n",
      "[7]\tvalidation-mlogloss:1.06875\n",
      "[8]\tvalidation-mlogloss:1.06157\n",
      "[9]\tvalidation-mlogloss:1.05457\n"
     ]
    },
    {
     "name": "stderr",
     "output_type": "stream",
     "text": [
      "[I 2024-04-25 23:55:18,940] Trial 53 finished with value: 0.5174209770114943 and parameters: {'booster': 'gbtree', 'lambda': 0.028738313830669937, 'alpha': 4.1685450112782116e-08, 'max_depth': 7, 'eta': 0.38850817153022316, 'gamma': 2.2031872691196984e-08, 'grow_policy': 'depthwise'}. Best is trial 52 with value: 0.5202945402298851.\n"
     ]
    },
    {
     "name": "stdout",
     "output_type": "stream",
     "text": [
      "[0]\tvalidation-mlogloss:1.36070\n",
      "[1]\tvalidation-mlogloss:1.33784\n",
      "[2]\tvalidation-mlogloss:1.31747\n",
      "[3]\tvalidation-mlogloss:1.29862\n",
      "[4]\tvalidation-mlogloss:1.28142\n",
      "[5]\tvalidation-mlogloss:1.26573\n",
      "[6]\tvalidation-mlogloss:1.25129\n",
      "[7]\tvalidation-mlogloss:1.23826\n",
      "[8]\tvalidation-mlogloss:1.22575\n",
      "[9]\tvalidation-mlogloss:1.21488\n"
     ]
    },
    {
     "name": "stderr",
     "output_type": "stream",
     "text": [
      "[I 2024-04-25 23:55:20,233] Trial 54 finished with value: 0.4958692528735632 and parameters: {'booster': 'gbtree', 'lambda': 0.01371134097736398, 'alpha': 5.069018378385317e-08, 'max_depth': 7, 'eta': 0.07830582174421052, 'gamma': 2.199543797508658e-08, 'grow_policy': 'depthwise'}. Best is trial 52 with value: 0.5202945402298851.\n"
     ]
    },
    {
     "name": "stdout",
     "output_type": "stream",
     "text": [
      "[0]\tvalidation-mlogloss:1.24791\n",
      "[1]\tvalidation-mlogloss:1.17757\n",
      "[2]\tvalidation-mlogloss:1.12890\n",
      "[3]\tvalidation-mlogloss:1.09827\n",
      "[4]\tvalidation-mlogloss:1.07829\n",
      "[5]\tvalidation-mlogloss:1.06421\n",
      "[6]\tvalidation-mlogloss:1.05292\n",
      "[7]\tvalidation-mlogloss:1.04412\n",
      "[8]\tvalidation-mlogloss:1.03878\n",
      "[9]\tvalidation-mlogloss:1.03411\n"
     ]
    },
    {
     "name": "stderr",
     "output_type": "stream",
     "text": [
      "[I 2024-04-25 23:55:21,720] Trial 55 finished with value: 0.5213721264367817 and parameters: {'booster': 'gbtree', 'lambda': 0.19630067390423633, 'alpha': 1.7890188118620715e-08, 'max_depth': 8, 'eta': 0.47963623868688654, 'gamma': 2.456996950592059e-08, 'grow_policy': 'depthwise'}. Best is trial 55 with value: 0.5213721264367817.\n"
     ]
    },
    {
     "name": "stdout",
     "output_type": "stream",
     "text": [
      "[0]\tvalidation-mlogloss:1.26121\n",
      "[1]\tvalidation-mlogloss:1.18780\n",
      "[2]\tvalidation-mlogloss:1.14426\n",
      "[3]\tvalidation-mlogloss:1.11057\n",
      "[4]\tvalidation-mlogloss:1.08738\n",
      "[5]\tvalidation-mlogloss:1.07114\n",
      "[6]\tvalidation-mlogloss:1.06072\n",
      "[7]\tvalidation-mlogloss:1.04939\n",
      "[8]\tvalidation-mlogloss:1.04028\n",
      "[9]\tvalidation-mlogloss:1.03201\n"
     ]
    },
    {
     "name": "stderr",
     "output_type": "stream",
     "text": [
      "[I 2024-04-25 23:55:23,169] Trial 56 finished with value: 0.5246048850574713 and parameters: {'booster': 'gbtree', 'lambda': 0.27305889674121947, 'alpha': 0.0001024905244089162, 'max_depth': 9, 'eta': 0.4098609498789447, 'gamma': 3.022318524811572e-08, 'grow_policy': 'depthwise'}. Best is trial 56 with value: 0.5246048850574713.\n"
     ]
    },
    {
     "name": "stdout",
     "output_type": "stream",
     "text": [
      "[0]\tvalidation-mlogloss:1.38256\n",
      "[1]\tvalidation-mlogloss:1.37888\n",
      "[2]\tvalidation-mlogloss:1.37526\n",
      "[3]\tvalidation-mlogloss:1.37173\n",
      "[4]\tvalidation-mlogloss:1.36824\n",
      "[5]\tvalidation-mlogloss:1.36477\n",
      "[6]\tvalidation-mlogloss:1.36135\n",
      "[7]\tvalidation-mlogloss:1.35798\n",
      "[8]\tvalidation-mlogloss:1.35469\n",
      "[9]\tvalidation-mlogloss:1.35144\n"
     ]
    },
    {
     "name": "stderr",
     "output_type": "stream",
     "text": [
      "[I 2024-04-25 23:55:24,618] Trial 57 finished with value: 0.48563218390804597 and parameters: {'booster': 'gbtree', 'lambda': 0.008292682278736562, 'alpha': 0.0001517756541768756, 'max_depth': 9, 'eta': 0.01019649406081405, 'gamma': 2.4907831785829082e-08, 'grow_policy': 'depthwise'}. Best is trial 56 with value: 0.5246048850574713.\n"
     ]
    },
    {
     "name": "stdout",
     "output_type": "stream",
     "text": [
      "[0]\tvalidation-mlogloss:1.25421\n",
      "[1]\tvalidation-mlogloss:1.18300\n",
      "[2]\tvalidation-mlogloss:1.13748\n",
      "[3]\tvalidation-mlogloss:1.10710\n",
      "[4]\tvalidation-mlogloss:1.08568\n",
      "[5]\tvalidation-mlogloss:1.06848\n",
      "[6]\tvalidation-mlogloss:1.05679\n",
      "[7]\tvalidation-mlogloss:1.04763\n",
      "[8]\tvalidation-mlogloss:1.04098\n",
      "[9]\tvalidation-mlogloss:1.03630\n"
     ]
    },
    {
     "name": "stderr",
     "output_type": "stream",
     "text": [
      "[I 2024-04-25 23:55:26,068] Trial 58 finished with value: 0.5242456896551724 and parameters: {'booster': 'gbtree', 'lambda': 0.3701907650279718, 'alpha': 0.0013032208317964658, 'max_depth': 8, 'eta': 0.4520498995796817, 'gamma': 1.014119504968743e-08, 'grow_policy': 'depthwise'}. Best is trial 56 with value: 0.5246048850574713.\n"
     ]
    },
    {
     "name": "stdout",
     "output_type": "stream",
     "text": [
      "[0]\tvalidation-mlogloss:1.35834\n",
      "[1]\tvalidation-mlogloss:1.33298\n",
      "[2]\tvalidation-mlogloss:1.31103\n",
      "[3]\tvalidation-mlogloss:1.29082\n",
      "[4]\tvalidation-mlogloss:1.27275\n",
      "[5]\tvalidation-mlogloss:1.25637\n",
      "[6]\tvalidation-mlogloss:1.24114\n",
      "[7]\tvalidation-mlogloss:1.22708\n",
      "[8]\tvalidation-mlogloss:1.21485\n",
      "[9]\tvalidation-mlogloss:1.20318\n"
     ]
    },
    {
     "name": "stderr",
     "output_type": "stream",
     "text": [
      "[I 2024-04-25 23:55:27,457] Trial 59 finished with value: 0.5053879310344828 and parameters: {'booster': 'gbtree', 'lambda': 0.4228321262321839, 'alpha': 0.0007080312754817333, 'max_depth': 8, 'eta': 0.08197116606579115, 'gamma': 1.0753641242490278e-08, 'grow_policy': 'depthwise'}. Best is trial 56 with value: 0.5246048850574713.\n"
     ]
    },
    {
     "name": "stdout",
     "output_type": "stream",
     "text": [
      "[0]\tvalidation-mlogloss:1.24265\n",
      "[1]\tvalidation-mlogloss:1.17230\n",
      "[2]\tvalidation-mlogloss:1.12353\n",
      "[3]\tvalidation-mlogloss:1.09328\n",
      "[4]\tvalidation-mlogloss:1.07331\n",
      "[5]\tvalidation-mlogloss:1.06103\n",
      "[6]\tvalidation-mlogloss:1.04908\n",
      "[7]\tvalidation-mlogloss:1.04108\n",
      "[8]\tvalidation-mlogloss:1.03678\n",
      "[9]\tvalidation-mlogloss:1.03351\n"
     ]
    },
    {
     "name": "stderr",
     "output_type": "stream",
     "text": [
      "[I 2024-04-25 23:55:28,912] Trial 60 finished with value: 0.5264008620689655 and parameters: {'booster': 'gbtree', 'lambda': 0.25882678811740706, 'alpha': 0.003411528632677434, 'max_depth': 8, 'eta': 0.5035270375224292, 'gamma': 2.254466704554211e-08, 'grow_policy': 'depthwise'}. Best is trial 60 with value: 0.5264008620689655.\n"
     ]
    },
    {
     "name": "stdout",
     "output_type": "stream",
     "text": [
      "[0]\tvalidation-mlogloss:1.25922\n",
      "[1]\tvalidation-mlogloss:1.18921\n",
      "[2]\tvalidation-mlogloss:1.14219\n",
      "[3]\tvalidation-mlogloss:1.11068\n",
      "[4]\tvalidation-mlogloss:1.09007\n",
      "[5]\tvalidation-mlogloss:1.07398\n",
      "[6]\tvalidation-mlogloss:1.05996\n",
      "[7]\tvalidation-mlogloss:1.04997\n",
      "[8]\tvalidation-mlogloss:1.04273\n",
      "[9]\tvalidation-mlogloss:1.03801\n"
     ]
    },
    {
     "name": "stderr",
     "output_type": "stream",
     "text": [
      "[I 2024-04-25 23:55:30,305] Trial 61 finished with value: 0.5276580459770115 and parameters: {'booster': 'gbtree', 'lambda': 0.2460640671299142, 'alpha': 0.005998154646019949, 'max_depth': 8, 'eta': 0.430412157627629, 'gamma': 1.7524543865751965e-08, 'grow_policy': 'depthwise'}. Best is trial 61 with value: 0.5276580459770115.\n"
     ]
    },
    {
     "name": "stdout",
     "output_type": "stream",
     "text": [
      "[0]\tvalidation-mlogloss:1.25036\n",
      "[1]\tvalidation-mlogloss:1.18038\n",
      "[2]\tvalidation-mlogloss:1.13099\n",
      "[3]\tvalidation-mlogloss:1.09980\n",
      "[4]\tvalidation-mlogloss:1.08083\n",
      "[5]\tvalidation-mlogloss:1.06573\n",
      "[6]\tvalidation-mlogloss:1.05456\n",
      "[7]\tvalidation-mlogloss:1.04545\n",
      "[8]\tvalidation-mlogloss:1.04045\n",
      "[9]\tvalidation-mlogloss:1.03504\n"
     ]
    },
    {
     "name": "stderr",
     "output_type": "stream",
     "text": [
      "[I 2024-04-25 23:55:31,705] Trial 62 finished with value: 0.5276580459770115 and parameters: {'booster': 'gbtree', 'lambda': 0.22203939257730834, 'alpha': 0.0053719642073959085, 'max_depth': 8, 'eta': 0.46927072622187177, 'gamma': 2.5568106127003407e-08, 'grow_policy': 'depthwise'}. Best is trial 61 with value: 0.5276580459770115.\n"
     ]
    },
    {
     "name": "stdout",
     "output_type": "stream",
     "text": [
      "[0]\tvalidation-mlogloss:1.25210\n",
      "[1]\tvalidation-mlogloss:1.18150\n",
      "[2]\tvalidation-mlogloss:1.13386\n",
      "[3]\tvalidation-mlogloss:1.10363\n",
      "[4]\tvalidation-mlogloss:1.08127\n",
      "[5]\tvalidation-mlogloss:1.06566\n",
      "[6]\tvalidation-mlogloss:1.05567\n",
      "[7]\tvalidation-mlogloss:1.04552\n",
      "[8]\tvalidation-mlogloss:1.03884\n",
      "[9]\tvalidation-mlogloss:1.03430\n"
     ]
    },
    {
     "name": "stderr",
     "output_type": "stream",
     "text": [
      "[I 2024-04-25 23:55:33,087] Trial 63 finished with value: 0.5237068965517241 and parameters: {'booster': 'gbtree', 'lambda': 0.2824724583505352, 'alpha': 0.011872587820818768, 'max_depth': 8, 'eta': 0.4613763512414965, 'gamma': 1.7233566147779735e-08, 'grow_policy': 'depthwise'}. Best is trial 61 with value: 0.5276580459770115.\n"
     ]
    },
    {
     "name": "stdout",
     "output_type": "stream",
     "text": [
      "[0]\tvalidation-mlogloss:1.24153\n",
      "[1]\tvalidation-mlogloss:1.16831\n",
      "[2]\tvalidation-mlogloss:1.12435\n",
      "[3]\tvalidation-mlogloss:1.09323\n",
      "[4]\tvalidation-mlogloss:1.07373\n",
      "[5]\tvalidation-mlogloss:1.05817\n",
      "[6]\tvalidation-mlogloss:1.04762\n",
      "[7]\tvalidation-mlogloss:1.03845\n",
      "[8]\tvalidation-mlogloss:1.03307\n",
      "[9]\tvalidation-mlogloss:1.02845\n"
     ]
    },
    {
     "name": "stderr",
     "output_type": "stream",
     "text": [
      "[I 2024-04-25 23:55:34,622] Trial 64 finished with value: 0.5326867816091954 and parameters: {'booster': 'gbtree', 'lambda': 0.23903343842281297, 'alpha': 0.005059064373610345, 'max_depth': 9, 'eta': 0.4970780543652274, 'gamma': 1.1083178652926233e-08, 'grow_policy': 'depthwise'}. Best is trial 64 with value: 0.5326867816091954.\n"
     ]
    },
    {
     "name": "stdout",
     "output_type": "stream",
     "text": [
      "[0]\tvalidation-mlogloss:1.34988\n",
      "[1]\tvalidation-mlogloss:1.31835\n",
      "[2]\tvalidation-mlogloss:1.29145\n",
      "[3]\tvalidation-mlogloss:1.26696\n",
      "[4]\tvalidation-mlogloss:1.24600\n",
      "[5]\tvalidation-mlogloss:1.22646\n",
      "[6]\tvalidation-mlogloss:1.21000\n",
      "[7]\tvalidation-mlogloss:1.19459\n",
      "[8]\tvalidation-mlogloss:1.18032\n",
      "[9]\tvalidation-mlogloss:1.16787\n"
     ]
    },
    {
     "name": "stderr",
     "output_type": "stream",
     "text": [
      "[I 2024-04-25 23:55:36,142] Trial 65 finished with value: 0.5088002873563219 and parameters: {'booster': 'gbtree', 'lambda': 0.8920273502705768, 'alpha': 0.0063980203045088365, 'max_depth': 9, 'eta': 0.10523752365701107, 'gamma': 1.5908663590244512e-08, 'grow_policy': 'depthwise'}. Best is trial 64 with value: 0.5326867816091954.\n"
     ]
    },
    {
     "name": "stdout",
     "output_type": "stream",
     "text": [
      "[0]\tvalidation-mlogloss:1.23464\n",
      "[1]\tvalidation-mlogloss:1.16334\n",
      "[2]\tvalidation-mlogloss:1.11816\n",
      "[3]\tvalidation-mlogloss:1.09100\n",
      "[4]\tvalidation-mlogloss:1.06932\n",
      "[5]\tvalidation-mlogloss:1.05566\n",
      "[6]\tvalidation-mlogloss:1.04812\n",
      "[7]\tvalidation-mlogloss:1.04075\n",
      "[8]\tvalidation-mlogloss:1.03427\n",
      "[9]\tvalidation-mlogloss:1.03044\n"
     ]
    },
    {
     "name": "stderr",
     "output_type": "stream",
     "text": [
      "[I 2024-04-25 23:55:37,572] Trial 66 finished with value: 0.5226293103448276 and parameters: {'booster': 'gbtree', 'lambda': 0.23203459814540056, 'alpha': 0.020957767228352155, 'max_depth': 9, 'eta': 0.5298997271141223, 'gamma': 1.1322486979196995e-08, 'grow_policy': 'depthwise'}. Best is trial 64 with value: 0.5326867816091954.\n"
     ]
    },
    {
     "name": "stdout",
     "output_type": "stream",
     "text": [
      "[0]\tvalidation-mlogloss:1.34412\n",
      "[1]\tvalidation-mlogloss:1.30852\n",
      "[2]\tvalidation-mlogloss:1.27801\n",
      "[3]\tvalidation-mlogloss:1.25186\n",
      "[4]\tvalidation-mlogloss:1.22946\n",
      "[5]\tvalidation-mlogloss:1.20870\n",
      "[6]\tvalidation-mlogloss:1.19066\n",
      "[7]\tvalidation-mlogloss:1.17528\n",
      "[8]\tvalidation-mlogloss:1.16114\n",
      "[9]\tvalidation-mlogloss:1.14780\n"
     ]
    },
    {
     "name": "stderr",
     "output_type": "stream",
     "text": [
      "[I 2024-04-25 23:55:39,070] Trial 67 finished with value: 0.5118534482758621 and parameters: {'booster': 'gbtree', 'lambda': 0.49983268654629676, 'alpha': 0.0015444503322063683, 'max_depth': 9, 'eta': 0.12225366921307823, 'gamma': 5.1954385982733565e-08, 'grow_policy': 'depthwise'}. Best is trial 64 with value: 0.5326867816091954.\n"
     ]
    },
    {
     "name": "stdout",
     "output_type": "stream",
     "text": [
      "[0]\tvalidation-mlogloss:1.37936\n",
      "[1]\tvalidation-mlogloss:1.37262\n",
      "[2]\tvalidation-mlogloss:1.36608\n",
      "[3]\tvalidation-mlogloss:1.35972\n",
      "[4]\tvalidation-mlogloss:1.35348\n",
      "[5]\tvalidation-mlogloss:1.34743\n",
      "[6]\tvalidation-mlogloss:1.34159\n",
      "[7]\tvalidation-mlogloss:1.33589\n",
      "[8]\tvalidation-mlogloss:1.33033\n",
      "[9]\tvalidation-mlogloss:1.32498\n"
     ]
    },
    {
     "name": "stderr",
     "output_type": "stream",
     "text": [
      "[I 2024-04-25 23:55:40,461] Trial 68 finished with value: 0.4956896551724138 and parameters: {'booster': 'gbtree', 'lambda': 0.24787857490687684, 'alpha': 0.017381249021330668, 'max_depth': 8, 'eta': 0.01976552538125937, 'gamma': 1.013625122539763e-08, 'grow_policy': 'depthwise'}. Best is trial 64 with value: 0.5326867816091954.\n"
     ]
    },
    {
     "name": "stdout",
     "output_type": "stream",
     "text": [
      "[0]\tvalidation-mlogloss:1.38628\n",
      "[1]\tvalidation-mlogloss:1.38627\n",
      "[2]\tvalidation-mlogloss:1.38626\n",
      "[3]\tvalidation-mlogloss:1.38624\n",
      "[4]\tvalidation-mlogloss:1.38623\n",
      "[5]\tvalidation-mlogloss:1.38622\n",
      "[6]\tvalidation-mlogloss:1.38621\n",
      "[7]\tvalidation-mlogloss:1.38619\n",
      "[8]\tvalidation-mlogloss:1.38618\n",
      "[9]\tvalidation-mlogloss:1.38617\n"
     ]
    },
    {
     "name": "stderr",
     "output_type": "stream",
     "text": [
      "[I 2024-04-25 23:55:41,903] Trial 69 finished with value: 0.47826867816091956 and parameters: {'booster': 'gbtree', 'lambda': 0.9731225603192978, 'alpha': 0.10721578119811413, 'max_depth': 8, 'eta': 3.6242552219524803e-05, 'gamma': 0.007084030765792053, 'grow_policy': 'depthwise'}. Best is trial 64 with value: 0.5326867816091954.\n"
     ]
    },
    {
     "name": "stdout",
     "output_type": "stream",
     "text": [
      "[0]\tvalidation-mlogloss:1.36991\n",
      "[1]\tvalidation-mlogloss:1.35467\n",
      "[2]\tvalidation-mlogloss:1.34025\n",
      "[3]\tvalidation-mlogloss:1.32664\n",
      "[4]\tvalidation-mlogloss:1.31413\n",
      "[5]\tvalidation-mlogloss:1.30234\n",
      "[6]\tvalidation-mlogloss:1.29101\n",
      "[7]\tvalidation-mlogloss:1.28040\n",
      "[8]\tvalidation-mlogloss:1.27051\n",
      "[9]\tvalidation-mlogloss:1.26076\n"
     ]
    },
    {
     "name": "stderr",
     "output_type": "stream",
     "text": [
      "[I 2024-04-25 23:55:43,287] Trial 70 finished with value: 0.49982040229885055 and parameters: {'booster': 'gbtree', 'lambda': 0.049565268859035415, 'alpha': 0.0019460376549991954, 'max_depth': 9, 'eta': 0.045201207788872, 'gamma': 7.004570915351214e-08, 'grow_policy': 'depthwise'}. Best is trial 64 with value: 0.5326867816091954.\n"
     ]
    },
    {
     "name": "stdout",
     "output_type": "stream",
     "text": [
      "[0]\tvalidation-mlogloss:1.21081\n",
      "[1]\tvalidation-mlogloss:1.13407\n",
      "[2]\tvalidation-mlogloss:1.09387\n",
      "[3]\tvalidation-mlogloss:1.07215\n",
      "[4]\tvalidation-mlogloss:1.05591\n",
      "[5]\tvalidation-mlogloss:1.04865\n",
      "[6]\tvalidation-mlogloss:1.03840\n",
      "[7]\tvalidation-mlogloss:1.03674\n",
      "[8]\tvalidation-mlogloss:1.03351\n",
      "[9]\tvalidation-mlogloss:1.03017\n"
     ]
    },
    {
     "name": "stderr",
     "output_type": "stream",
     "text": [
      "[I 2024-04-25 23:55:44,839] Trial 71 finished with value: 0.5226293103448276 and parameters: {'booster': 'gbtree', 'lambda': 0.20431539103780189, 'alpha': 0.021753646281148103, 'max_depth': 9, 'eta': 0.6603245478638597, 'gamma': 1.6675582790512307e-08, 'grow_policy': 'depthwise'}. Best is trial 64 with value: 0.5326867816091954.\n"
     ]
    },
    {
     "name": "stdout",
     "output_type": "stream",
     "text": [
      "[0]\tvalidation-mlogloss:1.22372\n",
      "[1]\tvalidation-mlogloss:1.15241\n",
      "[2]\tvalidation-mlogloss:1.11280\n",
      "[3]\tvalidation-mlogloss:1.08667\n",
      "[4]\tvalidation-mlogloss:1.06796\n",
      "[5]\tvalidation-mlogloss:1.05433\n",
      "[6]\tvalidation-mlogloss:1.04736\n",
      "[7]\tvalidation-mlogloss:1.04113\n",
      "[8]\tvalidation-mlogloss:1.03728\n",
      "[9]\tvalidation-mlogloss:1.03601\n"
     ]
    },
    {
     "name": "stderr",
     "output_type": "stream",
     "text": [
      "[I 2024-04-25 23:55:46,269] Trial 72 finished with value: 0.5202945402298851 and parameters: {'booster': 'gbtree', 'lambda': 0.3228951187678005, 'alpha': 0.01117294997208475, 'max_depth': 8, 'eta': 0.5970796657202582, 'gamma': 1.043145535975011e-08, 'grow_policy': 'depthwise'}. Best is trial 64 with value: 0.5326867816091954.\n"
     ]
    },
    {
     "name": "stdout",
     "output_type": "stream",
     "text": [
      "[0]\tvalidation-mlogloss:1.34314\n",
      "[1]\tvalidation-mlogloss:1.30660\n",
      "[2]\tvalidation-mlogloss:1.27623\n",
      "[3]\tvalidation-mlogloss:1.24953\n",
      "[4]\tvalidation-mlogloss:1.22591\n",
      "[5]\tvalidation-mlogloss:1.20641\n",
      "[6]\tvalidation-mlogloss:1.18840\n",
      "[7]\tvalidation-mlogloss:1.17313\n",
      "[8]\tvalidation-mlogloss:1.15879\n",
      "[9]\tvalidation-mlogloss:1.14550\n"
     ]
    },
    {
     "name": "stderr",
     "output_type": "stream",
     "text": [
      "[I 2024-04-25 23:55:47,735] Trial 73 finished with value: 0.5138290229885057 and parameters: {'booster': 'gbtree', 'lambda': 0.4651986970250477, 'alpha': 0.08829076776074621, 'max_depth': 9, 'eta': 0.12535920763876127, 'gamma': 3.830944890708391e-08, 'grow_policy': 'depthwise'}. Best is trial 64 with value: 0.5326867816091954.\n"
     ]
    },
    {
     "name": "stdout",
     "output_type": "stream",
     "text": [
      "[0]\tvalidation-mlogloss:1.22665\n",
      "[1]\tvalidation-mlogloss:1.15516\n",
      "[2]\tvalidation-mlogloss:1.11353\n",
      "[3]\tvalidation-mlogloss:1.08845\n",
      "[4]\tvalidation-mlogloss:1.07159\n",
      "[5]\tvalidation-mlogloss:1.05672\n",
      "[6]\tvalidation-mlogloss:1.04769\n",
      "[7]\tvalidation-mlogloss:1.04127\n",
      "[8]\tvalidation-mlogloss:1.03933\n",
      "[9]\tvalidation-mlogloss:1.03709\n"
     ]
    },
    {
     "name": "stderr",
     "output_type": "stream",
     "text": [
      "[I 2024-04-25 23:55:49,180] Trial 74 finished with value: 0.5188577586206896 and parameters: {'booster': 'gbtree', 'lambda': 0.07780787301142895, 'alpha': 0.0005534805338612799, 'max_depth': 9, 'eta': 0.5678395912470672, 'gamma': 1.7924015138062996e-08, 'grow_policy': 'depthwise'}. Best is trial 64 with value: 0.5326867816091954.\n"
     ]
    },
    {
     "name": "stdout",
     "output_type": "stream",
     "text": [
      "[0]\tvalidation-mlogloss:1.16902\n",
      "[1]\tvalidation-mlogloss:1.11040\n",
      "[2]\tvalidation-mlogloss:1.08790\n",
      "[3]\tvalidation-mlogloss:1.07566\n",
      "[4]\tvalidation-mlogloss:1.06758\n",
      "[5]\tvalidation-mlogloss:1.06544\n",
      "[6]\tvalidation-mlogloss:1.06509\n",
      "[7]\tvalidation-mlogloss:1.06566\n",
      "[8]\tvalidation-mlogloss:1.06721\n",
      "[9]\tvalidation-mlogloss:1.06642\n"
     ]
    },
    {
     "name": "stderr",
     "output_type": "stream",
     "text": [
      "[I 2024-04-25 23:55:50,658] Trial 75 finished with value: 0.5190373563218391 and parameters: {'booster': 'gbtree', 'lambda': 0.1880950845907102, 'alpha': 0.043550336431691754, 'max_depth': 8, 'eta': 0.989028192652849, 'gamma': 7.067930650077089e-08, 'grow_policy': 'depthwise'}. Best is trial 64 with value: 0.5326867816091954.\n"
     ]
    },
    {
     "name": "stdout",
     "output_type": "stream",
     "text": [
      "[0]\tvalidation-mlogloss:1.33247\n",
      "[1]\tvalidation-mlogloss:1.28957\n",
      "[2]\tvalidation-mlogloss:1.25370\n",
      "[3]\tvalidation-mlogloss:1.22543\n",
      "[4]\tvalidation-mlogloss:1.20122\n",
      "[5]\tvalidation-mlogloss:1.18110\n",
      "[6]\tvalidation-mlogloss:1.16306\n",
      "[7]\tvalidation-mlogloss:1.14745\n",
      "[8]\tvalidation-mlogloss:1.13274\n",
      "[9]\tvalidation-mlogloss:1.12022\n"
     ]
    },
    {
     "name": "stderr",
     "output_type": "stream",
     "text": [
      "[I 2024-04-25 23:55:52,075] Trial 76 finished with value: 0.5149066091954023 and parameters: {'booster': 'gbtree', 'lambda': 0.6069766576117182, 'alpha': 0.0029424623004531874, 'max_depth': 8, 'eta': 0.1622832172299718, 'gamma': 2.0945052697580864e-05, 'grow_policy': 'depthwise'}. Best is trial 64 with value: 0.5326867816091954.\n"
     ]
    },
    {
     "name": "stdout",
     "output_type": "stream",
     "text": [
      "[0]\tvalidation-mlogloss:1.24795\n",
      "[1]\tvalidation-mlogloss:1.17523\n",
      "[2]\tvalidation-mlogloss:1.12954\n",
      "[3]\tvalidation-mlogloss:1.09586\n",
      "[4]\tvalidation-mlogloss:1.07354\n",
      "[5]\tvalidation-mlogloss:1.05879\n",
      "[6]\tvalidation-mlogloss:1.04537\n",
      "[7]\tvalidation-mlogloss:1.03662\n",
      "[8]\tvalidation-mlogloss:1.03161\n",
      "[9]\tvalidation-mlogloss:1.02799\n"
     ]
    },
    {
     "name": "stderr",
     "output_type": "stream",
     "text": [
      "[I 2024-04-25 23:55:53,602] Trial 77 finished with value: 0.5301724137931034 and parameters: {'booster': 'gbtree', 'lambda': 0.00033773804265994326, 'alpha': 0.2053611542993548, 'max_depth': 9, 'eta': 0.4682097482615926, 'gamma': 3.992522940251364e-08, 'grow_policy': 'depthwise'}. Best is trial 64 with value: 0.5326867816091954.\n"
     ]
    },
    {
     "name": "stdout",
     "output_type": "stream",
     "text": [
      "[0]\tvalidation-mlogloss:1.30647\n",
      "[1]\tvalidation-mlogloss:1.26505\n",
      "[2]\tvalidation-mlogloss:1.24186\n",
      "[3]\tvalidation-mlogloss:1.22836\n",
      "[4]\tvalidation-mlogloss:1.22033\n",
      "[5]\tvalidation-mlogloss:1.21553\n",
      "[6]\tvalidation-mlogloss:1.21265\n",
      "[7]\tvalidation-mlogloss:1.21094\n",
      "[8]\tvalidation-mlogloss:1.20992\n",
      "[9]\tvalidation-mlogloss:1.20932\n"
     ]
    },
    {
     "name": "stderr",
     "output_type": "stream",
     "text": [
      "[I 2024-04-25 23:55:54,908] Trial 78 finished with value: 0.38739224137931033 and parameters: {'booster': 'gblinear', 'lambda': 0.0002885235413536757, 'alpha': 0.5730649393627819}. Best is trial 64 with value: 0.5326867816091954.\n"
     ]
    },
    {
     "name": "stdout",
     "output_type": "stream",
     "text": [
      "[0]\tvalidation-mlogloss:1.36335\n",
      "[1]\tvalidation-mlogloss:1.34252\n",
      "[2]\tvalidation-mlogloss:1.32381\n",
      "[3]\tvalidation-mlogloss:1.30668\n",
      "[4]\tvalidation-mlogloss:1.29038\n",
      "[5]\tvalidation-mlogloss:1.27553\n",
      "[6]\tvalidation-mlogloss:1.26165\n",
      "[7]\tvalidation-mlogloss:1.24888\n",
      "[8]\tvalidation-mlogloss:1.23728\n",
      "[9]\tvalidation-mlogloss:1.22635\n"
     ]
    },
    {
     "name": "stderr",
     "output_type": "stream",
     "text": [
      "[I 2024-04-25 23:55:56,482] Trial 79 finished with value: 0.5055675287356322 and parameters: {'booster': 'gbtree', 'lambda': 0.06833090030669825, 'alpha': 0.0004341557130435475, 'max_depth': 8, 'eta': 0.06608523920042587, 'gamma': 4.3820466419931514e-07, 'grow_policy': 'depthwise'}. Best is trial 64 with value: 0.5326867816091954.\n"
     ]
    },
    {
     "name": "stdout",
     "output_type": "stream",
     "text": [
      "[0]\tvalidation-mlogloss:1.24533\n",
      "[1]\tvalidation-mlogloss:1.17002\n",
      "[2]\tvalidation-mlogloss:1.12688\n",
      "[3]\tvalidation-mlogloss:1.09696\n",
      "[4]\tvalidation-mlogloss:1.07814\n",
      "[5]\tvalidation-mlogloss:1.05967\n",
      "[6]\tvalidation-mlogloss:1.04824\n",
      "[7]\tvalidation-mlogloss:1.04069\n",
      "[8]\tvalidation-mlogloss:1.03705\n",
      "[9]\tvalidation-mlogloss:1.03146\n"
     ]
    },
    {
     "name": "stderr",
     "output_type": "stream",
     "text": [
      "[I 2024-04-25 23:55:58,284] Trial 80 finished with value: 0.5251436781609196 and parameters: {'booster': 'gbtree', 'lambda': 0.007665220405151649, 'alpha': 0.26762742492524166, 'max_depth': 9, 'eta': 0.48486260445326523, 'gamma': 3.457981352404938e-08, 'grow_policy': 'depthwise'}. Best is trial 64 with value: 0.5326867816091954.\n"
     ]
    },
    {
     "name": "stdout",
     "output_type": "stream",
     "text": [
      "[0]\tvalidation-mlogloss:1.24845\n",
      "[1]\tvalidation-mlogloss:1.17477\n",
      "[2]\tvalidation-mlogloss:1.12758\n",
      "[3]\tvalidation-mlogloss:1.09564\n",
      "[4]\tvalidation-mlogloss:1.07275\n",
      "[5]\tvalidation-mlogloss:1.05867\n",
      "[6]\tvalidation-mlogloss:1.04538\n",
      "[7]\tvalidation-mlogloss:1.03855\n",
      "[8]\tvalidation-mlogloss:1.03279\n",
      "[9]\tvalidation-mlogloss:1.02827\n"
     ]
    },
    {
     "name": "stderr",
     "output_type": "stream",
     "text": [
      "[I 2024-04-25 23:55:59,791] Trial 81 finished with value: 0.5237068965517241 and parameters: {'booster': 'gbtree', 'lambda': 0.0008297194149391364, 'alpha': 0.3014084672979704, 'max_depth': 9, 'eta': 0.4727120720610238, 'gamma': 3.072186081472009e-08, 'grow_policy': 'depthwise'}. Best is trial 64 with value: 0.5326867816091954.\n"
     ]
    },
    {
     "name": "stdout",
     "output_type": "stream",
     "text": [
      "[0]\tvalidation-mlogloss:1.32723\n",
      "[1]\tvalidation-mlogloss:1.28140\n",
      "[2]\tvalidation-mlogloss:1.24324\n",
      "[3]\tvalidation-mlogloss:1.21267\n",
      "[4]\tvalidation-mlogloss:1.18680\n",
      "[5]\tvalidation-mlogloss:1.16535\n",
      "[6]\tvalidation-mlogloss:1.14617\n",
      "[7]\tvalidation-mlogloss:1.13174\n",
      "[8]\tvalidation-mlogloss:1.11735\n",
      "[9]\tvalidation-mlogloss:1.10317\n"
     ]
    },
    {
     "name": "stderr",
     "output_type": "stream",
     "text": [
      "[I 2024-04-25 23:56:01,359] Trial 82 finished with value: 0.5260416666666666 and parameters: {'booster': 'gbtree', 'lambda': 0.0057052601693886205, 'alpha': 0.1843762220267606, 'max_depth': 9, 'eta': 0.1728883944044427, 'gamma': 1.005195697640487e-07, 'grow_policy': 'depthwise'}. Best is trial 64 with value: 0.5326867816091954.\n"
     ]
    },
    {
     "name": "stdout",
     "output_type": "stream",
     "text": [
      "[0]\tvalidation-mlogloss:1.32966\n",
      "[1]\tvalidation-mlogloss:1.28549\n",
      "[2]\tvalidation-mlogloss:1.24902\n",
      "[3]\tvalidation-mlogloss:1.21996\n",
      "[4]\tvalidation-mlogloss:1.19507\n",
      "[5]\tvalidation-mlogloss:1.17373\n",
      "[6]\tvalidation-mlogloss:1.15594\n",
      "[7]\tvalidation-mlogloss:1.13979\n",
      "[8]\tvalidation-mlogloss:1.12467\n",
      "[9]\tvalidation-mlogloss:1.11162\n"
     ]
    },
    {
     "name": "stderr",
     "output_type": "stream",
     "text": [
      "[I 2024-04-25 23:56:02,792] Trial 83 finished with value: 0.5167025862068966 and parameters: {'booster': 'gbtree', 'lambda': 0.004456930492580005, 'alpha': 0.051655376489686176, 'max_depth': 9, 'eta': 0.16444004312872057, 'gamma': 9.251901738635664e-08, 'grow_policy': 'depthwise'}. Best is trial 64 with value: 0.5326867816091954.\n"
     ]
    },
    {
     "name": "stdout",
     "output_type": "stream",
     "text": [
      "[0]\tvalidation-mlogloss:1.32329\n",
      "[1]\tvalidation-mlogloss:1.27555\n",
      "[2]\tvalidation-mlogloss:1.23672\n",
      "[3]\tvalidation-mlogloss:1.20523\n",
      "[4]\tvalidation-mlogloss:1.17938\n",
      "[5]\tvalidation-mlogloss:1.15735\n",
      "[6]\tvalidation-mlogloss:1.13952\n",
      "[7]\tvalidation-mlogloss:1.12371\n",
      "[8]\tvalidation-mlogloss:1.10800\n",
      "[9]\tvalidation-mlogloss:1.09409\n"
     ]
    },
    {
     "name": "stderr",
     "output_type": "stream",
     "text": [
      "[I 2024-04-25 23:56:04,378] Trial 84 finished with value: 0.5233477011494253 and parameters: {'booster': 'gbtree', 'lambda': 0.022058278278809934, 'alpha': 0.3329687846918241, 'max_depth': 9, 'eta': 0.18805237456774065, 'gamma': 4.241693773645496e-08, 'grow_policy': 'depthwise'}. Best is trial 64 with value: 0.5326867816091954.\n"
     ]
    },
    {
     "name": "stdout",
     "output_type": "stream",
     "text": [
      "[0]\tvalidation-mlogloss:1.37589\n",
      "[1]\tvalidation-mlogloss:1.36604\n",
      "[2]\tvalidation-mlogloss:1.35650\n",
      "[3]\tvalidation-mlogloss:1.34741\n",
      "[4]\tvalidation-mlogloss:1.33849\n",
      "[5]\tvalidation-mlogloss:1.33020\n",
      "[6]\tvalidation-mlogloss:1.32213\n",
      "[7]\tvalidation-mlogloss:1.31434\n",
      "[8]\tvalidation-mlogloss:1.30673\n",
      "[9]\tvalidation-mlogloss:1.29936\n"
     ]
    },
    {
     "name": "stderr",
     "output_type": "stream",
     "text": [
      "[I 2024-04-25 23:56:05,809] Trial 85 finished with value: 0.4956896551724138 and parameters: {'booster': 'gbtree', 'lambda': 8.723555655614351e-05, 'alpha': 0.1981733050068945, 'max_depth': 9, 'eta': 0.02868881741042539, 'gamma': 1.1427078433293894e-07, 'grow_policy': 'depthwise'}. Best is trial 64 with value: 0.5326867816091954.\n"
     ]
    },
    {
     "name": "stdout",
     "output_type": "stream",
     "text": [
      "[0]\tvalidation-mlogloss:1.26884\n",
      "[1]\tvalidation-mlogloss:1.21440\n",
      "[2]\tvalidation-mlogloss:1.18553\n",
      "[3]\tvalidation-mlogloss:1.16986\n",
      "[4]\tvalidation-mlogloss:1.15970\n",
      "[5]\tvalidation-mlogloss:1.15333\n",
      "[6]\tvalidation-mlogloss:1.14742\n",
      "[7]\tvalidation-mlogloss:1.14234\n",
      "[8]\tvalidation-mlogloss:1.13783\n",
      "[9]\tvalidation-mlogloss:1.13388\n"
     ]
    },
    {
     "name": "stderr",
     "output_type": "stream",
     "text": [
      "[I 2024-04-25 23:56:07,094] Trial 86 finished with value: 0.4694683908045977 and parameters: {'booster': 'gbtree', 'lambda': 0.0006985299556528219, 'alpha': 4.122716411659283e-05, 'max_depth': 1, 'eta': 0.6601334811879886, 'gamma': 6.023431478899724e-08, 'grow_policy': 'depthwise'}. Best is trial 64 with value: 0.5326867816091954.\n"
     ]
    },
    {
     "name": "stdout",
     "output_type": "stream",
     "text": [
      "[0]\tvalidation-mlogloss:1.18302\n",
      "[1]\tvalidation-mlogloss:1.12479\n",
      "[2]\tvalidation-mlogloss:1.09754\n",
      "[3]\tvalidation-mlogloss:1.08147\n",
      "[4]\tvalidation-mlogloss:1.07474\n",
      "[5]\tvalidation-mlogloss:1.06798\n",
      "[6]\tvalidation-mlogloss:1.07156\n",
      "[7]\tvalidation-mlogloss:1.07141\n",
      "[8]\tvalidation-mlogloss:1.07447\n",
      "[9]\tvalidation-mlogloss:1.08044\n"
     ]
    },
    {
     "name": "stderr",
     "output_type": "stream",
     "text": [
      "[I 2024-04-25 23:56:08,581] Trial 87 finished with value: 0.5061063218390804 and parameters: {'booster': 'gbtree', 'lambda': 4.382539349784649e-05, 'alpha': 0.004113895299353643, 'max_depth': 9, 'eta': 0.8999384512798922, 'gamma': 0.00022617719709813205, 'grow_policy': 'depthwise'}. Best is trial 64 with value: 0.5326867816091954.\n"
     ]
    },
    {
     "name": "stdout",
     "output_type": "stream",
     "text": [
      "[0]\tvalidation-mlogloss:1.20250\n",
      "[1]\tvalidation-mlogloss:1.15147\n",
      "[2]\tvalidation-mlogloss:1.12896\n",
      "[3]\tvalidation-mlogloss:1.11724\n",
      "[4]\tvalidation-mlogloss:1.11108\n",
      "[5]\tvalidation-mlogloss:1.10742\n",
      "[6]\tvalidation-mlogloss:1.10519\n",
      "[7]\tvalidation-mlogloss:1.10367\n",
      "[8]\tvalidation-mlogloss:1.10258\n",
      "[9]\tvalidation-mlogloss:1.10179\n"
     ]
    },
    {
     "name": "stderr",
     "output_type": "stream",
     "text": [
      "[I 2024-04-25 23:56:09,923] Trial 88 finished with value: 0.4894037356321839 and parameters: {'booster': 'gblinear', 'lambda': 0.0015749130225286088, 'alpha': 0.0011573232519027851}. Best is trial 64 with value: 0.5326867816091954.\n"
     ]
    },
    {
     "name": "stdout",
     "output_type": "stream",
     "text": [
      "[0]\tvalidation-mlogloss:1.35639\n",
      "[1]\tvalidation-mlogloss:1.32996\n",
      "[2]\tvalidation-mlogloss:1.30687\n",
      "[3]\tvalidation-mlogloss:1.28573\n",
      "[4]\tvalidation-mlogloss:1.26722\n",
      "[5]\tvalidation-mlogloss:1.25003\n",
      "[6]\tvalidation-mlogloss:1.23495\n",
      "[7]\tvalidation-mlogloss:1.22130\n",
      "[8]\tvalidation-mlogloss:1.20809\n",
      "[9]\tvalidation-mlogloss:1.19671\n"
     ]
    },
    {
     "name": "stderr",
     "output_type": "stream",
     "text": [
      "[I 2024-04-25 23:56:11,330] Trial 89 finished with value: 0.5037715517241379 and parameters: {'booster': 'gbtree', 'lambda': 0.007868528196728411, 'alpha': 0.7308526624059297, 'max_depth': 8, 'eta': 0.08802309559860362, 'gamma': 1.3867369293746016e-07, 'grow_policy': 'depthwise'}. Best is trial 64 with value: 0.5326867816091954.\n"
     ]
    },
    {
     "name": "stdout",
     "output_type": "stream",
     "text": [
      "[0]\tvalidation-mlogloss:1.26831\n",
      "[1]\tvalidation-mlogloss:1.20067\n",
      "[2]\tvalidation-mlogloss:1.15466\n",
      "[3]\tvalidation-mlogloss:1.12221\n",
      "[4]\tvalidation-mlogloss:1.09589\n",
      "[5]\tvalidation-mlogloss:1.07732\n",
      "[6]\tvalidation-mlogloss:1.06260\n",
      "[7]\tvalidation-mlogloss:1.05249\n",
      "[8]\tvalidation-mlogloss:1.04181\n",
      "[9]\tvalidation-mlogloss:1.03432\n"
     ]
    },
    {
     "name": "stderr",
     "output_type": "stream",
     "text": [
      "[I 2024-04-25 23:56:12,825] Trial 90 finished with value: 0.5290948275862069 and parameters: {'booster': 'gbtree', 'lambda': 0.0003742843619938232, 'alpha': 0.15741038433174812, 'max_depth': 9, 'eta': 0.3797522139738168, 'gamma': 9.006606989322385e-07, 'grow_policy': 'depthwise'}. Best is trial 64 with value: 0.5326867816091954.\n"
     ]
    },
    {
     "name": "stdout",
     "output_type": "stream",
     "text": [
      "[0]\tvalidation-mlogloss:1.26680\n",
      "[1]\tvalidation-mlogloss:1.19648\n",
      "[2]\tvalidation-mlogloss:1.15494\n",
      "[3]\tvalidation-mlogloss:1.12126\n",
      "[4]\tvalidation-mlogloss:1.09608\n",
      "[5]\tvalidation-mlogloss:1.08069\n",
      "[6]\tvalidation-mlogloss:1.06646\n",
      "[7]\tvalidation-mlogloss:1.05469\n",
      "[8]\tvalidation-mlogloss:1.04658\n",
      "[9]\tvalidation-mlogloss:1.03943\n"
     ]
    },
    {
     "name": "stderr",
     "output_type": "stream",
     "text": [
      "[I 2024-04-25 23:56:14,349] Trial 91 finished with value: 0.5226293103448276 and parameters: {'booster': 'gbtree', 'lambda': 0.15086004637224804, 'alpha': 0.1610313767274497, 'max_depth': 9, 'eta': 0.39106623484918135, 'gamma': 9.490525749184032e-07, 'grow_policy': 'depthwise'}. Best is trial 64 with value: 0.5326867816091954.\n"
     ]
    },
    {
     "name": "stdout",
     "output_type": "stream",
     "text": [
      "[0]\tvalidation-mlogloss:1.32487\n",
      "[1]\tvalidation-mlogloss:1.27834\n",
      "[2]\tvalidation-mlogloss:1.24043\n",
      "[3]\tvalidation-mlogloss:1.20991\n",
      "[4]\tvalidation-mlogloss:1.18401\n",
      "[5]\tvalidation-mlogloss:1.16275\n",
      "[6]\tvalidation-mlogloss:1.14400\n",
      "[7]\tvalidation-mlogloss:1.12844\n",
      "[8]\tvalidation-mlogloss:1.11385\n",
      "[9]\tvalidation-mlogloss:1.09968\n"
     ]
    },
    {
     "name": "stderr",
     "output_type": "stream",
     "text": [
      "[I 2024-04-25 23:56:15,792] Trial 92 finished with value: 0.5201149425287356 and parameters: {'booster': 'gbtree', 'lambda': 0.0003267464151754158, 'alpha': 0.0077880603874663735, 'max_depth': 9, 'eta': 0.17999869821807338, 'gamma': 3.361203789010331e-08, 'grow_policy': 'depthwise'}. Best is trial 64 with value: 0.5326867816091954.\n"
     ]
    },
    {
     "name": "stdout",
     "output_type": "stream",
     "text": [
      "[0]\tvalidation-mlogloss:1.27336\n",
      "[1]\tvalidation-mlogloss:1.20718\n",
      "[2]\tvalidation-mlogloss:1.16064\n",
      "[3]\tvalidation-mlogloss:1.12927\n",
      "[4]\tvalidation-mlogloss:1.10534\n",
      "[5]\tvalidation-mlogloss:1.08759\n",
      "[6]\tvalidation-mlogloss:1.07331\n",
      "[7]\tvalidation-mlogloss:1.06198\n",
      "[8]\tvalidation-mlogloss:1.05122\n",
      "[9]\tvalidation-mlogloss:1.04444\n"
     ]
    },
    {
     "name": "stderr",
     "output_type": "stream",
     "text": [
      "[I 2024-04-25 23:56:17,263] Trial 93 finished with value: 0.5226293103448276 and parameters: {'booster': 'gbtree', 'lambda': 0.00035540795023306234, 'alpha': 0.04202742817017966, 'max_depth': 8, 'eta': 0.3699279039237091, 'gamma': 4.1397159669969396e-07, 'grow_policy': 'depthwise'}. Best is trial 64 with value: 0.5326867816091954.\n"
     ]
    },
    {
     "name": "stdout",
     "output_type": "stream",
     "text": [
      "[0]\tvalidation-mlogloss:1.32441\n",
      "[1]\tvalidation-mlogloss:1.27730\n",
      "[2]\tvalidation-mlogloss:1.23918\n",
      "[3]\tvalidation-mlogloss:1.20704\n",
      "[4]\tvalidation-mlogloss:1.18231\n",
      "[5]\tvalidation-mlogloss:1.16142\n",
      "[6]\tvalidation-mlogloss:1.14249\n",
      "[7]\tvalidation-mlogloss:1.12702\n",
      "[8]\tvalidation-mlogloss:1.11175\n",
      "[9]\tvalidation-mlogloss:1.09991\n"
     ]
    },
    {
     "name": "stderr",
     "output_type": "stream",
     "text": [
      "[I 2024-04-25 23:56:18,734] Trial 94 finished with value: 0.5226293103448276 and parameters: {'booster': 'gbtree', 'lambda': 0.000149980673962577, 'alpha': 0.8718352728202067, 'max_depth': 9, 'eta': 0.18741338423570675, 'gamma': 1.5834407389128807e-08, 'grow_policy': 'depthwise'}. Best is trial 64 with value: 0.5326867816091954.\n"
     ]
    },
    {
     "name": "stdout",
     "output_type": "stream",
     "text": [
      "[0]\tvalidation-mlogloss:1.17428\n",
      "[1]\tvalidation-mlogloss:1.11436\n",
      "[2]\tvalidation-mlogloss:1.09073\n",
      "[3]\tvalidation-mlogloss:1.07662\n",
      "[4]\tvalidation-mlogloss:1.07538\n",
      "[5]\tvalidation-mlogloss:1.07314\n",
      "[6]\tvalidation-mlogloss:1.07384\n",
      "[7]\tvalidation-mlogloss:1.07338\n",
      "[8]\tvalidation-mlogloss:1.07439\n",
      "[9]\tvalidation-mlogloss:1.07295\n"
     ]
    },
    {
     "name": "stderr",
     "output_type": "stream",
     "text": [
      "[I 2024-04-25 23:56:20,240] Trial 95 finished with value: 0.5100574712643678 and parameters: {'booster': 'gbtree', 'lambda': 0.0042828104630614735, 'alpha': 0.002686407194918186, 'max_depth': 8, 'eta': 0.9547159286404238, 'gamma': 5.827064988911391e-08, 'grow_policy': 'depthwise'}. Best is trial 64 with value: 0.5326867816091954.\n"
     ]
    },
    {
     "name": "stdout",
     "output_type": "stream",
     "text": [
      "[0]\tvalidation-mlogloss:1.26072\n",
      "[1]\tvalidation-mlogloss:1.18950\n",
      "[2]\tvalidation-mlogloss:1.14553\n",
      "[3]\tvalidation-mlogloss:1.11099\n",
      "[4]\tvalidation-mlogloss:1.08834\n",
      "[5]\tvalidation-mlogloss:1.07164\n",
      "[6]\tvalidation-mlogloss:1.05930\n",
      "[7]\tvalidation-mlogloss:1.04826\n",
      "[8]\tvalidation-mlogloss:1.04222\n",
      "[9]\tvalidation-mlogloss:1.03747\n"
     ]
    },
    {
     "name": "stderr",
     "output_type": "stream",
     "text": [
      "[I 2024-04-25 23:56:21,714] Trial 96 finished with value: 0.5244252873563219 and parameters: {'booster': 'gbtree', 'lambda': 0.0013132094137375996, 'alpha': 0.12288354673591288, 'max_depth': 9, 'eta': 0.4110299591985518, 'gamma': 3.0028429104639635e-08, 'grow_policy': 'depthwise'}. Best is trial 64 with value: 0.5326867816091954.\n"
     ]
    },
    {
     "name": "stdout",
     "output_type": "stream",
     "text": [
      "[0]\tvalidation-mlogloss:1.38629\n",
      "[1]\tvalidation-mlogloss:1.38629\n",
      "[2]\tvalidation-mlogloss:1.38629\n",
      "[3]\tvalidation-mlogloss:1.38629\n",
      "[4]\tvalidation-mlogloss:1.38629\n",
      "[5]\tvalidation-mlogloss:1.38629\n",
      "[6]\tvalidation-mlogloss:1.38629\n",
      "[7]\tvalidation-mlogloss:1.38629\n",
      "[8]\tvalidation-mlogloss:1.38629\n",
      "[9]\tvalidation-mlogloss:1.38629\n"
     ]
    },
    {
     "name": "stderr",
     "output_type": "stream",
     "text": [
      "[I 2024-04-25 23:56:23,326] Trial 97 finished with value: 0.4608477011494253 and parameters: {'booster': 'gbtree', 'lambda': 0.0005660781653717244, 'alpha': 0.17092886510661406, 'max_depth': 9, 'eta': 6.606543807295743e-08, 'gamma': 3.3058755941436605e-08, 'grow_policy': 'depthwise'}. Best is trial 64 with value: 0.5326867816091954.\n"
     ]
    },
    {
     "name": "stdout",
     "output_type": "stream",
     "text": [
      "[0]\tvalidation-mlogloss:1.36404\n",
      "[1]\tvalidation-mlogloss:1.34377\n",
      "[2]\tvalidation-mlogloss:1.32499\n",
      "[3]\tvalidation-mlogloss:1.30813\n",
      "[4]\tvalidation-mlogloss:1.29206\n",
      "[5]\tvalidation-mlogloss:1.27706\n",
      "[6]\tvalidation-mlogloss:1.26338\n",
      "[7]\tvalidation-mlogloss:1.25057\n",
      "[8]\tvalidation-mlogloss:1.23835\n",
      "[9]\tvalidation-mlogloss:1.22688\n"
     ]
    },
    {
     "name": "stderr",
     "output_type": "stream",
     "text": [
      "[I 2024-04-25 23:56:24,825] Trial 98 finished with value: 0.5062859195402298 and parameters: {'booster': 'gbtree', 'lambda': 0.0015599275019415422, 'alpha': 0.26819679636483834, 'max_depth': 9, 'eta': 0.0627848378681234, 'gamma': 1.7680868234903945e-07, 'grow_policy': 'depthwise'}. Best is trial 64 with value: 0.5326867816091954.\n"
     ]
    },
    {
     "name": "stdout",
     "output_type": "stream",
     "text": [
      "[0]\tvalidation-mlogloss:1.32318\n",
      "[1]\tvalidation-mlogloss:1.27893\n",
      "[2]\tvalidation-mlogloss:1.24586\n",
      "[3]\tvalidation-mlogloss:1.22063\n",
      "[4]\tvalidation-mlogloss:1.20100\n",
      "[5]\tvalidation-mlogloss:1.18589\n",
      "[6]\tvalidation-mlogloss:1.17445\n",
      "[7]\tvalidation-mlogloss:1.16460\n",
      "[8]\tvalidation-mlogloss:1.15598\n",
      "[9]\tvalidation-mlogloss:1.14969\n"
     ]
    },
    {
     "name": "stderr",
     "output_type": "stream",
     "text": [
      "[I 2024-04-25 23:56:26,156] Trial 99 finished with value: 0.46551724137931033 and parameters: {'booster': 'gbtree', 'lambda': 0.0018703030446659925, 'alpha': 0.06021333412421024, 'max_depth': 2, 'eta': 0.2675606666543273, 'gamma': 3.275853103909111e-07, 'grow_policy': 'depthwise'}. Best is trial 64 with value: 0.5326867816091954.\n"
     ]
    },
    {
     "name": "stdout",
     "output_type": "stream",
     "text": [
      "Best trial: {'booster': 'gbtree', 'lambda': 0.23903343842281297, 'alpha': 0.005059064373610345, 'max_depth': 9, 'eta': 0.4970780543652274, 'gamma': 1.1083178652926233e-08, 'grow_policy': 'depthwise'}\n"
     ]
    },
    {
     "ename": "FileNotFoundError",
     "evalue": "[Errno 2] No such file or directory: './models/xgb_optuna_model.joblib'",
     "output_type": "error",
     "traceback": [
      "\u001b[0;31m---------------------------------------------------------------------------\u001b[0m",
      "\u001b[0;31mFileNotFoundError\u001b[0m                         Traceback (most recent call last)",
      "Cell \u001b[0;32mIn[6], line 13\u001b[0m\n\u001b[1;32m     10\u001b[0m final_model\u001b[38;5;241m.\u001b[39mfit(X_train_transformed, y_train)\n\u001b[1;32m     12\u001b[0m \u001b[38;5;66;03m# Save the model\u001b[39;00m\n\u001b[0;32m---> 13\u001b[0m \u001b[43mjoblib\u001b[49m\u001b[38;5;241;43m.\u001b[39;49m\u001b[43mdump\u001b[49m\u001b[43m(\u001b[49m\u001b[43mfinal_model\u001b[49m\u001b[43m,\u001b[49m\u001b[43m \u001b[49m\u001b[38;5;124;43m\"\u001b[39;49m\u001b[38;5;124;43m./models/xgb_optuna_model.joblib\u001b[39;49m\u001b[38;5;124;43m\"\u001b[39;49m\u001b[43m)\u001b[49m\n",
      "File \u001b[0;32m~/Library/CloudStorage/OneDrive-Personal/MMA/2024WINTER1/INSY695/Spotify-Music/.venv/lib/python3.11/site-packages/joblib/numpy_pickle.py:552\u001b[0m, in \u001b[0;36mdump\u001b[0;34m(value, filename, compress, protocol, cache_size)\u001b[0m\n\u001b[1;32m    550\u001b[0m         NumpyPickler(f, protocol\u001b[38;5;241m=\u001b[39mprotocol)\u001b[38;5;241m.\u001b[39mdump(value)\n\u001b[1;32m    551\u001b[0m \u001b[38;5;28;01melif\u001b[39;00m is_filename:\n\u001b[0;32m--> 552\u001b[0m     \u001b[38;5;28;01mwith\u001b[39;00m \u001b[38;5;28;43mopen\u001b[39;49m\u001b[43m(\u001b[49m\u001b[43mfilename\u001b[49m\u001b[43m,\u001b[49m\u001b[43m \u001b[49m\u001b[38;5;124;43m'\u001b[39;49m\u001b[38;5;124;43mwb\u001b[39;49m\u001b[38;5;124;43m'\u001b[39;49m\u001b[43m)\u001b[49m \u001b[38;5;28;01mas\u001b[39;00m f:\n\u001b[1;32m    553\u001b[0m         NumpyPickler(f, protocol\u001b[38;5;241m=\u001b[39mprotocol)\u001b[38;5;241m.\u001b[39mdump(value)\n\u001b[1;32m    554\u001b[0m \u001b[38;5;28;01melse\u001b[39;00m:\n",
      "\u001b[0;31mFileNotFoundError\u001b[0m: [Errno 2] No such file or directory: './models/xgb_optuna_model.joblib'"
     ]
    }
   ],
   "source": [
    "study = optuna.create_study(direction=\"maximize\")\n",
    "study.optimize(objective, n_trials=100)\n",
    "\n",
    "best_params = study.best_trial.params\n",
    "print(\"Best trial:\", study.best_trial.params)\n",
    "\n",
    "\n",
    "# Train final model with adjusted labels\n",
    "final_model = xgb.XGBClassifier(**best_params)\n",
    "final_model.fit(X_train_transformed, y_train)\n",
    "\n",
    "# Save the model\n",
    "joblib.dump(final_model, \"./models/xgb_optuna_model.joblib\")"
   ]
  },
  {
   "cell_type": "markdown",
   "metadata": {},
   "source": [
    "## PyTorch Lightning Model"
   ]
  },
  {
   "cell_type": "code",
   "execution_count": 29,
   "metadata": {},
   "outputs": [
    {
     "name": "stderr",
     "output_type": "stream",
     "text": [
      "[I 2024-04-24 11:40:42,570] A new study created in memory with name: no-name-183805b1-f55a-488a-bc02-4f80f5f9f7dd\n"
     ]
    },
    {
     "name": "stderr",
     "output_type": "stream",
     "text": [
      "GPU available: False, used: False\n",
      "TPU available: False, using: 0 TPU cores\n",
      "IPU available: False, using: 0 IPUs\n",
      "HPU available: False, using: 0 HPUs\n",
      "c:\\Users\\omsan\\anaconda3\\envs\\eds_ml_2\\lib\\site-packages\\pytorch_lightning\\trainer\\connectors\\logger_connector\\logger_connector.py:75: Starting from v1.9.0, `tensorboardX` has been removed as a dependency of the `pytorch_lightning` package, due to potential conflicts with other packages in the ML ecosystem. For this reason, `logger=True` will use `CSVLogger` as the default logger, unless the `tensorboard` or `tensorboardX` packages are found. Please `pip install lightning[extra]` or one of them to enable TensorBoard support by default\n",
      "Missing logger folder: C:\\Users\\omsan\\Desktop\\Om\\Mcgill\\MMA 2023\\Winter 2 2024\\Enterpise ML Part 2\\Group Project\\Spotify-Music\\lightning_logs\n",
      "\n",
      "  | Name   | Type       | Params\n",
      "--------------------------------------\n",
      "0 | layers | Sequential | 19.3 K\n",
      "--------------------------------------\n",
      "19.3 K    Trainable params\n",
      "0         Non-trainable params\n",
      "19.3 K    Total params\n",
      "0.077     Total estimated model params size (MB)\n"
     ]
    },
    {
     "name": "stdout",
     "output_type": "stream",
     "text": [
      "                                                                           "
     ]
    },
    {
     "name": "stderr",
     "output_type": "stream",
     "text": [
      "c:\\Users\\omsan\\anaconda3\\envs\\eds_ml_2\\lib\\site-packages\\pytorch_lightning\\trainer\\connectors\\data_connector.py:441: The 'val_dataloader' does not have many workers which may be a bottleneck. Consider increasing the value of the `num_workers` argument` to `num_workers=11` in the `DataLoader` to improve performance.\n",
      "c:\\Users\\omsan\\anaconda3\\envs\\eds_ml_2\\lib\\site-packages\\pytorch_lightning\\trainer\\connectors\\data_connector.py:441: The 'train_dataloader' does not have many workers which may be a bottleneck. Consider increasing the value of the `num_workers` argument` to `num_workers=11` in the `DataLoader` to improve performance.\n"
     ]
    },
    {
     "name": "stdout",
     "output_type": "stream",
     "text": [
      "Epoch 0: 100%|██████████| 739/739 [00:09<00:00, 74.74it/s, v_num=0, train_loss_step=0.951, train_acc_step=0.500, val_loss=1.080, val_acc=0.480, train_loss_epoch=1.140, train_acc_epoch=0.453]"
     ]
    },
    {
     "name": "stderr",
     "output_type": "stream",
     "text": [
      "Metric val_loss improved. New best score: 1.082\n"
     ]
    },
    {
     "name": "stdout",
     "output_type": "stream",
     "text": [
      "Epoch 1: 100%|██████████| 739/739 [00:10<00:00, 73.22it/s, v_num=0, train_loss_step=1.230, train_acc_step=0.450, val_loss=1.070, val_acc=0.492, train_loss_epoch=1.090, train_acc_epoch=0.481]"
     ]
    },
    {
     "name": "stderr",
     "output_type": "stream",
     "text": [
      "Metric val_loss improved by 0.012 >= min_delta = 0.0. New best score: 1.070\n"
     ]
    },
    {
     "name": "stdout",
     "output_type": "stream",
     "text": [
      "Epoch 2: 100%|██████████| 739/739 [00:09<00:00, 75.28it/s, v_num=0, train_loss_step=1.240, train_acc_step=0.550, val_loss=1.060, val_acc=0.494, train_loss_epoch=1.080, train_acc_epoch=0.490]"
     ]
    },
    {
     "name": "stderr",
     "output_type": "stream",
     "text": [
      "Metric val_loss improved by 0.006 >= min_delta = 0.0. New best score: 1.064\n"
     ]
    },
    {
     "name": "stdout",
     "output_type": "stream",
     "text": [
      "Epoch 3: 100%|██████████| 739/739 [00:08<00:00, 83.10it/s, v_num=0, train_loss_step=1.150, train_acc_step=0.350, val_loss=1.060, val_acc=0.504, train_loss_epoch=1.060, train_acc_epoch=0.502] "
     ]
    },
    {
     "name": "stderr",
     "output_type": "stream",
     "text": [
      "Metric val_loss improved by 0.005 >= min_delta = 0.0. New best score: 1.059\n"
     ]
    },
    {
     "name": "stdout",
     "output_type": "stream",
     "text": [
      "Epoch 4: 100%|██████████| 739/739 [00:11<00:00, 65.31it/s, v_num=0, train_loss_step=1.060, train_acc_step=0.450, val_loss=1.060, val_acc=0.501, train_loss_epoch=1.050, train_acc_epoch=0.509]"
     ]
    },
    {
     "name": "stderr",
     "output_type": "stream",
     "text": [
      "Metric val_loss improved by 0.003 >= min_delta = 0.0. New best score: 1.056\n"
     ]
    },
    {
     "name": "stdout",
     "output_type": "stream",
     "text": [
      "Epoch 5: 100%|██████████| 739/739 [00:09<00:00, 80.29it/s, v_num=0, train_loss_step=1.100, train_acc_step=0.300, val_loss=1.050, val_acc=0.512, train_loss_epoch=1.040, train_acc_epoch=0.512] "
     ]
    },
    {
     "name": "stderr",
     "output_type": "stream",
     "text": [
      "Metric val_loss improved by 0.005 >= min_delta = 0.0. New best score: 1.050\n"
     ]
    },
    {
     "name": "stdout",
     "output_type": "stream",
     "text": [
      "Epoch 7: 100%|██████████| 739/739 [00:07<00:00, 93.74it/s, v_num=0, train_loss_step=0.913, train_acc_step=0.450, val_loss=1.050, val_acc=0.508, train_loss_epoch=1.020, train_acc_epoch=0.525] "
     ]
    },
    {
     "name": "stderr",
     "output_type": "stream",
     "text": [
      "Metric val_loss improved by 0.001 >= min_delta = 0.0. New best score: 1.049\n"
     ]
    },
    {
     "name": "stdout",
     "output_type": "stream",
     "text": [
      "Epoch 12: 100%|██████████| 739/739 [00:08<00:00, 85.51it/s, v_num=0, train_loss_step=1.100, train_acc_step=0.450, val_loss=1.060, val_acc=0.510, train_loss_epoch=0.982, train_acc_epoch=0.543] "
     ]
    },
    {
     "name": "stderr",
     "output_type": "stream",
     "text": [
      "Monitored metric val_loss did not improve in the last 5 records. Best score: 1.049. Signaling Trainer to stop.\n"
     ]
    },
    {
     "name": "stdout",
     "output_type": "stream",
     "text": [
      "Epoch 12: 100%|██████████| 739/739 [00:08<00:00, 85.37it/s, v_num=0, train_loss_step=1.100, train_acc_step=0.450, val_loss=1.060, val_acc=0.510, train_loss_epoch=0.982, train_acc_epoch=0.543]"
     ]
    },
    {
     "name": "stderr",
     "output_type": "stream",
     "text": [
      "[I 2024-04-24 11:42:47,248] Trial 0 finished with value: 1.0574873685836792 and parameters: {'lr': 0.0012261896778305826, 'hidden_size': 112, 'num_hidden_layers': 2, 'dropout_rate': 0.4709857909970271, 'activation': 'leaky_relu'}. Best is trial 0 with value: 1.0574873685836792.\n"
     ]
    },
    {
     "name": "stdout",
     "output_type": "stream",
     "text": [
      "\n"
     ]
    },
    {
     "name": "stderr",
     "output_type": "stream",
     "text": [
      "GPU available: False, used: False\n",
      "TPU available: False, using: 0 TPU cores\n",
      "IPU available: False, using: 0 IPUs\n",
      "HPU available: False, using: 0 HPUs\n",
      "\n",
      "  | Name   | Type       | Params\n",
      "--------------------------------------\n",
      "0 | layers | Sequential | 85.4 K\n",
      "--------------------------------------\n",
      "85.4 K    Trainable params\n",
      "0         Non-trainable params\n",
      "85.4 K    Total params\n",
      "0.342     Total estimated model params size (MB)\n"
     ]
    },
    {
     "name": "stdout",
     "output_type": "stream",
     "text": [
      "Epoch 0: 100%|██████████| 739/739 [00:11<00:00, 63.03it/s, v_num=1, train_loss_step=1.180, train_acc_step=0.450, val_loss=1.080, val_acc=0.477, train_loss_epoch=1.120, train_acc_epoch=0.458]"
     ]
    },
    {
     "name": "stderr",
     "output_type": "stream",
     "text": [
      "Metric val_loss improved. New best score: 1.084\n"
     ]
    },
    {
     "name": "stdout",
     "output_type": "stream",
     "text": [
      "Epoch 1: 100%|██████████| 739/739 [00:11<00:00, 62.84it/s, v_num=1, train_loss_step=1.070, train_acc_step=0.600, val_loss=1.070, val_acc=0.495, train_loss_epoch=1.080, train_acc_epoch=0.488]"
     ]
    },
    {
     "name": "stderr",
     "output_type": "stream",
     "text": [
      "Metric val_loss improved by 0.017 >= min_delta = 0.0. New best score: 1.066\n"
     ]
    },
    {
     "name": "stdout",
     "output_type": "stream",
     "text": [
      "Epoch 2: 100%|██████████| 739/739 [00:10<00:00, 68.18it/s, v_num=1, train_loss_step=1.140, train_acc_step=0.400, val_loss=1.070, val_acc=0.500, train_loss_epoch=1.060, train_acc_epoch=0.500]"
     ]
    },
    {
     "name": "stderr",
     "output_type": "stream",
     "text": [
      "Metric val_loss improved by 0.001 >= min_delta = 0.0. New best score: 1.065\n"
     ]
    },
    {
     "name": "stdout",
     "output_type": "stream",
     "text": [
      "Epoch 3: 100%|██████████| 739/739 [00:11<00:00, 63.19it/s, v_num=1, train_loss_step=0.824, train_acc_step=0.750, val_loss=1.060, val_acc=0.506, train_loss_epoch=1.050, train_acc_epoch=0.511]"
     ]
    },
    {
     "name": "stderr",
     "output_type": "stream",
     "text": [
      "Metric val_loss improved by 0.002 >= min_delta = 0.0. New best score: 1.063\n"
     ]
    },
    {
     "name": "stdout",
     "output_type": "stream",
     "text": [
      "Epoch 4: 100%|██████████| 739/739 [00:11<00:00, 66.10it/s, v_num=1, train_loss_step=1.320, train_acc_step=0.450, val_loss=1.060, val_acc=0.511, train_loss_epoch=1.030, train_acc_epoch=0.522]"
     ]
    },
    {
     "name": "stderr",
     "output_type": "stream",
     "text": [
      "Metric val_loss improved by 0.008 >= min_delta = 0.0. New best score: 1.055\n"
     ]
    },
    {
     "name": "stdout",
     "output_type": "stream",
     "text": [
      "Epoch 9: 100%|██████████| 739/739 [00:11<00:00, 66.75it/s, v_num=1, train_loss_step=1.360, train_acc_step=0.350, val_loss=1.080, val_acc=0.510, train_loss_epoch=0.921, train_acc_epoch=0.570]"
     ]
    },
    {
     "name": "stderr",
     "output_type": "stream",
     "text": [
      "Monitored metric val_loss did not improve in the last 5 records. Best score: 1.055. Signaling Trainer to stop.\n"
     ]
    },
    {
     "name": "stdout",
     "output_type": "stream",
     "text": [
      "Epoch 9: 100%|██████████| 739/739 [00:11<00:00, 66.64it/s, v_num=1, train_loss_step=1.360, train_acc_step=0.350, val_loss=1.080, val_acc=0.510, train_loss_epoch=0.921, train_acc_epoch=0.570]"
     ]
    },
    {
     "name": "stderr",
     "output_type": "stream",
     "text": [
      "[I 2024-04-24 11:44:40,863] Trial 1 finished with value: 1.0800879001617432 and parameters: {'lr': 0.0018887538456703711, 'hidden_size': 192, 'num_hidden_layers': 3, 'dropout_rate': 0.12016430357315122, 'activation': 'relu'}. Best is trial 0 with value: 1.0574873685836792.\n"
     ]
    },
    {
     "name": "stdout",
     "output_type": "stream",
     "text": [
      "\n"
     ]
    },
    {
     "name": "stderr",
     "output_type": "stream",
     "text": [
      "GPU available: False, used: False\n",
      "TPU available: False, using: 0 TPU cores\n",
      "IPU available: False, using: 0 IPUs\n",
      "HPU available: False, using: 0 HPUs\n",
      "\n",
      "  | Name   | Type       | Params\n",
      "--------------------------------------\n",
      "0 | layers | Sequential | 24.3 K\n",
      "--------------------------------------\n",
      "24.3 K    Trainable params\n",
      "0         Non-trainable params\n",
      "24.3 K    Total params\n",
      "0.097     Total estimated model params size (MB)\n"
     ]
    },
    {
     "name": "stdout",
     "output_type": "stream",
     "text": [
      "Epoch 0: 100%|██████████| 739/739 [00:10<00:00, 73.04it/s, v_num=2, train_loss_step=1.270, train_acc_step=0.300, val_loss=1.100, val_acc=0.473, train_loss_epoch=1.190, train_acc_epoch=0.430]"
     ]
    },
    {
     "name": "stderr",
     "output_type": "stream",
     "text": [
      "Metric val_loss improved. New best score: 1.104\n"
     ]
    },
    {
     "name": "stdout",
     "output_type": "stream",
     "text": [
      "Epoch 5: 100%|██████████| 739/739 [00:08<00:00, 83.26it/s, v_num=2, train_loss_step=1.420, train_acc_step=0.450, val_loss=1.140, val_acc=0.443, train_loss_epoch=1.200, train_acc_epoch=0.423]  "
     ]
    },
    {
     "name": "stderr",
     "output_type": "stream",
     "text": [
      "Monitored metric val_loss did not improve in the last 5 records. Best score: 1.104. Signaling Trainer to stop.\n"
     ]
    },
    {
     "name": "stdout",
     "output_type": "stream",
     "text": [
      "Epoch 5: 100%|██████████| 739/739 [00:08<00:00, 83.09it/s, v_num=2, train_loss_step=1.420, train_acc_step=0.450, val_loss=1.140, val_acc=0.443, train_loss_epoch=1.200, train_acc_epoch=0.423]"
     ]
    },
    {
     "name": "stderr",
     "output_type": "stream",
     "text": [
      "[I 2024-04-24 11:45:36,049] Trial 2 finished with value: 1.1364333629608154 and parameters: {'lr': 0.007709858058748784, 'hidden_size': 96, 'num_hidden_layers': 3, 'dropout_rate': 0.3773386484958693, 'activation': 'elu'}. Best is trial 0 with value: 1.0574873685836792.\n"
     ]
    },
    {
     "name": "stdout",
     "output_type": "stream",
     "text": [
      "\n"
     ]
    },
    {
     "name": "stderr",
     "output_type": "stream",
     "text": [
      "GPU available: False, used: False\n",
      "TPU available: False, using: 0 TPU cores\n",
      "IPU available: False, using: 0 IPUs\n",
      "HPU available: False, using: 0 HPUs\n",
      "\n",
      "  | Name   | Type       | Params\n",
      "--------------------------------------\n",
      "0 | layers | Sequential | 85.4 K\n",
      "--------------------------------------\n",
      "85.4 K    Trainable params\n",
      "0         Non-trainable params\n",
      "85.4 K    Total params\n",
      "0.342     Total estimated model params size (MB)\n"
     ]
    },
    {
     "name": "stdout",
     "output_type": "stream",
     "text": [
      "Epoch 0: 100%|██████████| 739/739 [00:09<00:00, 76.58it/s, v_num=3, train_loss_step=1.020, train_acc_step=0.700, val_loss=1.100, val_acc=0.465, train_loss_epoch=1.150, train_acc_epoch=0.447]"
     ]
    },
    {
     "name": "stderr",
     "output_type": "stream",
     "text": [
      "Metric val_loss improved. New best score: 1.099\n"
     ]
    },
    {
     "name": "stdout",
     "output_type": "stream",
     "text": [
      "Epoch 1: 100%|██████████| 739/739 [00:10<00:00, 73.13it/s, v_num=3, train_loss_step=1.080, train_acc_step=0.500, val_loss=1.080, val_acc=0.488, train_loss_epoch=1.100, train_acc_epoch=0.479]"
     ]
    },
    {
     "name": "stderr",
     "output_type": "stream",
     "text": [
      "Metric val_loss improved by 0.022 >= min_delta = 0.0. New best score: 1.076\n"
     ]
    },
    {
     "name": "stdout",
     "output_type": "stream",
     "text": [
      "Epoch 2: 100%|██████████| 739/739 [00:10<00:00, 72.23it/s, v_num=3, train_loss_step=1.120, train_acc_step=0.600, val_loss=1.070, val_acc=0.503, train_loss_epoch=1.080, train_acc_epoch=0.490]"
     ]
    },
    {
     "name": "stderr",
     "output_type": "stream",
     "text": [
      "Metric val_loss improved by 0.010 >= min_delta = 0.0. New best score: 1.067\n"
     ]
    },
    {
     "name": "stdout",
     "output_type": "stream",
     "text": [
      "Epoch 3: 100%|██████████| 739/739 [00:10<00:00, 72.75it/s, v_num=3, train_loss_step=1.290, train_acc_step=0.350, val_loss=1.070, val_acc=0.487, train_loss_epoch=1.070, train_acc_epoch=0.497]"
     ]
    },
    {
     "name": "stderr",
     "output_type": "stream",
     "text": [
      "Metric val_loss improved by 0.001 >= min_delta = 0.0. New best score: 1.066\n"
     ]
    },
    {
     "name": "stdout",
     "output_type": "stream",
     "text": [
      "Epoch 4: 100%|██████████| 739/739 [00:10<00:00, 71.75it/s, v_num=3, train_loss_step=1.300, train_acc_step=0.500, val_loss=1.050, val_acc=0.512, train_loss_epoch=1.050, train_acc_epoch=0.502]"
     ]
    },
    {
     "name": "stderr",
     "output_type": "stream",
     "text": [
      "Metric val_loss improved by 0.011 >= min_delta = 0.0. New best score: 1.055\n"
     ]
    },
    {
     "name": "stdout",
     "output_type": "stream",
     "text": [
      "Epoch 7: 100%|██████████| 739/739 [00:11<00:00, 61.74it/s, v_num=3, train_loss_step=1.070, train_acc_step=0.400, val_loss=1.050, val_acc=0.504, train_loss_epoch=1.020, train_acc_epoch=0.524]"
     ]
    },
    {
     "name": "stderr",
     "output_type": "stream",
     "text": [
      "Metric val_loss improved by 0.000 >= min_delta = 0.0. New best score: 1.055\n"
     ]
    },
    {
     "name": "stdout",
     "output_type": "stream",
     "text": [
      "Epoch 12: 100%|██████████| 739/739 [00:09<00:00, 74.75it/s, v_num=3, train_loss_step=0.898, train_acc_step=0.500, val_loss=1.070, val_acc=0.506, train_loss_epoch=0.970, train_acc_epoch=0.548]"
     ]
    },
    {
     "name": "stderr",
     "output_type": "stream",
     "text": [
      "Monitored metric val_loss did not improve in the last 5 records. Best score: 1.055. Signaling Trainer to stop.\n"
     ]
    },
    {
     "name": "stdout",
     "output_type": "stream",
     "text": [
      "Epoch 12: 100%|██████████| 739/739 [00:09<00:00, 74.60it/s, v_num=3, train_loss_step=0.898, train_acc_step=0.500, val_loss=1.070, val_acc=0.506, train_loss_epoch=0.970, train_acc_epoch=0.548]"
     ]
    },
    {
     "name": "stderr",
     "output_type": "stream",
     "text": [
      "[I 2024-04-24 11:47:47,664] Trial 3 finished with value: 1.0703562498092651 and parameters: {'lr': 0.0016667032659038567, 'hidden_size': 192, 'num_hidden_layers': 3, 'dropout_rate': 0.4987572893340163, 'activation': 'relu'}. Best is trial 0 with value: 1.0574873685836792.\n"
     ]
    },
    {
     "name": "stdout",
     "output_type": "stream",
     "text": [
      "\n"
     ]
    },
    {
     "name": "stderr",
     "output_type": "stream",
     "text": [
      "GPU available: False, used: False\n",
      "TPU available: False, using: 0 TPU cores\n",
      "IPU available: False, using: 0 IPUs\n",
      "HPU available: False, using: 0 HPUs\n",
      "\n",
      "  | Name   | Type       | Params\n",
      "--------------------------------------\n",
      "0 | layers | Sequential | 55.7 K\n",
      "--------------------------------------\n",
      "55.7 K    Trainable params\n",
      "0         Non-trainable params\n",
      "55.7 K    Total params\n",
      "0.223     Total estimated model params size (MB)\n"
     ]
    },
    {
     "name": "stdout",
     "output_type": "stream",
     "text": [
      "Epoch 0: 100%|██████████| 739/739 [00:09<00:00, 77.79it/s, v_num=4, train_loss_step=1.000, train_acc_step=0.550, val_loss=1.100, val_acc=0.473, train_loss_epoch=1.140, train_acc_epoch=0.455]"
     ]
    },
    {
     "name": "stderr",
     "output_type": "stream",
     "text": [
      "Metric val_loss improved. New best score: 1.095\n"
     ]
    },
    {
     "name": "stdout",
     "output_type": "stream",
     "text": [
      "Epoch 1: 100%|██████████| 739/739 [00:09<00:00, 79.65it/s, v_num=4, train_loss_step=1.100, train_acc_step=0.550, val_loss=1.090, val_acc=0.485, train_loss_epoch=1.090, train_acc_epoch=0.481]"
     ]
    },
    {
     "name": "stderr",
     "output_type": "stream",
     "text": [
      "Metric val_loss improved by 0.006 >= min_delta = 0.0. New best score: 1.090\n"
     ]
    },
    {
     "name": "stdout",
     "output_type": "stream",
     "text": [
      "Epoch 2: 100%|██████████| 739/739 [00:09<00:00, 80.63it/s, v_num=4, train_loss_step=1.300, train_acc_step=0.200, val_loss=1.080, val_acc=0.494, train_loss_epoch=1.090, train_acc_epoch=0.484] "
     ]
    },
    {
     "name": "stderr",
     "output_type": "stream",
     "text": [
      "Metric val_loss improved by 0.009 >= min_delta = 0.0. New best score: 1.081\n"
     ]
    },
    {
     "name": "stdout",
     "output_type": "stream",
     "text": [
      "Epoch 3: 100%|██████████| 739/739 [00:09<00:00, 74.16it/s, v_num=4, train_loss_step=1.220, train_acc_step=0.350, val_loss=1.080, val_acc=0.493, train_loss_epoch=1.090, train_acc_epoch=0.480] "
     ]
    },
    {
     "name": "stderr",
     "output_type": "stream",
     "text": [
      "Metric val_loss improved by 0.003 >= min_delta = 0.0. New best score: 1.078\n"
     ]
    },
    {
     "name": "stdout",
     "output_type": "stream",
     "text": [
      "Epoch 6: 100%|██████████| 739/739 [00:09<00:00, 82.09it/s, v_num=4, train_loss_step=1.250, train_acc_step=0.450, val_loss=1.080, val_acc=0.486, train_loss_epoch=1.080, train_acc_epoch=0.485] "
     ]
    },
    {
     "name": "stderr",
     "output_type": "stream",
     "text": [
      "Metric val_loss improved by 0.000 >= min_delta = 0.0. New best score: 1.078\n"
     ]
    },
    {
     "name": "stdout",
     "output_type": "stream",
     "text": [
      "Epoch 7: 100%|██████████| 739/739 [00:09<00:00, 79.39it/s, v_num=4, train_loss_step=1.130, train_acc_step=0.500, val_loss=1.080, val_acc=0.489, train_loss_epoch=1.080, train_acc_epoch=0.491]"
     ]
    },
    {
     "name": "stderr",
     "output_type": "stream",
     "text": [
      "Metric val_loss improved by 0.001 >= min_delta = 0.0. New best score: 1.076\n"
     ]
    },
    {
     "name": "stdout",
     "output_type": "stream",
     "text": [
      "Epoch 8: 100%|██████████| 739/739 [00:09<00:00, 76.77it/s, v_num=4, train_loss_step=0.891, train_acc_step=0.650, val_loss=1.070, val_acc=0.494, train_loss_epoch=1.080, train_acc_epoch=0.488]"
     ]
    },
    {
     "name": "stderr",
     "output_type": "stream",
     "text": [
      "Metric val_loss improved by 0.002 >= min_delta = 0.0. New best score: 1.074\n"
     ]
    },
    {
     "name": "stdout",
     "output_type": "stream",
     "text": [
      "Epoch 10: 100%|██████████| 739/739 [00:09<00:00, 81.33it/s, v_num=4, train_loss_step=1.210, train_acc_step=0.350, val_loss=1.070, val_acc=0.496, train_loss_epoch=1.080, train_acc_epoch=0.491]"
     ]
    },
    {
     "name": "stderr",
     "output_type": "stream",
     "text": [
      "Metric val_loss improved by 0.002 >= min_delta = 0.0. New best score: 1.072\n"
     ]
    },
    {
     "name": "stdout",
     "output_type": "stream",
     "text": [
      "Epoch 11: 100%|██████████| 739/739 [00:09<00:00, 78.45it/s, v_num=4, train_loss_step=1.180, train_acc_step=0.400, val_loss=1.070, val_acc=0.499, train_loss_epoch=1.070, train_acc_epoch=0.493]"
     ]
    },
    {
     "name": "stderr",
     "output_type": "stream",
     "text": [
      "Metric val_loss improved by 0.002 >= min_delta = 0.0. New best score: 1.070\n"
     ]
    },
    {
     "name": "stdout",
     "output_type": "stream",
     "text": [
      "Epoch 13: 100%|██████████| 739/739 [00:08<00:00, 82.58it/s, v_num=4, train_loss_step=0.998, train_acc_step=0.500, val_loss=1.070, val_acc=0.500, train_loss_epoch=1.070, train_acc_epoch=0.494]"
     ]
    },
    {
     "name": "stderr",
     "output_type": "stream",
     "text": [
      "Metric val_loss improved by 0.005 >= min_delta = 0.0. New best score: 1.065\n"
     ]
    },
    {
     "name": "stdout",
     "output_type": "stream",
     "text": [
      "Epoch 15: 100%|██████████| 739/739 [00:09<00:00, 81.10it/s, v_num=4, train_loss_step=0.903, train_acc_step=0.600, val_loss=1.070, val_acc=0.496, train_loss_epoch=1.070, train_acc_epoch=0.497] "
     ]
    },
    {
     "name": "stderr",
     "output_type": "stream",
     "text": [
      "Metric val_loss improved by 0.000 >= min_delta = 0.0. New best score: 1.065\n"
     ]
    },
    {
     "name": "stdout",
     "output_type": "stream",
     "text": [
      "Epoch 17: 100%|██████████| 739/739 [00:09<00:00, 81.16it/s, v_num=4, train_loss_step=1.070, train_acc_step=0.650, val_loss=1.060, val_acc=0.498, train_loss_epoch=1.060, train_acc_epoch=0.495] "
     ]
    },
    {
     "name": "stderr",
     "output_type": "stream",
     "text": [
      "Metric val_loss improved by 0.000 >= min_delta = 0.0. New best score: 1.065\n"
     ]
    },
    {
     "name": "stdout",
     "output_type": "stream",
     "text": [
      "Epoch 18: 100%|██████████| 739/739 [00:09<00:00, 74.81it/s, v_num=4, train_loss_step=0.901, train_acc_step=0.650, val_loss=1.060, val_acc=0.501, train_loss_epoch=1.060, train_acc_epoch=0.501]"
     ]
    },
    {
     "name": "stderr",
     "output_type": "stream",
     "text": [
      "Metric val_loss improved by 0.001 >= min_delta = 0.0. New best score: 1.064\n"
     ]
    },
    {
     "name": "stdout",
     "output_type": "stream",
     "text": [
      "Epoch 19: 100%|██████████| 739/739 [00:09<00:00, 79.18it/s, v_num=4, train_loss_step=1.180, train_acc_step=0.450, val_loss=1.060, val_acc=0.506, train_loss_epoch=1.060, train_acc_epoch=0.505]"
     ]
    },
    {
     "name": "stderr",
     "output_type": "stream",
     "text": [
      "Metric val_loss improved by 0.006 >= min_delta = 0.0. New best score: 1.058\n"
     ]
    },
    {
     "name": "stdout",
     "output_type": "stream",
     "text": [
      "Epoch 23: 100%|██████████| 739/739 [00:08<00:00, 85.66it/s, v_num=4, train_loss_step=1.390, train_acc_step=0.350, val_loss=1.060, val_acc=0.506, train_loss_epoch=1.050, train_acc_epoch=0.507] "
     ]
    },
    {
     "name": "stderr",
     "output_type": "stream",
     "text": [
      "Metric val_loss improved by 0.003 >= min_delta = 0.0. New best score: 1.055\n"
     ]
    },
    {
     "name": "stdout",
     "output_type": "stream",
     "text": [
      "Epoch 28: 100%|██████████| 739/739 [00:08<00:00, 86.59it/s, v_num=4, train_loss_step=0.896, train_acc_step=0.650, val_loss=1.050, val_acc=0.511, train_loss_epoch=1.050, train_acc_epoch=0.511] "
     ]
    },
    {
     "name": "stderr",
     "output_type": "stream",
     "text": [
      "Metric val_loss improved by 0.004 >= min_delta = 0.0. New best score: 1.051\n"
     ]
    },
    {
     "name": "stdout",
     "output_type": "stream",
     "text": [
      "Epoch 32: 100%|██████████| 739/739 [00:08<00:00, 84.54it/s, v_num=4, train_loss_step=0.853, train_acc_step=0.650, val_loss=1.050, val_acc=0.512, train_loss_epoch=1.040, train_acc_epoch=0.511] "
     ]
    },
    {
     "name": "stderr",
     "output_type": "stream",
     "text": [
      "Metric val_loss improved by 0.001 >= min_delta = 0.0. New best score: 1.051\n"
     ]
    },
    {
     "name": "stdout",
     "output_type": "stream",
     "text": [
      "Epoch 33: 100%|██████████| 739/739 [00:09<00:00, 81.03it/s, v_num=4, train_loss_step=0.909, train_acc_step=0.500, val_loss=1.050, val_acc=0.510, train_loss_epoch=1.040, train_acc_epoch=0.516]"
     ]
    },
    {
     "name": "stderr",
     "output_type": "stream",
     "text": [
      "Metric val_loss improved by 0.001 >= min_delta = 0.0. New best score: 1.050\n"
     ]
    },
    {
     "name": "stdout",
     "output_type": "stream",
     "text": [
      "Epoch 37: 100%|██████████| 739/739 [00:08<00:00, 83.47it/s, v_num=4, train_loss_step=1.060, train_acc_step=0.600, val_loss=1.050, val_acc=0.513, train_loss_epoch=1.030, train_acc_epoch=0.521] "
     ]
    },
    {
     "name": "stderr",
     "output_type": "stream",
     "text": [
      "Metric val_loss improved by 0.001 >= min_delta = 0.0. New best score: 1.049\n"
     ]
    },
    {
     "name": "stdout",
     "output_type": "stream",
     "text": [
      "Epoch 38: 100%|██████████| 739/739 [00:09<00:00, 78.98it/s, v_num=4, train_loss_step=1.120, train_acc_step=0.450, val_loss=1.050, val_acc=0.511, train_loss_epoch=1.030, train_acc_epoch=0.519] "
     ]
    },
    {
     "name": "stderr",
     "output_type": "stream",
     "text": [
      "Metric val_loss improved by 0.002 >= min_delta = 0.0. New best score: 1.047\n"
     ]
    },
    {
     "name": "stdout",
     "output_type": "stream",
     "text": [
      "Epoch 43: 100%|██████████| 739/739 [00:08<00:00, 83.77it/s, v_num=4, train_loss_step=0.971, train_acc_step=0.600, val_loss=1.050, val_acc=0.507, train_loss_epoch=1.030, train_acc_epoch=0.523] "
     ]
    },
    {
     "name": "stderr",
     "output_type": "stream",
     "text": [
      "Monitored metric val_loss did not improve in the last 5 records. Best score: 1.047. Signaling Trainer to stop.\n"
     ]
    },
    {
     "name": "stdout",
     "output_type": "stream",
     "text": [
      "Epoch 43: 100%|██████████| 739/739 [00:08<00:00, 83.60it/s, v_num=4, train_loss_step=0.971, train_acc_step=0.600, val_loss=1.050, val_acc=0.507, train_loss_epoch=1.030, train_acc_epoch=0.523]"
     ]
    },
    {
     "name": "stderr",
     "output_type": "stream",
     "text": [
      "[I 2024-04-24 11:54:35,628] Trial 4 finished with value: 1.0504974126815796 and parameters: {'lr': 0.00033058628444845417, 'hidden_size': 208, 'num_hidden_layers': 2, 'dropout_rate': 0.19687261683547305, 'activation': 'elu'}. Best is trial 4 with value: 1.0504974126815796.\n"
     ]
    },
    {
     "name": "stdout",
     "output_type": "stream",
     "text": [
      "\n"
     ]
    },
    {
     "name": "stderr",
     "output_type": "stream",
     "text": [
      "GPU available: False, used: False\n",
      "TPU available: False, using: 0 TPU cores\n",
      "IPU available: False, using: 0 IPUs\n",
      "HPU available: False, using: 0 HPUs\n",
      "\n",
      "  | Name   | Type       | Params\n",
      "--------------------------------------\n",
      "0 | layers | Sequential | 50.3 K\n",
      "--------------------------------------\n",
      "50.3 K    Trainable params\n",
      "0         Non-trainable params\n",
      "50.3 K    Total params\n",
      "0.201     Total estimated model params size (MB)\n"
     ]
    },
    {
     "name": "stdout",
     "output_type": "stream",
     "text": [
      "Epoch 0: 100%|██████████| 739/739 [00:09<00:00, 74.23it/s, v_num=5, train_loss_step=1.170, train_acc_step=0.350, val_loss=1.100, val_acc=0.482, train_loss_epoch=1.140, train_acc_epoch=0.455]"
     ]
    },
    {
     "name": "stderr",
     "output_type": "stream",
     "text": [
      "Metric val_loss improved. New best score: 1.097\n"
     ]
    },
    {
     "name": "stdout",
     "output_type": "stream",
     "text": [
      "Epoch 1: 100%|██████████| 739/739 [00:09<00:00, 75.85it/s, v_num=5, train_loss_step=0.911, train_acc_step=0.500, val_loss=1.080, val_acc=0.489, train_loss_epoch=1.100, train_acc_epoch=0.479]"
     ]
    },
    {
     "name": "stderr",
     "output_type": "stream",
     "text": [
      "Metric val_loss improved by 0.015 >= min_delta = 0.0. New best score: 1.082\n"
     ]
    },
    {
     "name": "stdout",
     "output_type": "stream",
     "text": [
      "Epoch 3: 100%|██████████| 739/739 [00:09<00:00, 78.61it/s, v_num=5, train_loss_step=0.913, train_acc_step=0.650, val_loss=1.080, val_acc=0.487, train_loss_epoch=1.090, train_acc_epoch=0.482]"
     ]
    },
    {
     "name": "stderr",
     "output_type": "stream",
     "text": [
      "Metric val_loss improved by 0.002 >= min_delta = 0.0. New best score: 1.080\n"
     ]
    },
    {
     "name": "stdout",
     "output_type": "stream",
     "text": [
      "Epoch 4: 100%|██████████| 739/739 [00:09<00:00, 77.02it/s, v_num=5, train_loss_step=0.997, train_acc_step=0.550, val_loss=1.080, val_acc=0.487, train_loss_epoch=1.090, train_acc_epoch=0.486]"
     ]
    },
    {
     "name": "stderr",
     "output_type": "stream",
     "text": [
      "Metric val_loss improved by 0.000 >= min_delta = 0.0. New best score: 1.080\n"
     ]
    },
    {
     "name": "stdout",
     "output_type": "stream",
     "text": [
      "Epoch 5: 100%|██████████| 739/739 [00:09<00:00, 75.82it/s, v_num=5, train_loss_step=1.110, train_acc_step=0.500, val_loss=1.080, val_acc=0.490, train_loss_epoch=1.090, train_acc_epoch=0.482]"
     ]
    },
    {
     "name": "stderr",
     "output_type": "stream",
     "text": [
      "Metric val_loss improved by 0.002 >= min_delta = 0.0. New best score: 1.078\n"
     ]
    },
    {
     "name": "stdout",
     "output_type": "stream",
     "text": [
      "Epoch 7: 100%|██████████| 739/739 [00:09<00:00, 77.11it/s, v_num=5, train_loss_step=1.160, train_acc_step=0.450, val_loss=1.080, val_acc=0.491, train_loss_epoch=1.080, train_acc_epoch=0.491]"
     ]
    },
    {
     "name": "stderr",
     "output_type": "stream",
     "text": [
      "Metric val_loss improved by 0.003 >= min_delta = 0.0. New best score: 1.075\n"
     ]
    },
    {
     "name": "stdout",
     "output_type": "stream",
     "text": [
      "Epoch 8: 100%|██████████| 739/739 [00:09<00:00, 75.88it/s, v_num=5, train_loss_step=1.090, train_acc_step=0.500, val_loss=1.070, val_acc=0.490, train_loss_epoch=1.080, train_acc_epoch=0.488]"
     ]
    },
    {
     "name": "stderr",
     "output_type": "stream",
     "text": [
      "Metric val_loss improved by 0.001 >= min_delta = 0.0. New best score: 1.074\n"
     ]
    },
    {
     "name": "stdout",
     "output_type": "stream",
     "text": [
      "Epoch 9: 100%|██████████| 739/739 [00:09<00:00, 76.44it/s, v_num=5, train_loss_step=1.150, train_acc_step=0.250, val_loss=1.070, val_acc=0.499, train_loss_epoch=1.080, train_acc_epoch=0.488]"
     ]
    },
    {
     "name": "stderr",
     "output_type": "stream",
     "text": [
      "Metric val_loss improved by 0.008 >= min_delta = 0.0. New best score: 1.066\n"
     ]
    },
    {
     "name": "stdout",
     "output_type": "stream",
     "text": [
      "Epoch 14: 100%|██████████| 739/739 [00:09<00:00, 76.68it/s, v_num=5, train_loss_step=1.110, train_acc_step=0.500, val_loss=1.060, val_acc=0.501, train_loss_epoch=1.070, train_acc_epoch=0.493]"
     ]
    },
    {
     "name": "stderr",
     "output_type": "stream",
     "text": [
      "Metric val_loss improved by 0.004 >= min_delta = 0.0. New best score: 1.062\n"
     ]
    },
    {
     "name": "stdout",
     "output_type": "stream",
     "text": [
      "Epoch 15: 100%|██████████| 739/739 [00:09<00:00, 75.55it/s, v_num=5, train_loss_step=1.040, train_acc_step=0.600, val_loss=1.060, val_acc=0.499, train_loss_epoch=1.060, train_acc_epoch=0.500]"
     ]
    },
    {
     "name": "stderr",
     "output_type": "stream",
     "text": [
      "Metric val_loss improved by 0.004 >= min_delta = 0.0. New best score: 1.058\n"
     ]
    },
    {
     "name": "stdout",
     "output_type": "stream",
     "text": [
      "Epoch 20: 100%|██████████| 739/739 [00:09<00:00, 76.84it/s, v_num=5, train_loss_step=0.915, train_acc_step=0.650, val_loss=1.060, val_acc=0.509, train_loss_epoch=1.060, train_acc_epoch=0.503]"
     ]
    },
    {
     "name": "stderr",
     "output_type": "stream",
     "text": [
      "Metric val_loss improved by 0.000 >= min_delta = 0.0. New best score: 1.058\n"
     ]
    },
    {
     "name": "stdout",
     "output_type": "stream",
     "text": [
      "Epoch 22: 100%|██████████| 739/739 [00:09<00:00, 77.82it/s, v_num=5, train_loss_step=0.945, train_acc_step=0.550, val_loss=1.060, val_acc=0.500, train_loss_epoch=1.050, train_acc_epoch=0.504]"
     ]
    },
    {
     "name": "stderr",
     "output_type": "stream",
     "text": [
      "Metric val_loss improved by 0.000 >= min_delta = 0.0. New best score: 1.057\n"
     ]
    },
    {
     "name": "stdout",
     "output_type": "stream",
     "text": [
      "Epoch 23: 100%|██████████| 739/739 [00:09<00:00, 74.77it/s, v_num=5, train_loss_step=1.070, train_acc_step=0.550, val_loss=1.060, val_acc=0.503, train_loss_epoch=1.050, train_acc_epoch=0.502]"
     ]
    },
    {
     "name": "stderr",
     "output_type": "stream",
     "text": [
      "Metric val_loss improved by 0.000 >= min_delta = 0.0. New best score: 1.057\n"
     ]
    },
    {
     "name": "stdout",
     "output_type": "stream",
     "text": [
      "Epoch 25: 100%|██████████| 739/739 [00:09<00:00, 78.93it/s, v_num=5, train_loss_step=0.917, train_acc_step=0.450, val_loss=1.050, val_acc=0.504, train_loss_epoch=1.050, train_acc_epoch=0.508]"
     ]
    },
    {
     "name": "stderr",
     "output_type": "stream",
     "text": [
      "Metric val_loss improved by 0.005 >= min_delta = 0.0. New best score: 1.052\n"
     ]
    },
    {
     "name": "stdout",
     "output_type": "stream",
     "text": [
      "Epoch 29: 100%|██████████| 739/739 [00:09<00:00, 75.18it/s, v_num=5, train_loss_step=1.150, train_acc_step=0.450, val_loss=1.050, val_acc=0.509, train_loss_epoch=1.040, train_acc_epoch=0.512]"
     ]
    },
    {
     "name": "stderr",
     "output_type": "stream",
     "text": [
      "Metric val_loss improved by 0.001 >= min_delta = 0.0. New best score: 1.050\n"
     ]
    },
    {
     "name": "stdout",
     "output_type": "stream",
     "text": [
      "Epoch 30: 100%|██████████| 739/739 [00:09<00:00, 75.09it/s, v_num=5, train_loss_step=1.260, train_acc_step=0.450, val_loss=1.050, val_acc=0.515, train_loss_epoch=1.040, train_acc_epoch=0.513]"
     ]
    },
    {
     "name": "stderr",
     "output_type": "stream",
     "text": [
      "Metric val_loss improved by 0.001 >= min_delta = 0.0. New best score: 1.050\n"
     ]
    },
    {
     "name": "stdout",
     "output_type": "stream",
     "text": [
      "Epoch 35: 100%|██████████| 739/739 [00:11<00:00, 62.90it/s, v_num=5, train_loss_step=0.916, train_acc_step=0.650, val_loss=1.050, val_acc=0.514, train_loss_epoch=1.030, train_acc_epoch=0.519]"
     ]
    },
    {
     "name": "stderr",
     "output_type": "stream",
     "text": [
      "Monitored metric val_loss did not improve in the last 5 records. Best score: 1.050. Signaling Trainer to stop.\n"
     ]
    },
    {
     "name": "stdout",
     "output_type": "stream",
     "text": [
      "Epoch 35: 100%|██████████| 739/739 [00:11<00:00, 62.78it/s, v_num=5, train_loss_step=0.916, train_acc_step=0.650, val_loss=1.050, val_acc=0.514, train_loss_epoch=1.030, train_acc_epoch=0.519]"
     ]
    },
    {
     "name": "stderr",
     "output_type": "stream",
     "text": [
      "[I 2024-04-24 12:00:28,443] Trial 5 finished with value: 1.0496712923049927 and parameters: {'lr': 0.00044317354068919903, 'hidden_size': 144, 'num_hidden_layers': 3, 'dropout_rate': 0.18834442894150333, 'activation': 'elu'}. Best is trial 5 with value: 1.0496712923049927.\n"
     ]
    },
    {
     "name": "stdout",
     "output_type": "stream",
     "text": [
      "\n"
     ]
    },
    {
     "name": "stderr",
     "output_type": "stream",
     "text": [
      "GPU available: False, used: False\n",
      "TPU available: False, using: 0 TPU cores\n",
      "IPU available: False, using: 0 IPUs\n",
      "HPU available: False, using: 0 HPUs\n",
      "\n",
      "  | Name   | Type       | Params\n",
      "--------------------------------------\n",
      "0 | layers | Sequential | 2.9 K \n",
      "--------------------------------------\n",
      "2.9 K     Trainable params\n",
      "0         Non-trainable params\n",
      "2.9 K     Total params\n",
      "0.012     Total estimated model params size (MB)\n"
     ]
    },
    {
     "name": "stdout",
     "output_type": "stream",
     "text": [
      "Epoch 0: 100%|██████████| 739/739 [00:08<00:00, 91.53it/s, v_num=6, train_loss_step=1.000, train_acc_step=0.500, val_loss=1.100, val_acc=0.471, train_loss_epoch=1.130, train_acc_epoch=0.459]"
     ]
    },
    {
     "name": "stderr",
     "output_type": "stream",
     "text": [
      "Metric val_loss improved. New best score: 1.096\n"
     ]
    },
    {
     "name": "stdout",
     "output_type": "stream",
     "text": [
      "Epoch 1: 100%|██████████| 739/739 [00:08<00:00, 91.64it/s, v_num=6, train_loss_step=0.910, train_acc_step=0.700, val_loss=1.090, val_acc=0.475, train_loss_epoch=1.110, train_acc_epoch=0.473] "
     ]
    },
    {
     "name": "stderr",
     "output_type": "stream",
     "text": [
      "Metric val_loss improved by 0.005 >= min_delta = 0.0. New best score: 1.091\n"
     ]
    },
    {
     "name": "stdout",
     "output_type": "stream",
     "text": [
      "Epoch 2: 100%|██████████| 739/739 [00:07<00:00, 96.66it/s, v_num=6, train_loss_step=1.100, train_acc_step=0.450, val_loss=1.080, val_acc=0.485, train_loss_epoch=1.100, train_acc_epoch=0.476] "
     ]
    },
    {
     "name": "stderr",
     "output_type": "stream",
     "text": [
      "Metric val_loss improved by 0.008 >= min_delta = 0.0. New best score: 1.083\n"
     ]
    },
    {
     "name": "stdout",
     "output_type": "stream",
     "text": [
      "Epoch 3: 100%|██████████| 739/739 [00:07<00:00, 94.17it/s, v_num=6, train_loss_step=1.230, train_acc_step=0.400, val_loss=1.080, val_acc=0.486, train_loss_epoch=1.100, train_acc_epoch=0.479] "
     ]
    },
    {
     "name": "stderr",
     "output_type": "stream",
     "text": [
      "Metric val_loss improved by 0.004 >= min_delta = 0.0. New best score: 1.079\n"
     ]
    },
    {
     "name": "stdout",
     "output_type": "stream",
     "text": [
      "Epoch 4: 100%|██████████| 739/739 [00:07<00:00, 99.08it/s, v_num=6, train_loss_step=1.090, train_acc_step=0.550, val_loss=1.080, val_acc=0.485, train_loss_epoch=1.090, train_acc_epoch=0.482] "
     ]
    },
    {
     "name": "stderr",
     "output_type": "stream",
     "text": [
      "Metric val_loss improved by 0.001 >= min_delta = 0.0. New best score: 1.077\n"
     ]
    },
    {
     "name": "stdout",
     "output_type": "stream",
     "text": [
      "Epoch 5: 100%|██████████| 739/739 [00:07<00:00, 99.08it/s, v_num=6, train_loss_step=1.100, train_acc_step=0.500, val_loss=1.070, val_acc=0.495, train_loss_epoch=1.090, train_acc_epoch=0.483] "
     ]
    },
    {
     "name": "stderr",
     "output_type": "stream",
     "text": [
      "Metric val_loss improved by 0.011 >= min_delta = 0.0. New best score: 1.067\n"
     ]
    },
    {
     "name": "stdout",
     "output_type": "stream",
     "text": [
      "Epoch 7: 100%|██████████| 739/739 [00:07<00:00, 100.47it/s, v_num=6, train_loss_step=1.060, train_acc_step=0.600, val_loss=1.060, val_acc=0.501, train_loss_epoch=1.080, train_acc_epoch=0.486]"
     ]
    },
    {
     "name": "stderr",
     "output_type": "stream",
     "text": [
      "Metric val_loss improved by 0.007 >= min_delta = 0.0. New best score: 1.060\n"
     ]
    },
    {
     "name": "stdout",
     "output_type": "stream",
     "text": [
      "Epoch 12: 100%|██████████| 739/739 [00:07<00:00, 99.45it/s, v_num=6, train_loss_step=0.958, train_acc_step=0.600, val_loss=1.060, val_acc=0.508, train_loss_epoch=1.070, train_acc_epoch=0.498] "
     ]
    },
    {
     "name": "stderr",
     "output_type": "stream",
     "text": [
      "Monitored metric val_loss did not improve in the last 5 records. Best score: 1.060. Signaling Trainer to stop.\n"
     ]
    },
    {
     "name": "stdout",
     "output_type": "stream",
     "text": [
      "Epoch 12: 100%|██████████| 739/739 [00:07<00:00, 99.30it/s, v_num=6, train_loss_step=0.958, train_acc_step=0.600, val_loss=1.060, val_acc=0.508, train_loss_epoch=1.070, train_acc_epoch=0.498]\n"
     ]
    },
    {
     "name": "stderr",
     "output_type": "stream",
     "text": [
      "[I 2024-04-24 12:02:07,754] Trial 6 finished with value: 1.0629445314407349 and parameters: {'lr': 0.005171443581041231, 'hidden_size': 32, 'num_hidden_layers': 2, 'dropout_rate': 0.4232766101060511, 'activation': 'elu'}. Best is trial 5 with value: 1.0496712923049927.\n",
      "GPU available: False, used: False\n",
      "TPU available: False, using: 0 TPU cores\n",
      "IPU available: False, using: 0 IPUs\n",
      "HPU available: False, using: 0 HPUs\n",
      "\n",
      "  | Name   | Type       | Params\n",
      "--------------------------------------\n",
      "0 | layers | Sequential | 85.4 K\n",
      "--------------------------------------\n",
      "85.4 K    Trainable params\n",
      "0         Non-trainable params\n",
      "85.4 K    Total params\n",
      "0.342     Total estimated model params size (MB)\n"
     ]
    },
    {
     "name": "stdout",
     "output_type": "stream",
     "text": [
      "Epoch 0: 100%|██████████| 739/739 [00:10<00:00, 71.39it/s, v_num=7, train_loss_step=0.965, train_acc_step=0.600, val_loss=1.100, val_acc=0.476, train_loss_epoch=1.160, train_acc_epoch=0.444]"
     ]
    },
    {
     "name": "stderr",
     "output_type": "stream",
     "text": [
      "Metric val_loss improved. New best score: 1.098\n"
     ]
    },
    {
     "name": "stdout",
     "output_type": "stream",
     "text": [
      "Epoch 1: 100%|██████████| 739/739 [00:10<00:00, 72.59it/s, v_num=7, train_loss_step=1.360, train_acc_step=0.200, val_loss=1.090, val_acc=0.488, train_loss_epoch=1.100, train_acc_epoch=0.474]"
     ]
    },
    {
     "name": "stderr",
     "output_type": "stream",
     "text": [
      "Metric val_loss improved by 0.009 >= min_delta = 0.0. New best score: 1.089\n"
     ]
    },
    {
     "name": "stdout",
     "output_type": "stream",
     "text": [
      "Epoch 2: 100%|██████████| 739/739 [00:10<00:00, 71.68it/s, v_num=7, train_loss_step=1.090, train_acc_step=0.550, val_loss=1.080, val_acc=0.482, train_loss_epoch=1.090, train_acc_epoch=0.479]"
     ]
    },
    {
     "name": "stderr",
     "output_type": "stream",
     "text": [
      "Metric val_loss improved by 0.006 >= min_delta = 0.0. New best score: 1.083\n"
     ]
    },
    {
     "name": "stdout",
     "output_type": "stream",
     "text": [
      "Epoch 4: 100%|██████████| 739/739 [00:12<00:00, 59.63it/s, v_num=7, train_loss_step=0.869, train_acc_step=0.750, val_loss=1.080, val_acc=0.492, train_loss_epoch=1.090, train_acc_epoch=0.477]"
     ]
    },
    {
     "name": "stderr",
     "output_type": "stream",
     "text": [
      "Metric val_loss improved by 0.005 >= min_delta = 0.0. New best score: 1.078\n"
     ]
    },
    {
     "name": "stdout",
     "output_type": "stream",
     "text": [
      "Epoch 8: 100%|██████████| 739/739 [00:09<00:00, 74.20it/s, v_num=7, train_loss_step=0.992, train_acc_step=0.400, val_loss=1.080, val_acc=0.487, train_loss_epoch=1.090, train_acc_epoch=0.484]"
     ]
    },
    {
     "name": "stderr",
     "output_type": "stream",
     "text": [
      "Metric val_loss improved by 0.000 >= min_delta = 0.0. New best score: 1.077\n"
     ]
    },
    {
     "name": "stdout",
     "output_type": "stream",
     "text": [
      "Epoch 9: 100%|██████████| 739/739 [00:10<00:00, 72.51it/s, v_num=7, train_loss_step=1.170, train_acc_step=0.500, val_loss=1.070, val_acc=0.494, train_loss_epoch=1.090, train_acc_epoch=0.486]"
     ]
    },
    {
     "name": "stderr",
     "output_type": "stream",
     "text": [
      "Metric val_loss improved by 0.003 >= min_delta = 0.0. New best score: 1.074\n"
     ]
    },
    {
     "name": "stdout",
     "output_type": "stream",
     "text": [
      "Epoch 11: 100%|██████████| 739/739 [00:10<00:00, 72.39it/s, v_num=7, train_loss_step=1.300, train_acc_step=0.450, val_loss=1.070, val_acc=0.492, train_loss_epoch=1.080, train_acc_epoch=0.486]"
     ]
    },
    {
     "name": "stderr",
     "output_type": "stream",
     "text": [
      "Metric val_loss improved by 0.002 >= min_delta = 0.0. New best score: 1.073\n"
     ]
    },
    {
     "name": "stdout",
     "output_type": "stream",
     "text": [
      "Epoch 12: 100%|██████████| 739/739 [00:10<00:00, 71.81it/s, v_num=7, train_loss_step=1.160, train_acc_step=0.350, val_loss=1.070, val_acc=0.492, train_loss_epoch=1.080, train_acc_epoch=0.487]"
     ]
    },
    {
     "name": "stderr",
     "output_type": "stream",
     "text": [
      "Metric val_loss improved by 0.000 >= min_delta = 0.0. New best score: 1.072\n"
     ]
    },
    {
     "name": "stdout",
     "output_type": "stream",
     "text": [
      "Epoch 14: 100%|██████████| 739/739 [00:10<00:00, 73.52it/s, v_num=7, train_loss_step=1.160, train_acc_step=0.500, val_loss=1.070, val_acc=0.495, train_loss_epoch=1.080, train_acc_epoch=0.491]"
     ]
    },
    {
     "name": "stderr",
     "output_type": "stream",
     "text": [
      "Metric val_loss improved by 0.001 >= min_delta = 0.0. New best score: 1.071\n"
     ]
    },
    {
     "name": "stdout",
     "output_type": "stream",
     "text": [
      "Epoch 16: 100%|██████████| 739/739 [00:10<00:00, 73.45it/s, v_num=7, train_loss_step=0.941, train_acc_step=0.450, val_loss=1.070, val_acc=0.493, train_loss_epoch=1.080, train_acc_epoch=0.488]"
     ]
    },
    {
     "name": "stderr",
     "output_type": "stream",
     "text": [
      "Metric val_loss improved by 0.002 >= min_delta = 0.0. New best score: 1.069\n"
     ]
    },
    {
     "name": "stdout",
     "output_type": "stream",
     "text": [
      "Epoch 17: 100%|██████████| 739/739 [00:10<00:00, 70.66it/s, v_num=7, train_loss_step=1.290, train_acc_step=0.550, val_loss=1.070, val_acc=0.490, train_loss_epoch=1.080, train_acc_epoch=0.491]"
     ]
    },
    {
     "name": "stderr",
     "output_type": "stream",
     "text": [
      "Metric val_loss improved by 0.000 >= min_delta = 0.0. New best score: 1.069\n"
     ]
    },
    {
     "name": "stdout",
     "output_type": "stream",
     "text": [
      "Epoch 18: 100%|██████████| 739/739 [00:10<00:00, 71.76it/s, v_num=7, train_loss_step=1.110, train_acc_step=0.500, val_loss=1.070, val_acc=0.493, train_loss_epoch=1.070, train_acc_epoch=0.494]"
     ]
    },
    {
     "name": "stderr",
     "output_type": "stream",
     "text": [
      "Metric val_loss improved by 0.003 >= min_delta = 0.0. New best score: 1.066\n"
     ]
    },
    {
     "name": "stdout",
     "output_type": "stream",
     "text": [
      "Epoch 22: 100%|██████████| 739/739 [00:10<00:00, 69.27it/s, v_num=7, train_loss_step=0.880, train_acc_step=0.650, val_loss=1.070, val_acc=0.493, train_loss_epoch=1.070, train_acc_epoch=0.495]"
     ]
    },
    {
     "name": "stderr",
     "output_type": "stream",
     "text": [
      "Metric val_loss improved by 0.000 >= min_delta = 0.0. New best score: 1.066\n"
     ]
    },
    {
     "name": "stdout",
     "output_type": "stream",
     "text": [
      "Epoch 23: 100%|██████████| 739/739 [00:10<00:00, 72.20it/s, v_num=7, train_loss_step=1.420, train_acc_step=0.250, val_loss=1.070, val_acc=0.501, train_loss_epoch=1.070, train_acc_epoch=0.496]"
     ]
    },
    {
     "name": "stderr",
     "output_type": "stream",
     "text": [
      "Metric val_loss improved by 0.000 >= min_delta = 0.0. New best score: 1.066\n"
     ]
    },
    {
     "name": "stdout",
     "output_type": "stream",
     "text": [
      "Epoch 25: 100%|██████████| 739/739 [00:09<00:00, 74.45it/s, v_num=7, train_loss_step=1.000, train_acc_step=0.650, val_loss=1.060, val_acc=0.498, train_loss_epoch=1.070, train_acc_epoch=0.497]"
     ]
    },
    {
     "name": "stderr",
     "output_type": "stream",
     "text": [
      "Metric val_loss improved by 0.003 >= min_delta = 0.0. New best score: 1.063\n"
     ]
    },
    {
     "name": "stdout",
     "output_type": "stream",
     "text": [
      "Epoch 26: 100%|██████████| 739/739 [00:10<00:00, 72.46it/s, v_num=7, train_loss_step=1.050, train_acc_step=0.450, val_loss=1.060, val_acc=0.497, train_loss_epoch=1.070, train_acc_epoch=0.496]"
     ]
    },
    {
     "name": "stderr",
     "output_type": "stream",
     "text": [
      "Metric val_loss improved by 0.002 >= min_delta = 0.0. New best score: 1.061\n"
     ]
    },
    {
     "name": "stdout",
     "output_type": "stream",
     "text": [
      "Epoch 31: 100%|██████████| 739/739 [00:10<00:00, 73.58it/s, v_num=7, train_loss_step=0.996, train_acc_step=0.600, val_loss=1.060, val_acc=0.503, train_loss_epoch=1.060, train_acc_epoch=0.501]"
     ]
    },
    {
     "name": "stderr",
     "output_type": "stream",
     "text": [
      "Metric val_loss improved by 0.003 >= min_delta = 0.0. New best score: 1.058\n"
     ]
    },
    {
     "name": "stdout",
     "output_type": "stream",
     "text": [
      "Epoch 35: 100%|██████████| 739/739 [00:09<00:00, 73.93it/s, v_num=7, train_loss_step=0.900, train_acc_step=0.650, val_loss=1.060, val_acc=0.508, train_loss_epoch=1.060, train_acc_epoch=0.502]"
     ]
    },
    {
     "name": "stderr",
     "output_type": "stream",
     "text": [
      "Metric val_loss improved by 0.003 >= min_delta = 0.0. New best score: 1.055\n"
     ]
    },
    {
     "name": "stdout",
     "output_type": "stream",
     "text": [
      "Epoch 39: 100%|██████████| 739/739 [00:10<00:00, 71.47it/s, v_num=7, train_loss_step=1.120, train_acc_step=0.400, val_loss=1.050, val_acc=0.500, train_loss_epoch=1.050, train_acc_epoch=0.507]"
     ]
    },
    {
     "name": "stderr",
     "output_type": "stream",
     "text": [
      "Metric val_loss improved by 0.001 >= min_delta = 0.0. New best score: 1.054\n"
     ]
    },
    {
     "name": "stdout",
     "output_type": "stream",
     "text": [
      "Epoch 40: 100%|██████████| 739/739 [00:10<00:00, 70.63it/s, v_num=7, train_loss_step=1.030, train_acc_step=0.650, val_loss=1.050, val_acc=0.505, train_loss_epoch=1.050, train_acc_epoch=0.506]"
     ]
    },
    {
     "name": "stderr",
     "output_type": "stream",
     "text": [
      "Metric val_loss improved by 0.001 >= min_delta = 0.0. New best score: 1.053\n"
     ]
    },
    {
     "name": "stdout",
     "output_type": "stream",
     "text": [
      "Epoch 42: 100%|██████████| 739/739 [00:10<00:00, 72.26it/s, v_num=7, train_loss_step=1.040, train_acc_step=0.500, val_loss=1.050, val_acc=0.505, train_loss_epoch=1.050, train_acc_epoch=0.508]"
     ]
    },
    {
     "name": "stderr",
     "output_type": "stream",
     "text": [
      "Metric val_loss improved by 0.000 >= min_delta = 0.0. New best score: 1.053\n"
     ]
    },
    {
     "name": "stdout",
     "output_type": "stream",
     "text": [
      "Epoch 47: 100%|██████████| 739/739 [00:10<00:00, 71.71it/s, v_num=7, train_loss_step=1.000, train_acc_step=0.450, val_loss=1.050, val_acc=0.511, train_loss_epoch=1.050, train_acc_epoch=0.509]"
     ]
    },
    {
     "name": "stderr",
     "output_type": "stream",
     "text": [
      "Metric val_loss improved by 0.002 >= min_delta = 0.0. New best score: 1.051\n"
     ]
    },
    {
     "name": "stdout",
     "output_type": "stream",
     "text": [
      "Epoch 51: 100%|██████████| 739/739 [00:10<00:00, 73.43it/s, v_num=7, train_loss_step=1.320, train_acc_step=0.250, val_loss=1.050, val_acc=0.506, train_loss_epoch=1.040, train_acc_epoch=0.514]"
     ]
    },
    {
     "name": "stderr",
     "output_type": "stream",
     "text": [
      "Metric val_loss improved by 0.000 >= min_delta = 0.0. New best score: 1.051\n"
     ]
    },
    {
     "name": "stdout",
     "output_type": "stream",
     "text": [
      "Epoch 52: 100%|██████████| 739/739 [00:10<00:00, 70.86it/s, v_num=7, train_loss_step=0.993, train_acc_step=0.550, val_loss=1.050, val_acc=0.509, train_loss_epoch=1.040, train_acc_epoch=0.512]"
     ]
    },
    {
     "name": "stderr",
     "output_type": "stream",
     "text": [
      "Metric val_loss improved by 0.000 >= min_delta = 0.0. New best score: 1.050\n"
     ]
    },
    {
     "name": "stdout",
     "output_type": "stream",
     "text": [
      "Epoch 53: 100%|██████████| 739/739 [00:10<00:00, 71.31it/s, v_num=7, train_loss_step=1.330, train_acc_step=0.350, val_loss=1.050, val_acc=0.508, train_loss_epoch=1.040, train_acc_epoch=0.512]"
     ]
    },
    {
     "name": "stderr",
     "output_type": "stream",
     "text": [
      "Metric val_loss improved by 0.000 >= min_delta = 0.0. New best score: 1.050\n"
     ]
    },
    {
     "name": "stdout",
     "output_type": "stream",
     "text": [
      "Epoch 58: 100%|██████████| 739/739 [00:10<00:00, 72.05it/s, v_num=7, train_loss_step=1.340, train_acc_step=0.350, val_loss=1.050, val_acc=0.506, train_loss_epoch=1.040, train_acc_epoch=0.517]"
     ]
    },
    {
     "name": "stderr",
     "output_type": "stream",
     "text": [
      "Monitored metric val_loss did not improve in the last 5 records. Best score: 1.050. Signaling Trainer to stop.\n"
     ]
    },
    {
     "name": "stdout",
     "output_type": "stream",
     "text": [
      "Epoch 58: 100%|██████████| 739/739 [00:10<00:00, 71.95it/s, v_num=7, train_loss_step=1.340, train_acc_step=0.350, val_loss=1.050, val_acc=0.506, train_loss_epoch=1.040, train_acc_epoch=0.517]"
     ]
    },
    {
     "name": "stderr",
     "output_type": "stream",
     "text": [
      "[I 2024-04-24 12:12:20,822] Trial 7 finished with value: 1.0499399900436401 and parameters: {'lr': 0.00017550253418002719, 'hidden_size': 192, 'num_hidden_layers': 3, 'dropout_rate': 0.2528095816058039, 'activation': 'elu'}. Best is trial 5 with value: 1.0496712923049927.\n"
     ]
    },
    {
     "name": "stdout",
     "output_type": "stream",
     "text": [
      "\n"
     ]
    },
    {
     "name": "stderr",
     "output_type": "stream",
     "text": [
      "GPU available: False, used: False\n",
      "TPU available: False, using: 0 TPU cores\n",
      "IPU available: False, using: 0 IPUs\n",
      "HPU available: False, using: 0 HPUs\n",
      "\n",
      "  | Name   | Type       | Params\n",
      "--------------------------------------\n",
      "0 | layers | Sequential | 5.7 K \n",
      "--------------------------------------\n",
      "5.7 K     Trainable params\n",
      "0         Non-trainable params\n",
      "5.7 K     Total params\n",
      "0.023     Total estimated model params size (MB)\n"
     ]
    },
    {
     "name": "stdout",
     "output_type": "stream",
     "text": [
      "Epoch 0: 100%|██████████| 739/739 [00:07<00:00, 98.47it/s, v_num=8, train_loss_step=1.290, train_acc_step=0.350, val_loss=1.150, val_acc=0.462, train_loss_epoch=1.200, train_acc_epoch=0.430]"
     ]
    },
    {
     "name": "stderr",
     "output_type": "stream",
     "text": [
      "Metric val_loss improved. New best score: 1.154\n"
     ]
    },
    {
     "name": "stdout",
     "output_type": "stream",
     "text": [
      "Epoch 1: 100%|██████████| 739/739 [00:07<00:00, 100.00it/s, v_num=8, train_loss_step=1.220, train_acc_step=0.400, val_loss=1.120, val_acc=0.472, train_loss_epoch=1.130, train_acc_epoch=0.468]"
     ]
    },
    {
     "name": "stderr",
     "output_type": "stream",
     "text": [
      "Metric val_loss improved by 0.038 >= min_delta = 0.0. New best score: 1.116\n"
     ]
    },
    {
     "name": "stdout",
     "output_type": "stream",
     "text": [
      "Epoch 2: 100%|██████████| 739/739 [00:07<00:00, 99.09it/s, v_num=8, train_loss_step=1.150, train_acc_step=0.400, val_loss=1.100, val_acc=0.482, train_loss_epoch=1.110, train_acc_epoch=0.477] "
     ]
    },
    {
     "name": "stderr",
     "output_type": "stream",
     "text": [
      "Metric val_loss improved by 0.020 >= min_delta = 0.0. New best score: 1.096\n"
     ]
    },
    {
     "name": "stdout",
     "output_type": "stream",
     "text": [
      "Epoch 3: 100%|██████████| 739/739 [00:07<00:00, 95.96it/s, v_num=8, train_loss_step=1.030, train_acc_step=0.450, val_loss=1.090, val_acc=0.485, train_loss_epoch=1.090, train_acc_epoch=0.485] "
     ]
    },
    {
     "name": "stderr",
     "output_type": "stream",
     "text": [
      "Metric val_loss improved by 0.010 >= min_delta = 0.0. New best score: 1.085\n"
     ]
    },
    {
     "name": "stdout",
     "output_type": "stream",
     "text": [
      "Epoch 4: 100%|██████████| 739/739 [00:07<00:00, 96.10it/s, v_num=8, train_loss_step=1.280, train_acc_step=0.400, val_loss=1.080, val_acc=0.491, train_loss_epoch=1.080, train_acc_epoch=0.487] "
     ]
    },
    {
     "name": "stderr",
     "output_type": "stream",
     "text": [
      "Metric val_loss improved by 0.005 >= min_delta = 0.0. New best score: 1.080\n"
     ]
    },
    {
     "name": "stdout",
     "output_type": "stream",
     "text": [
      "Epoch 5: 100%|██████████| 739/739 [00:07<00:00, 99.73it/s, v_num=8, train_loss_step=1.250, train_acc_step=0.300, val_loss=1.080, val_acc=0.490, train_loss_epoch=1.080, train_acc_epoch=0.492] "
     ]
    },
    {
     "name": "stderr",
     "output_type": "stream",
     "text": [
      "Metric val_loss improved by 0.003 >= min_delta = 0.0. New best score: 1.077\n"
     ]
    },
    {
     "name": "stdout",
     "output_type": "stream",
     "text": [
      "Epoch 6: 100%|██████████| 739/739 [00:07<00:00, 97.01it/s, v_num=8, train_loss_step=1.040, train_acc_step=0.600, val_loss=1.080, val_acc=0.492, train_loss_epoch=1.080, train_acc_epoch=0.494] "
     ]
    },
    {
     "name": "stderr",
     "output_type": "stream",
     "text": [
      "Metric val_loss improved by 0.002 >= min_delta = 0.0. New best score: 1.075\n"
     ]
    },
    {
     "name": "stdout",
     "output_type": "stream",
     "text": [
      "Epoch 7: 100%|██████████| 739/739 [00:07<00:00, 98.17it/s, v_num=8, train_loss_step=1.050, train_acc_step=0.450, val_loss=1.070, val_acc=0.497, train_loss_epoch=1.070, train_acc_epoch=0.496] "
     ]
    },
    {
     "name": "stderr",
     "output_type": "stream",
     "text": [
      "Metric val_loss improved by 0.002 >= min_delta = 0.0. New best score: 1.073\n"
     ]
    },
    {
     "name": "stdout",
     "output_type": "stream",
     "text": [
      "Epoch 9: 100%|██████████| 739/739 [00:09<00:00, 75.16it/s, v_num=8, train_loss_step=1.100, train_acc_step=0.450, val_loss=1.070, val_acc=0.498, train_loss_epoch=1.070, train_acc_epoch=0.498] "
     ]
    },
    {
     "name": "stderr",
     "output_type": "stream",
     "text": [
      "Metric val_loss improved by 0.002 >= min_delta = 0.0. New best score: 1.071\n"
     ]
    },
    {
     "name": "stdout",
     "output_type": "stream",
     "text": [
      "Epoch 10: 100%|██████████| 739/739 [00:07<00:00, 99.42it/s, v_num=8, train_loss_step=1.030, train_acc_step=0.600, val_loss=1.070, val_acc=0.499, train_loss_epoch=1.070, train_acc_epoch=0.500] "
     ]
    },
    {
     "name": "stderr",
     "output_type": "stream",
     "text": [
      "Metric val_loss improved by 0.000 >= min_delta = 0.0. New best score: 1.071\n"
     ]
    },
    {
     "name": "stdout",
     "output_type": "stream",
     "text": [
      "Epoch 11: 100%|██████████| 739/739 [00:07<00:00, 97.85it/s, v_num=8, train_loss_step=0.966, train_acc_step=0.550, val_loss=1.070, val_acc=0.498, train_loss_epoch=1.070, train_acc_epoch=0.501] "
     ]
    },
    {
     "name": "stderr",
     "output_type": "stream",
     "text": [
      "Metric val_loss improved by 0.001 >= min_delta = 0.0. New best score: 1.070\n"
     ]
    },
    {
     "name": "stdout",
     "output_type": "stream",
     "text": [
      "Epoch 12: 100%|██████████| 739/739 [00:09<00:00, 75.89it/s, v_num=8, train_loss_step=0.970, train_acc_step=0.600, val_loss=1.070, val_acc=0.497, train_loss_epoch=1.060, train_acc_epoch=0.503]"
     ]
    },
    {
     "name": "stderr",
     "output_type": "stream",
     "text": [
      "Metric val_loss improved by 0.001 >= min_delta = 0.0. New best score: 1.069\n"
     ]
    },
    {
     "name": "stdout",
     "output_type": "stream",
     "text": [
      "Epoch 15: 100%|██████████| 739/739 [00:13<00:00, 54.87it/s, v_num=8, train_loss_step=1.180, train_acc_step=0.450, val_loss=1.070, val_acc=0.501, train_loss_epoch=1.060, train_acc_epoch=0.505]"
     ]
    },
    {
     "name": "stderr",
     "output_type": "stream",
     "text": [
      "Metric val_loss improved by 0.003 >= min_delta = 0.0. New best score: 1.066\n"
     ]
    },
    {
     "name": "stdout",
     "output_type": "stream",
     "text": [
      "Epoch 17: 100%|██████████| 739/739 [00:11<00:00, 63.49it/s, v_num=8, train_loss_step=1.130, train_acc_step=0.350, val_loss=1.070, val_acc=0.507, train_loss_epoch=1.060, train_acc_epoch=0.507]"
     ]
    },
    {
     "name": "stderr",
     "output_type": "stream",
     "text": [
      "Metric val_loss improved by 0.001 >= min_delta = 0.0. New best score: 1.065\n"
     ]
    },
    {
     "name": "stdout",
     "output_type": "stream",
     "text": [
      "Epoch 18: 100%|██████████| 739/739 [00:11<00:00, 63.20it/s, v_num=8, train_loss_step=1.090, train_acc_step=0.350, val_loss=1.060, val_acc=0.504, train_loss_epoch=1.050, train_acc_epoch=0.508]"
     ]
    },
    {
     "name": "stderr",
     "output_type": "stream",
     "text": [
      "Metric val_loss improved by 0.001 >= min_delta = 0.0. New best score: 1.064\n"
     ]
    },
    {
     "name": "stdout",
     "output_type": "stream",
     "text": [
      "Epoch 20: 100%|██████████| 739/739 [00:09<00:00, 74.27it/s, v_num=8, train_loss_step=1.020, train_acc_step=0.600, val_loss=1.060, val_acc=0.507, train_loss_epoch=1.050, train_acc_epoch=0.510]"
     ]
    },
    {
     "name": "stderr",
     "output_type": "stream",
     "text": [
      "Metric val_loss improved by 0.000 >= min_delta = 0.0. New best score: 1.064\n"
     ]
    },
    {
     "name": "stdout",
     "output_type": "stream",
     "text": [
      "Epoch 21: 100%|██████████| 739/739 [00:09<00:00, 76.52it/s, v_num=8, train_loss_step=0.899, train_acc_step=0.650, val_loss=1.060, val_acc=0.508, train_loss_epoch=1.050, train_acc_epoch=0.512]"
     ]
    },
    {
     "name": "stderr",
     "output_type": "stream",
     "text": [
      "Metric val_loss improved by 0.002 >= min_delta = 0.0. New best score: 1.062\n"
     ]
    },
    {
     "name": "stdout",
     "output_type": "stream",
     "text": [
      "Epoch 23: 100%|██████████| 739/739 [00:10<00:00, 70.62it/s, v_num=8, train_loss_step=1.190, train_acc_step=0.400, val_loss=1.060, val_acc=0.505, train_loss_epoch=1.050, train_acc_epoch=0.515]"
     ]
    },
    {
     "name": "stderr",
     "output_type": "stream",
     "text": [
      "Metric val_loss improved by 0.000 >= min_delta = 0.0. New best score: 1.062\n"
     ]
    },
    {
     "name": "stdout",
     "output_type": "stream",
     "text": [
      "Epoch 24: 100%|██████████| 739/739 [00:10<00:00, 71.11it/s, v_num=8, train_loss_step=1.500, train_acc_step=0.350, val_loss=1.060, val_acc=0.504, train_loss_epoch=1.040, train_acc_epoch=0.515]"
     ]
    },
    {
     "name": "stderr",
     "output_type": "stream",
     "text": [
      "Metric val_loss improved by 0.001 >= min_delta = 0.0. New best score: 1.061\n"
     ]
    },
    {
     "name": "stdout",
     "output_type": "stream",
     "text": [
      "Epoch 25: 100%|██████████| 739/739 [00:09<00:00, 77.01it/s, v_num=8, train_loss_step=1.050, train_acc_step=0.450, val_loss=1.060, val_acc=0.506, train_loss_epoch=1.040, train_acc_epoch=0.517] "
     ]
    },
    {
     "name": "stderr",
     "output_type": "stream",
     "text": [
      "Metric val_loss improved by 0.000 >= min_delta = 0.0. New best score: 1.061\n"
     ]
    },
    {
     "name": "stdout",
     "output_type": "stream",
     "text": [
      "Epoch 27: 100%|██████████| 739/739 [00:09<00:00, 75.34it/s, v_num=8, train_loss_step=1.010, train_acc_step=0.500, val_loss=1.060, val_acc=0.507, train_loss_epoch=1.040, train_acc_epoch=0.519]"
     ]
    },
    {
     "name": "stderr",
     "output_type": "stream",
     "text": [
      "Metric val_loss improved by 0.002 >= min_delta = 0.0. New best score: 1.059\n"
     ]
    },
    {
     "name": "stdout",
     "output_type": "stream",
     "text": [
      "Epoch 29: 100%|██████████| 739/739 [00:11<00:00, 63.12it/s, v_num=8, train_loss_step=1.180, train_acc_step=0.400, val_loss=1.060, val_acc=0.508, train_loss_epoch=1.040, train_acc_epoch=0.522] "
     ]
    },
    {
     "name": "stderr",
     "output_type": "stream",
     "text": [
      "Metric val_loss improved by 0.001 >= min_delta = 0.0. New best score: 1.058\n"
     ]
    },
    {
     "name": "stdout",
     "output_type": "stream",
     "text": [
      "Epoch 34: 100%|██████████| 739/739 [00:12<00:00, 61.36it/s, v_num=8, train_loss_step=0.936, train_acc_step=0.650, val_loss=1.060, val_acc=0.514, train_loss_epoch=1.030, train_acc_epoch=0.524]"
     ]
    },
    {
     "name": "stderr",
     "output_type": "stream",
     "text": [
      "Metric val_loss improved by 0.002 >= min_delta = 0.0. New best score: 1.056\n"
     ]
    },
    {
     "name": "stdout",
     "output_type": "stream",
     "text": [
      "Epoch 35: 100%|██████████| 739/739 [00:12<00:00, 59.85it/s, v_num=8, train_loss_step=1.230, train_acc_step=0.550, val_loss=1.060, val_acc=0.511, train_loss_epoch=1.030, train_acc_epoch=0.523]"
     ]
    },
    {
     "name": "stderr",
     "output_type": "stream",
     "text": [
      "Metric val_loss improved by 0.001 >= min_delta = 0.0. New best score: 1.056\n"
     ]
    },
    {
     "name": "stdout",
     "output_type": "stream",
     "text": [
      "Epoch 38: 100%|██████████| 739/739 [00:15<00:00, 49.06it/s, v_num=8, train_loss_step=0.946, train_acc_step=0.500, val_loss=1.060, val_acc=0.511, train_loss_epoch=1.030, train_acc_epoch=0.526]"
     ]
    },
    {
     "name": "stderr",
     "output_type": "stream",
     "text": [
      "Metric val_loss improved by 0.000 >= min_delta = 0.0. New best score: 1.056\n"
     ]
    },
    {
     "name": "stdout",
     "output_type": "stream",
     "text": [
      "Epoch 40: 100%|██████████| 739/739 [00:12<00:00, 60.68it/s, v_num=8, train_loss_step=1.100, train_acc_step=0.500, val_loss=1.060, val_acc=0.512, train_loss_epoch=1.030, train_acc_epoch=0.528]"
     ]
    },
    {
     "name": "stderr",
     "output_type": "stream",
     "text": [
      "Metric val_loss improved by 0.000 >= min_delta = 0.0. New best score: 1.055\n"
     ]
    },
    {
     "name": "stdout",
     "output_type": "stream",
     "text": [
      "Epoch 43: 100%|██████████| 739/739 [00:11<00:00, 62.96it/s, v_num=8, train_loss_step=1.030, train_acc_step=0.600, val_loss=1.060, val_acc=0.513, train_loss_epoch=1.020, train_acc_epoch=0.531]"
     ]
    },
    {
     "name": "stderr",
     "output_type": "stream",
     "text": [
      "Metric val_loss improved by 0.000 >= min_delta = 0.0. New best score: 1.055\n"
     ]
    },
    {
     "name": "stdout",
     "output_type": "stream",
     "text": [
      "Epoch 46: 100%|██████████| 739/739 [00:12<00:00, 61.20it/s, v_num=8, train_loss_step=1.120, train_acc_step=0.400, val_loss=1.050, val_acc=0.511, train_loss_epoch=1.020, train_acc_epoch=0.532]"
     ]
    },
    {
     "name": "stderr",
     "output_type": "stream",
     "text": [
      "Metric val_loss improved by 0.001 >= min_delta = 0.0. New best score: 1.055\n"
     ]
    },
    {
     "name": "stdout",
     "output_type": "stream",
     "text": [
      "Epoch 49: 100%|██████████| 739/739 [00:12<00:00, 60.21it/s, v_num=8, train_loss_step=0.898, train_acc_step=0.550, val_loss=1.050, val_acc=0.512, train_loss_epoch=1.020, train_acc_epoch=0.533]"
     ]
    },
    {
     "name": "stderr",
     "output_type": "stream",
     "text": [
      "Metric val_loss improved by 0.001 >= min_delta = 0.0. New best score: 1.054\n"
     ]
    },
    {
     "name": "stdout",
     "output_type": "stream",
     "text": [
      "Epoch 52: 100%|██████████| 739/739 [00:12<00:00, 59.84it/s, v_num=8, train_loss_step=0.836, train_acc_step=0.750, val_loss=1.050, val_acc=0.513, train_loss_epoch=1.010, train_acc_epoch=0.536]"
     ]
    },
    {
     "name": "stderr",
     "output_type": "stream",
     "text": [
      "Metric val_loss improved by 0.000 >= min_delta = 0.0. New best score: 1.054\n"
     ]
    },
    {
     "name": "stdout",
     "output_type": "stream",
     "text": [
      "Epoch 57: 100%|██████████| 739/739 [00:12<00:00, 59.88it/s, v_num=8, train_loss_step=0.974, train_acc_step=0.400, val_loss=1.050, val_acc=0.514, train_loss_epoch=1.010, train_acc_epoch=0.538]"
     ]
    },
    {
     "name": "stderr",
     "output_type": "stream",
     "text": [
      "Metric val_loss improved by 0.000 >= min_delta = 0.0. New best score: 1.053\n"
     ]
    },
    {
     "name": "stdout",
     "output_type": "stream",
     "text": [
      "Epoch 60: 100%|██████████| 739/739 [00:12<00:00, 60.02it/s, v_num=8, train_loss_step=0.886, train_acc_step=0.450, val_loss=1.050, val_acc=0.513, train_loss_epoch=1.010, train_acc_epoch=0.539]"
     ]
    },
    {
     "name": "stderr",
     "output_type": "stream",
     "text": [
      "Metric val_loss improved by 0.000 >= min_delta = 0.0. New best score: 1.053\n"
     ]
    },
    {
     "name": "stdout",
     "output_type": "stream",
     "text": [
      "Epoch 64: 100%|██████████| 739/739 [00:16<00:00, 45.72it/s, v_num=8, train_loss_step=1.060, train_acc_step=0.400, val_loss=1.050, val_acc=0.510, train_loss_epoch=1.010, train_acc_epoch=0.542]"
     ]
    },
    {
     "name": "stderr",
     "output_type": "stream",
     "text": [
      "Metric val_loss improved by 0.000 >= min_delta = 0.0. New best score: 1.053\n"
     ]
    },
    {
     "name": "stdout",
     "output_type": "stream",
     "text": [
      "Epoch 69: 100%|██████████| 739/739 [00:08<00:00, 84.94it/s, v_num=8, train_loss_step=1.160, train_acc_step=0.550, val_loss=1.050, val_acc=0.513, train_loss_epoch=1.000, train_acc_epoch=0.544]"
     ]
    },
    {
     "name": "stderr",
     "output_type": "stream",
     "text": [
      "Monitored metric val_loss did not improve in the last 5 records. Best score: 1.053. Signaling Trainer to stop.\n"
     ]
    },
    {
     "name": "stdout",
     "output_type": "stream",
     "text": [
      "Epoch 69: 100%|██████████| 739/739 [00:08<00:00, 84.80it/s, v_num=8, train_loss_step=1.160, train_acc_step=0.550, val_loss=1.050, val_acc=0.513, train_loss_epoch=1.000, train_acc_epoch=0.544]"
     ]
    },
    {
     "name": "stderr",
     "output_type": "stream",
     "text": [
      "[I 2024-04-24 12:25:32,303] Trial 8 finished with value: 1.0536092519760132 and parameters: {'lr': 0.00016570990823338173, 'hidden_size': 96, 'num_hidden_layers': 1, 'dropout_rate': 0.278210256911436, 'activation': 'leaky_relu'}. Best is trial 5 with value: 1.0496712923049927.\n"
     ]
    },
    {
     "name": "stdout",
     "output_type": "stream",
     "text": [
      "\n"
     ]
    },
    {
     "name": "stderr",
     "output_type": "stream",
     "text": [
      "GPU available: False, used: False\n",
      "TPU available: False, using: 0 TPU cores\n",
      "IPU available: False, using: 0 IPUs\n",
      "HPU available: False, using: 0 HPUs\n",
      "\n",
      "  | Name   | Type       | Params\n",
      "--------------------------------------\n",
      "0 | layers | Sequential | 2.9 K \n",
      "--------------------------------------\n",
      "2.9 K     Trainable params\n",
      "0         Non-trainable params\n",
      "2.9 K     Total params\n",
      "0.012     Total estimated model params size (MB)\n"
     ]
    },
    {
     "name": "stdout",
     "output_type": "stream",
     "text": [
      "Epoch 0: 100%|██████████| 739/739 [00:07<00:00, 95.01it/s, v_num=9, train_loss_step=1.120, train_acc_step=0.400, val_loss=1.090, val_acc=0.474, train_loss_epoch=1.150, train_acc_epoch=0.451]"
     ]
    },
    {
     "name": "stderr",
     "output_type": "stream",
     "text": [
      "Metric val_loss improved. New best score: 1.088\n"
     ]
    },
    {
     "name": "stdout",
     "output_type": "stream",
     "text": [
      "Epoch 1: 100%|██████████| 739/739 [00:07<00:00, 95.10it/s, v_num=9, train_loss_step=1.180, train_acc_step=0.400, val_loss=1.090, val_acc=0.484, train_loss_epoch=1.110, train_acc_epoch=0.476] "
     ]
    },
    {
     "name": "stderr",
     "output_type": "stream",
     "text": [
      "Metric val_loss improved by 0.003 >= min_delta = 0.0. New best score: 1.085\n"
     ]
    },
    {
     "name": "stdout",
     "output_type": "stream",
     "text": [
      "Epoch 2: 100%|██████████| 739/739 [00:07<00:00, 102.98it/s, v_num=9, train_loss_step=1.170, train_acc_step=0.300, val_loss=1.090, val_acc=0.481, train_loss_epoch=1.100, train_acc_epoch=0.477]"
     ]
    },
    {
     "name": "stderr",
     "output_type": "stream",
     "text": [
      "Metric val_loss improved by 0.000 >= min_delta = 0.0. New best score: 1.085\n"
     ]
    },
    {
     "name": "stdout",
     "output_type": "stream",
     "text": [
      "Epoch 3: 100%|██████████| 739/739 [00:07<00:00, 103.52it/s, v_num=9, train_loss_step=1.210, train_acc_step=0.300, val_loss=1.080, val_acc=0.489, train_loss_epoch=1.100, train_acc_epoch=0.479]"
     ]
    },
    {
     "name": "stderr",
     "output_type": "stream",
     "text": [
      "Metric val_loss improved by 0.006 >= min_delta = 0.0. New best score: 1.079\n"
     ]
    },
    {
     "name": "stdout",
     "output_type": "stream",
     "text": [
      "Epoch 4: 100%|██████████| 739/739 [00:07<00:00, 93.92it/s, v_num=9, train_loss_step=1.140, train_acc_step=0.300, val_loss=1.080, val_acc=0.492, train_loss_epoch=1.090, train_acc_epoch=0.479] "
     ]
    },
    {
     "name": "stderr",
     "output_type": "stream",
     "text": [
      "Metric val_loss improved by 0.000 >= min_delta = 0.0. New best score: 1.079\n"
     ]
    },
    {
     "name": "stdout",
     "output_type": "stream",
     "text": [
      "Epoch 5: 100%|██████████| 739/739 [00:07<00:00, 103.39it/s, v_num=9, train_loss_step=0.943, train_acc_step=0.600, val_loss=1.070, val_acc=0.494, train_loss_epoch=1.090, train_acc_epoch=0.484]"
     ]
    },
    {
     "name": "stderr",
     "output_type": "stream",
     "text": [
      "Metric val_loss improved by 0.005 >= min_delta = 0.0. New best score: 1.075\n"
     ]
    },
    {
     "name": "stdout",
     "output_type": "stream",
     "text": [
      "Epoch 7: 100%|██████████| 739/739 [00:07<00:00, 104.62it/s, v_num=9, train_loss_step=1.040, train_acc_step=0.500, val_loss=1.070, val_acc=0.495, train_loss_epoch=1.090, train_acc_epoch=0.483]"
     ]
    },
    {
     "name": "stderr",
     "output_type": "stream",
     "text": [
      "Metric val_loss improved by 0.006 >= min_delta = 0.0. New best score: 1.069\n"
     ]
    },
    {
     "name": "stdout",
     "output_type": "stream",
     "text": [
      "Epoch 12: 100%|██████████| 739/739 [00:07<00:00, 100.64it/s, v_num=9, train_loss_step=0.913, train_acc_step=0.650, val_loss=1.060, val_acc=0.500, train_loss_epoch=1.070, train_acc_epoch=0.492]"
     ]
    },
    {
     "name": "stderr",
     "output_type": "stream",
     "text": [
      "Metric val_loss improved by 0.004 >= min_delta = 0.0. New best score: 1.064\n"
     ]
    },
    {
     "name": "stdout",
     "output_type": "stream",
     "text": [
      "Epoch 13: 100%|██████████| 739/739 [00:07<00:00, 95.62it/s, v_num=9, train_loss_step=1.140, train_acc_step=0.500, val_loss=1.060, val_acc=0.498, train_loss_epoch=1.070, train_acc_epoch=0.490] "
     ]
    },
    {
     "name": "stderr",
     "output_type": "stream",
     "text": [
      "Metric val_loss improved by 0.003 >= min_delta = 0.0. New best score: 1.061\n"
     ]
    },
    {
     "name": "stdout",
     "output_type": "stream",
     "text": [
      "Epoch 18: 100%|██████████| 739/739 [00:08<00:00, 89.95it/s, v_num=9, train_loss_step=1.230, train_acc_step=0.450, val_loss=1.060, val_acc=0.504, train_loss_epoch=1.060, train_acc_epoch=0.500] "
     ]
    },
    {
     "name": "stderr",
     "output_type": "stream",
     "text": [
      "Metric val_loss improved by 0.002 >= min_delta = 0.0. New best score: 1.059\n"
     ]
    },
    {
     "name": "stdout",
     "output_type": "stream",
     "text": [
      "Epoch 19: 100%|██████████| 739/739 [00:08<00:00, 86.88it/s, v_num=9, train_loss_step=1.020, train_acc_step=0.650, val_loss=1.060, val_acc=0.506, train_loss_epoch=1.060, train_acc_epoch=0.502] "
     ]
    },
    {
     "name": "stderr",
     "output_type": "stream",
     "text": [
      "Metric val_loss improved by 0.001 >= min_delta = 0.0. New best score: 1.058\n"
     ]
    },
    {
     "name": "stdout",
     "output_type": "stream",
     "text": [
      "Epoch 20: 100%|██████████| 739/739 [00:08<00:00, 86.19it/s, v_num=9, train_loss_step=0.971, train_acc_step=0.550, val_loss=1.060, val_acc=0.505, train_loss_epoch=1.060, train_acc_epoch=0.499] "
     ]
    },
    {
     "name": "stderr",
     "output_type": "stream",
     "text": [
      "Metric val_loss improved by 0.000 >= min_delta = 0.0. New best score: 1.058\n"
     ]
    },
    {
     "name": "stdout",
     "output_type": "stream",
     "text": [
      "Epoch 22: 100%|██████████| 739/739 [00:08<00:00, 89.35it/s, v_num=9, train_loss_step=0.906, train_acc_step=0.550, val_loss=1.050, val_acc=0.511, train_loss_epoch=1.060, train_acc_epoch=0.503] "
     ]
    },
    {
     "name": "stderr",
     "output_type": "stream",
     "text": [
      "Metric val_loss improved by 0.005 >= min_delta = 0.0. New best score: 1.052\n"
     ]
    },
    {
     "name": "stdout",
     "output_type": "stream",
     "text": [
      "Epoch 26: 100%|██████████| 739/739 [00:08<00:00, 88.77it/s, v_num=9, train_loss_step=1.150, train_acc_step=0.500, val_loss=1.050, val_acc=0.507, train_loss_epoch=1.050, train_acc_epoch=0.506] "
     ]
    },
    {
     "name": "stderr",
     "output_type": "stream",
     "text": [
      "Metric val_loss improved by 0.000 >= min_delta = 0.0. New best score: 1.052\n"
     ]
    },
    {
     "name": "stdout",
     "output_type": "stream",
     "text": [
      "Epoch 30: 100%|██████████| 739/739 [00:08<00:00, 87.66it/s, v_num=9, train_loss_step=1.020, train_acc_step=0.550, val_loss=1.050, val_acc=0.515, train_loss_epoch=1.050, train_acc_epoch=0.506] "
     ]
    },
    {
     "name": "stderr",
     "output_type": "stream",
     "text": [
      "Metric val_loss improved by 0.001 >= min_delta = 0.0. New best score: 1.051\n"
     ]
    },
    {
     "name": "stdout",
     "output_type": "stream",
     "text": [
      "Epoch 34: 100%|██████████| 739/739 [00:08<00:00, 87.97it/s, v_num=9, train_loss_step=0.969, train_acc_step=0.450, val_loss=1.050, val_acc=0.517, train_loss_epoch=1.050, train_acc_epoch=0.507] "
     ]
    },
    {
     "name": "stderr",
     "output_type": "stream",
     "text": [
      "Metric val_loss improved by 0.001 >= min_delta = 0.0. New best score: 1.050\n"
     ]
    },
    {
     "name": "stdout",
     "output_type": "stream",
     "text": [
      "Epoch 37: 100%|██████████| 739/739 [00:08<00:00, 87.33it/s, v_num=9, train_loss_step=0.946, train_acc_step=0.650, val_loss=1.050, val_acc=0.521, train_loss_epoch=1.040, train_acc_epoch=0.512] "
     ]
    },
    {
     "name": "stderr",
     "output_type": "stream",
     "text": [
      "Metric val_loss improved by 0.002 >= min_delta = 0.0. New best score: 1.048\n"
     ]
    },
    {
     "name": "stdout",
     "output_type": "stream",
     "text": [
      "Epoch 42: 100%|██████████| 739/739 [00:08<00:00, 87.12it/s, v_num=9, train_loss_step=0.982, train_acc_step=0.500, val_loss=1.050, val_acc=0.515, train_loss_epoch=1.040, train_acc_epoch=0.513] "
     ]
    },
    {
     "name": "stderr",
     "output_type": "stream",
     "text": [
      "Monitored metric val_loss did not improve in the last 5 records. Best score: 1.048. Signaling Trainer to stop.\n"
     ]
    },
    {
     "name": "stdout",
     "output_type": "stream",
     "text": [
      "Epoch 42: 100%|██████████| 739/739 [00:08<00:00, 87.00it/s, v_num=9, train_loss_step=0.982, train_acc_step=0.500, val_loss=1.050, val_acc=0.515, train_loss_epoch=1.040, train_acc_epoch=0.513]"
     ]
    },
    {
     "name": "stderr",
     "output_type": "stream",
     "text": [
      "[I 2024-04-24 12:31:22,542] Trial 9 finished with value: 1.0502374172210693 and parameters: {'lr': 0.0015844850008277583, 'hidden_size': 32, 'num_hidden_layers': 2, 'dropout_rate': 0.4895784184368075, 'activation': 'elu'}. Best is trial 5 with value: 1.0496712923049927.\n"
     ]
    },
    {
     "name": "stdout",
     "output_type": "stream",
     "text": [
      "\n"
     ]
    },
    {
     "name": "stderr",
     "output_type": "stream",
     "text": [
      "GPU available: False, used: False\n",
      "TPU available: False, using: 0 TPU cores\n",
      "IPU available: False, using: 0 IPUs\n",
      "HPU available: False, using: 0 HPUs\n",
      "\n",
      "  | Name   | Type       | Params\n",
      "--------------------------------------\n",
      "0 | layers | Sequential | 15.1 K\n",
      "--------------------------------------\n",
      "15.1 K    Trainable params\n",
      "0         Non-trainable params\n",
      "15.1 K    Total params\n",
      "0.060     Total estimated model params size (MB)\n"
     ]
    },
    {
     "name": "stdout",
     "output_type": "stream",
     "text": [
      "Epoch 0: 100%|██████████| 739/739 [00:08<00:00, 88.42it/s, v_num=10, train_loss_step=1.090, train_acc_step=0.600, val_loss=1.090, val_acc=0.486, train_loss_epoch=1.140, train_acc_epoch=0.457]"
     ]
    },
    {
     "name": "stderr",
     "output_type": "stream",
     "text": [
      "Metric val_loss improved. New best score: 1.087\n"
     ]
    },
    {
     "name": "stdout",
     "output_type": "stream",
     "text": [
      "Epoch 1: 100%|██████████| 739/739 [00:07<00:00, 92.61it/s, v_num=10, train_loss_step=1.070, train_acc_step=0.450, val_loss=1.070, val_acc=0.491, train_loss_epoch=1.080, train_acc_epoch=0.492] "
     ]
    },
    {
     "name": "stderr",
     "output_type": "stream",
     "text": [
      "Metric val_loss improved by 0.015 >= min_delta = 0.0. New best score: 1.072\n"
     ]
    },
    {
     "name": "stdout",
     "output_type": "stream",
     "text": [
      "Epoch 2: 100%|██████████| 739/739 [00:07<00:00, 92.90it/s, v_num=10, train_loss_step=0.972, train_acc_step=0.650, val_loss=1.070, val_acc=0.496, train_loss_epoch=1.070, train_acc_epoch=0.496] "
     ]
    },
    {
     "name": "stderr",
     "output_type": "stream",
     "text": [
      "Metric val_loss improved by 0.002 >= min_delta = 0.0. New best score: 1.070\n"
     ]
    },
    {
     "name": "stdout",
     "output_type": "stream",
     "text": [
      "Epoch 3: 100%|██████████| 739/739 [00:07<00:00, 92.75it/s, v_num=10, train_loss_step=0.989, train_acc_step=0.550, val_loss=1.060, val_acc=0.506, train_loss_epoch=1.060, train_acc_epoch=0.501] "
     ]
    },
    {
     "name": "stderr",
     "output_type": "stream",
     "text": [
      "Metric val_loss improved by 0.009 >= min_delta = 0.0. New best score: 1.062\n"
     ]
    },
    {
     "name": "stdout",
     "output_type": "stream",
     "text": [
      "Epoch 5: 100%|██████████| 739/739 [00:08<00:00, 92.08it/s, v_num=10, train_loss_step=1.020, train_acc_step=0.650, val_loss=1.060, val_acc=0.503, train_loss_epoch=1.050, train_acc_epoch=0.513] "
     ]
    },
    {
     "name": "stderr",
     "output_type": "stream",
     "text": [
      "Metric val_loss improved by 0.004 >= min_delta = 0.0. New best score: 1.058\n"
     ]
    },
    {
     "name": "stdout",
     "output_type": "stream",
     "text": [
      "Epoch 7: 100%|██████████| 739/739 [00:07<00:00, 94.60it/s, v_num=10, train_loss_step=0.926, train_acc_step=0.600, val_loss=1.050, val_acc=0.506, train_loss_epoch=1.030, train_acc_epoch=0.525] "
     ]
    },
    {
     "name": "stderr",
     "output_type": "stream",
     "text": [
      "Metric val_loss improved by 0.003 >= min_delta = 0.0. New best score: 1.054\n"
     ]
    },
    {
     "name": "stdout",
     "output_type": "stream",
     "text": [
      "Epoch 8: 100%|██████████| 739/739 [00:08<00:00, 90.11it/s, v_num=10, train_loss_step=1.170, train_acc_step=0.300, val_loss=1.050, val_acc=0.505, train_loss_epoch=1.030, train_acc_epoch=0.526] "
     ]
    },
    {
     "name": "stderr",
     "output_type": "stream",
     "text": [
      "Metric val_loss improved by 0.000 >= min_delta = 0.0. New best score: 1.054\n"
     ]
    },
    {
     "name": "stdout",
     "output_type": "stream",
     "text": [
      "Epoch 9: 100%|██████████| 739/739 [00:07<00:00, 92.76it/s, v_num=10, train_loss_step=1.180, train_acc_step=0.350, val_loss=1.050, val_acc=0.510, train_loss_epoch=1.020, train_acc_epoch=0.531] "
     ]
    },
    {
     "name": "stderr",
     "output_type": "stream",
     "text": [
      "Metric val_loss improved by 0.002 >= min_delta = 0.0. New best score: 1.051\n"
     ]
    },
    {
     "name": "stdout",
     "output_type": "stream",
     "text": [
      "Epoch 10: 100%|██████████| 739/739 [00:08<00:00, 89.50it/s, v_num=10, train_loss_step=1.590, train_acc_step=0.300, val_loss=1.050, val_acc=0.513, train_loss_epoch=1.020, train_acc_epoch=0.532] "
     ]
    },
    {
     "name": "stderr",
     "output_type": "stream",
     "text": [
      "Metric val_loss improved by 0.001 >= min_delta = 0.0. New best score: 1.051\n"
     ]
    },
    {
     "name": "stdout",
     "output_type": "stream",
     "text": [
      "Epoch 11: 100%|██████████| 739/739 [00:08<00:00, 89.64it/s, v_num=10, train_loss_step=0.807, train_acc_step=0.550, val_loss=1.050, val_acc=0.513, train_loss_epoch=1.010, train_acc_epoch=0.538] "
     ]
    },
    {
     "name": "stderr",
     "output_type": "stream",
     "text": [
      "Metric val_loss improved by 0.003 >= min_delta = 0.0. New best score: 1.047\n"
     ]
    },
    {
     "name": "stdout",
     "output_type": "stream",
     "text": [
      "Epoch 16: 100%|██████████| 739/739 [00:07<00:00, 94.53it/s, v_num=10, train_loss_step=0.706, train_acc_step=0.800, val_loss=1.060, val_acc=0.511, train_loss_epoch=0.988, train_acc_epoch=0.551] "
     ]
    },
    {
     "name": "stderr",
     "output_type": "stream",
     "text": [
      "Monitored metric val_loss did not improve in the last 5 records. Best score: 1.047. Signaling Trainer to stop.\n"
     ]
    },
    {
     "name": "stdout",
     "output_type": "stream",
     "text": [
      "Epoch 16: 100%|██████████| 739/739 [00:07<00:00, 94.35it/s, v_num=10, train_loss_step=0.706, train_acc_step=0.800, val_loss=1.060, val_acc=0.511, train_loss_epoch=0.988, train_acc_epoch=0.551]"
     ]
    },
    {
     "name": "stderr",
     "output_type": "stream",
     "text": [
      "[I 2024-04-24 12:33:38,876] Trial 10 finished with value: 1.0563042163848877 and parameters: {'lr': 0.00046952505079416725, 'hidden_size': 256, 'num_hidden_layers': 1, 'dropout_rate': 0.10760464954420024, 'activation': 'leaky_relu'}. Best is trial 5 with value: 1.0496712923049927.\n"
     ]
    },
    {
     "name": "stdout",
     "output_type": "stream",
     "text": [
      "\n"
     ]
    },
    {
     "name": "stderr",
     "output_type": "stream",
     "text": [
      "GPU available: False, used: False\n",
      "TPU available: False, using: 0 TPU cores\n",
      "IPU available: False, using: 0 IPUs\n",
      "HPU available: False, using: 0 HPUs\n",
      "\n",
      "  | Name   | Type       | Params\n",
      "--------------------------------------\n",
      "0 | layers | Sequential | 50.3 K\n",
      "--------------------------------------\n",
      "50.3 K    Trainable params\n",
      "0         Non-trainable params\n",
      "50.3 K    Total params\n",
      "0.201     Total estimated model params size (MB)\n"
     ]
    },
    {
     "name": "stdout",
     "output_type": "stream",
     "text": [
      "Epoch 0: 100%|██████████| 739/739 [00:10<00:00, 72.84it/s, v_num=11, train_loss_step=1.240, train_acc_step=0.350, val_loss=1.120, val_acc=0.468, train_loss_epoch=1.190, train_acc_epoch=0.431]"
     ]
    },
    {
     "name": "stderr",
     "output_type": "stream",
     "text": [
      "Metric val_loss improved. New best score: 1.124\n"
     ]
    },
    {
     "name": "stdout",
     "output_type": "stream",
     "text": [
      "Epoch 1: 100%|██████████| 739/739 [00:10<00:00, 72.76it/s, v_num=11, train_loss_step=1.050, train_acc_step=0.550, val_loss=1.090, val_acc=0.474, train_loss_epoch=1.110, train_acc_epoch=0.468]"
     ]
    },
    {
     "name": "stderr",
     "output_type": "stream",
     "text": [
      "Metric val_loss improved by 0.031 >= min_delta = 0.0. New best score: 1.093\n"
     ]
    },
    {
     "name": "stdout",
     "output_type": "stream",
     "text": [
      "Epoch 2: 100%|██████████| 739/739 [00:10<00:00, 73.26it/s, v_num=11, train_loss_step=1.060, train_acc_step=0.550, val_loss=1.080, val_acc=0.480, train_loss_epoch=1.100, train_acc_epoch=0.476]"
     ]
    },
    {
     "name": "stderr",
     "output_type": "stream",
     "text": [
      "Metric val_loss improved by 0.008 >= min_delta = 0.0. New best score: 1.085\n"
     ]
    },
    {
     "name": "stdout",
     "output_type": "stream",
     "text": [
      "Epoch 3: 100%|██████████| 739/739 [00:09<00:00, 74.46it/s, v_num=11, train_loss_step=1.180, train_acc_step=0.500, val_loss=1.080, val_acc=0.484, train_loss_epoch=1.090, train_acc_epoch=0.482]"
     ]
    },
    {
     "name": "stderr",
     "output_type": "stream",
     "text": [
      "Metric val_loss improved by 0.001 >= min_delta = 0.0. New best score: 1.083\n"
     ]
    },
    {
     "name": "stdout",
     "output_type": "stream",
     "text": [
      "Epoch 4: 100%|██████████| 739/739 [00:09<00:00, 74.62it/s, v_num=11, train_loss_step=1.060, train_acc_step=0.450, val_loss=1.080, val_acc=0.483, train_loss_epoch=1.090, train_acc_epoch=0.481]"
     ]
    },
    {
     "name": "stderr",
     "output_type": "stream",
     "text": [
      "Metric val_loss improved by 0.004 >= min_delta = 0.0. New best score: 1.080\n"
     ]
    },
    {
     "name": "stdout",
     "output_type": "stream",
     "text": [
      "Epoch 5: 100%|██████████| 739/739 [00:09<00:00, 74.64it/s, v_num=11, train_loss_step=1.030, train_acc_step=0.500, val_loss=1.080, val_acc=0.488, train_loss_epoch=1.090, train_acc_epoch=0.482]"
     ]
    },
    {
     "name": "stderr",
     "output_type": "stream",
     "text": [
      "Metric val_loss improved by 0.001 >= min_delta = 0.0. New best score: 1.079\n"
     ]
    },
    {
     "name": "stdout",
     "output_type": "stream",
     "text": [
      "Epoch 7: 100%|██████████| 739/739 [00:10<00:00, 68.06it/s, v_num=11, train_loss_step=0.830, train_acc_step=0.700, val_loss=1.080, val_acc=0.487, train_loss_epoch=1.090, train_acc_epoch=0.483]"
     ]
    },
    {
     "name": "stderr",
     "output_type": "stream",
     "text": [
      "Metric val_loss improved by 0.001 >= min_delta = 0.0. New best score: 1.078\n"
     ]
    },
    {
     "name": "stdout",
     "output_type": "stream",
     "text": [
      "Epoch 8: 100%|██████████| 739/739 [00:12<00:00, 59.91it/s, v_num=11, train_loss_step=1.090, train_acc_step=0.550, val_loss=1.080, val_acc=0.488, train_loss_epoch=1.090, train_acc_epoch=0.483]"
     ]
    },
    {
     "name": "stderr",
     "output_type": "stream",
     "text": [
      "Metric val_loss improved by 0.001 >= min_delta = 0.0. New best score: 1.077\n"
     ]
    },
    {
     "name": "stdout",
     "output_type": "stream",
     "text": [
      "Epoch 11: 100%|██████████| 739/739 [00:10<00:00, 72.33it/s, v_num=11, train_loss_step=1.150, train_acc_step=0.350, val_loss=1.080, val_acc=0.488, train_loss_epoch=1.090, train_acc_epoch=0.487]"
     ]
    },
    {
     "name": "stderr",
     "output_type": "stream",
     "text": [
      "Metric val_loss improved by 0.002 >= min_delta = 0.0. New best score: 1.075\n"
     ]
    },
    {
     "name": "stdout",
     "output_type": "stream",
     "text": [
      "Epoch 16: 100%|██████████| 739/739 [00:09<00:00, 74.22it/s, v_num=11, train_loss_step=1.190, train_acc_step=0.450, val_loss=1.070, val_acc=0.493, train_loss_epoch=1.080, train_acc_epoch=0.489]"
     ]
    },
    {
     "name": "stderr",
     "output_type": "stream",
     "text": [
      "Metric val_loss improved by 0.002 >= min_delta = 0.0. New best score: 1.074\n"
     ]
    },
    {
     "name": "stdout",
     "output_type": "stream",
     "text": [
      "Epoch 17: 100%|██████████| 739/739 [00:10<00:00, 71.69it/s, v_num=11, train_loss_step=1.070, train_acc_step=0.500, val_loss=1.070, val_acc=0.493, train_loss_epoch=1.080, train_acc_epoch=0.487]"
     ]
    },
    {
     "name": "stderr",
     "output_type": "stream",
     "text": [
      "Metric val_loss improved by 0.001 >= min_delta = 0.0. New best score: 1.073\n"
     ]
    },
    {
     "name": "stdout",
     "output_type": "stream",
     "text": [
      "Epoch 21: 100%|██████████| 739/739 [00:09<00:00, 75.25it/s, v_num=11, train_loss_step=1.130, train_acc_step=0.350, val_loss=1.070, val_acc=0.490, train_loss_epoch=1.080, train_acc_epoch=0.489]"
     ]
    },
    {
     "name": "stderr",
     "output_type": "stream",
     "text": [
      "Metric val_loss improved by 0.001 >= min_delta = 0.0. New best score: 1.073\n"
     ]
    },
    {
     "name": "stdout",
     "output_type": "stream",
     "text": [
      "Epoch 26: 100%|██████████| 739/739 [00:10<00:00, 73.21it/s, v_num=11, train_loss_step=1.040, train_acc_step=0.500, val_loss=1.070, val_acc=0.488, train_loss_epoch=1.080, train_acc_epoch=0.491]"
     ]
    },
    {
     "name": "stderr",
     "output_type": "stream",
     "text": [
      "Monitored metric val_loss did not improve in the last 5 records. Best score: 1.073. Signaling Trainer to stop.\n"
     ]
    },
    {
     "name": "stdout",
     "output_type": "stream",
     "text": [
      "Epoch 26: 100%|██████████| 739/739 [00:10<00:00, 73.07it/s, v_num=11, train_loss_step=1.040, train_acc_step=0.500, val_loss=1.070, val_acc=0.488, train_loss_epoch=1.080, train_acc_epoch=0.491]\n"
     ]
    },
    {
     "name": "stderr",
     "output_type": "stream",
     "text": [
      "[I 2024-04-24 12:38:13,290] Trial 11 finished with value: 1.0733962059020996 and parameters: {'lr': 0.00011468815981982816, 'hidden_size': 144, 'num_hidden_layers': 3, 'dropout_rate': 0.24707119573983052, 'activation': 'elu'}. Best is trial 5 with value: 1.0496712923049927.\n",
      "GPU available: False, used: False\n",
      "TPU available: False, using: 0 TPU cores\n",
      "IPU available: False, using: 0 IPUs\n",
      "HPU available: False, using: 0 HPUs\n",
      "\n",
      "  | Name   | Type       | Params\n",
      "--------------------------------------\n",
      "0 | layers | Sequential | 61.0 K\n",
      "--------------------------------------\n",
      "61.0 K    Trainable params\n",
      "0         Non-trainable params\n",
      "61.0 K    Total params\n",
      "0.244     Total estimated model params size (MB)\n"
     ]
    },
    {
     "name": "stdout",
     "output_type": "stream",
     "text": [
      "Epoch 0: 100%|██████████| 739/739 [00:10<00:00, 70.26it/s, v_num=12, train_loss_step=1.010, train_acc_step=0.500, val_loss=1.090, val_acc=0.480, train_loss_epoch=1.130, train_acc_epoch=0.457]"
     ]
    },
    {
     "name": "stderr",
     "output_type": "stream",
     "text": [
      "Metric val_loss improved. New best score: 1.087\n"
     ]
    },
    {
     "name": "stdout",
     "output_type": "stream",
     "text": [
      "Epoch 1: 100%|██████████| 739/739 [00:10<00:00, 70.88it/s, v_num=12, train_loss_step=1.070, train_acc_step=0.350, val_loss=1.080, val_acc=0.481, train_loss_epoch=1.100, train_acc_epoch=0.480]"
     ]
    },
    {
     "name": "stderr",
     "output_type": "stream",
     "text": [
      "Metric val_loss improved by 0.003 >= min_delta = 0.0. New best score: 1.083\n"
     ]
    },
    {
     "name": "stdout",
     "output_type": "stream",
     "text": [
      "Epoch 2: 100%|██████████| 739/739 [00:10<00:00, 70.09it/s, v_num=12, train_loss_step=1.270, train_acc_step=0.300, val_loss=1.080, val_acc=0.487, train_loss_epoch=1.090, train_acc_epoch=0.481]"
     ]
    },
    {
     "name": "stderr",
     "output_type": "stream",
     "text": [
      "Metric val_loss improved by 0.003 >= min_delta = 0.0. New best score: 1.080\n"
     ]
    },
    {
     "name": "stdout",
     "output_type": "stream",
     "text": [
      "Epoch 5: 100%|██████████| 739/739 [00:10<00:00, 71.07it/s, v_num=12, train_loss_step=1.050, train_acc_step=0.400, val_loss=1.080, val_acc=0.485, train_loss_epoch=1.080, train_acc_epoch=0.484]"
     ]
    },
    {
     "name": "stderr",
     "output_type": "stream",
     "text": [
      "Metric val_loss improved by 0.000 >= min_delta = 0.0. New best score: 1.080\n"
     ]
    },
    {
     "name": "stdout",
     "output_type": "stream",
     "text": [
      "Epoch 6: 100%|██████████| 739/739 [00:10<00:00, 70.62it/s, v_num=12, train_loss_step=1.160, train_acc_step=0.400, val_loss=1.070, val_acc=0.492, train_loss_epoch=1.080, train_acc_epoch=0.487]"
     ]
    },
    {
     "name": "stderr",
     "output_type": "stream",
     "text": [
      "Metric val_loss improved by 0.007 >= min_delta = 0.0. New best score: 1.073\n"
     ]
    },
    {
     "name": "stdout",
     "output_type": "stream",
     "text": [
      "Epoch 10: 100%|██████████| 739/739 [00:10<00:00, 71.49it/s, v_num=12, train_loss_step=0.966, train_acc_step=0.550, val_loss=1.070, val_acc=0.496, train_loss_epoch=1.080, train_acc_epoch=0.492]"
     ]
    },
    {
     "name": "stderr",
     "output_type": "stream",
     "text": [
      "Metric val_loss improved by 0.007 >= min_delta = 0.0. New best score: 1.066\n"
     ]
    },
    {
     "name": "stdout",
     "output_type": "stream",
     "text": [
      "Epoch 12: 100%|██████████| 739/739 [00:12<00:00, 59.20it/s, v_num=12, train_loss_step=1.020, train_acc_step=0.550, val_loss=1.060, val_acc=0.494, train_loss_epoch=1.070, train_acc_epoch=0.492]"
     ]
    },
    {
     "name": "stderr",
     "output_type": "stream",
     "text": [
      "Metric val_loss improved by 0.003 >= min_delta = 0.0. New best score: 1.062\n"
     ]
    },
    {
     "name": "stdout",
     "output_type": "stream",
     "text": [
      "Epoch 14: 100%|██████████| 739/739 [00:10<00:00, 71.57it/s, v_num=12, train_loss_step=1.510, train_acc_step=0.450, val_loss=1.060, val_acc=0.499, train_loss_epoch=1.070, train_acc_epoch=0.496]"
     ]
    },
    {
     "name": "stderr",
     "output_type": "stream",
     "text": [
      "Metric val_loss improved by 0.001 >= min_delta = 0.0. New best score: 1.062\n"
     ]
    },
    {
     "name": "stdout",
     "output_type": "stream",
     "text": [
      "Epoch 15: 100%|██████████| 739/739 [00:10<00:00, 70.83it/s, v_num=12, train_loss_step=1.210, train_acc_step=0.400, val_loss=1.060, val_acc=0.498, train_loss_epoch=1.070, train_acc_epoch=0.498]"
     ]
    },
    {
     "name": "stderr",
     "output_type": "stream",
     "text": [
      "Metric val_loss improved by 0.000 >= min_delta = 0.0. New best score: 1.061\n"
     ]
    },
    {
     "name": "stdout",
     "output_type": "stream",
     "text": [
      "Epoch 16: 100%|██████████| 739/739 [00:10<00:00, 71.10it/s, v_num=12, train_loss_step=1.130, train_acc_step=0.550, val_loss=1.060, val_acc=0.505, train_loss_epoch=1.060, train_acc_epoch=0.496]"
     ]
    },
    {
     "name": "stderr",
     "output_type": "stream",
     "text": [
      "Metric val_loss improved by 0.004 >= min_delta = 0.0. New best score: 1.058\n"
     ]
    },
    {
     "name": "stdout",
     "output_type": "stream",
     "text": [
      "Epoch 20: 100%|██████████| 739/739 [00:10<00:00, 72.10it/s, v_num=12, train_loss_step=1.000, train_acc_step=0.600, val_loss=1.060, val_acc=0.505, train_loss_epoch=1.060, train_acc_epoch=0.502]"
     ]
    },
    {
     "name": "stderr",
     "output_type": "stream",
     "text": [
      "Metric val_loss improved by 0.002 >= min_delta = 0.0. New best score: 1.056\n"
     ]
    },
    {
     "name": "stdout",
     "output_type": "stream",
     "text": [
      "Epoch 22: 100%|██████████| 739/739 [00:11<00:00, 67.00it/s, v_num=12, train_loss_step=0.800, train_acc_step=0.650, val_loss=1.050, val_acc=0.506, train_loss_epoch=1.050, train_acc_epoch=0.507]"
     ]
    },
    {
     "name": "stderr",
     "output_type": "stream",
     "text": [
      "Metric val_loss improved by 0.003 >= min_delta = 0.0. New best score: 1.053\n"
     ]
    },
    {
     "name": "stdout",
     "output_type": "stream",
     "text": [
      "Epoch 23: 100%|██████████| 739/739 [00:10<00:00, 69.50it/s, v_num=12, train_loss_step=1.170, train_acc_step=0.550, val_loss=1.050, val_acc=0.506, train_loss_epoch=1.050, train_acc_epoch=0.505]"
     ]
    },
    {
     "name": "stderr",
     "output_type": "stream",
     "text": [
      "Metric val_loss improved by 0.000 >= min_delta = 0.0. New best score: 1.053\n"
     ]
    },
    {
     "name": "stdout",
     "output_type": "stream",
     "text": [
      "Epoch 24: 100%|██████████| 739/739 [00:11<00:00, 67.16it/s, v_num=12, train_loss_step=1.040, train_acc_step=0.550, val_loss=1.050, val_acc=0.503, train_loss_epoch=1.050, train_acc_epoch=0.511]"
     ]
    },
    {
     "name": "stderr",
     "output_type": "stream",
     "text": [
      "Metric val_loss improved by 0.000 >= min_delta = 0.0. New best score: 1.053\n"
     ]
    },
    {
     "name": "stdout",
     "output_type": "stream",
     "text": [
      "Epoch 27: 100%|██████████| 739/739 [00:10<00:00, 71.79it/s, v_num=12, train_loss_step=1.100, train_acc_step=0.350, val_loss=1.050, val_acc=0.513, train_loss_epoch=1.040, train_acc_epoch=0.512]"
     ]
    },
    {
     "name": "stderr",
     "output_type": "stream",
     "text": [
      "Metric val_loss improved by 0.001 >= min_delta = 0.0. New best score: 1.052\n"
     ]
    },
    {
     "name": "stdout",
     "output_type": "stream",
     "text": [
      "Epoch 29: 100%|██████████| 739/739 [00:10<00:00, 71.27it/s, v_num=12, train_loss_step=1.090, train_acc_step=0.500, val_loss=1.050, val_acc=0.505, train_loss_epoch=1.040, train_acc_epoch=0.514]"
     ]
    },
    {
     "name": "stderr",
     "output_type": "stream",
     "text": [
      "Metric val_loss improved by 0.001 >= min_delta = 0.0. New best score: 1.052\n"
     ]
    },
    {
     "name": "stdout",
     "output_type": "stream",
     "text": [
      "Epoch 33: 100%|██████████| 739/739 [00:10<00:00, 69.75it/s, v_num=12, train_loss_step=1.040, train_acc_step=0.450, val_loss=1.050, val_acc=0.512, train_loss_epoch=1.040, train_acc_epoch=0.516]"
     ]
    },
    {
     "name": "stderr",
     "output_type": "stream",
     "text": [
      "Metric val_loss improved by 0.004 >= min_delta = 0.0. New best score: 1.048\n"
     ]
    },
    {
     "name": "stdout",
     "output_type": "stream",
     "text": [
      "Epoch 37: 100%|██████████| 739/739 [00:10<00:00, 73.01it/s, v_num=12, train_loss_step=1.010, train_acc_step=0.450, val_loss=1.040, val_acc=0.519, train_loss_epoch=1.030, train_acc_epoch=0.521]"
     ]
    },
    {
     "name": "stderr",
     "output_type": "stream",
     "text": [
      "Metric val_loss improved by 0.003 >= min_delta = 0.0. New best score: 1.045\n"
     ]
    },
    {
     "name": "stdout",
     "output_type": "stream",
     "text": [
      "Epoch 42: 100%|██████████| 739/739 [00:10<00:00, 69.37it/s, v_num=12, train_loss_step=1.020, train_acc_step=0.550, val_loss=1.040, val_acc=0.519, train_loss_epoch=1.020, train_acc_epoch=0.523]"
     ]
    },
    {
     "name": "stderr",
     "output_type": "stream",
     "text": [
      "Metric val_loss improved by 0.002 >= min_delta = 0.0. New best score: 1.043\n"
     ]
    },
    {
     "name": "stdout",
     "output_type": "stream",
     "text": [
      "Epoch 47: 100%|██████████| 739/739 [00:11<00:00, 66.83it/s, v_num=12, train_loss_step=1.000, train_acc_step=0.550, val_loss=1.050, val_acc=0.506, train_loss_epoch=1.010, train_acc_epoch=0.528]"
     ]
    },
    {
     "name": "stderr",
     "output_type": "stream",
     "text": [
      "Monitored metric val_loss did not improve in the last 5 records. Best score: 1.043. Signaling Trainer to stop.\n"
     ]
    },
    {
     "name": "stdout",
     "output_type": "stream",
     "text": [
      "Epoch 47: 100%|██████████| 739/739 [00:11<00:00, 66.73it/s, v_num=12, train_loss_step=1.000, train_acc_step=0.550, val_loss=1.050, val_acc=0.506, train_loss_epoch=1.010, train_acc_epoch=0.528]"
     ]
    },
    {
     "name": "stderr",
     "output_type": "stream",
     "text": [
      "[I 2024-04-24 12:46:48,373] Trial 12 finished with value: 1.0521278381347656 and parameters: {'lr': 0.00041208434410621613, 'hidden_size': 160, 'num_hidden_layers': 3, 'dropout_rate': 0.1845908015797868, 'activation': 'elu'}. Best is trial 5 with value: 1.0496712923049927.\n"
     ]
    },
    {
     "name": "stdout",
     "output_type": "stream",
     "text": [
      "\n"
     ]
    },
    {
     "name": "stderr",
     "output_type": "stream",
     "text": [
      "GPU available: False, used: False\n",
      "TPU available: False, using: 0 TPU cores\n",
      "IPU available: False, using: 0 IPUs\n",
      "HPU available: False, using: 0 HPUs\n",
      "\n",
      "  | Name   | Type       | Params\n",
      "--------------------------------------\n",
      "0 | layers | Sequential | 146 K \n",
      "--------------------------------------\n",
      "146 K     Trainable params\n",
      "0         Non-trainable params\n",
      "146 K     Total params\n",
      "0.587     Total estimated model params size (MB)\n"
     ]
    },
    {
     "name": "stdout",
     "output_type": "stream",
     "text": [
      "Epoch 0: 100%|██████████| 739/739 [00:16<00:00, 45.21it/s, v_num=13, train_loss_step=1.380, train_acc_step=0.500, val_loss=1.100, val_acc=0.469, train_loss_epoch=1.150, train_acc_epoch=0.448]"
     ]
    },
    {
     "name": "stderr",
     "output_type": "stream",
     "text": [
      "Metric val_loss improved. New best score: 1.098\n"
     ]
    },
    {
     "name": "stdout",
     "output_type": "stream",
     "text": [
      "Epoch 1: 100%|██████████| 739/739 [00:13<00:00, 55.32it/s, v_num=13, train_loss_step=1.190, train_acc_step=0.350, val_loss=1.090, val_acc=0.481, train_loss_epoch=1.100, train_acc_epoch=0.472]"
     ]
    },
    {
     "name": "stderr",
     "output_type": "stream",
     "text": [
      "Metric val_loss improved by 0.009 >= min_delta = 0.0. New best score: 1.088\n"
     ]
    },
    {
     "name": "stdout",
     "output_type": "stream",
     "text": [
      "Epoch 2: 100%|██████████| 739/739 [00:12<00:00, 57.66it/s, v_num=13, train_loss_step=0.906, train_acc_step=0.550, val_loss=1.080, val_acc=0.482, train_loss_epoch=1.100, train_acc_epoch=0.479]"
     ]
    },
    {
     "name": "stderr",
     "output_type": "stream",
     "text": [
      "Metric val_loss improved by 0.004 >= min_delta = 0.0. New best score: 1.085\n"
     ]
    },
    {
     "name": "stdout",
     "output_type": "stream",
     "text": [
      "Epoch 3: 100%|██████████| 739/739 [00:12<00:00, 57.23it/s, v_num=13, train_loss_step=1.130, train_acc_step=0.400, val_loss=1.080, val_acc=0.484, train_loss_epoch=1.090, train_acc_epoch=0.480]"
     ]
    },
    {
     "name": "stderr",
     "output_type": "stream",
     "text": [
      "Metric val_loss improved by 0.002 >= min_delta = 0.0. New best score: 1.082\n"
     ]
    },
    {
     "name": "stdout",
     "output_type": "stream",
     "text": [
      "Epoch 4: 100%|██████████| 739/739 [00:14<00:00, 51.78it/s, v_num=13, train_loss_step=1.070, train_acc_step=0.450, val_loss=1.080, val_acc=0.486, train_loss_epoch=1.090, train_acc_epoch=0.481]"
     ]
    },
    {
     "name": "stderr",
     "output_type": "stream",
     "text": [
      "Metric val_loss improved by 0.002 >= min_delta = 0.0. New best score: 1.080\n"
     ]
    },
    {
     "name": "stdout",
     "output_type": "stream",
     "text": [
      "Epoch 5: 100%|██████████| 739/739 [00:13<00:00, 54.51it/s, v_num=13, train_loss_step=1.180, train_acc_step=0.350, val_loss=1.080, val_acc=0.493, train_loss_epoch=1.090, train_acc_epoch=0.483]"
     ]
    },
    {
     "name": "stderr",
     "output_type": "stream",
     "text": [
      "Metric val_loss improved by 0.003 >= min_delta = 0.0. New best score: 1.077\n"
     ]
    },
    {
     "name": "stdout",
     "output_type": "stream",
     "text": [
      "Epoch 8: 100%|██████████| 739/739 [00:12<00:00, 61.51it/s, v_num=13, train_loss_step=1.030, train_acc_step=0.500, val_loss=1.070, val_acc=0.494, train_loss_epoch=1.090, train_acc_epoch=0.484]"
     ]
    },
    {
     "name": "stderr",
     "output_type": "stream",
     "text": [
      "Metric val_loss improved by 0.003 >= min_delta = 0.0. New best score: 1.074\n"
     ]
    },
    {
     "name": "stdout",
     "output_type": "stream",
     "text": [
      "Epoch 11: 100%|██████████| 739/739 [00:14<00:00, 50.08it/s, v_num=13, train_loss_step=0.980, train_acc_step=0.450, val_loss=1.070, val_acc=0.490, train_loss_epoch=1.080, train_acc_epoch=0.489]"
     ]
    },
    {
     "name": "stderr",
     "output_type": "stream",
     "text": [
      "Metric val_loss improved by 0.005 >= min_delta = 0.0. New best score: 1.070\n"
     ]
    },
    {
     "name": "stdout",
     "output_type": "stream",
     "text": [
      "Epoch 16: 100%|██████████| 739/739 [00:14<00:00, 52.13it/s, v_num=13, train_loss_step=0.877, train_acc_step=0.600, val_loss=1.070, val_acc=0.499, train_loss_epoch=1.070, train_acc_epoch=0.492]"
     ]
    },
    {
     "name": "stderr",
     "output_type": "stream",
     "text": [
      "Monitored metric val_loss did not improve in the last 5 records. Best score: 1.070. Signaling Trainer to stop.\n"
     ]
    },
    {
     "name": "stdout",
     "output_type": "stream",
     "text": [
      "Epoch 16: 100%|██████████| 739/739 [00:14<00:00, 52.05it/s, v_num=13, train_loss_step=0.877, train_acc_step=0.600, val_loss=1.070, val_acc=0.499, train_loss_epoch=1.070, train_acc_epoch=0.492]"
     ]
    },
    {
     "name": "stderr",
     "output_type": "stream",
     "text": [
      "[I 2024-04-24 12:50:35,256] Trial 13 finished with value: 1.0713858604431152 and parameters: {'lr': 0.00019799636933390486, 'hidden_size': 256, 'num_hidden_layers': 3, 'dropout_rate': 0.3310132169796834, 'activation': 'elu'}. Best is trial 5 with value: 1.0496712923049927.\n"
     ]
    },
    {
     "name": "stdout",
     "output_type": "stream",
     "text": [
      "\n"
     ]
    },
    {
     "name": "stderr",
     "output_type": "stream",
     "text": [
      "GPU available: False, used: False\n",
      "TPU available: False, using: 0 TPU cores\n",
      "IPU available: False, using: 0 IPUs\n",
      "HPU available: False, using: 0 HPUs\n",
      "\n",
      "  | Name   | Type       | Params\n",
      "--------------------------------------\n",
      "0 | layers | Sequential | 50.3 K\n",
      "--------------------------------------\n",
      "50.3 K    Trainable params\n",
      "0         Non-trainable params\n",
      "50.3 K    Total params\n",
      "0.201     Total estimated model params size (MB)\n"
     ]
    },
    {
     "name": "stdout",
     "output_type": "stream",
     "text": [
      "Epoch 0: 100%|██████████| 739/739 [00:11<00:00, 62.45it/s, v_num=14, train_loss_step=1.220, train_acc_step=0.350, val_loss=1.090, val_acc=0.483, train_loss_epoch=1.130, train_acc_epoch=0.453]"
     ]
    },
    {
     "name": "stderr",
     "output_type": "stream",
     "text": [
      "Metric val_loss improved. New best score: 1.090\n"
     ]
    },
    {
     "name": "stdout",
     "output_type": "stream",
     "text": [
      "Epoch 1: 100%|██████████| 739/739 [00:12<00:00, 59.91it/s, v_num=14, train_loss_step=1.070, train_acc_step=0.450, val_loss=1.090, val_acc=0.486, train_loss_epoch=1.100, train_acc_epoch=0.475]"
     ]
    },
    {
     "name": "stderr",
     "output_type": "stream",
     "text": [
      "Metric val_loss improved by 0.004 >= min_delta = 0.0. New best score: 1.086\n"
     ]
    },
    {
     "name": "stdout",
     "output_type": "stream",
     "text": [
      "Epoch 2: 100%|██████████| 739/739 [00:15<00:00, 47.08it/s, v_num=14, train_loss_step=1.170, train_acc_step=0.500, val_loss=1.080, val_acc=0.485, train_loss_epoch=1.090, train_acc_epoch=0.480]"
     ]
    },
    {
     "name": "stderr",
     "output_type": "stream",
     "text": [
      "Metric val_loss improved by 0.003 >= min_delta = 0.0. New best score: 1.083\n"
     ]
    },
    {
     "name": "stdout",
     "output_type": "stream",
     "text": [
      "Epoch 3: 100%|██████████| 739/739 [00:11<00:00, 63.37it/s, v_num=14, train_loss_step=1.130, train_acc_step=0.450, val_loss=1.080, val_acc=0.491, train_loss_epoch=1.090, train_acc_epoch=0.481]"
     ]
    },
    {
     "name": "stderr",
     "output_type": "stream",
     "text": [
      "Metric val_loss improved by 0.006 >= min_delta = 0.0. New best score: 1.077\n"
     ]
    },
    {
     "name": "stdout",
     "output_type": "stream",
     "text": [
      "Epoch 5: 100%|██████████| 739/739 [00:11<00:00, 67.05it/s, v_num=14, train_loss_step=0.953, train_acc_step=0.500, val_loss=1.070, val_acc=0.493, train_loss_epoch=1.090, train_acc_epoch=0.485]"
     ]
    },
    {
     "name": "stderr",
     "output_type": "stream",
     "text": [
      "Metric val_loss improved by 0.005 >= min_delta = 0.0. New best score: 1.072\n"
     ]
    },
    {
     "name": "stdout",
     "output_type": "stream",
     "text": [
      "Epoch 8: 100%|██████████| 739/739 [00:11<00:00, 65.45it/s, v_num=14, train_loss_step=0.924, train_acc_step=0.450, val_loss=1.070, val_acc=0.496, train_loss_epoch=1.080, train_acc_epoch=0.491]"
     ]
    },
    {
     "name": "stderr",
     "output_type": "stream",
     "text": [
      "Metric val_loss improved by 0.004 >= min_delta = 0.0. New best score: 1.068\n"
     ]
    },
    {
     "name": "stdout",
     "output_type": "stream",
     "text": [
      "Epoch 9: 100%|██████████| 739/739 [00:11<00:00, 64.32it/s, v_num=14, train_loss_step=1.280, train_acc_step=0.350, val_loss=1.070, val_acc=0.494, train_loss_epoch=1.080, train_acc_epoch=0.490]"
     ]
    },
    {
     "name": "stderr",
     "output_type": "stream",
     "text": [
      "Metric val_loss improved by 0.002 >= min_delta = 0.0. New best score: 1.066\n"
     ]
    },
    {
     "name": "stdout",
     "output_type": "stream",
     "text": [
      "Epoch 13: 100%|██████████| 739/739 [00:11<00:00, 66.55it/s, v_num=14, train_loss_step=0.958, train_acc_step=0.600, val_loss=1.060, val_acc=0.501, train_loss_epoch=1.060, train_acc_epoch=0.498]"
     ]
    },
    {
     "name": "stderr",
     "output_type": "stream",
     "text": [
      "Metric val_loss improved by 0.004 >= min_delta = 0.0. New best score: 1.062\n"
     ]
    },
    {
     "name": "stdout",
     "output_type": "stream",
     "text": [
      "Epoch 16: 100%|██████████| 739/739 [00:11<00:00, 66.07it/s, v_num=14, train_loss_step=1.060, train_acc_step=0.500, val_loss=1.050, val_acc=0.507, train_loss_epoch=1.060, train_acc_epoch=0.496]"
     ]
    },
    {
     "name": "stderr",
     "output_type": "stream",
     "text": [
      "Metric val_loss improved by 0.008 >= min_delta = 0.0. New best score: 1.054\n"
     ]
    },
    {
     "name": "stdout",
     "output_type": "stream",
     "text": [
      "Epoch 21: 100%|██████████| 739/739 [00:11<00:00, 66.21it/s, v_num=14, train_loss_step=1.010, train_acc_step=0.650, val_loss=1.050, val_acc=0.506, train_loss_epoch=1.050, train_acc_epoch=0.506]"
     ]
    },
    {
     "name": "stderr",
     "output_type": "stream",
     "text": [
      "Metric val_loss improved by 0.000 >= min_delta = 0.0. New best score: 1.054\n"
     ]
    },
    {
     "name": "stdout",
     "output_type": "stream",
     "text": [
      "Epoch 22: 100%|██████████| 739/739 [00:11<00:00, 64.07it/s, v_num=14, train_loss_step=1.130, train_acc_step=0.350, val_loss=1.050, val_acc=0.508, train_loss_epoch=1.050, train_acc_epoch=0.507]"
     ]
    },
    {
     "name": "stderr",
     "output_type": "stream",
     "text": [
      "Metric val_loss improved by 0.000 >= min_delta = 0.0. New best score: 1.054\n"
     ]
    },
    {
     "name": "stdout",
     "output_type": "stream",
     "text": [
      "Epoch 25: 100%|██████████| 739/739 [00:11<00:00, 63.19it/s, v_num=14, train_loss_step=1.380, train_acc_step=0.400, val_loss=1.050, val_acc=0.510, train_loss_epoch=1.040, train_acc_epoch=0.512]"
     ]
    },
    {
     "name": "stderr",
     "output_type": "stream",
     "text": [
      "Metric val_loss improved by 0.003 >= min_delta = 0.0. New best score: 1.051\n"
     ]
    },
    {
     "name": "stdout",
     "output_type": "stream",
     "text": [
      "Epoch 27: 100%|██████████| 739/739 [00:12<00:00, 60.12it/s, v_num=14, train_loss_step=0.980, train_acc_step=0.500, val_loss=1.050, val_acc=0.513, train_loss_epoch=1.040, train_acc_epoch=0.515]"
     ]
    },
    {
     "name": "stderr",
     "output_type": "stream",
     "text": [
      "Metric val_loss improved by 0.003 >= min_delta = 0.0. New best score: 1.049\n"
     ]
    },
    {
     "name": "stdout",
     "output_type": "stream",
     "text": [
      "Epoch 28: 100%|██████████| 739/739 [00:11<00:00, 63.46it/s, v_num=14, train_loss_step=0.844, train_acc_step=0.750, val_loss=1.050, val_acc=0.508, train_loss_epoch=1.040, train_acc_epoch=0.514]"
     ]
    },
    {
     "name": "stderr",
     "output_type": "stream",
     "text": [
      "Metric val_loss improved by 0.001 >= min_delta = 0.0. New best score: 1.048\n"
     ]
    },
    {
     "name": "stdout",
     "output_type": "stream",
     "text": [
      "Epoch 32: 100%|██████████| 739/739 [00:10<00:00, 69.82it/s, v_num=14, train_loss_step=1.150, train_acc_step=0.500, val_loss=1.050, val_acc=0.512, train_loss_epoch=1.030, train_acc_epoch=0.520]"
     ]
    },
    {
     "name": "stderr",
     "output_type": "stream",
     "text": [
      "Metric val_loss improved by 0.001 >= min_delta = 0.0. New best score: 1.046\n"
     ]
    },
    {
     "name": "stdout",
     "output_type": "stream",
     "text": [
      "Epoch 35: 100%|██████████| 739/739 [00:10<00:00, 73.35it/s, v_num=14, train_loss_step=0.818, train_acc_step=0.600, val_loss=1.050, val_acc=0.516, train_loss_epoch=1.020, train_acc_epoch=0.522]"
     ]
    },
    {
     "name": "stderr",
     "output_type": "stream",
     "text": [
      "Metric val_loss improved by 0.000 >= min_delta = 0.0. New best score: 1.046\n"
     ]
    },
    {
     "name": "stdout",
     "output_type": "stream",
     "text": [
      "Epoch 38: 100%|██████████| 739/739 [00:10<00:00, 72.76it/s, v_num=14, train_loss_step=0.807, train_acc_step=0.650, val_loss=1.050, val_acc=0.521, train_loss_epoch=1.020, train_acc_epoch=0.524]"
     ]
    },
    {
     "name": "stderr",
     "output_type": "stream",
     "text": [
      "Metric val_loss improved by 0.000 >= min_delta = 0.0. New best score: 1.046\n"
     ]
    },
    {
     "name": "stdout",
     "output_type": "stream",
     "text": [
      "Epoch 43: 100%|██████████| 739/739 [00:10<00:00, 72.39it/s, v_num=14, train_loss_step=1.130, train_acc_step=0.450, val_loss=1.050, val_acc=0.513, train_loss_epoch=1.010, train_acc_epoch=0.534]"
     ]
    },
    {
     "name": "stderr",
     "output_type": "stream",
     "text": [
      "Monitored metric val_loss did not improve in the last 5 records. Best score: 1.046. Signaling Trainer to stop.\n"
     ]
    },
    {
     "name": "stdout",
     "output_type": "stream",
     "text": [
      "Epoch 43: 100%|██████████| 739/739 [00:10<00:00, 72.28it/s, v_num=14, train_loss_step=1.130, train_acc_step=0.450, val_loss=1.050, val_acc=0.513, train_loss_epoch=1.010, train_acc_epoch=0.534]\n"
     ]
    },
    {
     "name": "stderr",
     "output_type": "stream",
     "text": [
      "[I 2024-04-24 12:58:51,334] Trial 14 finished with value: 1.0468823909759521 and parameters: {'lr': 0.0006850547280486539, 'hidden_size': 144, 'num_hidden_layers': 3, 'dropout_rate': 0.22240243540524415, 'activation': 'elu'}. Best is trial 14 with value: 1.0468823909759521.\n",
      "GPU available: False, used: False\n",
      "TPU available: False, using: 0 TPU cores\n",
      "IPU available: False, using: 0 IPUs\n",
      "HPU available: False, using: 0 HPUs\n",
      "\n",
      "  | Name   | Type       | Params\n",
      "--------------------------------------\n",
      "0 | layers | Sequential | 29.4 K\n",
      "--------------------------------------\n",
      "29.4 K    Trainable params\n",
      "0         Non-trainable params\n",
      "29.4 K    Total params\n",
      "0.118     Total estimated model params size (MB)\n"
     ]
    },
    {
     "name": "stdout",
     "output_type": "stream",
     "text": [
      "Epoch 0: 100%|██████████| 739/739 [00:08<00:00, 82.20it/s, v_num=15, train_loss_step=0.986, train_acc_step=0.550, val_loss=1.080, val_acc=0.490, train_loss_epoch=1.130, train_acc_epoch=0.461]"
     ]
    },
    {
     "name": "stderr",
     "output_type": "stream",
     "text": [
      "Metric val_loss improved. New best score: 1.079\n"
     ]
    },
    {
     "name": "stdout",
     "output_type": "stream",
     "text": [
      "Epoch 2: 100%|██████████| 739/739 [00:08<00:00, 86.41it/s, v_num=15, train_loss_step=0.998, train_acc_step=0.400, val_loss=1.060, val_acc=0.501, train_loss_epoch=1.070, train_acc_epoch=0.496] "
     ]
    },
    {
     "name": "stderr",
     "output_type": "stream",
     "text": [
      "Metric val_loss improved by 0.016 >= min_delta = 0.0. New best score: 1.063\n"
     ]
    },
    {
     "name": "stdout",
     "output_type": "stream",
     "text": [
      "Epoch 3: 100%|██████████| 739/739 [00:08<00:00, 82.14it/s, v_num=15, train_loss_step=1.020, train_acc_step=0.600, val_loss=1.060, val_acc=0.498, train_loss_epoch=1.050, train_acc_epoch=0.507]"
     ]
    },
    {
     "name": "stderr",
     "output_type": "stream",
     "text": [
      "Metric val_loss improved by 0.004 >= min_delta = 0.0. New best score: 1.059\n"
     ]
    },
    {
     "name": "stdout",
     "output_type": "stream",
     "text": [
      "Epoch 4: 100%|██████████| 739/739 [00:07<00:00, 99.68it/s, v_num=15, train_loss_step=1.080, train_acc_step=0.500, val_loss=1.060, val_acc=0.506, train_loss_epoch=1.040, train_acc_epoch=0.512] "
     ]
    },
    {
     "name": "stderr",
     "output_type": "stream",
     "text": [
      "Metric val_loss improved by 0.004 >= min_delta = 0.0. New best score: 1.055\n"
     ]
    },
    {
     "name": "stdout",
     "output_type": "stream",
     "text": [
      "Epoch 6: 100%|██████████| 739/739 [00:06<00:00, 108.40it/s, v_num=15, train_loss_step=1.120, train_acc_step=0.450, val_loss=1.050, val_acc=0.513, train_loss_epoch=1.020, train_acc_epoch=0.524]"
     ]
    },
    {
     "name": "stderr",
     "output_type": "stream",
     "text": [
      "Metric val_loss improved by 0.006 >= min_delta = 0.0. New best score: 1.049\n"
     ]
    },
    {
     "name": "stdout",
     "output_type": "stream",
     "text": [
      "Epoch 7: 100%|██████████| 739/739 [00:07<00:00, 105.38it/s, v_num=15, train_loss_step=1.000, train_acc_step=0.550, val_loss=1.050, val_acc=0.513, train_loss_epoch=1.010, train_acc_epoch=0.528]"
     ]
    },
    {
     "name": "stderr",
     "output_type": "stream",
     "text": [
      "Metric val_loss improved by 0.002 >= min_delta = 0.0. New best score: 1.047\n"
     ]
    },
    {
     "name": "stdout",
     "output_type": "stream",
     "text": [
      "Epoch 12: 100%|██████████| 739/739 [00:11<00:00, 61.94it/s, v_num=15, train_loss_step=1.180, train_acc_step=0.400, val_loss=1.060, val_acc=0.513, train_loss_epoch=0.960, train_acc_epoch=0.560] "
     ]
    },
    {
     "name": "stderr",
     "output_type": "stream",
     "text": [
      "Monitored metric val_loss did not improve in the last 5 records. Best score: 1.047. Signaling Trainer to stop.\n"
     ]
    },
    {
     "name": "stdout",
     "output_type": "stream",
     "text": [
      "Epoch 12: 100%|██████████| 739/739 [00:11<00:00, 61.86it/s, v_num=15, train_loss_step=1.180, train_acc_step=0.400, val_loss=1.060, val_acc=0.513, train_loss_epoch=0.960, train_acc_epoch=0.560]"
     ]
    },
    {
     "name": "stderr",
     "output_type": "stream",
     "text": [
      "[I 2024-04-24 13:00:45,082] Trial 15 finished with value: 1.0577603578567505 and parameters: {'lr': 0.0007361616255091009, 'hidden_size': 144, 'num_hidden_layers': 2, 'dropout_rate': 0.17377236429757908, 'activation': 'relu'}. Best is trial 14 with value: 1.0468823909759521.\n"
     ]
    },
    {
     "name": "stdout",
     "output_type": "stream",
     "text": [
      "\n"
     ]
    },
    {
     "name": "stderr",
     "output_type": "stream",
     "text": [
      "GPU available: False, used: False\n",
      "TPU available: False, using: 0 TPU cores\n",
      "IPU available: False, using: 0 IPUs\n",
      "HPU available: False, using: 0 HPUs\n",
      "\n",
      "  | Name   | Type       | Params\n",
      "--------------------------------------\n",
      "0 | layers | Sequential | 12.1 K\n",
      "--------------------------------------\n",
      "12.1 K    Trainable params\n",
      "0         Non-trainable params\n",
      "12.1 K    Total params\n",
      "0.048     Total estimated model params size (MB)\n"
     ]
    },
    {
     "name": "stdout",
     "output_type": "stream",
     "text": [
      "Epoch 0: 100%|██████████| 739/739 [00:10<00:00, 72.55it/s, v_num=16, train_loss_step=1.180, train_acc_step=0.400, val_loss=1.090, val_acc=0.481, train_loss_epoch=1.140, train_acc_epoch=0.458]"
     ]
    },
    {
     "name": "stderr",
     "output_type": "stream",
     "text": [
      "Metric val_loss improved. New best score: 1.092\n"
     ]
    },
    {
     "name": "stdout",
     "output_type": "stream",
     "text": [
      "Epoch 1: 100%|██████████| 739/739 [00:08<00:00, 83.80it/s, v_num=16, train_loss_step=1.190, train_acc_step=0.450, val_loss=1.080, val_acc=0.486, train_loss_epoch=1.110, train_acc_epoch=0.472]"
     ]
    },
    {
     "name": "stderr",
     "output_type": "stream",
     "text": [
      "Metric val_loss improved by 0.007 >= min_delta = 0.0. New best score: 1.085\n"
     ]
    },
    {
     "name": "stdout",
     "output_type": "stream",
     "text": [
      "Epoch 6: 100%|██████████| 739/739 [00:10<00:00, 71.20it/s, v_num=16, train_loss_step=1.270, train_acc_step=0.500, val_loss=1.070, val_acc=0.493, train_loss_epoch=1.090, train_acc_epoch=0.483] "
     ]
    },
    {
     "name": "stderr",
     "output_type": "stream",
     "text": [
      "Metric val_loss improved by 0.011 >= min_delta = 0.0. New best score: 1.074\n"
     ]
    },
    {
     "name": "stdout",
     "output_type": "stream",
     "text": [
      "Epoch 9: 100%|██████████| 739/739 [00:07<00:00, 96.28it/s, v_num=16, train_loss_step=1.010, train_acc_step=0.450, val_loss=1.070, val_acc=0.498, train_loss_epoch=1.080, train_acc_epoch=0.488] "
     ]
    },
    {
     "name": "stderr",
     "output_type": "stream",
     "text": [
      "Metric val_loss improved by 0.002 >= min_delta = 0.0. New best score: 1.072\n"
     ]
    },
    {
     "name": "stdout",
     "output_type": "stream",
     "text": [
      "Epoch 11: 100%|██████████| 739/739 [00:07<00:00, 99.77it/s, v_num=16, train_loss_step=1.090, train_acc_step=0.450, val_loss=1.070, val_acc=0.492, train_loss_epoch=1.080, train_acc_epoch=0.495] "
     ]
    },
    {
     "name": "stderr",
     "output_type": "stream",
     "text": [
      "Metric val_loss improved by 0.001 >= min_delta = 0.0. New best score: 1.071\n"
     ]
    },
    {
     "name": "stdout",
     "output_type": "stream",
     "text": [
      "Epoch 12: 100%|██████████| 739/739 [00:07<00:00, 97.87it/s, v_num=16, train_loss_step=1.180, train_acc_step=0.550, val_loss=1.070, val_acc=0.498, train_loss_epoch=1.070, train_acc_epoch=0.492] "
     ]
    },
    {
     "name": "stderr",
     "output_type": "stream",
     "text": [
      "Metric val_loss improved by 0.000 >= min_delta = 0.0. New best score: 1.071\n"
     ]
    },
    {
     "name": "stdout",
     "output_type": "stream",
     "text": [
      "Epoch 13: 100%|██████████| 739/739 [00:07<00:00, 99.39it/s, v_num=16, train_loss_step=1.040, train_acc_step=0.500, val_loss=1.060, val_acc=0.504, train_loss_epoch=1.070, train_acc_epoch=0.493] "
     ]
    },
    {
     "name": "stderr",
     "output_type": "stream",
     "text": [
      "Metric val_loss improved by 0.010 >= min_delta = 0.0. New best score: 1.060\n"
     ]
    },
    {
     "name": "stdout",
     "output_type": "stream",
     "text": [
      "Epoch 18: 100%|██████████| 739/739 [00:07<00:00, 97.67it/s, v_num=16, train_loss_step=0.974, train_acc_step=0.550, val_loss=1.080, val_acc=0.495, train_loss_epoch=1.060, train_acc_epoch=0.499] "
     ]
    },
    {
     "name": "stderr",
     "output_type": "stream",
     "text": [
      "Monitored metric val_loss did not improve in the last 5 records. Best score: 1.060. Signaling Trainer to stop.\n"
     ]
    },
    {
     "name": "stdout",
     "output_type": "stream",
     "text": [
      "Epoch 18: 100%|██████████| 739/739 [00:07<00:00, 97.44it/s, v_num=16, train_loss_step=0.974, train_acc_step=0.550, val_loss=1.080, val_acc=0.495, train_loss_epoch=1.060, train_acc_epoch=0.499]"
     ]
    },
    {
     "name": "stderr",
     "output_type": "stream",
     "text": [
      "[I 2024-04-24 13:03:23,656] Trial 16 finished with value: 1.0784461498260498 and parameters: {'lr': 0.0031339523678987715, 'hidden_size': 64, 'num_hidden_layers': 3, 'dropout_rate': 0.31492464227456085, 'activation': 'elu'}. Best is trial 14 with value: 1.0468823909759521.\n"
     ]
    },
    {
     "name": "stdout",
     "output_type": "stream",
     "text": [
      "\n"
     ]
    },
    {
     "name": "stderr",
     "output_type": "stream",
     "text": [
      "GPU available: False, used: False\n",
      "TPU available: False, using: 0 TPU cores\n",
      "IPU available: False, using: 0 IPUs\n",
      "HPU available: False, using: 0 HPUs\n",
      "\n",
      "  | Name   | Type       | Params\n",
      "--------------------------------------\n",
      "0 | layers | Sequential | 7.6 K \n",
      "--------------------------------------\n",
      "7.6 K     Trainable params\n",
      "0         Non-trainable params\n",
      "7.6 K     Total params\n",
      "0.030     Total estimated model params size (MB)\n"
     ]
    },
    {
     "name": "stdout",
     "output_type": "stream",
     "text": [
      "Epoch 0: 100%|██████████| 739/739 [00:10<00:00, 68.22it/s, v_num=17, train_loss_step=1.160, train_acc_step=0.450, val_loss=1.090, val_acc=0.487, train_loss_epoch=1.140, train_acc_epoch=0.463]"
     ]
    },
    {
     "name": "stderr",
     "output_type": "stream",
     "text": [
      "Metric val_loss improved. New best score: 1.088\n"
     ]
    },
    {
     "name": "stdout",
     "output_type": "stream",
     "text": [
      "Epoch 1: 100%|██████████| 739/739 [00:07<00:00, 99.03it/s, v_num=17, train_loss_step=1.030, train_acc_step=0.450, val_loss=1.080, val_acc=0.490, train_loss_epoch=1.090, train_acc_epoch=0.483] "
     ]
    },
    {
     "name": "stderr",
     "output_type": "stream",
     "text": [
      "Metric val_loss improved by 0.008 >= min_delta = 0.0. New best score: 1.079\n"
     ]
    },
    {
     "name": "stdout",
     "output_type": "stream",
     "text": [
      "Epoch 4: 100%|██████████| 739/739 [00:06<00:00, 107.09it/s, v_num=17, train_loss_step=0.985, train_acc_step=0.650, val_loss=1.080, val_acc=0.493, train_loss_epoch=1.080, train_acc_epoch=0.485]"
     ]
    },
    {
     "name": "stderr",
     "output_type": "stream",
     "text": [
      "Metric val_loss improved by 0.003 >= min_delta = 0.0. New best score: 1.077\n"
     ]
    },
    {
     "name": "stdout",
     "output_type": "stream",
     "text": [
      "Epoch 6: 100%|██████████| 739/739 [00:06<00:00, 109.03it/s, v_num=17, train_loss_step=0.988, train_acc_step=0.550, val_loss=1.080, val_acc=0.488, train_loss_epoch=1.080, train_acc_epoch=0.488]"
     ]
    },
    {
     "name": "stderr",
     "output_type": "stream",
     "text": [
      "Metric val_loss improved by 0.000 >= min_delta = 0.0. New best score: 1.076\n"
     ]
    },
    {
     "name": "stdout",
     "output_type": "stream",
     "text": [
      "Epoch 7: 100%|██████████| 739/739 [00:07<00:00, 98.48it/s, v_num=17, train_loss_step=0.932, train_acc_step=0.600, val_loss=1.080, val_acc=0.491, train_loss_epoch=1.080, train_acc_epoch=0.490] "
     ]
    },
    {
     "name": "stderr",
     "output_type": "stream",
     "text": [
      "Metric val_loss improved by 0.001 >= min_delta = 0.0. New best score: 1.076\n"
     ]
    },
    {
     "name": "stdout",
     "output_type": "stream",
     "text": [
      "Epoch 8: 100%|██████████| 739/739 [00:06<00:00, 107.14it/s, v_num=17, train_loss_step=1.390, train_acc_step=0.350, val_loss=1.070, val_acc=0.494, train_loss_epoch=1.080, train_acc_epoch=0.492]"
     ]
    },
    {
     "name": "stderr",
     "output_type": "stream",
     "text": [
      "Metric val_loss improved by 0.003 >= min_delta = 0.0. New best score: 1.073\n"
     ]
    },
    {
     "name": "stdout",
     "output_type": "stream",
     "text": [
      "Epoch 9: 100%|██████████| 739/739 [00:06<00:00, 108.09it/s, v_num=17, train_loss_step=1.060, train_acc_step=0.550, val_loss=1.070, val_acc=0.496, train_loss_epoch=1.070, train_acc_epoch=0.494]"
     ]
    },
    {
     "name": "stderr",
     "output_type": "stream",
     "text": [
      "Metric val_loss improved by 0.001 >= min_delta = 0.0. New best score: 1.072\n"
     ]
    },
    {
     "name": "stdout",
     "output_type": "stream",
     "text": [
      "Epoch 11: 100%|██████████| 739/739 [00:07<00:00, 103.86it/s, v_num=17, train_loss_step=1.240, train_acc_step=0.300, val_loss=1.070, val_acc=0.498, train_loss_epoch=1.070, train_acc_epoch=0.494]"
     ]
    },
    {
     "name": "stderr",
     "output_type": "stream",
     "text": [
      "Metric val_loss improved by 0.001 >= min_delta = 0.0. New best score: 1.071\n"
     ]
    },
    {
     "name": "stdout",
     "output_type": "stream",
     "text": [
      "Epoch 12: 100%|██████████| 739/739 [00:07<00:00, 103.79it/s, v_num=17, train_loss_step=0.932, train_acc_step=0.600, val_loss=1.070, val_acc=0.500, train_loss_epoch=1.070, train_acc_epoch=0.496]"
     ]
    },
    {
     "name": "stderr",
     "output_type": "stream",
     "text": [
      "Metric val_loss improved by 0.001 >= min_delta = 0.0. New best score: 1.070\n"
     ]
    },
    {
     "name": "stdout",
     "output_type": "stream",
     "text": [
      "Epoch 13: 100%|██████████| 739/739 [00:06<00:00, 109.33it/s, v_num=17, train_loss_step=0.875, train_acc_step=0.500, val_loss=1.070, val_acc=0.496, train_loss_epoch=1.070, train_acc_epoch=0.499]"
     ]
    },
    {
     "name": "stderr",
     "output_type": "stream",
     "text": [
      "Metric val_loss improved by 0.001 >= min_delta = 0.0. New best score: 1.069\n"
     ]
    },
    {
     "name": "stdout",
     "output_type": "stream",
     "text": [
      "Epoch 14: 100%|██████████| 739/739 [00:06<00:00, 111.27it/s, v_num=17, train_loss_step=1.060, train_acc_step=0.450, val_loss=1.070, val_acc=0.498, train_loss_epoch=1.060, train_acc_epoch=0.499]"
     ]
    },
    {
     "name": "stderr",
     "output_type": "stream",
     "text": [
      "Metric val_loss improved by 0.001 >= min_delta = 0.0. New best score: 1.068\n"
     ]
    },
    {
     "name": "stdout",
     "output_type": "stream",
     "text": [
      "Epoch 15: 100%|██████████| 739/739 [00:06<00:00, 113.99it/s, v_num=17, train_loss_step=1.300, train_acc_step=0.300, val_loss=1.070, val_acc=0.497, train_loss_epoch=1.060, train_acc_epoch=0.503]"
     ]
    },
    {
     "name": "stderr",
     "output_type": "stream",
     "text": [
      "Metric val_loss improved by 0.000 >= min_delta = 0.0. New best score: 1.067\n"
     ]
    },
    {
     "name": "stdout",
     "output_type": "stream",
     "text": [
      "Epoch 16: 100%|██████████| 739/739 [00:06<00:00, 113.89it/s, v_num=17, train_loss_step=1.200, train_acc_step=0.350, val_loss=1.060, val_acc=0.501, train_loss_epoch=1.060, train_acc_epoch=0.505]"
     ]
    },
    {
     "name": "stderr",
     "output_type": "stream",
     "text": [
      "Metric val_loss improved by 0.005 >= min_delta = 0.0. New best score: 1.062\n"
     ]
    },
    {
     "name": "stdout",
     "output_type": "stream",
     "text": [
      "Epoch 18: 100%|██████████| 739/739 [00:06<00:00, 112.32it/s, v_num=17, train_loss_step=0.909, train_acc_step=0.600, val_loss=1.060, val_acc=0.504, train_loss_epoch=1.050, train_acc_epoch=0.507]"
     ]
    },
    {
     "name": "stderr",
     "output_type": "stream",
     "text": [
      "Metric val_loss improved by 0.003 >= min_delta = 0.0. New best score: 1.060\n"
     ]
    },
    {
     "name": "stdout",
     "output_type": "stream",
     "text": [
      "Epoch 19: 100%|██████████| 739/739 [00:07<00:00, 100.08it/s, v_num=17, train_loss_step=1.080, train_acc_step=0.550, val_loss=1.060, val_acc=0.510, train_loss_epoch=1.050, train_acc_epoch=0.509]"
     ]
    },
    {
     "name": "stderr",
     "output_type": "stream",
     "text": [
      "Metric val_loss improved by 0.000 >= min_delta = 0.0. New best score: 1.059\n"
     ]
    },
    {
     "name": "stdout",
     "output_type": "stream",
     "text": [
      "Epoch 22: 100%|██████████| 739/739 [00:06<00:00, 108.86it/s, v_num=17, train_loss_step=0.677, train_acc_step=0.800, val_loss=1.060, val_acc=0.503, train_loss_epoch=1.050, train_acc_epoch=0.512]"
     ]
    },
    {
     "name": "stderr",
     "output_type": "stream",
     "text": [
      "Metric val_loss improved by 0.001 >= min_delta = 0.0. New best score: 1.058\n"
     ]
    },
    {
     "name": "stdout",
     "output_type": "stream",
     "text": [
      "Epoch 25: 100%|██████████| 739/739 [00:06<00:00, 111.18it/s, v_num=17, train_loss_step=1.040, train_acc_step=0.500, val_loss=1.060, val_acc=0.504, train_loss_epoch=1.040, train_acc_epoch=0.517]"
     ]
    },
    {
     "name": "stderr",
     "output_type": "stream",
     "text": [
      "Metric val_loss improved by 0.002 >= min_delta = 0.0. New best score: 1.056\n"
     ]
    },
    {
     "name": "stdout",
     "output_type": "stream",
     "text": [
      "Epoch 26: 100%|██████████| 739/739 [00:06<00:00, 110.27it/s, v_num=17, train_loss_step=1.010, train_acc_step=0.550, val_loss=1.050, val_acc=0.509, train_loss_epoch=1.040, train_acc_epoch=0.515]"
     ]
    },
    {
     "name": "stderr",
     "output_type": "stream",
     "text": [
      "Metric val_loss improved by 0.001 >= min_delta = 0.0. New best score: 1.055\n"
     ]
    },
    {
     "name": "stdout",
     "output_type": "stream",
     "text": [
      "Epoch 31: 100%|██████████| 739/739 [00:07<00:00, 103.33it/s, v_num=17, train_loss_step=0.855, train_acc_step=0.600, val_loss=1.050, val_acc=0.510, train_loss_epoch=1.030, train_acc_epoch=0.523]"
     ]
    },
    {
     "name": "stderr",
     "output_type": "stream",
     "text": [
      "Monitored metric val_loss did not improve in the last 5 records. Best score: 1.055. Signaling Trainer to stop.\n"
     ]
    },
    {
     "name": "stdout",
     "output_type": "stream",
     "text": [
      "Epoch 31: 100%|██████████| 739/739 [00:07<00:00, 103.06it/s, v_num=17, train_loss_step=0.855, train_acc_step=0.600, val_loss=1.050, val_acc=0.510, train_loss_epoch=1.030, train_acc_epoch=0.523]\n"
     ]
    },
    {
     "name": "stderr",
     "output_type": "stream",
     "text": [
      "[I 2024-04-24 13:07:11,138] Trial 17 finished with value: 1.054971694946289 and parameters: {'lr': 0.0006139449536304479, 'hidden_size': 128, 'num_hidden_layers': 1, 'dropout_rate': 0.21514229826045833, 'activation': 'elu'}. Best is trial 14 with value: 1.0468823909759521.\n",
      "GPU available: False, used: False\n",
      "TPU available: False, using: 0 TPU cores\n",
      "IPU available: False, using: 0 IPUs\n",
      "HPU available: False, using: 0 HPUs\n",
      "\n",
      "  | Name   | Type       | Params\n",
      "--------------------------------------\n",
      "0 | layers | Sequential | 61.0 K\n",
      "--------------------------------------\n",
      "61.0 K    Trainable params\n",
      "0         Non-trainable params\n",
      "61.0 K    Total params\n",
      "0.244     Total estimated model params size (MB)\n"
     ]
    },
    {
     "name": "stdout",
     "output_type": "stream",
     "text": [
      "Epoch 0: 100%|██████████| 739/739 [00:10<00:00, 71.73it/s, v_num=18, train_loss_step=1.200, train_acc_step=0.400, val_loss=1.090, val_acc=0.479, train_loss_epoch=1.130, train_acc_epoch=0.462]"
     ]
    },
    {
     "name": "stderr",
     "output_type": "stream",
     "text": [
      "Metric val_loss improved. New best score: 1.089\n"
     ]
    },
    {
     "name": "stdout",
     "output_type": "stream",
     "text": [
      "Epoch 1: 100%|██████████| 739/739 [00:08<00:00, 82.31it/s, v_num=18, train_loss_step=1.090, train_acc_step=0.550, val_loss=1.070, val_acc=0.492, train_loss_epoch=1.080, train_acc_epoch=0.488] "
     ]
    },
    {
     "name": "stderr",
     "output_type": "stream",
     "text": [
      "Metric val_loss improved by 0.018 >= min_delta = 0.0. New best score: 1.070\n"
     ]
    },
    {
     "name": "stdout",
     "output_type": "stream",
     "text": [
      "Epoch 2: 100%|██████████| 739/739 [00:10<00:00, 71.47it/s, v_num=18, train_loss_step=1.020, train_acc_step=0.550, val_loss=1.070, val_acc=0.496, train_loss_epoch=1.060, train_acc_epoch=0.495] "
     ]
    },
    {
     "name": "stderr",
     "output_type": "stream",
     "text": [
      "Metric val_loss improved by 0.002 >= min_delta = 0.0. New best score: 1.069\n"
     ]
    },
    {
     "name": "stdout",
     "output_type": "stream",
     "text": [
      "Epoch 3: 100%|██████████| 739/739 [00:12<00:00, 60.92it/s, v_num=18, train_loss_step=1.070, train_acc_step=0.550, val_loss=1.050, val_acc=0.508, train_loss_epoch=1.050, train_acc_epoch=0.510]"
     ]
    },
    {
     "name": "stderr",
     "output_type": "stream",
     "text": [
      "Metric val_loss improved by 0.014 >= min_delta = 0.0. New best score: 1.054\n"
     ]
    },
    {
     "name": "stdout",
     "output_type": "stream",
     "text": [
      "Epoch 4: 100%|██████████| 739/739 [00:08<00:00, 83.23it/s, v_num=18, train_loss_step=1.080, train_acc_step=0.450, val_loss=1.050, val_acc=0.513, train_loss_epoch=1.030, train_acc_epoch=0.516]"
     ]
    },
    {
     "name": "stderr",
     "output_type": "stream",
     "text": [
      "Metric val_loss improved by 0.003 >= min_delta = 0.0. New best score: 1.052\n"
     ]
    },
    {
     "name": "stdout",
     "output_type": "stream",
     "text": [
      "Epoch 5: 100%|██████████| 739/739 [00:08<00:00, 83.68it/s, v_num=18, train_loss_step=1.100, train_acc_step=0.400, val_loss=1.050, val_acc=0.519, train_loss_epoch=1.010, train_acc_epoch=0.523] "
     ]
    },
    {
     "name": "stderr",
     "output_type": "stream",
     "text": [
      "Metric val_loss improved by 0.002 >= min_delta = 0.0. New best score: 1.050\n"
     ]
    },
    {
     "name": "stdout",
     "output_type": "stream",
     "text": [
      "Epoch 10: 100%|██████████| 739/739 [00:09<00:00, 80.96it/s, v_num=18, train_loss_step=0.874, train_acc_step=0.550, val_loss=1.070, val_acc=0.508, train_loss_epoch=0.931, train_acc_epoch=0.565]"
     ]
    },
    {
     "name": "stderr",
     "output_type": "stream",
     "text": [
      "Monitored metric val_loss did not improve in the last 5 records. Best score: 1.050. Signaling Trainer to stop.\n"
     ]
    },
    {
     "name": "stdout",
     "output_type": "stream",
     "text": [
      "Epoch 10: 100%|██████████| 739/739 [00:09<00:00, 80.76it/s, v_num=18, train_loss_step=0.874, train_acc_step=0.550, val_loss=1.070, val_acc=0.508, train_loss_epoch=0.931, train_acc_epoch=0.565]"
     ]
    },
    {
     "name": "stderr",
     "output_type": "stream",
     "text": [
      "[I 2024-04-24 13:08:57,818] Trial 18 finished with value: 1.0732104778289795 and parameters: {'lr': 0.0009435494922403794, 'hidden_size': 160, 'num_hidden_layers': 3, 'dropout_rate': 0.1477656097622509, 'activation': 'relu'}. Best is trial 14 with value: 1.0468823909759521.\n"
     ]
    },
    {
     "name": "stdout",
     "output_type": "stream",
     "text": [
      "\n"
     ]
    },
    {
     "name": "stderr",
     "output_type": "stream",
     "text": [
      "GPU available: False, used: False\n",
      "TPU available: False, using: 0 TPU cores\n",
      "IPU available: False, using: 0 IPUs\n",
      "HPU available: False, using: 0 HPUs\n",
      "\n",
      "  | Name   | Type       | Params\n",
      "--------------------------------------\n",
      "0 | layers | Sequential | 7.9 K \n",
      "--------------------------------------\n",
      "7.9 K     Trainable params\n",
      "0         Non-trainable params\n",
      "7.9 K     Total params\n",
      "0.032     Total estimated model params size (MB)\n"
     ]
    },
    {
     "name": "stdout",
     "output_type": "stream",
     "text": [
      "Epoch 0: 100%|██████████| 739/739 [00:08<00:00, 88.92it/s, v_num=19, train_loss_step=1.220, train_acc_step=0.300, val_loss=1.130, val_acc=0.460, train_loss_epoch=1.200, train_acc_epoch=0.422]"
     ]
    },
    {
     "name": "stderr",
     "output_type": "stream",
     "text": [
      "Metric val_loss improved. New best score: 1.135\n"
     ]
    },
    {
     "name": "stdout",
     "output_type": "stream",
     "text": [
      "Epoch 1: 100%|██████████| 739/739 [00:07<00:00, 96.02it/s, v_num=19, train_loss_step=1.360, train_acc_step=0.450, val_loss=1.090, val_acc=0.483, train_loss_epoch=1.120, train_acc_epoch=0.470] "
     ]
    },
    {
     "name": "stderr",
     "output_type": "stream",
     "text": [
      "Metric val_loss improved by 0.046 >= min_delta = 0.0. New best score: 1.089\n"
     ]
    },
    {
     "name": "stdout",
     "output_type": "stream",
     "text": [
      "Epoch 2: 100%|██████████| 739/739 [00:07<00:00, 94.07it/s, v_num=19, train_loss_step=1.140, train_acc_step=0.200, val_loss=1.080, val_acc=0.489, train_loss_epoch=1.100, train_acc_epoch=0.478] "
     ]
    },
    {
     "name": "stderr",
     "output_type": "stream",
     "text": [
      "Metric val_loss improved by 0.009 >= min_delta = 0.0. New best score: 1.080\n"
     ]
    },
    {
     "name": "stdout",
     "output_type": "stream",
     "text": [
      "Epoch 3: 100%|██████████| 739/739 [00:06<00:00, 109.63it/s, v_num=19, train_loss_step=1.530, train_acc_step=0.450, val_loss=1.080, val_acc=0.490, train_loss_epoch=1.090, train_acc_epoch=0.484]"
     ]
    },
    {
     "name": "stderr",
     "output_type": "stream",
     "text": [
      "Metric val_loss improved by 0.003 >= min_delta = 0.0. New best score: 1.077\n"
     ]
    },
    {
     "name": "stdout",
     "output_type": "stream",
     "text": [
      "Epoch 4: 100%|██████████| 739/739 [00:06<00:00, 108.42it/s, v_num=19, train_loss_step=1.060, train_acc_step=0.600, val_loss=1.070, val_acc=0.494, train_loss_epoch=1.080, train_acc_epoch=0.487]"
     ]
    },
    {
     "name": "stderr",
     "output_type": "stream",
     "text": [
      "Metric val_loss improved by 0.005 >= min_delta = 0.0. New best score: 1.071\n"
     ]
    },
    {
     "name": "stdout",
     "output_type": "stream",
     "text": [
      "Epoch 5: 100%|██████████| 739/739 [00:06<00:00, 108.85it/s, v_num=19, train_loss_step=0.968, train_acc_step=0.550, val_loss=1.070, val_acc=0.496, train_loss_epoch=1.080, train_acc_epoch=0.491]"
     ]
    },
    {
     "name": "stderr",
     "output_type": "stream",
     "text": [
      "Metric val_loss improved by 0.001 >= min_delta = 0.0. New best score: 1.071\n"
     ]
    },
    {
     "name": "stdout",
     "output_type": "stream",
     "text": [
      "Epoch 7: 100%|██████████| 739/739 [00:06<00:00, 107.84it/s, v_num=19, train_loss_step=1.070, train_acc_step=0.400, val_loss=1.070, val_acc=0.502, train_loss_epoch=1.070, train_acc_epoch=0.496]"
     ]
    },
    {
     "name": "stderr",
     "output_type": "stream",
     "text": [
      "Metric val_loss improved by 0.004 >= min_delta = 0.0. New best score: 1.067\n"
     ]
    },
    {
     "name": "stdout",
     "output_type": "stream",
     "text": [
      "Epoch 9: 100%|██████████| 739/739 [00:07<00:00, 103.50it/s, v_num=19, train_loss_step=1.050, train_acc_step=0.450, val_loss=1.060, val_acc=0.503, train_loss_epoch=1.060, train_acc_epoch=0.502]"
     ]
    },
    {
     "name": "stderr",
     "output_type": "stream",
     "text": [
      "Metric val_loss improved by 0.003 >= min_delta = 0.0. New best score: 1.063\n"
     ]
    },
    {
     "name": "stdout",
     "output_type": "stream",
     "text": [
      "Epoch 11: 100%|██████████| 739/739 [00:06<00:00, 108.16it/s, v_num=19, train_loss_step=1.260, train_acc_step=0.450, val_loss=1.060, val_acc=0.502, train_loss_epoch=1.060, train_acc_epoch=0.505]"
     ]
    },
    {
     "name": "stderr",
     "output_type": "stream",
     "text": [
      "Metric val_loss improved by 0.004 >= min_delta = 0.0. New best score: 1.060\n"
     ]
    },
    {
     "name": "stdout",
     "output_type": "stream",
     "text": [
      "Epoch 12: 100%|██████████| 739/739 [00:06<00:00, 107.25it/s, v_num=19, train_loss_step=1.010, train_acc_step=0.550, val_loss=1.060, val_acc=0.503, train_loss_epoch=1.060, train_acc_epoch=0.509]"
     ]
    },
    {
     "name": "stderr",
     "output_type": "stream",
     "text": [
      "Metric val_loss improved by 0.001 >= min_delta = 0.0. New best score: 1.059\n"
     ]
    },
    {
     "name": "stdout",
     "output_type": "stream",
     "text": [
      "Epoch 14: 100%|██████████| 739/739 [00:06<00:00, 107.90it/s, v_num=19, train_loss_step=0.939, train_acc_step=0.500, val_loss=1.060, val_acc=0.507, train_loss_epoch=1.050, train_acc_epoch=0.511]"
     ]
    },
    {
     "name": "stderr",
     "output_type": "stream",
     "text": [
      "Metric val_loss improved by 0.002 >= min_delta = 0.0. New best score: 1.057\n"
     ]
    },
    {
     "name": "stdout",
     "output_type": "stream",
     "text": [
      "Epoch 18: 100%|██████████| 739/739 [00:06<00:00, 109.18it/s, v_num=19, train_loss_step=1.260, train_acc_step=0.350, val_loss=1.060, val_acc=0.503, train_loss_epoch=1.040, train_acc_epoch=0.519]"
     ]
    },
    {
     "name": "stderr",
     "output_type": "stream",
     "text": [
      "Metric val_loss improved by 0.001 >= min_delta = 0.0. New best score: 1.056\n"
     ]
    },
    {
     "name": "stdout",
     "output_type": "stream",
     "text": [
      "Epoch 21: 100%|██████████| 739/739 [00:07<00:00, 105.33it/s, v_num=19, train_loss_step=1.360, train_acc_step=0.400, val_loss=1.060, val_acc=0.507, train_loss_epoch=1.030, train_acc_epoch=0.522]"
     ]
    },
    {
     "name": "stderr",
     "output_type": "stream",
     "text": [
      "Metric val_loss improved by 0.000 >= min_delta = 0.0. New best score: 1.056\n"
     ]
    },
    {
     "name": "stdout",
     "output_type": "stream",
     "text": [
      "Epoch 23: 100%|██████████| 739/739 [00:06<00:00, 108.45it/s, v_num=19, train_loss_step=1.170, train_acc_step=0.450, val_loss=1.060, val_acc=0.509, train_loss_epoch=1.030, train_acc_epoch=0.520]"
     ]
    },
    {
     "name": "stderr",
     "output_type": "stream",
     "text": [
      "Metric val_loss improved by 0.000 >= min_delta = 0.0. New best score: 1.055\n"
     ]
    },
    {
     "name": "stdout",
     "output_type": "stream",
     "text": [
      "Epoch 28: 100%|██████████| 739/739 [00:07<00:00, 104.02it/s, v_num=19, train_loss_step=1.210, train_acc_step=0.450, val_loss=1.060, val_acc=0.509, train_loss_epoch=1.020, train_acc_epoch=0.527]"
     ]
    },
    {
     "name": "stderr",
     "output_type": "stream",
     "text": [
      "Monitored metric val_loss did not improve in the last 5 records. Best score: 1.055. Signaling Trainer to stop.\n"
     ]
    },
    {
     "name": "stdout",
     "output_type": "stream",
     "text": [
      "Epoch 28: 100%|██████████| 739/739 [00:07<00:00, 103.82it/s, v_num=19, train_loss_step=1.210, train_acc_step=0.450, val_loss=1.060, val_acc=0.509, train_loss_epoch=1.020, train_acc_epoch=0.527]"
     ]
    },
    {
     "name": "stderr",
     "output_type": "stream",
     "text": [
      "[I 2024-04-24 13:12:23,453] Trial 19 finished with value: 1.0571752786636353 and parameters: {'lr': 0.0002781801507738067, 'hidden_size': 64, 'num_hidden_layers': 2, 'dropout_rate': 0.216167911699429, 'activation': 'leaky_relu'}. Best is trial 14 with value: 1.0468823909759521.\n"
     ]
    },
    {
     "name": "stdout",
     "output_type": "stream",
     "text": [
      "\n",
      "Best hyperparameters:  {'lr': 0.0006850547280486539, 'hidden_size': 144, 'num_hidden_layers': 3, 'dropout_rate': 0.22240243540524415, 'activation': 'elu'}\n"
     ]
    }
   ],
   "source": [
    "# # Load your data\n",
    "# X_train_transformed, X_test_transformed, y_train, y_test = joblib.load(\"./data/processed/train_test_transformed_data.joblib\")\n",
    "\n",
    "# Convert data to PyTorch tensors\n",
    "X_train_tensor = torch.tensor(X_train_transformed.values, dtype=torch.float32)\n",
    "y_train_tensor = torch.tensor(y_train.values, dtype=torch.long)\n",
    "X_val_tensor = torch.tensor(X_test_transformed.values, dtype=torch.float32)\n",
    "y_val_tensor = torch.tensor(y_test.values, dtype=torch.long)\n",
    "# Create PyTorch datasets\n",
    "train_dataset = TensorDataset(X_train_tensor, y_train_tensor)\n",
    "val_dataset = TensorDataset(X_val_tensor, y_val_tensor)\n",
    "\n",
    "# Create PyTorch data loaders\n",
    "batch_size = 32\n",
    "train_loader = DataLoader(train_dataset, batch_size=batch_size, shuffle=True)\n",
    "val_loader = DataLoader(val_dataset, batch_size=batch_size)\n",
    "\n",
    "\n",
    "class ClassificationModel(pl.LightningModule):\n",
    "    def __init__(\n",
    "        self,\n",
    "        input_size,\n",
    "        num_classes,\n",
    "        hidden_size,\n",
    "        num_hidden_layers,\n",
    "        dropout_rate,\n",
    "        activation,\n",
    "        lr,\n",
    "    ):\n",
    "        super().__init__()\n",
    "        self.save_hyperparameters()\n",
    "        layers = [nn.Linear(input_size, hidden_size), get_activation_fn(activation)()]\n",
    "        for _ in range(num_hidden_layers - 1):\n",
    "            layers.append(nn.Linear(hidden_size, hidden_size))\n",
    "            layers.append(get_activation_fn(activation)())\n",
    "            layers.append(nn.Dropout(dropout_rate))\n",
    "        layers.append(nn.Linear(hidden_size, num_classes))\n",
    "        self.layers = nn.Sequential(*layers)\n",
    "\n",
    "    def forward(self, x):\n",
    "        return self.layers(x)\n",
    "\n",
    "    def training_step(self, batch, batch_idx):\n",
    "        x, y = batch\n",
    "        logits = self(x)\n",
    "        loss = F.cross_entropy(logits, y)\n",
    "        acc = (logits.argmax(dim=1) == y).float().mean()\n",
    "        self.log(\"train_loss\", loss, on_step=True, on_epoch=True, prog_bar=True)\n",
    "        self.log(\"train_acc\", acc, on_step=True, on_epoch=True, prog_bar=True)\n",
    "        return loss\n",
    "\n",
    "    def validation_step(self, batch, batch_idx):\n",
    "        x, y = batch\n",
    "        logits = self(x)\n",
    "        loss = F.cross_entropy(logits, y)\n",
    "        acc = (logits.argmax(dim=1) == y).float().mean()\n",
    "        self.log(\"val_loss\", loss, prog_bar=True)\n",
    "        self.log(\"val_acc\", acc, prog_bar=True)\n",
    "\n",
    "    def configure_optimizers(self):\n",
    "        optimizer = torch.optim.Adam(self.parameters(), lr=self.hparams.lr)\n",
    "        return optimizer\n",
    "\n",
    "\n",
    "def get_activation_fn(activation):\n",
    "    if activation == \"relu\":\n",
    "        return nn.ReLU\n",
    "    elif activation == \"leaky_relu\":\n",
    "        return nn.LeakyReLU\n",
    "    elif activation == \"elu\":\n",
    "        return nn.ELU\n",
    "    else:\n",
    "        raise ValueError(f\"Invalid activation function: {activation}\")\n",
    "\n",
    "\n",
    "def objective(trial):\n",
    "    lr = trial.suggest_float(\"lr\", 1e-4, 1e-2, log=True)\n",
    "    hidden_size = trial.suggest_int(\"hidden_size\", 32, 256, step=16)\n",
    "    num_hidden_layers = trial.suggest_int(\"num_hidden_layers\", 1, 3)\n",
    "    dropout_rate = trial.suggest_float(\"dropout_rate\", 0.1, 0.5)\n",
    "    activation = trial.suggest_categorical(\"activation\", [\"relu\", \"leaky_relu\", \"elu\"])\n",
    "\n",
    "    model = ClassificationModel(\n",
    "        input_size=X_train_transformed.shape[1],\n",
    "        num_classes=len(np.unique(y_train)),\n",
    "        hidden_size=hidden_size,\n",
    "        num_hidden_layers=num_hidden_layers,\n",
    "        dropout_rate=dropout_rate,\n",
    "        activation=activation,\n",
    "        lr=lr,\n",
    "    )\n",
    "\n",
    "    early_stop_callback = EarlyStopping(\n",
    "        monitor=\"val_loss\", patience=5, verbose=True, mode=\"min\"\n",
    "    )\n",
    "    trainer = pl.Trainer(\n",
    "        max_epochs=100,\n",
    "        callbacks=[early_stop_callback],\n",
    "        accelerator=\"cuda\" if torch.cuda.is_available() else \"auto\",\n",
    "    )\n",
    "\n",
    "    trainer.fit(model, train_loader, val_loader)\n",
    "\n",
    "    return trainer.callback_metrics[\"val_loss\"].item()\n",
    "\n",
    "\n",
    "study = optuna.create_study(direction=\"minimize\")\n",
    "study.optimize(objective, n_trials=20)\n",
    "\n",
    "best_params = study.best_trial.params\n",
    "print(\"Best hyperparameters: \", best_params)"
   ]
  },
  {
   "cell_type": "code",
   "execution_count": 30,
   "metadata": {},
   "outputs": [
    {
     "name": "stderr",
     "output_type": "stream",
     "text": [
      "GPU available: False, used: False\n",
      "TPU available: False, using: 0 TPU cores\n",
      "IPU available: False, using: 0 IPUs\n",
      "HPU available: False, using: 0 HPUs\n",
      "\n",
      "  | Name   | Type       | Params\n",
      "--------------------------------------\n",
      "0 | layers | Sequential | 50.3 K\n",
      "--------------------------------------\n",
      "50.3 K    Trainable params\n",
      "0         Non-trainable params\n",
      "50.3 K    Total params\n",
      "0.201     Total estimated model params size (MB)\n"
     ]
    },
    {
     "name": "stdout",
     "output_type": "stream",
     "text": [
      "Epoch 0: 100%|██████████| 739/739 [00:13<00:00, 56.57it/s, v_num=20, train_loss_step=1.050, train_acc_step=0.450, val_loss=1.090, val_acc=0.474, train_loss_epoch=1.130, train_acc_epoch=0.460]"
     ]
    },
    {
     "name": "stderr",
     "output_type": "stream",
     "text": [
      "Metric val_loss improved. New best score: 1.095\n"
     ]
    },
    {
     "name": "stdout",
     "output_type": "stream",
     "text": [
      "Epoch 1: 100%|██████████| 739/739 [00:10<00:00, 70.84it/s, v_num=20, train_loss_step=1.420, train_acc_step=0.400, val_loss=1.090, val_acc=0.482, train_loss_epoch=1.100, train_acc_epoch=0.478]"
     ]
    },
    {
     "name": "stderr",
     "output_type": "stream",
     "text": [
      "Metric val_loss improved by 0.009 >= min_delta = 0.0. New best score: 1.086\n"
     ]
    },
    {
     "name": "stdout",
     "output_type": "stream",
     "text": [
      "Epoch 2: 100%|██████████| 739/739 [00:10<00:00, 67.79it/s, v_num=20, train_loss_step=1.240, train_acc_step=0.650, val_loss=1.080, val_acc=0.478, train_loss_epoch=1.090, train_acc_epoch=0.476]"
     ]
    },
    {
     "name": "stderr",
     "output_type": "stream",
     "text": [
      "Metric val_loss improved by 0.005 >= min_delta = 0.0. New best score: 1.081\n"
     ]
    },
    {
     "name": "stdout",
     "output_type": "stream",
     "text": [
      "Epoch 4: 100%|██████████| 739/739 [00:09<00:00, 74.02it/s, v_num=20, train_loss_step=1.160, train_acc_step=0.600, val_loss=1.080, val_acc=0.485, train_loss_epoch=1.090, train_acc_epoch=0.483]"
     ]
    },
    {
     "name": "stderr",
     "output_type": "stream",
     "text": [
      "Metric val_loss improved by 0.000 >= min_delta = 0.0. New best score: 1.081\n"
     ]
    },
    {
     "name": "stdout",
     "output_type": "stream",
     "text": [
      "Epoch 6: 100%|██████████| 739/739 [00:10<00:00, 72.94it/s, v_num=20, train_loss_step=0.942, train_acc_step=0.650, val_loss=1.070, val_acc=0.494, train_loss_epoch=1.080, train_acc_epoch=0.483]"
     ]
    },
    {
     "name": "stderr",
     "output_type": "stream",
     "text": [
      "Metric val_loss improved by 0.006 >= min_delta = 0.0. New best score: 1.075\n"
     ]
    },
    {
     "name": "stdout",
     "output_type": "stream",
     "text": [
      "Epoch 7: 100%|██████████| 739/739 [00:10<00:00, 70.70it/s, v_num=20, train_loss_step=0.887, train_acc_step=0.600, val_loss=1.070, val_acc=0.488, train_loss_epoch=1.080, train_acc_epoch=0.485]"
     ]
    },
    {
     "name": "stderr",
     "output_type": "stream",
     "text": [
      "Metric val_loss improved by 0.006 >= min_delta = 0.0. New best score: 1.069\n"
     ]
    },
    {
     "name": "stdout",
     "output_type": "stream",
     "text": [
      "Epoch 12: 100%|██████████| 739/739 [00:09<00:00, 74.18it/s, v_num=20, train_loss_step=1.110, train_acc_step=0.450, val_loss=1.070, val_acc=0.493, train_loss_epoch=1.070, train_acc_epoch=0.494]"
     ]
    },
    {
     "name": "stderr",
     "output_type": "stream",
     "text": [
      "Monitored metric val_loss did not improve in the last 5 records. Best score: 1.069. Signaling Trainer to stop.\n"
     ]
    },
    {
     "name": "stdout",
     "output_type": "stream",
     "text": [
      "Epoch 12: 100%|██████████| 739/739 [00:09<00:00, 74.04it/s, v_num=20, train_loss_step=1.110, train_acc_step=0.450, val_loss=1.070, val_acc=0.493, train_loss_epoch=1.070, train_acc_epoch=0.494]\n"
     ]
    },
    {
     "data": {
      "text/plain": [
       "['./models/deep_learning_optuna_model.joblib']"
      ]
     },
     "execution_count": 30,
     "metadata": {},
     "output_type": "execute_result"
    }
   ],
   "source": [
    "best_model = ClassificationModel(\n",
    "    input_size=X_train_transformed.shape[1],\n",
    "    num_classes=len(np.unique(y_train)),\n",
    "    **best_params,\n",
    ")\n",
    "\n",
    "early_stop_callback = EarlyStopping(\n",
    "    monitor=\"val_loss\", patience=5, verbose=True, mode=\"min\"\n",
    ")\n",
    "trainer = pl.Trainer(\n",
    "    max_epochs=100,\n",
    "    callbacks=[early_stop_callback],\n",
    "    accelerator=\"cuda\" if torch.cuda.is_available() else \"auto\",\n",
    ")\n",
    "trainer.fit(best_model, train_loader, val_loader)\n",
    "\n",
    "# Save the best model at the correct models path\n",
    "joblib.dump(best_model, \"./models/deep_learning_optuna_model.joblib\")"
   ]
  },
  {
   "cell_type": "code",
   "execution_count": null,
   "metadata": {},
   "outputs": [],
   "source": []
  }
 ],
 "metadata": {
  "kernelspec": {
   "display_name": ".venv",
   "language": "python",
   "name": "python3"
  },
  "language_info": {
   "codemirror_mode": {
    "name": "ipython",
    "version": 3
   },
   "file_extension": ".py",
   "mimetype": "text/x-python",
   "name": "python",
   "nbconvert_exporter": "python",
   "pygments_lexer": "ipython3",
   "version": "3.11.7"
  }
 },
 "nbformat": 4,
 "nbformat_minor": 2
}
